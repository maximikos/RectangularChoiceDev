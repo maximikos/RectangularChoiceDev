{
 "cells": [
  {
   "cell_type": "markdown",
   "metadata": {},
   "source": [
    "# Exploring HEM possibilities"
   ]
  },
  {
   "cell_type": "code",
   "execution_count": 1,
   "metadata": {},
   "outputs": [],
   "source": [
    "using Revise\n",
    "using LinearAlgebra\n",
    "using JuMP\n",
    "using GLPK\n",
    "using XLSX\n",
    "#using Complementarity #not sure I need this one?\n",
    "#using PATHSolver\n",
    "using Revise #not having to restart sessions\n",
    "#using Pandas #optional (only for EXIOBASE data)\n",
    "\n",
    "include(\"../src/SUT_structure.jl\") # Used for the SUT setup <sut = SUT.structure(...)>\n",
    "include(\"../src/Constructs.jl\") # Used to derive single-production systems from the SUT setup, e.g. as <itc = Constructs.ITC(sut)>\n",
    "include(\"../src/Auxiliary.jl\") # Includes some helper functions\n",
    "include(\"../src/Model_data.jl\") # Sets up the data structure for RCOT modelling based on SUT.structure or Constructs.construct\n",
    "include(\"../src/RCOT_model.jl\"); # Builds and solves the RCOT models"
   ]
  },
  {
   "cell_type": "code",
   "execution_count": 2,
   "metadata": {},
   "outputs": [
    {
     "data": {
      "text/plain": [
       "XLSXFile(\"../data/SUT_c=i.xlsx\") containing 4 Worksheets\n",
       "            sheetname size          range        \n",
       "-------------------------------------------------\n",
       "                    V 4x4           A1:D4        \n",
       "                  U+e 4x5           A1:E4        \n",
       "                    F 5x4           A1:D5        \n",
       "                   pi 5x2           A1:B5        \n"
      ]
     },
     "execution_count": 2,
     "metadata": {},
     "output_type": "execute_result"
    }
   ],
   "source": [
    "# Load the workbook\n",
    "xf = XLSX.readxlsx(\"../data/SUT_c=i.xlsx\")"
   ]
  },
  {
   "cell_type": "code",
   "execution_count": 3,
   "metadata": {},
   "outputs": [
    {
     "data": {
      "text/plain": [
       "\"mixed\""
      ]
     },
     "execution_count": 3,
     "metadata": {},
     "output_type": "execute_result"
    }
   ],
   "source": [
    "# Get data from all worksheets and convert it to float64 data type\n",
    "V = convert(Matrix{Float64}, xf[\"V!B2:D4\"])\n",
    "U = convert(Matrix{Float64}, xf[\"U+e!B2:D4\"])\n",
    "e = convert(Matrix{Float64}, xf[\"U+e!E2:E4\"])\n",
    "F = convert(Matrix{Float64}, xf[\"F!B2:D5\"])\n",
    "pii = convert(Matrix{Float64}, xf[\"pi!B2:B5\"])\n",
    "t = xf[\"V!A1\"]"
   ]
  },
  {
   "cell_type": "code",
   "execution_count": 4,
   "metadata": {},
   "outputs": [
    {
     "name": "stderr",
     "output_type": "stream",
     "text": [
      "\u001b[36m\u001b[1m[ \u001b[22m\u001b[39m\u001b[36m\u001b[1mInfo: \u001b[22m\u001b[39mThe SUT system is not given in monetary units such that no total industry output and dependent matrices may be calculated.\n",
      "\u001b[36m\u001b[1m[ \u001b[22m\u001b[39m\u001b[36m\u001b[1mInfo: \u001b[22m\u001b[39mA structure for supply-use elements was set up. Changing individual elements will not change others automatically.\n"
     ]
    }
   ],
   "source": [
    "sut = SUT.structure(U,V,F,e,pii,t);"
   ]
  },
  {
   "cell_type": "code",
   "execution_count": 5,
   "metadata": {},
   "outputs": [
    {
     "name": "stderr",
     "output_type": "stream",
     "text": [
      "\u001b[36m\u001b[1m[ \u001b[22m\u001b[39m\u001b[36m\u001b[1mInfo: \u001b[22m\u001b[39mYou are setting up an SU model dataset. Elements of this dataset are now treated independently, meaning that no recalculation whatsoever takes place when individual elements are changed.\n"
     ]
    }
   ],
   "source": [
    "model_data = Model_data.SU(sut);"
   ]
  },
  {
   "cell_type": "code",
   "execution_count": 6,
   "metadata": {},
   "outputs": [
    {
     "data": {
      "text/plain": [
       "construct([113.0; 74.0; 127.0;;], [26.0; 20.0; 68.0;;], [16.74074074074074 -4.611620795107033 74.87088005436628; 53.01234567901234 -6.7655453618756365 7.753199682863292; 0.0 59.0 0.0], [0.14814814814814814 -0.06231919993387883 0.5895344886170574; 0.4691358024691358 -0.0914262886739951 0.06104881640049836; 0.0 0.7972972972972974 0.0], [1.496064824981334 0.5849598137818962 0.9176929158065789; 0.6730818217752205 1.2221748869076374 0.4714172778778162; 0.5366463173613245 0.9744367341560893 1.3758597215512318], [13.950617283950617 12.612640163098877 7.436742552950504; 5.580246913580247 -4.760448521916412 24.180201608336162; 20.925925925925924 6.152905198776758 -1.078831124702684; 2.7901234567901234 12.372069317023445 13.83780722618643], [0.12345679012345678 0.17044108328511998 0.058557027975988225; 0.04938271604938271 -0.06433038543130287 0.1903952882546155; 0.18518518518518517 0.08314736755103729 -0.008494733265375467; 0.024691358024691357 0.16719012590572224 0.108959112017216], [34.0; 24.999999999999996; 25.999999999999996; 29.0;;], [34.0; 25.0; 26.0; 29.0;;], [1.2; 3.6; 2.7; 2.1;;], #undef, #undef, #undef)"
      ]
     },
     "execution_count": 6,
     "metadata": {},
     "output_type": "execute_result"
    }
   ],
   "source": [
    "ctc = Constructs.CTC(sut)"
   ]
  },
  {
   "cell_type": "code",
   "execution_count": 9,
   "metadata": {},
   "outputs": [
    {
     "name": "stderr",
     "output_type": "stream",
     "text": [
      "\u001b[36m\u001b[1m[ \u001b[22m\u001b[39m\u001b[36m\u001b[1mInfo: \u001b[22m\u001b[39mYou are setting up an IO model dataset. Elements of this dataset are now treated independently, meaning that no recalculation whatsoever takes place when individual elements are changed.\n"
     ]
    },
    {
     "data": {
      "text/plain": [
       "construct([113.0; 74.0; 127.0;;], [26.0; 20.0; 68.0;;], [16.74074074074074 -4.611620795107033 74.87088005436628; 53.01234567901234 -6.7655453618756365 7.753199682863292; 0.0 59.0 0.0], [0.14814814814814814 -0.06231919993387883 0.5895344886170574; 0.4691358024691358 -0.0914262886739951 0.06104881640049836; 0.0 0.7972972972972974 0.0], [1.496064824981334 0.5849598137818962 0.9176929158065789; 0.6730818217752205 1.2221748869076374 0.4714172778778162; 0.5366463173613245 0.9744367341560893 1.3758597215512318], [13.950617283950617 12.612640163098877 7.436742552950504; 5.580246913580247 -4.760448521916412 24.180201608336162; 20.925925925925924 6.152905198776758 -1.078831124702684; 2.7901234567901234 12.372069317023445 13.83780722618643], [0.12345679012345678 0.17044108328511998 0.058557027975988225; 0.04938271604938271 -0.06433038543130287 0.1903952882546155; 0.18518518518518517 0.08314736755103729 -0.008494733265375467; 0.024691358024691357 0.16719012590572224 0.108959112017216], [34.0; 24.999999999999996; 25.999999999999996; 29.0;;], [34.0; 25.0; 26.0; 29.0;;], [1.2; 3.6; 2.7; 2.1;;], Bool[1 0 0; 0 1 0; 0 0 1], [113.0 0.0 0.0; 0.0 74.0 0.0; 0.0 0.0 127.0], #undef)"
      ]
     },
     "execution_count": 9,
     "metadata": {},
     "output_type": "execute_result"
    }
   ],
   "source": [
    "io_data = Model_data.IO(ctc)"
   ]
  },
  {
   "cell_type": "code",
   "execution_count": 10,
   "metadata": {},
   "outputs": [
    {
     "data": {
      "text/plain": [
       "3×3 Matrix{Float64}:\n",
       " 0.148148  -0.0623192  0.589534\n",
       " 0.469136  -0.0914263  0.0610488\n",
       " 0.0        0.797297   0.0"
      ]
     },
     "execution_count": 10,
     "metadata": {},
     "output_type": "execute_result"
    }
   ],
   "source": [
    "io_data.A"
   ]
  },
  {
   "cell_type": "code",
   "execution_count": 22,
   "metadata": {},
   "outputs": [
    {
     "data": {
      "text/plain": [
       "3×3 Matrix{Float64}:\n",
       " 0.148148  -0.0623192  0.589534\n",
       " 0.0        0.0        0.0\n",
       " 0.0        0.797297   0.0"
      ]
     },
     "execution_count": 22,
     "metadata": {},
     "output_type": "execute_result"
    }
   ],
   "source": [
    "A_star = [ctc.A[1,:]'; zeros(1,size(ctc.A,2)); ctc.A[3,:]']"
   ]
  },
  {
   "cell_type": "code",
   "execution_count": null,
   "metadata": {},
   "outputs": [],
   "source": [
    "# Trying it a different way with a mask\n",
    "idx_r_extr = [2:3]\n",
    "idx_c_extr = [1:1]\n",
    "\n",
    "A_star = deepcopy(ctc.A)\n",
    "\n",
    "A_star[idx_r_extr, idx_c_extr] .= 0\n",
    "A_knot = ctc.A - A_star"
   ]
  },
  {
   "cell_type": "code",
   "execution_count": 25,
   "metadata": {},
   "outputs": [
    {
     "data": {
      "text/plain": [
       "3-element Vector{Float64}:\n",
       "  0.4691358024691358\n",
       " -0.0914262886739951\n",
       "  0.06104881640049836"
      ]
     },
     "execution_count": 25,
     "metadata": {},
     "output_type": "execute_result"
    }
   ],
   "source": [
    "A_knot = ctc.A[2,:]"
   ]
  },
  {
   "cell_type": "code",
   "execution_count": 32,
   "metadata": {},
   "outputs": [
    {
     "data": {
      "text/plain": [
       "3-element Vector{Float64}:\n",
       " 0.0\n",
       " 0.0\n",
       " 0.0"
      ]
     },
     "execution_count": 32,
     "metadata": {},
     "output_type": "execute_result"
    }
   ],
   "source": [
    "A_star = ctc.A[2,:] - A_knot"
   ]
  },
  {
   "cell_type": "code",
   "execution_count": 28,
   "metadata": {},
   "outputs": [
    {
     "data": {
      "text/plain": [
       "3×3 Matrix{Float64}:\n",
       " 0.148148  -0.0623192  0.589534\n",
       " 0.469136  -0.0914263  0.0610488\n",
       " 0.0        0.797297   0.0"
      ]
     },
     "execution_count": 28,
     "metadata": {},
     "output_type": "execute_result"
    }
   ],
   "source": [
    "ctc.A"
   ]
  },
  {
   "cell_type": "code",
   "execution_count": 29,
   "metadata": {},
   "outputs": [
    {
     "data": {
      "text/plain": [
       "3-element Vector{Float64}:\n",
       "  0.4691358024691358\n",
       " -0.0914262886739951\n",
       "  0.06104881640049836"
      ]
     },
     "execution_count": 29,
     "metadata": {},
     "output_type": "execute_result"
    }
   ],
   "source": [
    "A_knot"
   ]
  },
  {
   "cell_type": "code",
   "execution_count": null,
   "metadata": {},
   "outputs": [],
   "source": []
  },
  {
   "cell_type": "code",
   "execution_count": null,
   "metadata": {},
   "outputs": [
    {
     "data": {
      "text/plain": [
       "XLSXFile(\"../data/SUT_c+i-.xlsx\") containing 4 Worksheets\n",
       "            sheetname size          range        \n",
       "-------------------------------------------------\n",
       "                    V 4x6           A1:F4        \n",
       "                  U+e 6x5           A1:E6        \n",
       "                    F 5x4           A1:D5        \n",
       "                   pi 5x2           A1:B5        \n"
      ]
     },
     "metadata": {},
     "output_type": "display_data"
    }
   ],
   "source": [
    "# Load the workbook\n",
    "xf = XLSX.readxlsx(\"../data/SUT_c+i-.xlsx\")"
   ]
  },
  {
   "cell_type": "code",
   "execution_count": null,
   "metadata": {},
   "outputs": [],
   "source": [
    "# Get data from all worksheets and convert it to float64 data type\n",
    "V = convert(Matrix{Float64}, xf[\"V!B2:F4\"])\n",
    "U = convert(Matrix{Float64}, xf[\"U+e!B2:D6\"])\n",
    "e = convert(Matrix{Float64}, xf[\"U+e!E2:E6\"])\n",
    "F = convert(Matrix{Float64}, xf[\"F!B2:D5\"])\n",
    "pii = convert(Matrix{Float64}, xf[\"pi!B2:B5\"])\n",
    "t = xf[\"V!A1\"];"
   ]
  }
 ],
 "metadata": {
  "kernelspec": {
   "display_name": "RectangularChoiceDev 1.9.0",
   "language": "julia",
   "name": "rectangularchoicedev-1.9"
  },
  "language_info": {
   "file_extension": ".jl",
   "mimetype": "application/julia",
   "name": "julia",
   "version": "1.9.0"
  },
  "orig_nbformat": 4
 },
 "nbformat": 4,
 "nbformat_minor": 2
}
