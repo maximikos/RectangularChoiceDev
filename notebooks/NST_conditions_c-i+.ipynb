{
 "cells": [
  {
   "cell_type": "markdown",
   "metadata": {},
   "source": [
    "# Check of substitution conditions\n",
    "This notebook applies conditions for examining when feasible substitution occurs. Here, only for the case of single production and with more industries than commodities ($c < i$) starting from a base SUT with also more industries than commodities."
   ]
  },
  {
   "cell_type": "markdown",
   "metadata": {},
   "source": [
    "Get the basis as described here https://discourse.julialang.org/t/how-to-obtain-a-basic-solution/1784/5 and here https://mathprogbasejl.readthedocs.io/en/latest/lpqcqp.html#getbasis. for the LCP, maybe work with PATH? https://github.com/chkwon/PATHSolver.jl"
   ]
  },
  {
   "cell_type": "code",
   "execution_count": 1,
   "metadata": {},
   "outputs": [],
   "source": [
    "using LinearAlgebra\n",
    "using JuMP\n",
    "using GLPK\n",
    "using XLSX\n",
    "using DataFrames\n",
    "#using Complementarity #not sure I need this one?\n",
    "using PATHSolver\n",
    "using Revise #not having to restart sessions\n",
    "\n",
    "include(\"../src/SUT_structure2.jl\") # Used for the SUT setup <sut = SUT.structure(...)>\n",
    "include(\"../src/Constructs.jl\") # Used to derive single-production systems from the SUT setup, e.g. as <itc = Constructs.ITC(sut)>\n",
    "include(\"../src/Auxiliary.jl\") # Includes some helper functions\n",
    "include(\"../src/Model_data.jl\") # Sets up the data structure for RCOT modelling based on SUT.structure or Constructs.construct\n",
    "include(\"../src/RCOT_model.jl\") # Builds and solves the RCOT models\n",
    "include(\"../src/LP_models.jl\"); # Builds and solves the LP models"
   ]
  },
  {
   "cell_type": "code",
   "execution_count": 68,
   "metadata": {},
   "outputs": [],
   "source": [
    "import MathOptInterface as MOI"
   ]
  },
  {
   "cell_type": "code",
   "execution_count": 2,
   "metadata": {},
   "outputs": [],
   "source": [
    "# Load the workbook containing SUT data, define the unit/type of the commodity data (monetary=default, physical, mixed), and optinally define factor availabilities.\n",
    "wb = XLSX.readxlsx(\"../data/SUT_c-i+.xlsx\")\n",
    "t = \"monetary\"\n",
    "ϕ = nothing;"
   ]
  },
  {
   "cell_type": "code",
   "execution_count": 3,
   "metadata": {},
   "outputs": [],
   "source": [
    "# Load SUT data from workbook as dataframes into dictionary, where sheetnames serve as keys of the dictionary and where numerical data is declared as such (Float64).\n",
    "dict = Dict()\n",
    "for i in XLSX.sheetnames(wb)\n",
    "    if i != \"README\"\n",
    "        dict[i] = DataFrame(XLSX.gettable(wb[i]))\n",
    "        dict[i][!,2:end] = convert.(Float64, dict[i][:,2:end])\n",
    "    end\n",
    "end"
   ]
  },
  {
   "cell_type": "code",
   "execution_count": 4,
   "metadata": {},
   "outputs": [],
   "source": [
    "# Create a second dictionary that contains the SUT data as matrices without any column or row descriptors and where the keys are the same as of the original dictionary.\n",
    "dict_m = Dict()\n",
    "for i in keys(dict)\n",
    "    dict_m[i] = Matrix(dict[i][:,2:end])\n",
    "end"
   ]
  },
  {
   "cell_type": "code",
   "execution_count": 5,
   "metadata": {},
   "outputs": [
    {
     "name": "stderr",
     "output_type": "stream",
     "text": [
      "\u001b[36m\u001b[1m[ \u001b[22m\u001b[39m\u001b[36m\u001b[1mInfo: \u001b[22m\u001b[39mA structure for supply-use elements was set up. Changing individual elements will not change others automatically.\n"
     ]
    }
   ],
   "source": [
    "sut = SUT.structure(dict_m,t);"
   ]
  },
  {
   "cell_type": "code",
   "execution_count": null,
   "metadata": {},
   "outputs": [
    {
     "data": {
      "text/plain": [
       "Main.Constructs.construct([136.0; 96.0; 167.0;;], [51.0; 42.0; 31.0;;], [9.641472868217054 12.97168343454485 62.38684369723809; 31.21884735202492 15.000403984873474 7.780748663101605; 55.291530826631885 47.03340135357168 33.675067819796425], [0.07089318285453716 0.1351217024431755 0.37357391435471915; 0.22955034817665385 0.15625420817576535 0.04659130935988985; 0.4065553737252344 0.48993126409970494 0.20164711269339178], [1.59833317316061 0.7144586737028918 0.7896046410737875; 0.49661851260095824 1.4487520746555465 0.3169312490909092; 1.11870313292003 1.2528995188783316 1.8491729170383386], [11.41180057475428 4.148556760568855 11.939642664676864; 1.8050172265288542 2.3776251212691895 2.484024318868623; 2.3464303251306076 0.5423046132692892 5.259413209748251; 6.343125890506894 2.8536048675862875 12.231840670478245], [0.08391029834378147 0.043214132922592234 0.0714948662555501; 0.013272185489182752 0.024766928346554046 0.014874397118973792; 0.017253164155372116 0.005649006388221764 0.031493492273941624; 0.04664063154784481 0.029725050704023825 0.07324455491304338], [27.5; 6.666666666666667; 8.148148148148149; 21.428571428571427;;], [27.499999999999996; 6.666666666666666; 8.148148148148147; 21.428571428571427;;], [1.2; 3.6; 2.7; 2.1;;], #undef, #undef, #undef)"
      ]
     },
     "metadata": {},
     "output_type": "display_data"
    }
   ],
   "source": [
    "# itc = Constructs.ITC(sut)\n",
    "# model_data = Model_data.IO(itc)\n",
    "# model = io_rcot(\"primal\", \"rel\", io_rcot_data);"
   ]
  },
  {
   "cell_type": "code",
   "execution_count": 6,
   "metadata": {},
   "outputs": [
    {
     "name": "stderr",
     "output_type": "stream",
     "text": [
      "\u001b[36m\u001b[1m[ \u001b[22m\u001b[39m\u001b[36m\u001b[1mInfo: \u001b[22m\u001b[39mYou are setting up an SU model dataset. Elements of this dataset are now treated independently, meaning that no recalculation whatsoever takes place when individual elements are changed.\n"
     ]
    },
    {
     "data": {
      "text/plain": [
       "structure([0.0 10.0 … 38.0 22.0; 38.0 7.0 … 0.0 0.0; 49.0 59.0 … 17.0 11.0], [75.0 32.0 0.0; 34.0 50.0 18.0; … ; 0.0 12.0 47.0; 5.0 0.0 38.0], [10.0 1.6666666666666667 … 0.0 0.8333333333333334; 0.0 4.722222222222222 … 0.2777777777777778 1.3888888888888888; 1.1111111111111112 0.0 … 0.37037037037037035 0.7407407407407407; 2.380952380952381 3.333333333333333 … 0.9523809523809523 0.9523809523809523], [51.0; 42.0; 31.0;;], [1.2; 3.6; 2.7; 2.1;;], [107.0; 102.0; … ; 59.0; 43.0;;], [136.0; 96.0; 167.0;;], [27.499999999999996; 6.666666666666666; 8.148148148148147; 21.428571428571427;;], [27.499999999999996; 6.666666666666666; 8.148148148148147; 21.428571428571427;;], [0.0 0.09803921568627451 … 0.6440677966101694 0.5116279069767442; 0.35514018691588783 0.06862745098039216 … 0.0 0.0; 0.4579439252336448 0.5784313725490196 … 0.288135593220339 0.2558139534883721], [0.7009345794392523 0.3333333333333333 … 0.0 0.11627906976744186; 0.29906542056074764 0.49019607843137253 … 0.2033898305084746 0.0; 0.0 0.1764705882352941 … 0.7966101694915254 0.8837209302325582], [0.5514705882352942 0.3333333333333333 0.0; 0.25 0.5208333333333333 0.10778443113772455; … ; 0.0 0.125 0.281437125748503; 0.03676470588235294 0.0 0.22754491017964074], [0.09345794392523364 0.016339869281045753 … 0.0 0.01937984496124031; 0.0 0.046296296296296294 … 0.004708097928436912 0.03229974160206718; 0.010384215991692626 0.0 … 0.006277463904582548 0.01722652885443583; 0.022251891410769914 0.0326797385620915 … 0.016142050040355124 0.022148394241417495], \"monetary\", #undef)"
      ]
     },
     "execution_count": 6,
     "metadata": {},
     "output_type": "execute_result"
    }
   ],
   "source": [
    "model_data = Model_data.SU(sut)"
   ]
  },
  {
   "cell_type": "code",
   "execution_count": 7,
   "metadata": {},
   "outputs": [
    {
     "name": "stdout",
     "output_type": "stream",
     "text": [
      "termination_status(model) = MathOptInterface.OPTIMAL\n",
      "primal_status(model) = MathOptInterface.FEASIBLE_POINT\n",
      "dual_status(model) = MathOptInterface.FEASIBLE_POINT\n",
      "objective_value(model) = 123.99999999999999\n",
      "value.(var_con) = [0.9999999999999993, 1.0, 1.0000000000000002, 0.9999999999999996, 0.9999999999999988]\n",
      "value.(demand_con) = [51.0, 42.0, 31.0]\n",
      "value.(factor_con) = [27.499999999999993, 6.666666666666666, 8.148148148148147, 21.428571428571427]\n"
     ]
    }
   ],
   "source": [
    "# SU-RCOT - LPP\n",
    "model = su_rcot(\"primal\", \"abs\", model_data);"
   ]
  },
  {
   "cell_type": "code",
   "execution_count": 8,
   "metadata": {},
   "outputs": [
    {
     "name": "stdout",
     "output_type": "stream",
     "text": [
      "termination_status(model) = MathOptInterface.OPTIMAL\n",
      "primal_status(model) = MathOptInterface.FEASIBLE_POINT\n",
      "dual_status(model) = MathOptInterface.FEASIBLE_POINT\n",
      "objective_value(model) = 124.0\n",
      "value.(p) = [1.0000000000000007, 1.000000000000001, 1.0000000000000009]\n",
      "value.(r) = [0.0, 3.984093603570996e-15, 0.0, 3.781093180473001e-15]\n",
      "value.(profit_con) = [20.0, 26.0, 64.0, 4.0, 10.0]\n"
     ]
    }
   ],
   "source": [
    "# SU-RCOT - LPD\n",
    "model = su_rcot(\"dual\", \"abs\", model_data);"
   ]
  },
  {
   "cell_type": "code",
   "execution_count": 9,
   "metadata": {},
   "outputs": [
    {
     "name": "stdout",
     "output_type": "stream",
     "text": [
      "termination_status(primal) = MathOptInterface.OPTIMAL\n",
      "primal_status(primal) = MathOptInterface.FEASIBLE_POINT\n",
      "dual_status(primal) = MathOptInterface.FEASIBLE_POINT\n",
      "objective_value(primal) = 123.99999999999999\n",
      "value.(z) = [0.9999999999999993, 1.0, 1.0000000000000002, 0.9999999999999996, 0.9999999999999988]\n"
     ]
    }
   ],
   "source": [
    "# SU-RCOT - LPP\n",
    "# Instantiate the model\n",
    "primal = Model(GLPK.Optimizer)\n",
    "(@isdefined primal) && (primal = nothing; primal = Model(GLPK.Optimizer));\n",
    "\n",
    "ACT = size(model_data.V,1)\n",
    "\n",
    "# Define the optimisation model\n",
    "@variable(primal, z[i=1:ACT] >= 0)\n",
    "\n",
    "@objective(primal, Min, sum(model_data.pii'*model_data.F*z))\n",
    "\n",
    "primal[:con] = @constraints(primal, begin\n",
    "    # Goods balance\n",
    "    (model_data.V'-model_data.U)*z .>= model_data.e,\n",
    "    (base_name = \"goods\")\n",
    "\n",
    "    # Factor constraint,\n",
    "    model_data.F*z .<= model_data.ϕ,\n",
    "    (base_name = \"factors\")\n",
    "end)\n",
    "\n",
    "# Run the model and show results\n",
    "optimize!(primal)\n",
    "@show termination_status(primal)\n",
    "@show primal_status(primal)\n",
    "@show dual_status(primal)\n",
    "@show objective_value(primal)\n",
    "@show value.(z);"
   ]
  },
  {
   "cell_type": "code",
   "execution_count": 133,
   "metadata": {},
   "outputs": [],
   "source": [
    "# SU-RCOT - LPP\n",
    "# Instantiate the model\n",
    "primal = Model(GLPK.Optimizer)\n",
    "(@isdefined primal) && (primal = nothing; primal = Model(GLPK.Optimizer));\n",
    "\n",
    "# A-matrix\n",
    "data = [model_data.V'-model_data.U; -model_data.F]\n",
    "# c-vector\n",
    "coeff = vec(model_data.pii'*model_data.F)\n",
    "# b_vector\n",
    "lower = Float64[]\n",
    "append!(lower, model_data.e, -model_data.ϕ)\n",
    "\n",
    "# Define the optimisation model\n",
    "ACT = size(data,2)\n",
    "@variable(primal, activity[i=1:ACT] >= 0)\n",
    "@objective(primal, Min, sum(coeff' * activity))\n",
    "@constraint(primal, data * activity .>= lower)\n",
    "\n",
    "# Run the model and show results\n",
    "optimize!(primal)\n",
    "solution_summary(primal; verbose = true)"
   ]
  },
  {
   "cell_type": "code",
   "execution_count": 180,
   "metadata": {},
   "outputs": [
    {
     "data": {
      "text/plain": [
       "7-element Vector{ConstraintRef}:\n",
       " 75 activity[1] + 24 activity[2] + 7 activity[3] - 38 activity[4] - 17 activity[5] >= 51\n",
       " -6 activity[1] + 43 activity[2] - 7 activity[3] + 12 activity[4] >= 42\n",
       " -49 activity[1] - 41 activity[2] + 64 activity[3] + 30 activity[4] + 27 activity[5] >= 31\n",
       " -10 activity[1] - 1.6666666666666667 activity[2] - 15 activity[3] - 0.8333333333333334 activity[5] >= -27.499999999999996\n",
       " -4.722222222222222 activity[2] - 0.2777777777777778 activity[3] - 0.2777777777777778 activity[4] - 1.3888888888888888 activity[5] >= -6.666666666666666\n",
       " -1.1111111111111112 activity[1] - 5.925925925925926 activity[3] - 0.37037037037037035 activity[4] - 0.7407407407407407 activity[5] >= -8.148148148148147\n",
       " -2.380952380952381 activity[1] - 3.333333333333333 activity[2] - 13.809523809523808 activity[3] - 0.9523809523809523 activity[4] - 0.9523809523809523 activity[5] >= -21.428571428571427"
      ]
     },
     "execution_count": 180,
     "metadata": {},
     "output_type": "execute_result"
    }
   ],
   "source": [
    "constr_v = all_constraints(primal; include_variable_in_set_constraints = true)\n",
    "constr = all_constraints(primal; include_variable_in_set_constraints = false)"
   ]
  },
  {
   "cell_type": "code",
   "execution_count": 149,
   "metadata": {},
   "outputs": [
    {
     "data": {
      "text/plain": [
       "7×12 Matrix{Float64}:\n",
       "  75.0       24.0        7.0       …   0.0   0.0   0.0   0.0   0.0   0.0\n",
       "  -6.0       43.0       -7.0          -1.0   0.0   0.0   0.0   0.0   0.0\n",
       " -49.0      -41.0       64.0           0.0  -1.0   0.0   0.0   0.0   0.0\n",
       " -10.0       -1.66667  -15.0           0.0   0.0  -1.0   0.0   0.0   0.0\n",
       "  -0.0       -4.72222   -0.277778      0.0   0.0   0.0  -1.0   0.0   0.0\n",
       "  -1.11111   -0.0       -5.92593   …   0.0   0.0   0.0   0.0  -1.0   0.0\n",
       "  -2.38095   -3.33333  -13.8095        0.0   0.0   0.0   0.0   0.0  -1.0"
      ]
     },
     "execution_count": 149,
     "metadata": {},
     "output_type": "execute_result"
    }
   ],
   "source": [
    "A_init = [data -I]"
   ]
  },
  {
   "cell_type": "code",
   "execution_count": 200,
   "metadata": {},
   "outputs": [],
   "source": [
    "basic_cols = Bool[]\n",
    "\n",
    "for act in 1:ACT\n",
    "    if MOI.get(primal, MOI.VariableBasisStatus(), activity[act]) == MOI.BASIC\n",
    "        val = 1\n",
    "    else\n",
    "        val = 0\n",
    "    end\n",
    "    append!(basic_cols,val)\n",
    "end\n",
    "\n",
    "for con in 1:length(constr)\n",
    "    if MOI.get(primal, MOI.ConstraintBasisStatus(), constr[con]) == MOI.BASIC\n",
    "        val = 1\n",
    "    else\n",
    "        val = 0\n",
    "    end\n",
    "    append!(basic_cols,val)\n",
    "end"
   ]
  },
  {
   "cell_type": "code",
   "execution_count": 203,
   "metadata": {},
   "outputs": [
    {
     "data": {
      "text/plain": [
       "7×7 Matrix{Float64}:\n",
       "  75.0       24.0        7.0       -38.0       -17.0        0.0   0.0\n",
       "  -6.0       43.0       -7.0        12.0         0.0        0.0   0.0\n",
       " -49.0      -41.0       64.0        30.0        27.0        0.0   0.0\n",
       " -10.0       -1.66667  -15.0        -0.0        -0.833333  -1.0   0.0\n",
       "  -0.0       -4.72222   -0.277778   -0.277778   -1.38889    0.0   0.0\n",
       "  -1.11111   -0.0       -5.92593    -0.37037    -0.740741   0.0  -1.0\n",
       "  -2.38095   -3.33333  -13.8095     -0.952381   -0.952381   0.0   0.0"
      ]
     },
     "execution_count": 203,
     "metadata": {},
     "output_type": "execute_result"
    }
   ],
   "source": [
    "Basis = A_init[:, basic_cols]"
   ]
  },
  {
   "cell_type": "code",
   "execution_count": null,
   "metadata": {},
   "outputs": [],
   "source": [
    "# Condition 1 - LPP: LP\n",
    "# Instantiate the model\n",
    "primal = Model(GLPK.Optimizer)\n",
    "(@isdefined primal) && (primal = nothing; primal = Model(GLPK.Optimizer));\n",
    "\n",
    "# A-matrix\n",
    "B_omega = Basis\n",
    "# c-vector\n",
    "unit = zeros()\n",
    "unit[j] = 1\n",
    "# b_vector\n",
    "k = -100\n",
    "m = 10\n",
    "w_bar = m .* lower\n",
    "\n",
    "# Define the optimisation model\n",
    "ACT = size(Basis,2)\n",
    "BAS = size(Basis,1)\n",
    "@variable(primal, B_activity[i=1:ACT] >= 0)\n",
    "@variable(primal, w[i=1:ACT] >= 0)\n",
    "\n",
    "@objective(primal, Min, sum(unit' * B_activity))\n",
    "@constraint(primal, B_omega * B_activity .== w)\n",
    "@constraint(primal, B_activity .>= k * ones(BAS))\n",
    "@constraint(primal, w .>= 0)\n",
    "@constraint(primal, w .<= w_bar)\n",
    "\n",
    "# Run the model and show results\n",
    "optimize!(primal)\n",
    "solution_summary(primal; verbose = true)"
   ]
  },
  {
   "cell_type": "code",
   "execution_count": null,
   "metadata": {},
   "outputs": [],
   "source": [
    "# Condition 1 - LPP: LD\n",
    "# Instantiate the model\n",
    "dual = Model(GLPK.Optimizer)\n",
    "(@isdefined dual) && (dual = nothing; dual = Model(GLPK.Optimizer));\n",
    "\n",
    "# Define the optimisation model\n",
    "ACT = size(Basis,2)\n",
    "BAS = size(Basis,1)\n",
    "@variable(dual, lambda[i=1:BAS] >= 0)\n",
    "@variable(dual, rho[i=1:ACT] >= 0)\n",
    "@variable(dual, beta[i=1:BAS])\n",
    "\n",
    "@objective(dual, Max, sum(rho' * k * unit - lambda' * w_bar))\n",
    "@constraint(dual, B_omega' * beta - rho .== -unit)\n",
    "@constraint(dual, lambda - beta .>= 0)\n",
    "\n",
    "# Run the model and show results\n",
    "optimize!(dual)\n",
    "solution_summary(dual; verbose = true)"
   ]
  },
  {
   "cell_type": "code",
   "execution_count": null,
   "metadata": {},
   "outputs": [],
   "source": [
    "# Condition 1 - LCP\n",
    "# Instantiate the model\n",
    "compl = Model(PATHSolver.Optimizer)\n",
    "(@isdefined compl) && (compl = nothing; compl = Model(GLPK.Optimizer));\n",
    "\n",
    "# A-matrix\n",
    "B_omega = Basis\n",
    "# c-vector\n",
    "unit = zeros()\n",
    "unit[j] = 1\n",
    "# b_vector\n",
    "k = -100\n",
    "m = 10\n",
    "w_bar = m .* lower\n",
    "\n",
    "# Define the optimisation model\n",
    "ACT = size(Basis,2)\n",
    "BAS = size(Basis,1)\n",
    "FAC = \n",
    "@variable(primal, B_activity[i=1:ACT] >= 0)\n",
    "@variable(primal, w[i=1:ACT] >= 0)\n",
    "@variable(dual, lambda[i=1:BAS] >= 0)\n",
    "@variable(dual, rho[i=1:ACT] >= 0)\n",
    "@variable(dual, beta[i=1:BAS])\n",
    "\n",
    "@constraint(compl, c1, beta ⟂ vec(B_omega * B_activity - w))\n",
    "@constraint(compl, c2, B_activity ⟂ vec(B_omega' * beta - rho - unit))\n",
    "@constraint(compl, c3, rho ⟂ vec(B_activity - k * ones(ACT)))\n",
    "@constraint(compl, c4, lambda ⟂ vec(w_bar - w))\n",
    "@constraint(compl, c5, w ⟂ vec(lambda - beta))\n",
    "\n",
    "# Run the model and show results\n",
    "optimize!(compl)\n",
    "solution_summary(compl; verbose = true)"
   ]
  },
  {
   "cell_type": "code",
   "execution_count": null,
   "metadata": {},
   "outputs": [],
   "source": []
  },
  {
   "cell_type": "code",
   "execution_count": null,
   "metadata": {},
   "outputs": [],
   "source": []
  },
  {
   "cell_type": "code",
   "execution_count": null,
   "metadata": {},
   "outputs": [],
   "source": []
  },
  {
   "cell_type": "markdown",
   "metadata": {},
   "source": [
    "Use ParametricOptInterface when dealing with uni vector and changes of it? https://jump.dev/ParametricOptInterface.jl"
   ]
  },
  {
   "cell_type": "code",
   "execution_count": null,
   "metadata": {},
   "outputs": [],
   "source": []
  },
  {
   "cell_type": "code",
   "execution_count": null,
   "metadata": {},
   "outputs": [],
   "source": []
  },
  {
   "cell_type": "code",
   "execution_count": null,
   "metadata": {},
   "outputs": [],
   "source": []
  },
  {
   "cell_type": "code",
   "execution_count": 206,
   "metadata": {},
   "outputs": [
    {
     "data": {
      "text/plain": [
       "5-element Vector{Float64}:\n",
       " 0.9999999999999993\n",
       " 1.0\n",
       " 1.0000000000000002\n",
       " 0.9999999999999996\n",
       " 0.9999999999999988"
      ]
     },
     "execution_count": 206,
     "metadata": {},
     "output_type": "execute_result"
    }
   ],
   "source": [
    "value.(activity)"
   ]
  },
  {
   "cell_type": "code",
   "execution_count": 214,
   "metadata": {},
   "outputs": [
    {
     "data": {
      "text/plain": [
       "5"
      ]
     },
     "execution_count": 214,
     "metadata": {},
     "output_type": "execute_result"
    }
   ],
   "source": [
    "rank(data)"
   ]
  },
  {
   "cell_type": "code",
   "execution_count": 216,
   "metadata": {},
   "outputs": [
    {
     "data": {
      "text/plain": [
       "143.07057359031882"
      ]
     },
     "execution_count": 216,
     "metadata": {},
     "output_type": "execute_result"
    }
   ],
   "source": [
    "norm(Basis,2)"
   ]
  },
  {
   "cell_type": "code",
   "execution_count": 217,
   "metadata": {},
   "outputs": [
    {
     "data": {
      "text/plain": [
       "-457429.6296296293"
      ]
     },
     "execution_count": 217,
     "metadata": {},
     "output_type": "execute_result"
    }
   ],
   "source": [
    "det(Basis)"
   ]
  },
  {
   "cell_type": "code",
   "execution_count": 219,
   "metadata": {},
   "outputs": [
    {
     "data": {
      "text/plain": [
       "7×0 Matrix{Float64}"
      ]
     },
     "execution_count": 219,
     "metadata": {},
     "output_type": "execute_result"
    }
   ],
   "source": [
    "nullspace(Basis)"
   ]
  },
  {
   "cell_type": "code",
   "execution_count": 212,
   "metadata": {},
   "outputs": [
    {
     "data": {
      "text/plain": [
       "7-element Vector{Float64}:\n",
       "  0.9999999999999964\n",
       "  0.9999999999999996\n",
       "  1.0000000000000004\n",
       "  1.0\n",
       "  0.9999999999999963\n",
       " -7.224125172668125e-16\n",
       " -3.124597976476786e-16"
      ]
     },
     "execution_count": 212,
     "metadata": {},
     "output_type": "execute_result"
    }
   ],
   "source": [
    "inv(Basis)*lower"
   ]
  },
  {
   "cell_type": "code",
   "execution_count": 183,
   "metadata": {},
   "outputs": [
    {
     "data": {
      "text/plain": [
       "enumerate(ConstraintRef[75 activity[1] + 24 activity[2] + 7 activity[3] - 38 activity[4] - 17 activity[5] >= 51, -6 activity[1] + 43 activity[2] - 7 activity[3] + 12 activity[4] >= 42, -49 activity[1] - 41 activity[2] + 64 activity[3] + 30 activity[4] + 27 activity[5] >= 31, -10 activity[1] - 1.6666666666666667 activity[2] - 15 activity[3] - 0.8333333333333334 activity[5] >= -27.499999999999996, -4.722222222222222 activity[2] - 0.2777777777777778 activity[3] - 0.2777777777777778 activity[4] - 1.3888888888888888 activity[5] >= -6.666666666666666, -1.1111111111111112 activity[1] - 5.925925925925926 activity[3] - 0.37037037037037035 activity[4] - 0.7407407407407407 activity[5] >= -8.148148148148147, -2.380952380952381 activity[1] - 3.333333333333333 activity[2] - 13.809523809523808 activity[3] - 0.9523809523809523 activity[4] - 0.9523809523809523 activity[5] >= -21.428571428571427])"
      ]
     },
     "execution_count": 183,
     "metadata": {},
     "output_type": "execute_result"
    }
   ],
   "source": [
    "length(constr)"
   ]
  },
  {
   "cell_type": "code",
   "execution_count": 179,
   "metadata": {},
   "outputs": [
    {
     "data": {
      "text/plain": [
       "5-element Vector{Int64}:\n",
       " 1\n",
       " 1\n",
       " 1\n",
       " 1\n",
       " 1"
      ]
     },
     "execution_count": 179,
     "metadata": {},
     "output_type": "execute_result"
    }
   ],
   "source": [
    "basic_cols"
   ]
  },
  {
   "cell_type": "code",
   "execution_count": 164,
   "metadata": {},
   "outputs": [
    {
     "data": {
      "text/plain": [
       "BASIC::BasisStatusCode = 0"
      ]
     },
     "execution_count": 164,
     "metadata": {},
     "output_type": "execute_result"
    }
   ],
   "source": [
    "MOI.get(primal, MOI.VariableBasisStatus(), activity[5])"
   ]
  },
  {
   "cell_type": "code",
   "execution_count": 155,
   "metadata": {},
   "outputs": [
    {
     "data": {
      "text/plain": [
       "NONBASIC::BasisStatusCode = 1"
      ]
     },
     "execution_count": 155,
     "metadata": {},
     "output_type": "execute_result"
    }
   ],
   "source": [
    "MOI.get(primal, MOI.ConstraintBasisStatus(), constr[7])"
   ]
  },
  {
   "cell_type": "code",
   "execution_count": 156,
   "metadata": {},
   "outputs": [
    {
     "data": {
      "text/plain": [
       "(variables = MathOptInterface.BasisStatusCode[MathOptInterface.BASIC, MathOptInterface.BASIC, MathOptInterface.BASIC, MathOptInterface.BASIC, MathOptInterface.BASIC], bounds = MathOptInterface.BasisStatusCode[MathOptInterface.BASIC, MathOptInterface.BASIC, MathOptInterface.BASIC, MathOptInterface.BASIC, MathOptInterface.BASIC], constraints = MathOptInterface.BasisStatusCode[MathOptInterface.NONBASIC_AT_LOWER, MathOptInterface.NONBASIC_AT_LOWER, MathOptInterface.NONBASIC_AT_LOWER, MathOptInterface.BASIC, MathOptInterface.NONBASIC_AT_LOWER, MathOptInterface.BASIC, MathOptInterface.NONBASIC_AT_LOWER], basic_cols = Bool[1, 1, 1, 1, 1, 0, 0, 0, 1, 0, 1, 0])"
      ]
     },
     "execution_count": 156,
     "metadata": {},
     "output_type": "execute_result"
    }
   ],
   "source": [
    "std_form = JuMP._standard_form_matrix(primal)\n",
    "basis = JuMP._standard_form_basis(primal, std_form)"
   ]
  },
  {
   "cell_type": "code",
   "execution_count": 141,
   "metadata": {},
   "outputs": [
    {
     "name": "stdout",
     "output_type": "stream",
     "text": [
      "7×12 SparseArrays.SparseMatrixCSC{Float64, Int64} with 38 stored entries:\n",
      "  75.0       24.0        7.0       -38.0       -17.0       -1.0    ⋅     ⋅     ⋅     ⋅     ⋅     ⋅ \n",
      "  -6.0       43.0       -7.0        12.0          ⋅          ⋅   -1.0    ⋅     ⋅     ⋅     ⋅     ⋅ \n",
      " -49.0      -41.0       64.0        30.0        27.0         ⋅     ⋅   -1.0    ⋅     ⋅     ⋅     ⋅ \n",
      " -10.0       -1.66667  -15.0          ⋅         -0.833333    ⋅     ⋅     ⋅   -1.0    ⋅     ⋅     ⋅ \n",
      "    ⋅        -4.72222   -0.277778   -0.277778   -1.38889     ⋅     ⋅     ⋅     ⋅   -1.0    ⋅     ⋅ \n",
      "  -1.11111     ⋅        -5.92593    -0.37037    -0.740741    ⋅     ⋅     ⋅     ⋅     ⋅   -1.0    ⋅ \n",
      "  -2.38095   -3.33333  -13.8095     -0.952381   -0.952381    ⋅     ⋅     ⋅     ⋅     ⋅     ⋅   -1.0"
     ]
    }
   ],
   "source": [
    "show(stdout, \"text/plain\", std_form.A)"
   ]
  },
  {
   "cell_type": "code",
   "execution_count": 157,
   "metadata": {},
   "outputs": [
    {
     "data": {
      "text/plain": [
       "12-element Vector{Float64}:\n",
       "   0.0\n",
       "   0.0\n",
       "   0.0\n",
       "   0.0\n",
       "   0.0\n",
       "  51.0\n",
       "  42.0\n",
       "  31.0\n",
       " -27.499999999999996\n",
       "  -6.666666666666666\n",
       "  -8.148148148148147\n",
       " -21.428571428571427"
      ]
     },
     "execution_count": 157,
     "metadata": {},
     "output_type": "execute_result"
    }
   ],
   "source": [
    "std_form.lower"
   ]
  },
  {
   "cell_type": "code",
   "execution_count": 158,
   "metadata": {},
   "outputs": [
    {
     "data": {
      "text/plain": [
       "12-element BitVector:\n",
       " 1\n",
       " 1\n",
       " 1\n",
       " 1\n",
       " 1\n",
       " 0\n",
       " 0\n",
       " 0\n",
       " 1\n",
       " 0\n",
       " 1\n",
       " 0"
      ]
     },
     "execution_count": 158,
     "metadata": {},
     "output_type": "execute_result"
    }
   ],
   "source": [
    "basis.basic_cols"
   ]
  },
  {
   "cell_type": "code",
   "execution_count": 144,
   "metadata": {},
   "outputs": [
    {
     "data": {
      "text/plain": [
       "7-element Vector{MathOptInterface.BasisStatusCode}:\n",
       " NONBASIC_AT_LOWER::BasisStatusCode = 2\n",
       " NONBASIC_AT_LOWER::BasisStatusCode = 2\n",
       " NONBASIC_AT_LOWER::BasisStatusCode = 2\n",
       " BASIC::BasisStatusCode = 0\n",
       " NONBASIC_AT_LOWER::BasisStatusCode = 2\n",
       " BASIC::BasisStatusCode = 0\n",
       " NONBASIC_AT_LOWER::BasisStatusCode = 2"
      ]
     },
     "execution_count": 144,
     "metadata": {},
     "output_type": "execute_result"
    }
   ],
   "source": [
    "basis.constraints"
   ]
  },
  {
   "cell_type": "code",
   "execution_count": 145,
   "metadata": {},
   "outputs": [
    {
     "data": {
      "text/plain": [
       "5-element Vector{MathOptInterface.BasisStatusCode}:\n",
       " BASIC::BasisStatusCode = 0\n",
       " BASIC::BasisStatusCode = 0\n",
       " BASIC::BasisStatusCode = 0\n",
       " BASIC::BasisStatusCode = 0\n",
       " BASIC::BasisStatusCode = 0"
      ]
     },
     "execution_count": 145,
     "metadata": {},
     "output_type": "execute_result"
    }
   ],
   "source": [
    "basis.variables"
   ]
  },
  {
   "cell_type": "code",
   "execution_count": null,
   "metadata": {},
   "outputs": [],
   "source": []
  },
  {
   "cell_type": "code",
   "execution_count": null,
   "metadata": {},
   "outputs": [],
   "source": []
  },
  {
   "cell_type": "code",
   "execution_count": null,
   "metadata": {},
   "outputs": [],
   "source": []
  },
  {
   "cell_type": "code",
   "execution_count": 46,
   "metadata": {},
   "outputs": [
    {
     "name": "stdout",
     "output_type": "stream",
     "text": [
      "Path 5.0.03 (Fri Jun 26 10:05:33 2020)\n",
      "Written by Todd Munson, Steven Dirkse, Youngdae Kim, and Michael Ferris\n",
      "\n",
      "\n",
      "Crash Log\n",
      "major  func  diff  size  residual    step       prox   (label)\n",
      "    0     0             1.4596e+02             0.0e+00 (f[    6])\n",
      "    1     9     3     3 1.4538e+02  1.2e-02    1.5e+00 (f[    6])\n",
      "    2    19     0     3 1.4528e+02  1.9e-03    1.3e+00 (f[    6])\n",
      "pn_search terminated: no basis change.\n",
      "\n",
      "Major Iteration Log\n",
      "major minor  func  grad  residual    step  type prox    inorm  (label)\n",
      "    0     0    20     3 1.4528e+02           I 1.2e+00 1.0e+02 (f[    6])\n",
      "    1     8    21     4 1.3706e+00  1.0e+00 SM 4.7e-01 6.2e-01 (f[    3])\n",
      "    2     2    22     5 6.6832e-02  1.0e+00 SO 1.4e-01 4.7e-02 (f[    4])\n",
      "    3     1    23     6 1.9357e-04  1.0e+00 SO 6.7e-03 1.3e-04 (f[    9])\n",
      "    4     1    24     7 1.7722e-09  1.0e+00 SO 1.9e-05 8.8e-10 (f[    4])\n",
      "\n",
      "Major Iterations. . . . 4\n",
      "Minor Iterations. . . . 12\n",
      "Restarts. . . . . . . . 0\n",
      "Crash Iterations. . . . 2\n",
      "Gradient Steps. . . . . 0\n",
      "Function Evaluations. . 24\n",
      "Gradient Evaluations. . 7\n",
      "Basis Time. . . . . . . 0.000000\n",
      "Total Time. . . . . . . 0.000000\n",
      "Residual. . . . . . . . 1.772229e-09\n"
     ]
    }
   ],
   "source": [
    "# SU-RCOT - LCP\n",
    "compl = Model(PATHSolver.Optimizer)\n",
    "\n",
    "ACT = size(model_data.V,1)\n",
    "COM = size(model_data.V,2)\n",
    "FAC = size(model_data.F,1)\n",
    "\n",
    "# Define the optimisation model\n",
    "@variable(compl, z_star[1:ACT] >= 0)\n",
    "@variable(compl, p_star[1:COM] >= 0)\n",
    "@variable(compl, r_star[1:FAC] >= 0)\n",
    "\n",
    "@constraint(compl, c1, vec((model_data.pii + r_star)'*model_data.F - (p_star'*(model_data.V' - model_data.U))) ⟂ z_star)\n",
    "@constraint(compl, c2, vec((model_data.V' - model_data.U)*(z_star) - model_data.e) ⟂ p_star)\n",
    "@constraint(compl, c3, vec((model_data.ϕ - model_data.F*z_star)) ⟂ r_star)\n",
    "\n",
    "# Solve\n",
    "optimize!(compl)\n",
    "solution_summary(compl; verbose = true)"
   ]
  },
  {
   "cell_type": "code",
   "execution_count": 47,
   "metadata": {},
   "outputs": [
    {
     "data": {
      "text/plain": [
       "* Solver : Path 5.0.03\n",
       "\n",
       "* Status\n",
       "  Result count       : 1\n",
       "  Termination status : LOCALLY_SOLVED\n",
       "  Message from the solver:\n",
       "  \"The problem was solved\"\n",
       "\n",
       "* Candidate solution (result #1)\n",
       "  Primal status      : FEASIBLE_POINT\n",
       "  Dual status        : NO_SOLUTION\n",
       "  Objective value    : 0.00000e+00\n",
       "  Primal solution :\n",
       "    p_star[1] : 1.07105e+00\n",
       "    p_star[2] : 1.07501e+00\n",
       "    p_star[3] : 1.06882e+00\n",
       "    r_star[1] : 1.03179e-01\n",
       "    r_star[2] : 2.69490e-01\n",
       "    r_star[3] : 0.00000e+00\n",
       "    r_star[4] : 1.99423e-01\n",
       "    z_star[1] : 1.00000e+00\n",
       "    z_star[2] : 1.00000e+00\n",
       "    z_star[3] : 1.00000e+00\n",
       "    z_star[4] : 1.00000e+00\n",
       "    z_star[5] : 1.00000e+00\n",
       "\n",
       "* Work counters\n",
       "  Solve time (sec)   : 0.00000e+00\n"
      ]
     },
     "execution_count": 47,
     "metadata": {},
     "output_type": "execute_result"
    }
   ],
   "source": [
    "solution_summary(compl; verbose = true)"
   ]
  },
  {
   "cell_type": "code",
   "execution_count": null,
   "metadata": {},
   "outputs": [],
   "source": []
  },
  {
   "cell_type": "code",
   "execution_count": null,
   "metadata": {},
   "outputs": [],
   "source": []
  },
  {
   "cell_type": "code",
   "execution_count": null,
   "metadata": {},
   "outputs": [],
   "source": []
  },
  {
   "cell_type": "code",
   "execution_count": null,
   "metadata": {},
   "outputs": [],
   "source": []
  },
  {
   "cell_type": "code",
   "execution_count": null,
   "metadata": {},
   "outputs": [],
   "source": []
  },
  {
   "cell_type": "code",
   "execution_count": null,
   "metadata": {},
   "outputs": [],
   "source": []
  },
  {
   "cell_type": "code",
   "execution_count": null,
   "metadata": {},
   "outputs": [],
   "source": []
  },
  {
   "cell_type": "code",
   "execution_count": null,
   "metadata": {},
   "outputs": [],
   "source": []
  },
  {
   "cell_type": "code",
   "execution_count": 25,
   "metadata": {},
   "outputs": [
    {
     "ename": "LoadError",
     "evalue": "MethodError: no method matching get(::Model, ::MathOptInterface.VariableBasisStatus)\n\n\u001b[0mClosest candidates are:\n\u001b[0m  get(::GenericModel, ::MathOptInterface.AbstractVariableAttribute, \u001b[91m::GenericVariableRef\u001b[39m)\n\u001b[0m\u001b[90m   @\u001b[39m \u001b[36mJuMP\u001b[39m \u001b[90mC:\\Users\\maximiko\\.julia\\packages\\JuMP\\jZvaU\\src\\\u001b[39m\u001b[90m\u001b[4moptimizer_interface.jl:661\u001b[24m\u001b[39m\n\u001b[0m  get(\u001b[91m::MathOptInterface.Bridges.AbstractBridgeOptimizer\u001b[39m, ::MathOptInterface.AbstractVariableAttribute, \u001b[91m::Vector{MathOptInterface.VariableIndex}\u001b[39m)\n\u001b[0m\u001b[90m   @\u001b[39m \u001b[35mMathOptInterface\u001b[39m \u001b[90mC:\\Users\\maximiko\\.julia\\packages\\MathOptInterface\\864xP\\src\\Bridges\\\u001b[39m\u001b[90m\u001b[4mbridge_optimizer.jl:1200\u001b[24m\u001b[39m\n\u001b[0m  get(\u001b[91m::MathOptInterface.Bridges.AbstractBridgeOptimizer\u001b[39m, ::MathOptInterface.AbstractVariableAttribute, \u001b[91m::MathOptInterface.VariableIndex\u001b[39m)\n\u001b[0m\u001b[90m   @\u001b[39m \u001b[35mMathOptInterface\u001b[39m \u001b[90mC:\\Users\\maximiko\\.julia\\packages\\MathOptInterface\\864xP\\src\\Bridges\\\u001b[39m\u001b[90m\u001b[4mbridge_optimizer.jl:1187\u001b[24m\u001b[39m\n\u001b[0m  ...\n",
     "output_type": "error",
     "traceback": [
      "MethodError: no method matching get(::Model, ::MathOptInterface.VariableBasisStatus)\n\n\u001b[0mClosest candidates are:\n\u001b[0m  get(::GenericModel, ::MathOptInterface.AbstractVariableAttribute, \u001b[91m::GenericVariableRef\u001b[39m)\n\u001b[0m\u001b[90m   @\u001b[39m \u001b[36mJuMP\u001b[39m \u001b[90mC:\\Users\\maximiko\\.julia\\packages\\JuMP\\jZvaU\\src\\\u001b[39m\u001b[90m\u001b[4moptimizer_interface.jl:661\u001b[24m\u001b[39m\n\u001b[0m  get(\u001b[91m::MathOptInterface.Bridges.AbstractBridgeOptimizer\u001b[39m, ::MathOptInterface.AbstractVariableAttribute, \u001b[91m::Vector{MathOptInterface.VariableIndex}\u001b[39m)\n\u001b[0m\u001b[90m   @\u001b[39m \u001b[35mMathOptInterface\u001b[39m \u001b[90mC:\\Users\\maximiko\\.julia\\packages\\MathOptInterface\\864xP\\src\\Bridges\\\u001b[39m\u001b[90m\u001b[4mbridge_optimizer.jl:1200\u001b[24m\u001b[39m\n\u001b[0m  get(\u001b[91m::MathOptInterface.Bridges.AbstractBridgeOptimizer\u001b[39m, ::MathOptInterface.AbstractVariableAttribute, \u001b[91m::MathOptInterface.VariableIndex\u001b[39m)\n\u001b[0m\u001b[90m   @\u001b[39m \u001b[35mMathOptInterface\u001b[39m \u001b[90mC:\\Users\\maximiko\\.julia\\packages\\MathOptInterface\\864xP\\src\\Bridges\\\u001b[39m\u001b[90m\u001b[4mbridge_optimizer.jl:1187\u001b[24m\u001b[39m\n\u001b[0m  ...\n",
      "",
      "Stacktrace:",
      " [1] top-level scope",
      "   @ In[25]:1"
     ]
    }
   ],
   "source": [
    "MOI.get(primal, MOI.VariableBasisStatus())"
   ]
  },
  {
   "cell_type": "code",
   "execution_count": null,
   "metadata": {},
   "outputs": [
    {
     "ename": "LoadError",
     "evalue": "MethodError: no method matching get(::Model, ::MathOptInterface.VariableBasisStatus)\n\n\u001b[0mClosest candidates are:\n\u001b[0m  get(::GenericModel, ::MathOptInterface.AbstractVariableAttribute, \u001b[91m::GenericVariableRef\u001b[39m)\n\u001b[0m\u001b[90m   @\u001b[39m \u001b[36mJuMP\u001b[39m \u001b[90mC:\\Users\\maximiko\\.julia\\packages\\JuMP\\jZvaU\\src\\\u001b[39m\u001b[90m\u001b[4moptimizer_interface.jl:661\u001b[24m\u001b[39m\n\u001b[0m  get(\u001b[91m::MathOptInterface.Bridges.AbstractBridgeOptimizer\u001b[39m, ::MathOptInterface.AbstractVariableAttribute, \u001b[91m::Vector{MathOptInterface.VariableIndex}\u001b[39m)\n\u001b[0m\u001b[90m   @\u001b[39m \u001b[35mMathOptInterface\u001b[39m \u001b[90mC:\\Users\\maximiko\\.julia\\packages\\MathOptInterface\\864xP\\src\\Bridges\\\u001b[39m\u001b[90m\u001b[4mbridge_optimizer.jl:1200\u001b[24m\u001b[39m\n\u001b[0m  get(\u001b[91m::MathOptInterface.Bridges.AbstractBridgeOptimizer\u001b[39m, ::MathOptInterface.AbstractVariableAttribute, \u001b[91m::MathOptInterface.VariableIndex\u001b[39m)\n\u001b[0m\u001b[90m   @\u001b[39m \u001b[35mMathOptInterface\u001b[39m \u001b[90mC:\\Users\\maximiko\\.julia\\packages\\MathOptInterface\\864xP\\src\\Bridges\\\u001b[39m\u001b[90m\u001b[4mbridge_optimizer.jl:1187\u001b[24m\u001b[39m\n\u001b[0m  ...\n",
     "output_type": "error",
     "traceback": [
      "MethodError: no method matching get(::Model, ::MathOptInterface.VariableBasisStatus)\n",
      "\n",
      "\u001b[0mClosest candidates are:\n",
      "\u001b[0m  get(::GenericModel, ::MathOptInterface.AbstractVariableAttribute, \u001b[91m::GenericVariableRef\u001b[39m)\n",
      "\u001b[0m\u001b[90m   @\u001b[39m \u001b[36mJuMP\u001b[39m \u001b[90mC:\\Users\\maximiko\\.julia\\packages\\JuMP\\jZvaU\\src\\\u001b[39m\u001b[90m\u001b[4moptimizer_interface.jl:661\u001b[24m\u001b[39m\n",
      "\u001b[0m  get(\u001b[91m::MathOptInterface.Bridges.AbstractBridgeOptimizer\u001b[39m, ::MathOptInterface.AbstractVariableAttribute, \u001b[91m::Vector{MathOptInterface.VariableIndex}\u001b[39m)\n",
      "\u001b[0m\u001b[90m   @\u001b[39m \u001b[35mMathOptInterface\u001b[39m \u001b[90mC:\\Users\\maximiko\\.julia\\packages\\MathOptInterface\\864xP\\src\\Bridges\\\u001b[39m\u001b[90m\u001b[4mbridge_optimizer.jl:1200\u001b[24m\u001b[39m\n",
      "\u001b[0m  get(\u001b[91m::MathOptInterface.Bridges.AbstractBridgeOptimizer\u001b[39m, ::MathOptInterface.AbstractVariableAttribute, \u001b[91m::MathOptInterface.VariableIndex\u001b[39m)\n",
      "\u001b[0m\u001b[90m   @\u001b[39m \u001b[35mMathOptInterface\u001b[39m \u001b[90mC:\\Users\\maximiko\\.julia\\packages\\MathOptInterface\\864xP\\src\\Bridges\\\u001b[39m\u001b[90m\u001b[4mbridge_optimizer.jl:1187\u001b[24m\u001b[39m\n",
      "\u001b[0m  ...\n",
      "\n",
      "\n",
      "Stacktrace:\n",
      " [1] top-level scope\n",
      "   @ In[25]:1"
     ]
    }
   ],
   "source": [
    "MOI.get(primal, MOI.ConstraintsBasisStatus())"
   ]
  },
  {
   "cell_type": "code",
   "execution_count": 35,
   "metadata": {},
   "outputs": [
    {
     "data": {
      "text/plain": [
       "0"
      ]
     },
     "execution_count": 35,
     "metadata": {},
     "output_type": "execute_result"
    }
   ],
   "source": [
    "MOI.get(GLPK.Optimizer(), MOI.ResultCount())"
   ]
  },
  {
   "cell_type": "code",
   "execution_count": 36,
   "metadata": {},
   "outputs": [
    {
     "data": {
      "text/plain": [
       "MOIU.CachingOptimizer{MOIB.LazyBridgeOptimizer{GLPK.Optimizer}, MOIU.UniversalFallback{MOIU.Model{Float64}}}\n",
       "in state ATTACHED_OPTIMIZER\n",
       "in mode AUTOMATIC\n",
       "with model cache MOIU.UniversalFallback{MOIU.Model{Float64}}\n",
       "  fallback for MOIU.Model{Float64}\n",
       "with optimizer MOIB.LazyBridgeOptimizer{GLPK.Optimizer}\n",
       "  with 0 variable bridges\n",
       "  with 0 constraint bridges\n",
       "  with 0 objective bridges\n",
       "  with inner model A GLPK model"
      ]
     },
     "execution_count": 36,
     "metadata": {},
     "output_type": "execute_result"
    }
   ],
   "source": [
    "backend(model)"
   ]
  },
  {
   "cell_type": "code",
   "execution_count": 37,
   "metadata": {},
   "outputs": [
    {
     "data": {
      "text/plain": [
       "Enum MathOptInterface.ResultStatusCode:\n",
       "NO_SOLUTION = 0\n",
       "FEASIBLE_POINT = 1\n",
       "NEARLY_FEASIBLE_POINT = 2\n",
       "INFEASIBLE_POINT = 3\n",
       "INFEASIBILITY_CERTIFICATE = 4\n",
       "NEARLY_INFEASIBILITY_CERTIFICATE = 5\n",
       "REDUCTION_CERTIFICATE = 6\n",
       "NEARLY_REDUCTION_CERTIFICATE = 7\n",
       "UNKNOWN_RESULT_STATUS = 8\n",
       "OTHER_RESULT_STATUS = 9"
      ]
     },
     "execution_count": 37,
     "metadata": {},
     "output_type": "execute_result"
    }
   ],
   "source": [
    "MOI.ResultStatusCode"
   ]
  },
  {
   "cell_type": "code",
   "execution_count": 41,
   "metadata": {},
   "outputs": [
    {
     "data": {
      "text/plain": [
       "MathOptInterface.VariableBasisStatus"
      ]
     },
     "execution_count": 41,
     "metadata": {},
     "output_type": "execute_result"
    }
   ],
   "source": [
    "MOI.VariableBasisStatus"
   ]
  },
  {
   "cell_type": "code",
   "execution_count": 45,
   "metadata": {},
   "outputs": [
    {
     "data": {
      "text/plain": [
       "FEASIBLE_POINT::ResultStatusCode = 1"
      ]
     },
     "execution_count": 45,
     "metadata": {},
     "output_type": "execute_result"
    }
   ],
   "source": [
    "MOI.get(primal, MOI.PrimalStatus())"
   ]
  },
  {
   "cell_type": "code",
   "execution_count": 48,
   "metadata": {},
   "outputs": [
    {
     "data": {
      "text/plain": [
       "OPTIMAL::TerminationStatusCode = 1"
      ]
     },
     "execution_count": 48,
     "metadata": {},
     "output_type": "execute_result"
    }
   ],
   "source": [
    "MOI.get(primal, MOI.TerminationStatus())"
   ]
  },
  {
   "cell_type": "code",
   "execution_count": 49,
   "metadata": {},
   "outputs": [
    {
     "data": {
      "text/plain": [
       "FEASIBLE_POINT::ResultStatusCode = 1"
      ]
     },
     "execution_count": 49,
     "metadata": {},
     "output_type": "execute_result"
    }
   ],
   "source": [
    "MOI.get(primal, MOI.DualStatus())"
   ]
  },
  {
   "cell_type": "code",
   "execution_count": 51,
   "metadata": {},
   "outputs": [
    {
     "data": {
      "text/plain": [
       "0.0"
      ]
     },
     "execution_count": 51,
     "metadata": {},
     "output_type": "execute_result"
    }
   ],
   "source": [
    "MOI.get(primal, MOI.SolveTimeSec())"
   ]
  },
  {
   "cell_type": "code",
   "execution_count": 55,
   "metadata": {},
   "outputs": [
    {
     "data": {
      "text/plain": [
       "1×5 Matrix{Float64}:\n",
       " 335.074  148.743  758.556  25.2778  58.6198"
      ]
     },
     "execution_count": 55,
     "metadata": {},
     "output_type": "execute_result"
    }
   ],
   "source": [
    "model_data.ϕ'*model_data.F"
   ]
  },
  {
   "cell_type": "code",
   "execution_count": 53,
   "metadata": {},
   "outputs": [
    {
     "data": {
      "text/latex": [
       "0.0 + 20.0 v_{1} + 26.0 v_{2} + 64.0 v_{3} + 10.0 v_{5} + 4.0 v_{4}"
      ],
      "text/plain": [
       "0.0 + 20.0 MOI.VariableIndex(1) + 26.0 MOI.VariableIndex(2) + 64.0 MOI.VariableIndex(3) + 10.0 MOI.VariableIndex(5) + 4.0 MOI.VariableIndex(4)"
      ]
     },
     "execution_count": 53,
     "metadata": {},
     "output_type": "execute_result"
    }
   ],
   "source": [
    "MOI.get(primal, MOI.ObjectiveFunction{MOI.ScalarAffineFunction{Float64}}())"
   ]
  },
  {
   "cell_type": "code",
   "execution_count": 81,
   "metadata": {},
   "outputs": [
    {
     "data": {
      "text/plain": [
       "NONBASIC::BasisStatusCode = 1"
      ]
     },
     "execution_count": 81,
     "metadata": {},
     "output_type": "execute_result"
    }
   ],
   "source": [
    "MOI.get(primal, MOI.ConstraintBasisStatus(), primal[:con][2][2])"
   ]
  },
  {
   "cell_type": "code",
   "execution_count": 69,
   "metadata": {},
   "outputs": [
    {
     "data": {
      "text/plain": [
       "BASIC::BasisStatusCode = 0"
      ]
     },
     "execution_count": 69,
     "metadata": {},
     "output_type": "execute_result"
    }
   ],
   "source": [
    "MOI.get(primal, MOI.VariableBasisStatus(), z[5])"
   ]
  },
  {
   "cell_type": "code",
   "execution_count": 71,
   "metadata": {},
   "outputs": [
    {
     "ename": "LoadError",
     "evalue": "UndefVarError: `x` not defined",
     "output_type": "error",
     "traceback": [
      "UndefVarError: `x` not defined",
      "",
      "Stacktrace:",
      " [1] top-level scope",
      "   @ In[71]:1"
     ]
    }
   ],
   "source": [
    "MOI.get(model, MOI.ConstraintBasisStatus(), LowerBoundRef(x))"
   ]
  },
  {
   "cell_type": "code",
   "execution_count": 94,
   "metadata": {},
   "outputs": [
    {
     "data": {
      "text/plain": [
       "NONBASIC::BasisStatusCode = 1"
      ]
     },
     "execution_count": 94,
     "metadata": {},
     "output_type": "execute_result"
    }
   ],
   "source": [
    "MOI.get(primal, MOI.ConstraintBasisStatus(), constr[12])"
   ]
  },
  {
   "cell_type": "code",
   "execution_count": 80,
   "metadata": {},
   "outputs": [
    {
     "data": {
      "text/plain": [
       "12-element Vector{ConstraintRef}:\n",
       " factors : 10 z[1] + 1.6666666666666667 z[2] + 15 z[3] + 0.8333333333333334 z[5] <= 27.499999999999996\n",
       " factors : 4.722222222222222 z[2] + 0.2777777777777778 z[3] + 0.2777777777777778 z[4] + 1.3888888888888888 z[5] <= 6.666666666666666\n",
       " factors : 1.1111111111111112 z[1] + 5.925925925925926 z[3] + 0.37037037037037035 z[4] + 0.7407407407407407 z[5] <= 8.148148148148147\n",
       " factors : 2.380952380952381 z[1] + 3.333333333333333 z[2] + 13.809523809523808 z[3] + 0.9523809523809523 z[4] + 0.9523809523809523 z[5] <= 21.428571428571427\n",
       " z[1] >= 0\n",
       " z[2] >= 0\n",
       " z[3] >= 0\n",
       " z[4] >= 0\n",
       " z[5] >= 0\n",
       " goods : 75 z[1] + 24 z[2] + 7 z[3] - 38 z[4] - 17 z[5] >= 51\n",
       " goods : -6 z[1] + 43 z[2] - 7 z[3] + 12 z[4] >= 42\n",
       " goods : -49 z[1] - 41 z[2] + 64 z[3] + 30 z[4] + 27 z[5] >= 31"
      ]
     },
     "execution_count": 80,
     "metadata": {},
     "output_type": "execute_result"
    }
   ],
   "source": [
    "constr = all_constraints(primal; include_variable_in_set_constraints = true)"
   ]
  },
  {
   "cell_type": "code",
   "execution_count": 97,
   "metadata": {},
   "outputs": [
    {
     "data": {
      "text/plain": [
       "5"
      ]
     },
     "execution_count": 97,
     "metadata": {},
     "output_type": "execute_result"
    }
   ],
   "source": [
    "MOI.get(primal, MOI.NumberOfVariables())"
   ]
  },
  {
   "cell_type": "code",
   "execution_count": 58,
   "metadata": {},
   "outputs": [
    {
     "data": {
      "text/plain": [
       "MathOptInterface.ConstraintBasisStatus"
      ]
     },
     "execution_count": 58,
     "metadata": {},
     "output_type": "execute_result"
    }
   ],
   "source": [
    "MOI.ConstraintBasisStatus"
   ]
  },
  {
   "cell_type": "code",
   "execution_count": 61,
   "metadata": {},
   "outputs": [
    {
     "data": {
      "text/plain": [
       "ConstraintRef{Model, MathOptInterface.ConstraintIndex{MathOptInterface.VariableIndex, MathOptInterface.Integer}, ScalarShape}[]"
      ]
     },
     "execution_count": 61,
     "metadata": {},
     "output_type": "execute_result"
    }
   ],
   "source": [
    "foo = all_constraints(primal, VariableRef, MOI.Integer)"
   ]
  },
  {
   "cell_type": "code",
   "execution_count": 62,
   "metadata": {},
   "outputs": [
    {
     "data": {
      "text/plain": [
       "ConstraintRef{Model, MathOptInterface.ConstraintIndex{MathOptInterface.VariableIndex, MathOptInterface.Integer}, ScalarShape}[]"
      ]
     },
     "execution_count": 62,
     "metadata": {},
     "output_type": "execute_result"
    }
   ],
   "source": [
    "foo"
   ]
  },
  {
   "cell_type": "code",
   "execution_count": 65,
   "metadata": {},
   "outputs": [
    {
     "data": {
      "text/plain": [
       "4"
      ]
     },
     "execution_count": 65,
     "metadata": {},
     "output_type": "execute_result"
    }
   ],
   "source": [
    "num_constraints(primal, AffExpr, MOI.LessThan{Float64})"
   ]
  },
  {
   "cell_type": "code",
   "execution_count": 66,
   "metadata": {},
   "outputs": [
    {
     "data": {
      "text/plain": [
       "3"
      ]
     },
     "execution_count": 66,
     "metadata": {},
     "output_type": "execute_result"
    }
   ],
   "source": [
    "num_constraints(primal, AffExpr, MOI.GreaterThan{Float64})"
   ]
  },
  {
   "cell_type": "code",
   "execution_count": 67,
   "metadata": {},
   "outputs": [
    {
     "data": {
      "text/plain": [
       "5"
      ]
     },
     "execution_count": 67,
     "metadata": {},
     "output_type": "execute_result"
    }
   ],
   "source": [
    "num_constraints(primal, VariableRef, MOI.GreaterThan{Float64})"
   ]
  },
  {
   "cell_type": "code",
   "execution_count": 68,
   "metadata": {},
   "outputs": [
    {
     "data": {
      "text/plain": [
       "0"
      ]
     },
     "execution_count": 68,
     "metadata": {},
     "output_type": "execute_result"
    }
   ],
   "source": [
    "num_constraints(primal, VariableRef, MOI.LessThan{Float64})"
   ]
  },
  {
   "cell_type": "code",
   "execution_count": 69,
   "metadata": {},
   "outputs": [
    {
     "data": {
      "text/latex": [
       "$$ \\begin{aligned}\n",
       "\\min\\quad & 20 z_{1} + 26 z_{2} + 64 z_{3} + 10 z_{5} + 4 z_{4}\\\\\n",
       "\\text{Subject to} \\quad & 75 z_{1} + 24 z_{2} + 7 z_{3} - 38 z_{4} - 17 z_{5} \\geq 51\\\\\n",
       " & -6 z_{1} + 43 z_{2} - 7 z_{3} + 12 z_{4} \\geq 42\\\\\n",
       " & -49 z_{1} - 41 z_{2} + 64 z_{3} + 30 z_{4} + 27 z_{5} \\geq 31\\\\\n",
       " & 10 z_{1} + 1.6666666666666667 z_{2} + 15 z_{3} + 0.8333333333333334 z_{5} \\leq 27.499999999999996\\\\\n",
       " & 4.722222222222222 z_{2} + 0.2777777777777778 z_{3} + 0.2777777777777778 z_{4} + 1.3888888888888888 z_{5} \\leq 6.666666666666666\\\\\n",
       " & 1.1111111111111112 z_{1} + 5.925925925925926 z_{3} + 0.37037037037037035 z_{4} + 0.7407407407407407 z_{5} \\leq 8.148148148148147\\\\\n",
       " & 2.380952380952381 z_{1} + 3.333333333333333 z_{2} + 13.809523809523808 z_{3} + 0.9523809523809523 z_{4} + 0.9523809523809523 z_{5} \\leq 21.428571428571427\\\\\n",
       " & z_{1} \\geq 0\\\\\n",
       " & z_{2} \\geq 0\\\\\n",
       " & z_{3} \\geq 0\\\\\n",
       " & z_{4} \\geq 0\\\\\n",
       " & z_{5} \\geq 0\\\\\n",
       "\\end{aligned} $$"
      ]
     },
     "metadata": {},
     "output_type": "display_data"
    }
   ],
   "source": [
    "print(primal)"
   ]
  },
  {
   "cell_type": "code",
   "execution_count": 70,
   "metadata": {},
   "outputs": [
    {
     "data": {
      "text/plain": [
       "MIN_SENSE::OptimizationSense = 0"
      ]
     },
     "execution_count": 70,
     "metadata": {},
     "output_type": "execute_result"
    }
   ],
   "source": [
    "MOI.get(primal, MOI.ObjectiveSense())"
   ]
  },
  {
   "cell_type": "code",
   "execution_count": null,
   "metadata": {},
   "outputs": [],
   "source": []
  },
  {
   "cell_type": "code",
   "execution_count": null,
   "metadata": {},
   "outputs": [],
   "source": []
  },
  {
   "cell_type": "code",
   "execution_count": null,
   "metadata": {},
   "outputs": [],
   "source": []
  },
  {
   "cell_type": "code",
   "execution_count": null,
   "metadata": {},
   "outputs": [],
   "source": []
  },
  {
   "cell_type": "code",
   "execution_count": 17,
   "metadata": {},
   "outputs": [],
   "source": [
    "using HiGHS"
   ]
  },
  {
   "cell_type": "code",
   "execution_count": 37,
   "metadata": {},
   "outputs": [
    {
     "name": "stdout",
     "output_type": "stream",
     "text": [
      "Running HiGHS 1.6.0: Copyright (c) 2023 HiGHS under MIT licence terms\n",
      "Presolving model\n",
      "7 rows, 5 cols, 31 nonzeros\n",
      "7 rows, 5 cols, 31 nonzeros\n",
      "Presolve : Reductions: rows 7(-0); columns 5(-0); elements 31(-0) - Not reduced\n",
      "Problem not reduced by presolve: solving the LP\n",
      "Using EKK dual simplex solver - serial\n",
      "  Iteration        Objective     Infeasibilities num(sum)\n",
      "          0     0.0000000000e+00 Pr: 3(37.625) 0s\n",
      "          6     1.2400000000e+02 Pr: 0(0) 0s\n",
      "Model   status      : Optimal\n",
      "Simplex   iterations: 6\n",
      "Objective value     :  1.2400000000e+02\n",
      "HiGHS run time      :          0.00\n",
      "termination_status(primal) = MathOptInterface.OPTIMAL\n",
      "primal_status(primal) = MathOptInterface.FEASIBLE_POINT\n",
      "dual_status(primal) = MathOptInterface.FEASIBLE_POINT\n",
      "objective_value(primal) = 123.99999999999999\n",
      "value.(z) = [0.9999999999999974, 1.0000000000000007, 1.0000000000000009, 0.9999999999999978, 0.9999999999999978]\n"
     ]
    }
   ],
   "source": [
    "# SU-RCOT - LPP\n",
    "# Instantiate the model\n",
    "#solver = optimizer_with_attributes(HiGHS.Optimizer, \"solver\" => \"simplex\")\n",
    "#primal = Model(solver)\n",
    "#primal = direct_model(solver)\n",
    "solver = optimizer_with_attributes(HiGHS.Optimizer)\n",
    "primal = direct_model(solver)\n",
    "set_attribute(primal, \"solver\", \"simplex\")\n",
    "\n",
    "#(@isdefined primal) && (primal = nothing; primal = Model(solver));\n",
    "\n",
    "ACT = size(model_data.V,1)\n",
    "\n",
    "# Define the optimisation model\n",
    "@variable(primal, z[i=1:ACT] >= 0)\n",
    "\n",
    "@objective(primal, Min, sum(model_data.pii'*model_data.F*z))\n",
    "\n",
    "primal[:con] = @constraints(primal, begin\n",
    "    # Goods balance\n",
    "    (model_data.V'-model_data.U)*z .>= model_data.e,\n",
    "    (base_name = \"goods\")\n",
    "\n",
    "    # Factor constraint,\n",
    "    model_data.F*z .<= model_data.ϕ,\n",
    "    (base_name = \"factors\")\n",
    "end)\n",
    "\n",
    "# Run the model and show results\n",
    "optimize!(primal)\n",
    "@show termination_status(primal)\n",
    "@show primal_status(primal)\n",
    "@show dual_status(primal)\n",
    "@show objective_value(primal)\n",
    "@show value.(z);"
   ]
  },
  {
   "cell_type": "code",
   "execution_count": 31,
   "metadata": {},
   "outputs": [
    {
     "data": {
      "text/plain": [
       "* Solver : HiGHS\n",
       "\n",
       "* Status\n",
       "  Result count       : 1\n",
       "  Termination status : OPTIMAL\n",
       "  Message from the solver:\n",
       "  \"kHighsModelStatusOptimal\"\n",
       "\n",
       "* Candidate solution (result #1)\n",
       "  Primal status      : FEASIBLE_POINT\n",
       "  Dual status        : FEASIBLE_POINT\n",
       "  Objective value    : 1.24000e+02\n",
       "  Objective bound    : 0.00000e+00\n",
       "  Relative gap       : Inf\n",
       "  Dual objective value : 1.24000e+02\n",
       "\n",
       "* Work counters\n",
       "  Solve time (sec)   : 0.00000e+00\n",
       "  Simplex iterations : 6\n",
       "  Barrier iterations : 0\n",
       "  Node count         : -1\n"
      ]
     },
     "execution_count": 31,
     "metadata": {},
     "output_type": "execute_result"
    }
   ],
   "source": [
    "solution_summary(primal; result = 1)"
   ]
  },
  {
   "cell_type": "code",
   "execution_count": 71,
   "metadata": {},
   "outputs": [
    {
     "data": {
      "text/plain": [
       "Ptr{Int8} @0x000000007101a022"
      ]
     },
     "execution_count": 71,
     "metadata": {},
     "output_type": "execute_result"
    }
   ],
   "source": [
    "HiGHS.Highs_version()"
   ]
  },
  {
   "cell_type": "code",
   "execution_count": 20,
   "metadata": {},
   "outputs": [
    {
     "data": {
      "text/plain": [
       "Ptr{Nothing} @0x00000185979d6010"
      ]
     },
     "execution_count": 20,
     "metadata": {},
     "output_type": "execute_result"
    }
   ],
   "source": [
    "highs = HiGHS.Highs_create()"
   ]
  },
  {
   "cell_type": "code",
   "execution_count": 38,
   "metadata": {},
   "outputs": [
    {
     "ename": "LoadError",
     "evalue": "MethodError: no method matching HiGHS._ConstraintInfo()\n\n\u001b[0mClosest candidates are:\n\u001b[0m  HiGHS._ConstraintInfo(\u001b[91m::Union{MathOptInterface.EqualTo{Float64}, MathOptInterface.GreaterThan{Float64}, MathOptInterface.Interval{Float64}, MathOptInterface.LessThan{Float64}}\u001b[39m)\n\u001b[0m\u001b[90m   @\u001b[39m \u001b[36mHiGHS\u001b[39m \u001b[90mC:\\Users\\maximiko\\.julia\\packages\\HiGHS\\zTMN2\\src\\\u001b[39m\u001b[90m\u001b[4mMOI_wrapper.jl:154\u001b[24m\u001b[39m\n\u001b[0m  HiGHS._ConstraintInfo(\u001b[91m::String\u001b[39m, \u001b[91m::Int32\u001b[39m, \u001b[91m::HiGHS._RowType\u001b[39m, \u001b[91m::Float64\u001b[39m, \u001b[91m::Float64\u001b[39m)\n\u001b[0m\u001b[90m   @\u001b[39m \u001b[36mHiGHS\u001b[39m \u001b[90mC:\\Users\\maximiko\\.julia\\packages\\HiGHS\\zTMN2\\src\\\u001b[39m\u001b[90m\u001b[4mMOI_wrapper.jl:145\u001b[24m\u001b[39m\n\u001b[0m  HiGHS._ConstraintInfo(\u001b[91m::Any\u001b[39m, \u001b[91m::Any\u001b[39m, \u001b[91m::Any\u001b[39m, \u001b[91m::Any\u001b[39m, \u001b[91m::Any\u001b[39m)\n\u001b[0m\u001b[90m   @\u001b[39m \u001b[36mHiGHS\u001b[39m \u001b[90mC:\\Users\\maximiko\\.julia\\packages\\HiGHS\\zTMN2\\src\\\u001b[39m\u001b[90m\u001b[4mMOI_wrapper.jl:145\u001b[24m\u001b[39m\n",
     "output_type": "error",
     "traceback": [
      "MethodError: no method matching HiGHS._ConstraintInfo()\n\n\u001b[0mClosest candidates are:\n\u001b[0m  HiGHS._ConstraintInfo(\u001b[91m::Union{MathOptInterface.EqualTo{Float64}, MathOptInterface.GreaterThan{Float64}, MathOptInterface.Interval{Float64}, MathOptInterface.LessThan{Float64}}\u001b[39m)\n\u001b[0m\u001b[90m   @\u001b[39m \u001b[36mHiGHS\u001b[39m \u001b[90mC:\\Users\\maximiko\\.julia\\packages\\HiGHS\\zTMN2\\src\\\u001b[39m\u001b[90m\u001b[4mMOI_wrapper.jl:154\u001b[24m\u001b[39m\n\u001b[0m  HiGHS._ConstraintInfo(\u001b[91m::String\u001b[39m, \u001b[91m::Int32\u001b[39m, \u001b[91m::HiGHS._RowType\u001b[39m, \u001b[91m::Float64\u001b[39m, \u001b[91m::Float64\u001b[39m)\n\u001b[0m\u001b[90m   @\u001b[39m \u001b[36mHiGHS\u001b[39m \u001b[90mC:\\Users\\maximiko\\.julia\\packages\\HiGHS\\zTMN2\\src\\\u001b[39m\u001b[90m\u001b[4mMOI_wrapper.jl:145\u001b[24m\u001b[39m\n\u001b[0m  HiGHS._ConstraintInfo(\u001b[91m::Any\u001b[39m, \u001b[91m::Any\u001b[39m, \u001b[91m::Any\u001b[39m, \u001b[91m::Any\u001b[39m, \u001b[91m::Any\u001b[39m)\n\u001b[0m\u001b[90m   @\u001b[39m \u001b[36mHiGHS\u001b[39m \u001b[90mC:\\Users\\maximiko\\.julia\\packages\\HiGHS\\zTMN2\\src\\\u001b[39m\u001b[90m\u001b[4mMOI_wrapper.jl:145\u001b[24m\u001b[39m\n",
      "",
      "Stacktrace:",
      " [1] top-level scope",
      "   @ In[38]:1"
     ]
    }
   ],
   "source": [
    "HiGHS._ConstraintInfo()"
   ]
  },
  {
   "cell_type": "code",
   "execution_count": 39,
   "metadata": {},
   "outputs": [
    {
     "ename": "LoadError",
     "evalue": "MethodError: no method matching Highs_getBasis(::Model)\n\n\u001b[0mClosest candidates are:\n\u001b[0m  Highs_getBasis(::Any, \u001b[91m::Any\u001b[39m, \u001b[91m::Any\u001b[39m)\n\u001b[0m\u001b[90m   @\u001b[39m \u001b[36mHiGHS\u001b[39m \u001b[90mC:\\Users\\maximiko\\.julia\\packages\\HiGHS\\zTMN2\\src\\gen\\\u001b[39m\u001b[90m\u001b[4mlibhighs.jl:831\u001b[24m\u001b[39m\n",
     "output_type": "error",
     "traceback": [
      "MethodError: no method matching Highs_getBasis(::Model)\n\n\u001b[0mClosest candidates are:\n\u001b[0m  Highs_getBasis(::Any, \u001b[91m::Any\u001b[39m, \u001b[91m::Any\u001b[39m)\n\u001b[0m\u001b[90m   @\u001b[39m \u001b[36mHiGHS\u001b[39m \u001b[90mC:\\Users\\maximiko\\.julia\\packages\\HiGHS\\zTMN2\\src\\gen\\\u001b[39m\u001b[90m\u001b[4mlibhighs.jl:831\u001b[24m\u001b[39m\n",
      "",
      "Stacktrace:",
      " [1] top-level scope",
      "   @ In[39]:1"
     ]
    }
   ],
   "source": [
    "HiGHS.Highs_getBasis(primal)"
   ]
  },
  {
   "cell_type": "code",
   "execution_count": 10,
   "metadata": {},
   "outputs": [
    {
     "data": {
      "text/plain": [
       "A JuMP Model\n",
       "Minimization problem with:\n",
       "Variables: 5\n",
       "Objective function type: AffExpr\n",
       "`AffExpr`-in-`MathOptInterface.GreaterThan{Float64}`: 3 constraints\n",
       "`AffExpr`-in-`MathOptInterface.LessThan{Float64}`: 4 constraints\n",
       "`VariableRef`-in-`MathOptInterface.GreaterThan{Float64}`: 5 constraints\n",
       "Model mode: AUTOMATIC\n",
       "CachingOptimizer state: ATTACHED_OPTIMIZER\n",
       "Solver name: GLPK\n",
       "Names registered in the model: con, z"
      ]
     },
     "execution_count": 10,
     "metadata": {},
     "output_type": "execute_result"
    }
   ],
   "source": [
    "primal"
   ]
  },
  {
   "cell_type": "code",
   "execution_count": 45,
   "metadata": {},
   "outputs": [
    {
     "ename": "LoadError",
     "evalue": "MethodError: no method matching unsafe_convert(::Type{Ptr{Int32}}, ::Int32)\n\n\u001b[0mClosest candidates are:\n\u001b[0m  unsafe_convert(::Type{Ptr{T}}, \u001b[91m::SharedArrays.SharedArray{T}\u001b[39m) where T\n\u001b[0m\u001b[90m   @\u001b[39m \u001b[32mSharedArrays\u001b[39m \u001b[90mC:\\Users\\maximiko\\AppData\\Local\\Programs\\Julia-1.9.0\\share\\julia\\stdlib\\v1.9\\SharedArrays\\src\\\u001b[39m\u001b[90m\u001b[4mSharedArrays.jl:361\u001b[24m\u001b[39m\n\u001b[0m  unsafe_convert(::Type{Ptr{T}}, \u001b[91m::SharedArrays.SharedArray\u001b[39m) where T\n\u001b[0m\u001b[90m   @\u001b[39m \u001b[32mSharedArrays\u001b[39m \u001b[90mC:\\Users\\maximiko\\AppData\\Local\\Programs\\Julia-1.9.0\\share\\julia\\stdlib\\v1.9\\SharedArrays\\src\\\u001b[39m\u001b[90m\u001b[4mSharedArrays.jl:362\u001b[24m\u001b[39m\n\u001b[0m  unsafe_convert(::Type{Ptr{T}}, \u001b[91m::SparseArrays.ReadOnly\u001b[39m) where T\n\u001b[0m\u001b[90m   @\u001b[39m \u001b[33mSparseArrays\u001b[39m \u001b[90mC:\\Users\\maximiko\\AppData\\Local\\Programs\\Julia-1.9.0\\share\\julia\\stdlib\\v1.9\\SparseArrays\\src\\\u001b[39m\u001b[90m\u001b[4mreadonly.jl:23\u001b[24m\u001b[39m\n\u001b[0m  ...\n",
     "output_type": "error",
     "traceback": [
      "MethodError: no method matching unsafe_convert(::Type{Ptr{Int32}}, ::Int32)\n\n\u001b[0mClosest candidates are:\n\u001b[0m  unsafe_convert(::Type{Ptr{T}}, \u001b[91m::SharedArrays.SharedArray{T}\u001b[39m) where T\n\u001b[0m\u001b[90m   @\u001b[39m \u001b[32mSharedArrays\u001b[39m \u001b[90mC:\\Users\\maximiko\\AppData\\Local\\Programs\\Julia-1.9.0\\share\\julia\\stdlib\\v1.9\\SharedArrays\\src\\\u001b[39m\u001b[90m\u001b[4mSharedArrays.jl:361\u001b[24m\u001b[39m\n\u001b[0m  unsafe_convert(::Type{Ptr{T}}, \u001b[91m::SharedArrays.SharedArray\u001b[39m) where T\n\u001b[0m\u001b[90m   @\u001b[39m \u001b[32mSharedArrays\u001b[39m \u001b[90mC:\\Users\\maximiko\\AppData\\Local\\Programs\\Julia-1.9.0\\share\\julia\\stdlib\\v1.9\\SharedArrays\\src\\\u001b[39m\u001b[90m\u001b[4mSharedArrays.jl:362\u001b[24m\u001b[39m\n\u001b[0m  unsafe_convert(::Type{Ptr{T}}, \u001b[91m::SparseArrays.ReadOnly\u001b[39m) where T\n\u001b[0m\u001b[90m   @\u001b[39m \u001b[33mSparseArrays\u001b[39m \u001b[90mC:\\Users\\maximiko\\AppData\\Local\\Programs\\Julia-1.9.0\\share\\julia\\stdlib\\v1.9\\SparseArrays\\src\\\u001b[39m\u001b[90m\u001b[4mreadonly.jl:23\u001b[24m\u001b[39m\n\u001b[0m  ...\n",
      "",
      "Stacktrace:",
      " [1] Highs_getObjectiveSense(highs::Ptr{Nothing}, sense::Int32)",
      "   @ HiGHS C:\\Users\\maximiko\\.julia\\packages\\HiGHS\\zTMN2\\src\\gen\\libhighs.jl:1604",
      " [2] top-level scope",
      "   @ In[45]:1"
     ]
    }
   ],
   "source": [
    "HiGHS.Highs_getObjectiveSense(highs, kHighsObjSenseMinimize)"
   ]
  },
  {
   "cell_type": "code",
   "execution_count": 49,
   "metadata": {},
   "outputs": [
    {
     "data": {
      "text/plain": [
       "1"
      ]
     },
     "execution_count": 49,
     "metadata": {},
     "output_type": "execute_result"
    }
   ],
   "source": [
    "HiGHS.Highs_versionMajor()"
   ]
  },
  {
   "cell_type": "code",
   "execution_count": 18,
   "metadata": {},
   "outputs": [],
   "source": [
    "rm(\"model.lp\", recursive=true)"
   ]
  },
  {
   "cell_type": "code",
   "execution_count": 19,
   "metadata": {},
   "outputs": [],
   "source": [
    "write_to_file(primal, \"model.lp\")"
   ]
  },
  {
   "cell_type": "code",
   "execution_count": 21,
   "metadata": {},
   "outputs": [
    {
     "name": "stdout",
     "output_type": "stream",
     "text": [
      "Running HiGHS 1.6.0: Copyright (c) 2023 HiGHS under MIT licence terms\n"
     ]
    },
    {
     "data": {
      "text/plain": [
       "0"
      ]
     },
     "execution_count": 21,
     "metadata": {},
     "output_type": "execute_result"
    }
   ],
   "source": [
    "HiGHS.Highs_readModel(highs, \"model.lp\")"
   ]
  },
  {
   "cell_type": "code",
   "execution_count": 22,
   "metadata": {},
   "outputs": [
    {
     "data": {
      "text/plain": [
       "0"
      ]
     },
     "execution_count": 22,
     "metadata": {},
     "output_type": "execute_result"
    }
   ],
   "source": [
    "HiGHS.Highs_getModelStatus(highs)"
   ]
  },
  {
   "cell_type": "code",
   "execution_count": null,
   "metadata": {},
   "outputs": [],
   "source": []
  },
  {
   "cell_type": "code",
   "execution_count": 57,
   "metadata": {},
   "outputs": [
    {
     "data": {
      "text/plain": [
       "Base.RefValue{Int32}(0)"
      ]
     },
     "execution_count": 57,
     "metadata": {},
     "output_type": "execute_result"
    }
   ],
   "source": [
    "senseP = Ref{Cint}(0)"
   ]
  },
  {
   "cell_type": "code",
   "execution_count": 58,
   "metadata": {},
   "outputs": [
    {
     "data": {
      "text/plain": [
       "0"
      ]
     },
     "execution_count": 58,
     "metadata": {},
     "output_type": "execute_result"
    }
   ],
   "source": [
    "HiGHS.Highs_getObjectiveSense(highs, senseP)"
   ]
  },
  {
   "cell_type": "code",
   "execution_count": 62,
   "metadata": {},
   "outputs": [
    {
     "data": {
      "text/plain": [
       "1"
      ]
     },
     "execution_count": 62,
     "metadata": {},
     "output_type": "execute_result"
    }
   ],
   "source": [
    "senseP[]# == kHighsObjSenseMinimize"
   ]
  },
  {
   "cell_type": "code",
   "execution_count": null,
   "metadata": {},
   "outputs": [],
   "source": []
  },
  {
   "cell_type": "code",
   "execution_count": null,
   "metadata": {},
   "outputs": [],
   "source": []
  },
  {
   "cell_type": "code",
   "execution_count": null,
   "metadata": {},
   "outputs": [],
   "source": []
  },
  {
   "cell_type": "code",
   "execution_count": 12,
   "metadata": {},
   "outputs": [
    {
     "data": {
      "text/plain": [
       "A JuMP Model\n",
       "Minimization problem with:\n",
       "Variables: 5\n",
       "Objective function type: AffExpr\n",
       "`AffExpr`-in-`MathOptInterface.GreaterThan{Float64}`: 3 constraints\n",
       "`AffExpr`-in-`MathOptInterface.LessThan{Float64}`: 4 constraints\n",
       "`VariableRef`-in-`MathOptInterface.GreaterThan{Float64}`: 5 constraints\n",
       "Model mode: AUTOMATIC\n",
       "CachingOptimizer state: ATTACHED_OPTIMIZER\n",
       "Solver name: GLPK\n",
       "Names registered in the model: con, z"
      ]
     },
     "execution_count": 12,
     "metadata": {},
     "output_type": "execute_result"
    }
   ],
   "source": [
    "src = primal"
   ]
  },
  {
   "cell_type": "code",
   "execution_count": 13,
   "metadata": {},
   "outputs": [
    {
     "data": {
      "text/plain": [
       "A .LP-file model"
      ]
     },
     "execution_count": 13,
     "metadata": {},
     "output_type": "execute_result"
    }
   ],
   "source": [
    "dest = MOI.FileFormats.Model(format = MOI.FileFormats.FORMAT_LP)"
   ]
  },
  {
   "cell_type": "code",
   "execution_count": 14,
   "metadata": {},
   "outputs": [
    {
     "data": {
      "text/plain": [
       "MathOptInterface.Utilities.IndexMap with 17 entries:\n",
       "  MOI.VariableIndex(1)      => MOI.VariableIndex(1)\n",
       "  MOI.VariableIndex(2)      => MOI.VariableIndex(2)\n",
       "  MOI.VariableIndex(3)      => MOI.VariableIndex(3)\n",
       "  MOI.VariableIndex(4)      => MOI.VariableIndex(4)\n",
       "  MOI.VariableIndex(5)      => MOI.VariableIndex(5)\n",
       "  ConstraintIndex{ScalarAf… => ConstraintIndex{ScalarAffineFunction{Float64}, L…\n",
       "  ConstraintIndex{ScalarAf… => ConstraintIndex{ScalarAffineFunction{Float64}, L…\n",
       "  ConstraintIndex{ScalarAf… => ConstraintIndex{ScalarAffineFunction{Float64}, L…\n",
       "  ConstraintIndex{ScalarAf… => ConstraintIndex{ScalarAffineFunction{Float64}, L…\n",
       "  ConstraintIndex{Variable… => ConstraintIndex{VariableIndex, GreaterThan{Float…\n",
       "  ConstraintIndex{Variable… => ConstraintIndex{VariableIndex, GreaterThan{Float…\n",
       "  ConstraintIndex{Variable… => ConstraintIndex{VariableIndex, GreaterThan{Float…\n",
       "  ConstraintIndex{Variable… => ConstraintIndex{VariableIndex, GreaterThan{Float…\n",
       "  ConstraintIndex{Variable… => ConstraintIndex{VariableIndex, GreaterThan{Float…\n",
       "  ConstraintIndex{ScalarAf… => ConstraintIndex{ScalarAffineFunction{Float64}, G…\n",
       "  ConstraintIndex{ScalarAf… => ConstraintIndex{ScalarAffineFunction{Float64}, G…\n",
       "  ConstraintIndex{ScalarAf… => ConstraintIndex{ScalarAffineFunction{Float64}, G…"
      ]
     },
     "execution_count": 14,
     "metadata": {},
     "output_type": "execute_result"
    }
   ],
   "source": [
    "MOI.copy_to(dest, src);"
   ]
  },
  {
   "cell_type": "code",
   "execution_count": 41,
   "metadata": {},
   "outputs": [],
   "source": [
    "io = IOBuffer();"
   ]
  },
  {
   "cell_type": "code",
   "execution_count": 16,
   "metadata": {},
   "outputs": [],
   "source": [
    "#write(io, dest)"
   ]
  },
  {
   "cell_type": "code",
   "execution_count": 29,
   "metadata": {},
   "outputs": [],
   "source": [
    "write(io, src)"
   ]
  },
  {
   "cell_type": "code",
   "execution_count": 17,
   "metadata": {},
   "outputs": [],
   "source": [
    "seekstart(io);"
   ]
  },
  {
   "cell_type": "code",
   "execution_count": 18,
   "metadata": {},
   "outputs": [
    {
     "data": {
      "text/plain": [
       "Ptr{Nothing} @0x00000214b2fe8060"
      ]
     },
     "execution_count": 18,
     "metadata": {},
     "output_type": "execute_result"
    }
   ],
   "source": [
    "highs = HiGHS.Highs_create();"
   ]
  },
  {
   "cell_type": "code",
   "execution_count": 42,
   "metadata": {},
   "outputs": [
    {
     "data": {
      "text/plain": [
       "Ptr{Nothing}"
      ]
     },
     "execution_count": 42,
     "metadata": {},
     "output_type": "execute_result"
    }
   ],
   "source": [
    "typeof(highs)"
   ]
  },
  {
   "cell_type": "code",
   "execution_count": 39,
   "metadata": {},
   "outputs": [
    {
     "data": {
      "text/plain": [
       "Ptr{Nothing} @0x00000214b2fe8060"
      ]
     },
     "execution_count": 39,
     "metadata": {},
     "output_type": "execute_result"
    }
   ],
   "source": [
    "read!(io, highs)"
   ]
  },
  {
   "cell_type": "code",
   "execution_count": 31,
   "metadata": {},
   "outputs": [
    {
     "data": {
      "text/plain": [
       "6"
      ]
     },
     "execution_count": 31,
     "metadata": {},
     "output_type": "execute_result"
    }
   ],
   "source": [
    "HiGHS.Highs_getModelStatus(highs)"
   ]
  },
  {
   "cell_type": "code",
   "execution_count": 30,
   "metadata": {},
   "outputs": [
    {
     "ename": "LoadError",
     "evalue": "MethodError: no method matching unsafe_convert(::Type{Ptr{Int8}}, ::IOBuffer)\n\n\u001b[0mClosest candidates are:\n\u001b[0m  unsafe_convert(::Union{Cstring, Type{Ptr{Int8}}, Type{Ptr{UInt8}}}, \u001b[91m::LaTeXStrings.LaTeXString\u001b[39m)\n\u001b[0m\u001b[90m   @\u001b[39m \u001b[36mLaTeXStrings\u001b[39m \u001b[90mC:\\Users\\maximiko\\.julia\\packages\\LaTeXStrings\\pJ7vn\\src\\\u001b[39m\u001b[90m\u001b[4mLaTeXStrings.jl:129\u001b[24m\u001b[39m\n\u001b[0m  unsafe_convert(::Type{Ptr{T}}, \u001b[91m::SharedArrays.SharedArray{T}\u001b[39m) where T\n\u001b[0m\u001b[90m   @\u001b[39m \u001b[32mSharedArrays\u001b[39m \u001b[90mC:\\Users\\maximiko\\AppData\\Local\\Programs\\Julia-1.9.0\\share\\julia\\stdlib\\v1.9\\SharedArrays\\src\\\u001b[39m\u001b[90m\u001b[4mSharedArrays.jl:361\u001b[24m\u001b[39m\n\u001b[0m  unsafe_convert(::Type{Ptr{T}}, \u001b[91m::SharedArrays.SharedArray\u001b[39m) where T\n\u001b[0m\u001b[90m   @\u001b[39m \u001b[32mSharedArrays\u001b[39m \u001b[90mC:\\Users\\maximiko\\AppData\\Local\\Programs\\Julia-1.9.0\\share\\julia\\stdlib\\v1.9\\SharedArrays\\src\\\u001b[39m\u001b[90m\u001b[4mSharedArrays.jl:362\u001b[24m\u001b[39m\n\u001b[0m  ...\n",
     "output_type": "error",
     "traceback": [
      "MethodError: no method matching unsafe_convert(::Type{Ptr{Int8}}, ::IOBuffer)\n\n\u001b[0mClosest candidates are:\n\u001b[0m  unsafe_convert(::Union{Cstring, Type{Ptr{Int8}}, Type{Ptr{UInt8}}}, \u001b[91m::LaTeXStrings.LaTeXString\u001b[39m)\n\u001b[0m\u001b[90m   @\u001b[39m \u001b[36mLaTeXStrings\u001b[39m \u001b[90mC:\\Users\\maximiko\\.julia\\packages\\LaTeXStrings\\pJ7vn\\src\\\u001b[39m\u001b[90m\u001b[4mLaTeXStrings.jl:129\u001b[24m\u001b[39m\n\u001b[0m  unsafe_convert(::Type{Ptr{T}}, \u001b[91m::SharedArrays.SharedArray{T}\u001b[39m) where T\n\u001b[0m\u001b[90m   @\u001b[39m \u001b[32mSharedArrays\u001b[39m \u001b[90mC:\\Users\\maximiko\\AppData\\Local\\Programs\\Julia-1.9.0\\share\\julia\\stdlib\\v1.9\\SharedArrays\\src\\\u001b[39m\u001b[90m\u001b[4mSharedArrays.jl:361\u001b[24m\u001b[39m\n\u001b[0m  unsafe_convert(::Type{Ptr{T}}, \u001b[91m::SharedArrays.SharedArray\u001b[39m) where T\n\u001b[0m\u001b[90m   @\u001b[39m \u001b[32mSharedArrays\u001b[39m \u001b[90mC:\\Users\\maximiko\\AppData\\Local\\Programs\\Julia-1.9.0\\share\\julia\\stdlib\\v1.9\\SharedArrays\\src\\\u001b[39m\u001b[90m\u001b[4mSharedArrays.jl:362\u001b[24m\u001b[39m\n\u001b[0m  ...\n",
      "",
      "Stacktrace:",
      " [1] Highs_readModel(highs::Ptr{Nothing}, filename::IOBuffer)",
      "   @ HiGHS C:\\Users\\maximiko\\.julia\\packages\\HiGHS\\zTMN2\\src\\gen\\libhighs.jl:210",
      " [2] top-level scope",
      "   @ In[30]:1"
     ]
    }
   ],
   "source": [
    "HiGHS.Highs_readModel(highs, io)"
   ]
  },
  {
   "cell_type": "code",
   "execution_count": null,
   "metadata": {},
   "outputs": [],
   "source": []
  },
  {
   "cell_type": "code",
   "execution_count": null,
   "metadata": {},
   "outputs": [],
   "source": []
  },
  {
   "cell_type": "code",
   "execution_count": null,
   "metadata": {},
   "outputs": [],
   "source": []
  },
  {
   "cell_type": "code",
   "execution_count": null,
   "metadata": {},
   "outputs": [],
   "source": []
  },
  {
   "cell_type": "code",
   "execution_count": null,
   "metadata": {},
   "outputs": [],
   "source": []
  },
  {
   "cell_type": "code",
   "execution_count": null,
   "metadata": {},
   "outputs": [],
   "source": []
  },
  {
   "cell_type": "code",
   "execution_count": 23,
   "metadata": {},
   "outputs": [
    {
     "name": "stdout",
     "output_type": "stream",
     "text": [
      "Presolving model\n",
      "7 rows, 5 cols, 31 nonzeros\n",
      "7 rows, 5 cols, 31 nonzeros\n",
      "Presolve : Reductions: rows 7(-0); columns 5(-0); elements 31(-0) - Not reduced\n",
      "Problem not reduced by presolve: solving the LP\n",
      "Using EKK dual simplex solver - serial\n",
      "  Iteration        Objective     Infeasibilities num(sum)\n",
      "          0     0.0000000000e+00 Pr: 3(37.625) 0s\n",
      "          6     1.2400000000e+02 Pr: 0(0) 0s\n",
      "Model   status      : Optimal\n",
      "Simplex   iterations: 6\n",
      "Objective value     :  1.2400000000e+02\n",
      "HiGHS run time      :          0.01\n"
     ]
    },
    {
     "data": {
      "text/plain": [
       "0"
      ]
     },
     "execution_count": 23,
     "metadata": {},
     "output_type": "execute_result"
    }
   ],
   "source": [
    "HiGHS.Highs_run(highs)"
   ]
  },
  {
   "cell_type": "code",
   "execution_count": null,
   "metadata": {},
   "outputs": [],
   "source": []
  },
  {
   "cell_type": "code",
   "execution_count": null,
   "metadata": {},
   "outputs": [],
   "source": []
  },
  {
   "cell_type": "code",
   "execution_count": 68,
   "metadata": {},
   "outputs": [],
   "source": [
    "col_value = zeros(Cdouble, 10);"
   ]
  },
  {
   "cell_type": "code",
   "execution_count": 69,
   "metadata": {},
   "outputs": [
    {
     "data": {
      "text/plain": [
       "0"
      ]
     },
     "execution_count": 69,
     "metadata": {},
     "output_type": "execute_result"
    }
   ],
   "source": [
    "HiGHS.Highs_getSolution(highs, col_value, C_NULL, C_NULL, C_NULL)"
   ]
  },
  {
   "cell_type": "code",
   "execution_count": 70,
   "metadata": {},
   "outputs": [
    {
     "data": {
      "text/plain": [
       "10-element Vector{Float64}:\n",
       " 0.9999999999999967\n",
       " 1.0000000000000007\n",
       " 1.000000000000001\n",
       " 0.9999999999999974\n",
       " 0.9999999999999962\n",
       " 0.0\n",
       " 0.0\n",
       " 0.0\n",
       " 0.0\n",
       " 0.0"
      ]
     },
     "execution_count": 70,
     "metadata": {},
     "output_type": "execute_result"
    }
   ],
   "source": [
    "col_value"
   ]
  },
  {
   "cell_type": "code",
   "execution_count": null,
   "metadata": {},
   "outputs": [],
   "source": []
  },
  {
   "cell_type": "code",
   "execution_count": null,
   "metadata": {},
   "outputs": [],
   "source": []
  },
  {
   "cell_type": "code",
   "execution_count": 45,
   "metadata": {},
   "outputs": [
    {
     "data": {
      "text/plain": [
       "7"
      ]
     },
     "execution_count": 45,
     "metadata": {},
     "output_type": "execute_result"
    }
   ],
   "source": [
    "HiGHS.HiGHS.Highs_getNumRow(highs)"
   ]
  },
  {
   "cell_type": "code",
   "execution_count": 73,
   "metadata": {},
   "outputs": [
    {
     "data": {
      "text/plain": [
       "5"
      ]
     },
     "execution_count": 73,
     "metadata": {},
     "output_type": "execute_result"
    }
   ],
   "source": [
    "HiGHS.HiGHS.Highs_getNumCol(highs)"
   ]
  },
  {
   "cell_type": "code",
   "execution_count": 74,
   "metadata": {},
   "outputs": [
    {
     "data": {
      "text/plain": [
       "31"
      ]
     },
     "execution_count": 74,
     "metadata": {},
     "output_type": "execute_result"
    }
   ],
   "source": [
    "HiGHS.HiGHS.Highs_getNumNz(highs)"
   ]
  },
  {
   "cell_type": "code",
   "execution_count": 75,
   "metadata": {},
   "outputs": [
    {
     "data": {
      "text/plain": [
       "65"
      ]
     },
     "execution_count": 75,
     "metadata": {},
     "output_type": "execute_result"
    }
   ],
   "source": [
    "HiGHS.HiGHS.Highs_getNumOptions(highs)"
   ]
  },
  {
   "cell_type": "code",
   "execution_count": 76,
   "metadata": {},
   "outputs": [
    {
     "data": {
      "text/plain": [
       "123.99999999999999"
      ]
     },
     "execution_count": 76,
     "metadata": {},
     "output_type": "execute_result"
    }
   ],
   "source": [
    "HiGHS.Highs_getObjectiveValue(highs)"
   ]
  },
  {
   "cell_type": "code",
   "execution_count": null,
   "metadata": {},
   "outputs": [],
   "source": []
  },
  {
   "cell_type": "code",
   "execution_count": 24,
   "metadata": {},
   "outputs": [
    {
     "data": {
      "text/plain": [
       "7"
      ]
     },
     "execution_count": 24,
     "metadata": {},
     "output_type": "execute_result"
    }
   ],
   "source": [
    "nrows = HiGHS.HiGHS.Highs_getNumRow(highs)"
   ]
  },
  {
   "cell_type": "code",
   "execution_count": 62,
   "metadata": {},
   "outputs": [
    {
     "data": {
      "text/plain": [
       "7-element Vector{Float64}:\n",
       " 0.0\n",
       " 0.0\n",
       " 0.0\n",
       " 0.0\n",
       " 0.0\n",
       " 0.0\n",
       " 0.0"
      ]
     },
     "execution_count": 62,
     "metadata": {},
     "output_type": "execute_result"
    }
   ],
   "source": [
    "basic_variables = zeros(nrows)"
   ]
  },
  {
   "cell_type": "code",
   "execution_count": 25,
   "metadata": {},
   "outputs": [
    {
     "data": {
      "text/plain": [
       "7-element Vector{Float64}:\n",
       " NaN\n",
       " NaN\n",
       " NaN\n",
       " NaN\n",
       " NaN\n",
       " NaN\n",
       " NaN"
      ]
     },
     "execution_count": 25,
     "metadata": {},
     "output_type": "execute_result"
    }
   ],
   "source": [
    "basic_variables = fill(NaN, nrows)"
   ]
  },
  {
   "cell_type": "code",
   "execution_count": 63,
   "metadata": {},
   "outputs": [
    {
     "data": {
      "text/plain": [
       "7-element Vector{Tuple{Nothing, Nothing}}:\n",
       " (nothing, nothing)\n",
       " (nothing, nothing)\n",
       " (nothing, nothing)\n",
       " (nothing, nothing)\n",
       " (nothing, nothing)\n",
       " (nothing, nothing)\n",
       " (nothing, nothing)"
      ]
     },
     "execution_count": 63,
     "metadata": {},
     "output_type": "execute_result"
    }
   ],
   "source": [
    "#citArr = map(1:nrows) do i\n",
    "    x1 = nothing\n",
    "    y1 = nothing\n",
    "    (x1, y1)\n",
    "  end"
   ]
  },
  {
   "cell_type": "code",
   "execution_count": 23,
   "metadata": {},
   "outputs": [
    {
     "data": {
      "text/plain": [
       "7-element Vector{Any}:\n",
       " nothing\n",
       " nothing\n",
       " nothing\n",
       " nothing\n",
       " nothing\n",
       " nothing\n",
       " nothing"
      ]
     },
     "execution_count": 23,
     "metadata": {},
     "output_type": "execute_result"
    }
   ],
   "source": [
    "#arr = Array{Union{Nothing, Any}}(nothing, nrows)"
   ]
  },
  {
   "cell_type": "code",
   "execution_count": 56,
   "metadata": {},
   "outputs": [
    {
     "data": {
      "text/plain": [
       "Ptr{Nothing} @0x00000214b2fe8060"
      ]
     },
     "execution_count": 56,
     "metadata": {},
     "output_type": "execute_result"
    }
   ],
   "source": [
    "highs"
   ]
  },
  {
   "cell_type": "markdown",
   "metadata": {},
   "source": [
    "I noticed that getBasicVariables returns an array, presumably filled with tuples. The docs say that an array is returned with {1,-1} as an entry for example.."
   ]
  },
  {
   "cell_type": "code",
   "execution_count": 24,
   "metadata": {},
   "outputs": [
    {
     "data": {
      "text/plain": [
       "0"
      ]
     },
     "execution_count": 24,
     "metadata": {},
     "output_type": "execute_result"
    }
   ],
   "source": [
    "HiGHS.Highs_getBasicVariables(highs, arr)#basic_variables)"
   ]
  },
  {
   "cell_type": "code",
   "execution_count": 25,
   "metadata": {},
   "outputs": [
    {
     "ename": "",
     "evalue": "",
     "output_type": "error",
     "traceback": [
      "\u001b[1;31mThe Kernel crashed while executing code in the the current cell or a previous cell. Please review the code in the cell(s) to identify a possible cause of the failure. Click <a href='https://aka.ms/vscodeJupyterKernelCrash'>here</a> for more info. View Jupyter <a href='command:jupyter.viewOutput'>log</a> for further details."
     ]
    }
   ],
   "source": [
    "arr"
   ]
  },
  {
   "cell_type": "code",
   "execution_count": 26,
   "metadata": {},
   "outputs": [
    {
     "data": {
      "text/plain": [
       "0"
      ]
     },
     "execution_count": 26,
     "metadata": {},
     "output_type": "execute_result"
    }
   ],
   "source": [
    "HiGHS.Highs_getBasicVariables(highs, basic_variables)"
   ]
  },
  {
   "cell_type": "code",
   "execution_count": 27,
   "metadata": {},
   "outputs": [
    {
     "data": {
      "text/plain": [
       "7-element Vector{Float64}:\n",
       "   1.06099789543e-313\n",
       "   8.4879831624e-314\n",
       "   5.0e-324\n",
       " NaN\n",
       " NaN\n",
       " NaN\n",
       " NaN"
      ]
     },
     "execution_count": 27,
     "metadata": {},
     "output_type": "execute_result"
    }
   ],
   "source": [
    "basic_variables"
   ]
  },
  {
   "cell_type": "markdown",
   "metadata": {},
   "source": [
    "I should probably pass \"basic_variables\" as an array?!"
   ]
  },
  {
   "cell_type": "code",
   "execution_count": null,
   "metadata": {},
   "outputs": [],
   "source": []
  },
  {
   "cell_type": "code",
   "execution_count": null,
   "metadata": {},
   "outputs": [],
   "source": []
  },
  {
   "cell_type": "code",
   "execution_count": 54,
   "metadata": {},
   "outputs": [
    {
     "name": "stdout",
     "output_type": "stream",
     "text": [
      "[75.0 32.0 0.0; 34.0 50.0 18.0; 22.0 2.0 64.0; 0.0 12.0 47.0; 5.0 0.0 38.0]\n"
     ]
    }
   ],
   "source": [
    "println(dict_m[\"V\"])"
   ]
  },
  {
   "cell_type": "code",
   "execution_count": 61,
   "metadata": {},
   "outputs": [
    {
     "name": "stdout",
     "output_type": "stream",
     "text": [
      "7×12 SparseArrays.SparseMatrixCSC{Float64, Int64} with 38 stored entries:\n",
      "  10.0        1.66667  15.0          ⋅          0.833333  -1.0    ⋅     ⋅     ⋅     ⋅     ⋅     ⋅ \n",
      "    ⋅         4.72222   0.277778    0.277778    1.38889     ⋅   -1.0    ⋅     ⋅     ⋅     ⋅     ⋅ \n",
      "   1.11111     ⋅        5.92593     0.37037     0.740741    ⋅     ⋅   -1.0    ⋅     ⋅     ⋅     ⋅ \n",
      "   2.38095    3.33333  13.8095      0.952381    0.952381    ⋅     ⋅     ⋅   -1.0    ⋅     ⋅     ⋅ \n",
      "  75.0       24.0       7.0       -38.0       -17.0         ⋅     ⋅     ⋅     ⋅   -1.0    ⋅     ⋅ \n",
      "  -6.0       43.0      -7.0        12.0          ⋅          ⋅     ⋅     ⋅     ⋅     ⋅   -1.0    ⋅ \n",
      " -49.0      -41.0      64.0        30.0        27.0         ⋅     ⋅     ⋅     ⋅     ⋅     ⋅   -1.0"
     ]
    }
   ],
   "source": [
    "show(stdout, \"text/plain\", std_form.A)"
   ]
  },
  {
   "cell_type": "code",
   "execution_count": 101,
   "metadata": {},
   "outputs": [
    {
     "data": {
      "text/plain": [
       "12-element Vector{Float64}:\n",
       "   0.0\n",
       "   0.0\n",
       "   0.0\n",
       "   0.0\n",
       "   0.0\n",
       " -Inf\n",
       " -Inf\n",
       " -Inf\n",
       " -Inf\n",
       "  51.0\n",
       "  42.0\n",
       "  31.0"
      ]
     },
     "execution_count": 101,
     "metadata": {},
     "output_type": "execute_result"
    }
   ],
   "source": [
    "std_form.lower"
   ]
  },
  {
   "cell_type": "code",
   "execution_count": 38,
   "metadata": {},
   "outputs": [
    {
     "data": {
      "text/plain": [
       "(variables = MathOptInterface.BasisStatusCode[MathOptInterface.BASIC, MathOptInterface.BASIC, MathOptInterface.BASIC, MathOptInterface.BASIC, MathOptInterface.BASIC], bounds = MathOptInterface.BasisStatusCode[MathOptInterface.BASIC, MathOptInterface.BASIC, MathOptInterface.BASIC, MathOptInterface.BASIC, MathOptInterface.BASIC], constraints = MathOptInterface.BasisStatusCode[MathOptInterface.BASIC, MathOptInterface.NONBASIC_AT_UPPER, MathOptInterface.BASIC, MathOptInterface.NONBASIC_AT_UPPER, MathOptInterface.NONBASIC_AT_LOWER, MathOptInterface.NONBASIC_AT_LOWER, MathOptInterface.NONBASIC_AT_LOWER], basic_cols = Bool[1, 1, 1, 1, 1, 1, 0, 1, 0, 0, 0, 0])"
      ]
     },
     "execution_count": 38,
     "metadata": {},
     "output_type": "execute_result"
    }
   ],
   "source": [
    "std_form = JuMP._standard_form_matrix(primal)\n",
    "basis = JuMP._standard_form_basis(primal, std_form)"
   ]
  },
  {
   "cell_type": "code",
   "execution_count": 39,
   "metadata": {},
   "outputs": [
    {
     "data": {
      "text/plain": [
       "12-element BitVector:\n",
       " 1\n",
       " 1\n",
       " 1\n",
       " 1\n",
       " 1\n",
       " 1\n",
       " 0\n",
       " 1\n",
       " 0\n",
       " 0\n",
       " 0\n",
       " 0"
      ]
     },
     "execution_count": 39,
     "metadata": {},
     "output_type": "execute_result"
    }
   ],
   "source": [
    "basis.basic_cols"
   ]
  },
  {
   "cell_type": "code",
   "execution_count": 67,
   "metadata": {},
   "outputs": [
    {
     "data": {
      "text/plain": [
       "7-element Vector{MathOptInterface.BasisStatusCode}:\n",
       " BASIC::BasisStatusCode = 0\n",
       " NONBASIC_AT_UPPER::BasisStatusCode = 3\n",
       " BASIC::BasisStatusCode = 0\n",
       " NONBASIC_AT_UPPER::BasisStatusCode = 3\n",
       " NONBASIC_AT_LOWER::BasisStatusCode = 2\n",
       " NONBASIC_AT_LOWER::BasisStatusCode = 2\n",
       " NONBASIC_AT_LOWER::BasisStatusCode = 2"
      ]
     },
     "execution_count": 67,
     "metadata": {},
     "output_type": "execute_result"
    }
   ],
   "source": [
    "basis.constraints"
   ]
  },
  {
   "cell_type": "code",
   "execution_count": 50,
   "metadata": {},
   "outputs": [
    {
     "data": {
      "text/plain": [
       "Dict{Any, Any} with 8 entries:\n",
       "  \"U\"     => [0.0 10.0 … 38.0 22.0; 38.0 7.0 … 0.0 0.0; 49.0 59.0 … 17.0 11.0]\n",
       "  \"e\"     => [51.0; 42.0; 31.0;;]\n",
       "  \"pii\"   => [1.2; 3.6; 2.7; 2.1;;]\n",
       "  \"V\"     => [75.0 32.0 0.0; 34.0 50.0 18.0; … ; 0.0 12.0 47.0; 5.0 0.0 38.0]\n",
       "  \"F_alt\" => [0.0; 0.25; 0.1; 1.1;;]\n",
       "  \"V_alt\" => [0.0 0.0 32.0]\n",
       "  \"U_alt\" => [13.0; 24.0; 0.0;;]\n",
       "  \"F\"     => [10.0 1.66667 … 0.0 0.833333; 0.0 4.72222 … 0.277778 1.38889; 1.11…"
      ]
     },
     "execution_count": 50,
     "metadata": {},
     "output_type": "execute_result"
    }
   ],
   "source": [
    "dict_m"
   ]
  },
  {
   "cell_type": "code",
   "execution_count": null,
   "metadata": {},
   "outputs": [],
   "source": []
  },
  {
   "cell_type": "markdown",
   "metadata": {},
   "source": [
    "https://ergo-code.github.io/HiGHS/dev/interfaces/julia/\n",
    "\n",
    "https://ergo-code.github.io/HiGHS/dev/guide/basic/\n",
    "\n",
    "https://docs.juliahub.com/HiGHS/WFic5/1.7.5/autodocs/\n",
    "\n",
    "https://jump.dev/JuMP.jl/stable/background/algebraic_modeling_languages/\n",
    "\n",
    "https://github.com/jump-dev/GLPK.jl/blob/master/test/MOI_wrapper.jl"
   ]
  }
 ],
 "metadata": {
  "kernelspec": {
   "display_name": "RectangularChoiceDev 1.9.0",
   "language": "julia",
   "name": "rectangularchoicedev-1.9"
  },
  "language_info": {
   "file_extension": ".jl",
   "mimetype": "application/julia",
   "name": "julia",
   "version": "1.9.0"
  }
 },
 "nbformat": 4,
 "nbformat_minor": 2
}
