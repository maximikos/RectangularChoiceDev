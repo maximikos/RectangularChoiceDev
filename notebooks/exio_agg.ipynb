{
 "cells": [
  {
   "cell_type": "markdown",
   "metadata": {},
   "source": [
    "# Aggregating EXIOBASE data (Python)\n",
    "Procedure follows the [tutorial](https://gitlab.com/exiobase/teaching/exio_agg_tutorial/-/tree/main) by Konstantin Stadler."
   ]
  },
  {
   "cell_type": "code",
   "execution_count": 1,
   "metadata": {},
   "outputs": [],
   "source": [
    "from pathlib import Path"
   ]
  },
  {
   "cell_type": "code",
   "execution_count": 2,
   "metadata": {},
   "outputs": [],
   "source": [
    "import pymrio\n",
    "import openpyxl\n",
    "import pandas as pd\n",
    "import polyfuzz "
   ]
  },
  {
   "cell_type": "markdown",
   "metadata": {},
   "source": [
    "# Getting EXIOBASE "
   ]
  },
  {
   "cell_type": "code",
   "execution_count": 9,
   "metadata": {},
   "outputs": [],
   "source": [
    "EXIO_DATA_FOLDER = Path('./data/raw/exio3/')\n",
    "YEAR = 2022\n",
    "SYSTEM = 'pxp'"
   ]
  },
  {
   "cell_type": "code",
   "execution_count": 8,
   "metadata": {},
   "outputs": [],
   "source": [
    "# Run only if EXIOBASE not yet downloaded\n",
    "# exio_meta = pymrio.download_exiobase3(storage_folder=EXIO_DATA_FOLDER, system=SYSTEM, years=YEAR)"
   ]
  },
  {
   "cell_type": "code",
   "execution_count": 10,
   "metadata": {},
   "outputs": [],
   "source": [
    "path = Path.cwd()"
   ]
  },
  {
   "cell_type": "code",
   "execution_count": 11,
   "metadata": {},
   "outputs": [],
   "source": [
    "exio_dir = 'IOT_' + str(YEAR) + '_' + SYSTEM"
   ]
  },
  {
   "cell_type": "code",
   "execution_count": 12,
   "metadata": {},
   "outputs": [],
   "source": [
    "exio3 = pymrio.parse_exiobase3(path.parent / EXIO_DATA_FOLDER / exio_dir)"
   ]
  },
  {
   "cell_type": "markdown",
   "metadata": {},
   "source": [
    "# Aggregating EXIOBASE 3"
   ]
  },
  {
   "cell_type": "code",
   "execution_count": 13,
   "metadata": {},
   "outputs": [],
   "source": [
    "exio3_agg = exio3.copy()"
   ]
  },
  {
   "cell_type": "markdown",
   "metadata": {},
   "source": [
    "*Notes:* Currently we need to transform the pandas DataFrame into a numpy array and extract the new names for \n",
    "the aggregated sectors and regions. In a future version of pymrio it will be possible to directly pass\n",
    "a concordance given as a pandas DataFrame."
   ]
  },
  {
   "cell_type": "code",
   "execution_count": 22,
   "metadata": {},
   "outputs": [
    {
     "data": {
      "text/plain": [
       "<pymrio.core.mriosystem.IOSystem at 0x172c48e8040>"
      ]
     },
     "execution_count": 22,
     "metadata": {},
     "output_type": "execute_result"
    }
   ],
   "source": [
    "exio3_agg.aggregate(\n",
    "    region_agg=\"global\"\n",
    ")"
   ]
  },
  {
   "cell_type": "markdown",
   "metadata": {},
   "source": [
    "And there we have it, a fully aggregated MRIO system. \n",
    "Lets explore a bit:"
   ]
  },
  {
   "cell_type": "code",
   "execution_count": 25,
   "metadata": {},
   "outputs": [
    {
     "data": {
      "text/plain": [
       "Description: Data for 2022\n",
       "MRIO Name: exio382_ntnu_copy\n",
       "System: pxp\n",
       "Version: v3.81\n",
       "File: c:\\Users\\maximiko\\JuliaEnvironments\\RectangularChoiceDev\\data\\raw\\exio3\\IOT_2022_pxp\\metadata.json\n",
       "History:\n",
       "20231020 08:14:59 - MODIFICATION -  Calculating accounts for extension satellite\n",
       "20231020 08:14:59 - MODIFICATION -  Calculating accounts for extension impacts\n",
       "20231020 08:14:58 - MODIFICATION -  Aggregate extensions...\n",
       "20231020 08:14:58 - MODIFICATION -  Aggregate extensions...\n",
       "20231020 08:14:58 - MODIFICATION -  Aggregate industry output x\n",
       "20231020 08:14:56 - MODIFICATION -  Aggregate transaction matrix Z\n",
       "20231020 08:14:56 - MODIFICATION -  Aggregate final demand y\n",
       "20231020 08:14:56 - MODIFICATION -  Reset to absolute flows\n",
       "20231020 08:11:46 - MODIFICATION -  Reset to absolute flows\n",
       "20231020 08:03:25 - MODIFICATION -  Reset to absolute flows\n",
       " ... (more lines in history)"
      ]
     },
     "execution_count": 25,
     "metadata": {},
     "output_type": "execute_result"
    }
   ],
   "source": [
    "exio3_agg.meta"
   ]
  },
  {
   "cell_type": "code",
   "execution_count": 26,
   "metadata": {},
   "outputs": [
    {
     "data": {
      "text/plain": [
       "<pymrio.core.mriosystem.IOSystem at 0x172c48e8040>"
      ]
     },
     "execution_count": 26,
     "metadata": {},
     "output_type": "execute_result"
    }
   ],
   "source": [
    "exio3_agg.calc_all()"
   ]
  },
  {
   "cell_type": "code",
   "execution_count": 27,
   "metadata": {},
   "outputs": [
    {
     "data": {
      "text/plain": [
       "<pymrio.core.mriosystem.IOSystem at 0x172c48e8040>"
      ]
     },
     "execution_count": 27,
     "metadata": {},
     "output_type": "execute_result"
    }
   ],
   "source": [
    "exio3_agg.save_all('../data/processed/exio3_agg')"
   ]
  }
 ],
 "metadata": {
  "kernelspec": {
   "display_name": "olwh-mk-viHzpVsD-py3.8",
   "language": "python",
   "name": "python3"
  },
  "language_info": {
   "codemirror_mode": {
    "name": "ipython",
    "version": 3
   },
   "file_extension": ".py",
   "mimetype": "text/x-python",
   "name": "python",
   "nbconvert_exporter": "python",
   "pygments_lexer": "ipython3",
   "version": "3.9.7"
  },
  "orig_nbformat": 4
 },
 "nbformat": 4,
 "nbformat_minor": 2
}
