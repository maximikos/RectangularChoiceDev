{
 "cells": [
  {
   "attachments": {},
   "cell_type": "markdown",
   "metadata": {},
   "source": [
    "# RCOT on SUTs (c<i)"
   ]
  },
  {
   "attachments": {},
   "cell_type": "markdown",
   "metadata": {},
   "source": [
    "This notebook starts from an exemplary supply-use table (SUT) that features fewer commodities than industries (c<i). The cases of [c=i](./SU-RCOT_c=i.ipynb) and [c>i](./SU-RCOT_c+i-.ipynb) are illustrated in separate notebooks. All notebooks share the same basic structure. That is, an illustrative SUT is imported from a spreadsheet; solved for the cases of factor constraints being absent or present; and solved when new technologies are introduced.\n",
    "\n",
    "<a id='toc'></a>\n",
    "\n",
    "The outline of the current notebook is as follows:\n",
    "\n",
    "\n",
    "0. [Data import and set-up](#data-import)\n",
    "1. [Empirical system in coefficent form w/out factor constraints](#emp_0f)\\\n",
    "    1.1 [As-is solution by inversion (use of constructs)](#emp_0f_inv)\\\n",
    "    1.2 [As-is solution via linear program (of joint production system)](#emp_0f_lp)\\\n",
    "        1.2.1 [Relative (coefficient) formulation](#emp_0f_lp_rel)\\\n",
    "        1.2.2 [Absolute (transaction) formulation](#emp_0f_lp_abs)\n",
    "2. [Empirical system with factor constraints](#emp_f_lp)\n",
    "3. [Adding technology alternatives to the SUT system](#add_jp)\\\n",
    "    3.1 [An alternative for by-product production](#add_jp_1sp)\\\n",
    "    3.2 [An alternative for main-product production with secondary products](#add_jp_1jp)"
   ]
  },
  {
   "attachments": {},
   "cell_type": "markdown",
   "metadata": {},
   "source": [
    "<a id='data-import'></a>"
   ]
  },
  {
   "attachments": {},
   "cell_type": "markdown",
   "metadata": {},
   "source": [
    "## 0. Data import and set-up"
   ]
  },
  {
   "cell_type": "code",
   "execution_count": 1,
   "metadata": {},
   "outputs": [],
   "source": [
    "using LinearAlgebra\n",
    "using JuMP\n",
    "using GLPK\n",
    "using XLSX\n",
    "using DataFrames\n",
    "\n",
    "include(\"../src/SUT_structure.jl\") # Used for the SUT setup <sut = SUT.structure(...)>\n",
    "include(\"../src/Constructs.jl\") # Used to derive single-production systems from the SUT setup, e.g. as <itc = Constructs.ITC(sut)>\n",
    "include(\"../src/Auxiliary.jl\") # Includes some helper functions\n",
    "include(\"../src/Model_data.jl\") # Sets up the data structure for RCOT modelling based on SUT.structure or Constructs.construct\n",
    "include(\"../src/RCOT_model.jl\"); # Builds and solves the RCOT models"
   ]
  },
  {
   "cell_type": "code",
   "execution_count": 2,
   "metadata": {},
   "outputs": [
    {
     "data": {
      "text/plain": [
       "XLSXFile(\"../data/SUT_c-i+.xlsx\") containing 4 Worksheets\n",
       "            sheetname size          range        \n",
       "-------------------------------------------------\n",
       "                    V 6x4           A1:D6        \n",
       "                  U+e 4x7           A1:G4        \n",
       "                    F 5x6           A1:F5        \n",
       "                   pi 5x2           A1:B5        \n"
      ]
     },
     "execution_count": 2,
     "metadata": {},
     "output_type": "execute_result"
    }
   ],
   "source": [
    "# Load the workbook\n",
    "xf = XLSX.readxlsx(\"../data/SUT_c-i+.xlsx\")"
   ]
  },
  {
   "cell_type": "code",
   "execution_count": 3,
   "metadata": {},
   "outputs": [],
   "source": [
    "# Get data from all worksheets and convert it to float64 data type\n",
    "V = convert(Matrix{Float64}, xf[\"V!B2:D6\"])\n",
    "U = convert(Matrix{Float64}, xf[\"U+e!B2:F4\"])\n",
    "e = convert(Matrix{Float64}, xf[\"U+e!G2:G4\"])\n",
    "F = convert(Matrix{Float64}, xf[\"F!B2:F5\"])\n",
    "pii = convert(Matrix{Float64}, xf[\"pi!B2:B5\"])\n",
    "t = xf[\"V!A1\"];"
   ]
  },
  {
   "attachments": {},
   "cell_type": "markdown",
   "metadata": {},
   "source": [
    "As per the imported spreadsheets, $(V,U,e)$ are given in monetary units meaning that the commodity prices $p=i$. $F$ is in physical units and $\\pi$ are the factor prices. As the system is rectangular (c<i), it cannot be solved for total output by inversion. Hence, either we solve via a linear program or we reallocate the by-products via constructs and thus allow for solution by inversion. For convenience, we pack the SUT system into an object that will be used in the following."
   ]
  },
  {
   "cell_type": "code",
   "execution_count": 4,
   "metadata": {},
   "outputs": [
    {
     "name": "stderr",
     "output_type": "stream",
     "text": [
      "\u001b[36m\u001b[1m[ \u001b[22m\u001b[39m\u001b[36m\u001b[1mInfo: \u001b[22m\u001b[39mA structure for supply-use elements was set up. Changing individual elements will not change others automatically.\n"
     ]
    }
   ],
   "source": [
    "sut = SUT.structure(U,V,F,e,pii,t);"
   ]
  },
  {
   "cell_type": "code",
   "execution_count": 5,
   "metadata": {},
   "outputs": [
    {
     "data": {
      "text/plain": [
       "1×1 Matrix{Float64}:\n",
       " 123.99999999999999"
      ]
     },
     "execution_count": 5,
     "metadata": {},
     "output_type": "execute_result"
    }
   ],
   "source": [
    "# For completeness, let's check the total factor costs (in this unconstrained system)\n",
    "sut.pii'*sut.f"
   ]
  },
  {
   "cell_type": "markdown",
   "metadata": {},
   "source": [
    "Back to [table of contents](#toc)\n",
    "<a id='emp_0f'></a>"
   ]
  },
  {
   "attachments": {},
   "cell_type": "markdown",
   "metadata": {},
   "source": [
    "## 1. Empirical system w/out factor constraint\n",
    "Since the given SUT-system is again rectangular, we cannot perform imputation or impact analyses with it directly by inversion. Instead, we solve it again through an LP and by inversion after having applied constructs."
   ]
  },
  {
   "attachments": {},
   "cell_type": "markdown",
   "metadata": {},
   "source": [
    "Back to [table of contents](#toc)\n",
    "<a id='emp_0f_inv'></a>"
   ]
  },
  {
   "attachments": {},
   "cell_type": "markdown",
   "metadata": {},
   "source": [
    "### 1.1 Solution by inversion via constructs\n",
    "Various constructs exist to reallocate by-products. Not all of them work for rectangular SUT-systems, though. For completeness, we introduce the Models A (commodity technology construct, CTC), B (industry technology construct, ITC), C (fixed industry sales structure construct, FISC), and D (fixed product sales structure construct, FPSC) here, although only two of them will be appropriate in the present case of more commodities than industries. We compute the solution here via the ITC and compare it to the commodity output $q$ taken from the SUT.  We do the same for the total factor use $f$."
   ]
  },
  {
   "cell_type": "code",
   "execution_count": 6,
   "metadata": {},
   "outputs": [],
   "source": [
    "itc = Constructs.ITC(sut);"
   ]
  },
  {
   "cell_type": "code",
   "execution_count": 7,
   "metadata": {},
   "outputs": [
    {
     "data": {
      "text/plain": [
       "true"
      ]
     },
     "execution_count": 7,
     "metadata": {},
     "output_type": "execute_result"
    }
   ],
   "source": [
    "# Compute the total output and compare it to the total commodity output; a tolerance measure is required to account for machine precision\n",
    "x = itc.L*itc.y\n",
    "isapprox(x, sut.q, rtol = 1e-10)"
   ]
  },
  {
   "cell_type": "code",
   "execution_count": 8,
   "metadata": {},
   "outputs": [
    {
     "data": {
      "text/plain": [
       "true"
      ]
     },
     "execution_count": 8,
     "metadata": {},
     "output_type": "execute_result"
    }
   ],
   "source": [
    "# The corresponding factor use is calculated and compared to the empirical data; yet again a tolerance measure is required\n",
    "f = itc.R*itc.L*itc.y\n",
    "isapprox(f, sut.f, rtol = 1e-10)"
   ]
  },
  {
   "attachments": {},
   "cell_type": "markdown",
   "metadata": {},
   "source": [
    "Back to [table of contents](#toc)\n",
    "<a id='emp_0f_lp'></a>"
   ]
  },
  {
   "attachments": {},
   "cell_type": "markdown",
   "metadata": {},
   "source": [
    "### 1.2 Solution by LP\n",
    "Let us now solve the system via a linear program."
   ]
  },
  {
   "cell_type": "markdown",
   "metadata": {},
   "source": [
    "<a id='emp_0f_lp_rel'></a>"
   ]
  },
  {
   "cell_type": "markdown",
   "metadata": {},
   "source": [
    "#### 1.2.1 Employing SUT coefficients\n",
    "\n",
    "We start with a model in coefficient form."
   ]
  },
  {
   "cell_type": "code",
   "execution_count": 9,
   "metadata": {},
   "outputs": [],
   "source": [
    "# To set up our initial primal, we write:\n",
    "primal = Model(GLPK.Optimizer)\n",
    "\n",
    "# Define the optimisation model\n",
    "@variable(primal, g_star[1:size(V,1)] >= 0, base_name = \"g*\")\n",
    "@objective(primal, Min, sum(sut.pii'*sut.S*g_star))\n",
    "@constraint(primal, c1, (sut.C-sut.B)*(g_star) .>= sut.e);"
   ]
  },
  {
   "cell_type": "code",
   "execution_count": 10,
   "metadata": {},
   "outputs": [
    {
     "name": "stdout",
     "output_type": "stream",
     "text": [
      "termination_status(model) = MathOptInterface.OPTIMAL\n",
      "primal_status(model) = MathOptInterface.FEASIBLE_POINT\n",
      "dual_status(model) = MathOptInterface.FEASIBLE_POINT\n",
      "objective_value(model) = 124.0\n",
      "value.(c1) = [51.0; 42.0; 31.0;;]\n",
      "value.(g_star) = [16.925829775953638, 124.96554750130262, 122.35070431547483, 0.0, 0.0]\n"
     ]
    }
   ],
   "source": [
    "# Run the model and show results\n",
    "optimize!(primal)\n",
    "model_solution(primal)\n",
    "@show value.(c1)\n",
    "@show value.(g_star);"
   ]
  },
  {
   "attachments": {},
   "cell_type": "markdown",
   "metadata": {},
   "source": [
    "We can see in the output that the model found a feasible solution for both the primal and dual, with the resulting objective value being $124$, as we derived by calculating $\\pi' f$. However, the modelled industry output is different from the one we calculated directly from the SUT-system earlier. The reason for this is the combined effect of by-products being present and the system being rectangular while not considering physical factor limits. It is particularly such factor constraints that enable the substitution/ complementation of technologies. In their absence, the system defaults back to a square outlay."
   ]
  },
  {
   "attachments": {},
   "cell_type": "markdown",
   "metadata": {},
   "source": [
    "On the bright side, however, we can see that the shadow prices equal the unit vector; we should be reminded that $p = i$ because the given system was in monetary values."
   ]
  },
  {
   "cell_type": "code",
   "execution_count": 11,
   "metadata": {},
   "outputs": [
    {
     "name": "stdout",
     "output_type": "stream",
     "text": [
      "-(shadow_price.(c1)) = [1.0; 1.0; 1.0;;]\n"
     ]
    }
   ],
   "source": [
    "@show -shadow_price.(c1);"
   ]
  },
  {
   "attachments": {},
   "cell_type": "markdown",
   "metadata": {},
   "source": [
    "Let us now model the dual explicitly and examine this in more detail:"
   ]
  },
  {
   "cell_type": "code",
   "execution_count": 12,
   "metadata": {},
   "outputs": [],
   "source": [
    "# Set up the model\n",
    "dual = Model(GLPK.Optimizer)\n",
    "\n",
    "# Define the optimisation model\n",
    "@variable(dual, p[1:size(sut.V,2)] >= 0)\n",
    "@objective(dual, Max, sum(p'*sut.e))\n",
    "@constraint(dual, c1d, (sut.C-sut.B)'*(p) .<= sut.S'*sut.pii);"
   ]
  },
  {
   "cell_type": "code",
   "execution_count": 13,
   "metadata": {},
   "outputs": [
    {
     "name": "stdout",
     "output_type": "stream",
     "text": [
      "termination_status(model) = MathOptInterface.OPTIMAL\n",
      "primal_status(model) = MathOptInterface.FEASIBLE_POINT\n",
      "dual_status(model) = MathOptInterface.FEASIBLE_POINT\n",
      "objective_value(model) = 124.0\n",
      "value.(p) = [1.0, 1.0, 1.0]\n",
      "shadow_price.(c1d) = [16.925829775953638; 124.96554750130262; 122.35070431547481; 0.0; 0.0;;]\n"
     ]
    }
   ],
   "source": [
    "# Run the model and show results\n",
    "optimize!(dual)\n",
    "model_solution(primal)\n",
    "@show value.(p)\n",
    "@show shadow_price.(c1d);"
   ]
  },
  {
   "attachments": {},
   "cell_type": "markdown",
   "metadata": {},
   "source": [
    "While the model has a feasible solution for which the objective value is equal to that one of the primal and where the shadow prices reflect the originally observed (i.e. imported from spreadsheet) total output of the primal, we see indeed that the modelled price vector is equal the unit vector. On the other hand, however, the shadow prices for the dual, indicating the total output of the system, equal the solution vector $g*$ resulting from the primal.\n",
    "\n",
    "Does that mean that the originally observed output vector $g$ is sub-optimal? No, as we can easily see when we calculate the dual's objective function and constraint separately with that vector:"
   ]
  },
  {
   "cell_type": "code",
   "execution_count": 14,
   "metadata": {},
   "outputs": [
    {
     "name": "stdout",
     "output_type": "stream",
     "text": [
      "The thus calculated objective value is: [124.0;;]\n",
      "And the LHS of the constraint: [51.0; 41.99999999999999; 31.000000000000014;;]\n",
      "And the same LHS with originally observed output levels: [51.00000000000001, 42.0, 31.0]\n"
     ]
    }
   ],
   "source": [
    "println(\"The thus calculated objective value is: \", sut.pii'*sut.S*sut.g)\n",
    "println(\"And the LHS of the constraint: \", (sut.C-sut.B)*sut.g)\n",
    "println(\"And the same LHS with originally observed output levels: \", (sut.C-sut.B)*value.(g_star))"
   ]
  },
  {
   "attachments": {},
   "cell_type": "markdown",
   "metadata": {},
   "source": [
    "With that, we see that a system consisting of more industries than commodities may have multiple alternate optimal solutions for its primal. That is, no unique solution for the output vector exists. The usefulness of the primal is hence limited in this case.\n",
    "\n",
    "Mirroring the case of ([c>i](./SU-RCOT_c+i-.ipynb)), the reason for this behaviour is, mathematically speaking, the column-wise linear dependence of the net output (coefficients) matrix; it is thus not of full rank. Economically, according to the simplex algorithm, those market actors would produce initially which can serve the highest final demand for commodties at the lowest factor costs per unit of positive net output - at least while no physical factor limits are transgressed (here, we didn't even consider them).\n",
    "\n",
    "In the following, we will concentrate on the primal."
   ]
  },
  {
   "cell_type": "markdown",
   "metadata": {},
   "source": [
    "<a id='emp_0f_lp_abs'></a>"
   ]
  },
  {
   "cell_type": "markdown",
   "metadata": {},
   "source": [
    "#### 1.2.2 Absolute model formulation\n",
    "\n",
    "Let us now model the primal in absolute form"
   ]
  },
  {
   "cell_type": "code",
   "execution_count": 15,
   "metadata": {},
   "outputs": [],
   "source": [
    "# Instantiate the model\n",
    "(@isdefined primal) && (primal = nothing; primal = Model(GLPK.Optimizer));"
   ]
  },
  {
   "cell_type": "code",
   "execution_count": 16,
   "metadata": {},
   "outputs": [],
   "source": [
    "# To set up our initial primal, we write:\n",
    "primal = Model(GLPK.Optimizer)\n",
    "\n",
    "# Define the optimisation model\n",
    "@variable(primal, z_star[1:size(V,1)] >= 0, base_name = \"z*\")\n",
    "@objective(primal, Min, sum(sut.pii'*sut.F*z_star))\n",
    "@constraint(primal, c1, (sut.V'-sut.U)*(z_star) .>= sut.e);"
   ]
  },
  {
   "cell_type": "code",
   "execution_count": 17,
   "metadata": {},
   "outputs": [
    {
     "name": "stdout",
     "output_type": "stream",
     "text": [
      "termination_status(model) = MathOptInterface.OPTIMAL\n",
      "primal_status(model) = MathOptInterface.FEASIBLE_POINT\n",
      "dual_status(model) = MathOptInterface.FEASIBLE_POINT\n",
      "objective_value(model) = 124.0\n",
      "value.(c1) = [51.0; 42.0; 31.0;;]\n",
      "value.(z_star) = [0.15818532500891247, 1.2251524264833586, 1.3903489126758504, 0.0, 0.0]\n"
     ]
    }
   ],
   "source": [
    "# Run the model and show results\n",
    "optimize!(primal)\n",
    "model_solution(primal)\n",
    "@show value.(c1)\n",
    "@show value.(z_star);"
   ]
  },
  {
   "cell_type": "markdown",
   "metadata": {},
   "source": [
    "Unsurprisingly, the absolute formulation yields the same result as the coefficient-based one above. That is, the objective value is the same and also the same industries are active. Multiplying the activity level by the original industry output gives the same modelled output as above."
   ]
  },
  {
   "cell_type": "code",
   "execution_count": 18,
   "metadata": {},
   "outputs": [
    {
     "data": {
      "text/plain": [
       "true"
      ]
     },
     "execution_count": 18,
     "metadata": {},
     "output_type": "execute_result"
    }
   ],
   "source": [
    "isapprox(value.(g_star), value.(z_star).*sut.g, rtol = 1e-10) "
   ]
  },
  {
   "cell_type": "markdown",
   "metadata": {},
   "source": [
    "<a id='emp_f_lp'></a>"
   ]
  },
  {
   "cell_type": "markdown",
   "metadata": {},
   "source": [
    "## 2. Empirical system with factor constraints: solution by LP\n",
    "Let us now impose factor limits that equal the observed factor use. That means that these constraints would be active. We can see that an automatic reallocation to a square system does not result anymore."
   ]
  },
  {
   "cell_type": "code",
   "execution_count": 19,
   "metadata": {},
   "outputs": [
    {
     "name": "stderr",
     "output_type": "stream",
     "text": [
      "\u001b[36m\u001b[1m[ \u001b[22m\u001b[39m\u001b[36m\u001b[1mInfo: \u001b[22m\u001b[39mYou are setting up an SU model dataset. Elements of this dataset are now treated independently, meaning that no recalculation whatsoever takes place when individual elements are changed.\n"
     ]
    }
   ],
   "source": [
    "su_rcot_data = Model_data.SU(sut);"
   ]
  },
  {
   "cell_type": "code",
   "execution_count": 20,
   "metadata": {},
   "outputs": [
    {
     "name": "stdout",
     "output_type": "stream",
     "text": [
      "termination_status(model) = MathOptInterface.OPTIMAL\n",
      "primal_status(model) = MathOptInterface.FEASIBLE_POINT\n",
      "dual_status(model) = MathOptInterface.FEASIBLE_POINT\n",
      "objective_value(model) = 123.99999999999999\n",
      "value.(var_con) = [0.9999999999999993, 1.0, 1.0000000000000002, 0.9999999999999996, 0.9999999999999988]\n",
      "value.(demand_con) = [51.0, 42.0, 31.0]\n",
      "value.(factor_con) = [27.499999999999993, 6.666666666666666, 8.148148148148147, 21.428571428571427]\n"
     ]
    }
   ],
   "source": [
    "# Run the primal SU-RCOT in its absolute form\n",
    "su_rcot_model = su_rcot(\"primal\", \"abs\", su_rcot_data);"
   ]
  },
  {
   "cell_type": "markdown",
   "metadata": {},
   "source": [
    "Let us increase the availability of factor #f.1 to 28 and of #f.4 to 22.\n"
   ]
  },
  {
   "cell_type": "code",
   "execution_count": 21,
   "metadata": {},
   "outputs": [
    {
     "data": {
      "text/plain": [
       "22"
      ]
     },
     "execution_count": 21,
     "metadata": {},
     "output_type": "execute_result"
    }
   ],
   "source": [
    "su_rcot_data.f[1] = 28\n",
    "su_rcot_data.f[4] = 22"
   ]
  },
  {
   "cell_type": "code",
   "execution_count": 22,
   "metadata": {},
   "outputs": [
    {
     "name": "stdout",
     "output_type": "stream",
     "text": [
      "termination_status(model) = MathOptInterface.OPTIMAL\n",
      "primal_status(model) = MathOptInterface.FEASIBLE_POINT\n",
      "dual_status(model) = MathOptInterface.FEASIBLE_POINT\n",
      "objective_value(model) = 124.0\n",
      "value.(var_con) = [1.0000000000000022, 0.9999999999999992, 0.9999999999999993, 1.000000000000003, 1.000000000000001]\n",
      "value.(demand_con) = [51.0, 42.0, 31.0]\n",
      "value.(factor_con) = [27.500000000000014, 6.666666666666666, 8.148148148148147, 21.42857142857142]\n"
     ]
    }
   ],
   "source": [
    "# Run the primal SU-RCOT in its absolute form\n",
    "su_rcot_model = su_rcot(\"primal\", \"abs\", su_rcot_data);"
   ]
  },
  {
   "cell_type": "markdown",
   "metadata": {},
   "source": [
    "Although these increases in factor availability have not changed the industry activity levels, we know from earlier that the case of no binding factor constraints results in the reduction to a square system. Let us therefore now examine how much we can shift any of the variables before a change in the solution results. We do that through a sensitivity analysis as follows:"
   ]
  },
  {
   "cell_type": "code",
   "execution_count": 23,
   "metadata": {},
   "outputs": [
    {
     "data": {
      "text/html": [
       "<div><div style = \"float: left;\"><span>7×7 DataFrame</span></div><div style = \"clear: both;\"></div></div><div class = \"data-frame\" style = \"overflow-x: scroll;\"><table class = \"data-frame\" style = \"margin-bottom: 6px;\"><thead><tr class = \"header\"><th class = \"rowNumber\" style = \"font-weight: bold; text-align: right;\">Row</th><th style = \"text-align: left;\">name</th><th style = \"text-align: left;\">value</th><th style = \"text-align: left;\">rhs</th><th style = \"text-align: left;\">slack</th><th style = \"text-align: left;\">shadow_price</th><th style = \"text-align: left;\">allowed_decrease</th><th style = \"text-align: left;\">allowed_increase</th></tr><tr class = \"subheader headerLastRow\"><th class = \"rowNumber\" style = \"font-weight: bold; text-align: right;\"></th><th title = \"String\" style = \"text-align: left;\">String</th><th title = \"Float64\" style = \"text-align: left;\">Float64</th><th title = \"Float64\" style = \"text-align: left;\">Float64</th><th title = \"Float64\" style = \"text-align: left;\">Float64</th><th title = \"Float64\" style = \"text-align: left;\">Float64</th><th title = \"Float64\" style = \"text-align: left;\">Float64</th><th title = \"Float64\" style = \"text-align: left;\">Float64</th></tr></thead><tbody><tr><td class = \"rowNumber\" style = \"font-weight: bold; text-align: right;\">1</td><td style = \"text-align: left;\">c1</td><td style = \"text-align: right;\">51.0</td><td style = \"text-align: right;\">51.0</td><td style = \"text-align: right;\">0.0</td><td style = \"text-align: right;\">-1.0</td><td style = \"text-align: right;\">-0.721714</td><td style = \"text-align: right;\">0.225334</td></tr><tr><td class = \"rowNumber\" style = \"font-weight: bold; text-align: right;\">2</td><td style = \"text-align: left;\">c1</td><td style = \"text-align: right;\">42.0</td><td style = \"text-align: right;\">42.0</td><td style = \"text-align: right;\">0.0</td><td style = \"text-align: right;\">-1.0</td><td style = \"text-align: right;\">-0.982585</td><td style = \"text-align: right;\">0.270116</td></tr><tr><td class = \"rowNumber\" style = \"font-weight: bold; text-align: right;\">3</td><td style = \"text-align: left;\">c1</td><td style = \"text-align: right;\">31.0</td><td style = \"text-align: right;\">31.0</td><td style = \"text-align: right;\">0.0</td><td style = \"text-align: right;\">-1.0</td><td style = \"text-align: right;\">-0.627836</td><td style = \"text-align: right;\">0.206092</td></tr><tr><td class = \"rowNumber\" style = \"font-weight: bold; text-align: right;\">4</td><td style = \"text-align: left;\">c2</td><td style = \"text-align: right;\">27.5</td><td style = \"text-align: right;\">28.0</td><td style = \"text-align: right;\">0.5</td><td style = \"text-align: right;\">0.0</td><td style = \"text-align: right;\">-0.5</td><td style = \"text-align: right;\">Inf</td></tr><tr><td class = \"rowNumber\" style = \"font-weight: bold; text-align: right;\">5</td><td style = \"text-align: left;\">c2</td><td style = \"text-align: right;\">6.66667</td><td style = \"text-align: right;\">6.66667</td><td style = \"text-align: right;\">0.0</td><td style = \"text-align: right;\">0.0</td><td style = \"text-align: right;\">-0.0744533</td><td style = \"text-align: right;\">0.269134</td></tr><tr><td class = \"rowNumber\" style = \"font-weight: bold; text-align: right;\">6</td><td style = \"text-align: left;\">c2</td><td style = \"text-align: right;\">8.14815</td><td style = \"text-align: right;\">8.14815</td><td style = \"text-align: right;\">0.0</td><td style = \"text-align: right;\">0.0</td><td style = \"text-align: right;\">-0.0210169</td><td style = \"text-align: right;\">0.0464243</td></tr><tr><td class = \"rowNumber\" style = \"font-weight: bold; text-align: right;\">7</td><td style = \"text-align: left;\">c2</td><td style = \"text-align: right;\">21.4286</td><td style = \"text-align: right;\">22.0</td><td style = \"text-align: right;\">0.571429</td><td style = \"text-align: right;\">0.0</td><td style = \"text-align: right;\">-0.571429</td><td style = \"text-align: right;\">Inf</td></tr></tbody></table></div>"
      ],
      "text/latex": [
       "\\begin{tabular}{r|ccccccc}\n",
       "\t& name & value & rhs & slack & shadow\\_price & allowed\\_decrease & allowed\\_increase\\\\\n",
       "\t\\hline\n",
       "\t& String & Float64 & Float64 & Float64 & Float64 & Float64 & Float64\\\\\n",
       "\t\\hline\n",
       "\t1 & c1 & 51.0 & 51.0 & 0.0 & -1.0 & -0.721714 & 0.225334 \\\\\n",
       "\t2 & c1 & 42.0 & 42.0 & 0.0 & -1.0 & -0.982585 & 0.270116 \\\\\n",
       "\t3 & c1 & 31.0 & 31.0 & 0.0 & -1.0 & -0.627836 & 0.206092 \\\\\n",
       "\t4 & c2 & 27.5 & 28.0 & 0.5 & 0.0 & -0.5 & Inf \\\\\n",
       "\t5 & c2 & 6.66667 & 6.66667 & 0.0 & 0.0 & -0.0744533 & 0.269134 \\\\\n",
       "\t6 & c2 & 8.14815 & 8.14815 & 0.0 & 0.0 & -0.0210169 & 0.0464243 \\\\\n",
       "\t7 & c2 & 21.4286 & 22.0 & 0.571429 & 0.0 & -0.571429 & Inf \\\\\n",
       "\\end{tabular}\n"
      ],
      "text/plain": [
       "\u001b[1m7×7 DataFrame\u001b[0m\n",
       "\u001b[1m Row \u001b[0m│\u001b[1m name   \u001b[0m\u001b[1m value    \u001b[0m\u001b[1m rhs      \u001b[0m\u001b[1m slack    \u001b[0m\u001b[1m shadow_price \u001b[0m\u001b[1m allowed_decrease \u001b[0m\u001b[1m a\u001b[0m ⋯\n",
       "     │\u001b[90m String \u001b[0m\u001b[90m Float64  \u001b[0m\u001b[90m Float64  \u001b[0m\u001b[90m Float64  \u001b[0m\u001b[90m Float64      \u001b[0m\u001b[90m Float64          \u001b[0m\u001b[90m F\u001b[0m ⋯\n",
       "─────┼──────────────────────────────────────────────────────────────────────────\n",
       "   1 │ c1      51.0      51.0      0.0               -1.0        -0.721714     ⋯\n",
       "   2 │ c1      42.0      42.0      0.0               -1.0        -0.982585\n",
       "   3 │ c1      31.0      31.0      0.0               -1.0        -0.627836\n",
       "   4 │ c2      27.5      28.0      0.5                0.0        -0.5\n",
       "   5 │ c2       6.66667   6.66667  0.0                0.0        -0.0744533    ⋯\n",
       "   6 │ c2       8.14815   8.14815  0.0                0.0        -0.0210169\n",
       "   7 │ c2      21.4286   22.0      0.571429           0.0        -0.571429\n",
       "\u001b[36m                                                                1 column omitted\u001b[0m"
      ]
     },
     "execution_count": 23,
     "metadata": {},
     "output_type": "execute_result"
    }
   ],
   "source": [
    "sensitivities(su_rcot_model,type=\"constraint\")"
   ]
  },
  {
   "cell_type": "markdown",
   "metadata": {},
   "source": [
    "Given that the availabilities of factors #f.2 and #f.3 can change only a little (see rows 5 and 6), let us test now what the resulting solution would be if we apply such a change. We do that for factor #f.3. We see immediately that the output levels of the industries are changing non-uniformly."
   ]
  },
  {
   "cell_type": "code",
   "execution_count": 24,
   "metadata": {},
   "outputs": [],
   "source": [
    "su_rcot_data.ϕ[3] = 8.5;"
   ]
  },
  {
   "cell_type": "code",
   "execution_count": 25,
   "metadata": {},
   "outputs": [
    {
     "name": "stdout",
     "output_type": "stream",
     "text": [
      "termination_status(model) = MathOptInterface.OPTIMAL\n",
      "primal_status(model) = MathOptInterface.FEASIBLE_POINT\n",
      "dual_status(model) = MathOptInterface.FEASIBLE_POINT\n",
      "objective_value(model) = 124.0\n",
      "value.(var_con) = [0.7324539467139816, 1.0801615190470797, 1.108193933897949, 0.6420946582120927, 0.7773931168179206]\n",
      "value.(demand_con) = [51.0, 42.0, 31.0]\n",
      "value.(factor_con) = [26.39554527136912, 6.666666666666666, 8.194572471984095, 22.0]\n"
     ]
    }
   ],
   "source": [
    "# Run the primal SU-RCOT in its absolute form\n",
    "su_rcot_model = su_rcot(\"primal\", \"abs\", su_rcot_data);"
   ]
  },
  {
   "cell_type": "markdown",
   "metadata": {},
   "source": [
    "Let us lift the endowments of each factor by a smal percentage and see which industries are then activated, simply to illustrate how sensitive the model is given the current parameterisation:"
   ]
  },
  {
   "cell_type": "code",
   "execution_count": 26,
   "metadata": {},
   "outputs": [],
   "source": [
    "su_rcot_data.ϕ = su_rcot_data.ϕ*1.02;"
   ]
  },
  {
   "cell_type": "code",
   "execution_count": 27,
   "metadata": {},
   "outputs": [
    {
     "name": "stdout",
     "output_type": "stream",
     "text": [
      "termination_status(model) = MathOptInterface.OPTIMAL\n",
      "primal_status(model) = MathOptInterface.FEASIBLE_POINT\n",
      "dual_status(model) = MathOptInterface.FEASIBLE_POINT\n",
      "objective_value(model) = 124.00000000000001\n",
      "value.(var_con) = [0.47171115341995956, 1.165576027538281, 1.2001894806730047, 0.2593186750903928, 0.6411398752171652]\n",
      "value.(demand_con) = [51.0, 42.0, 31.0]\n",
      "value.(factor_con) = [25.196863686206104, 6.8, 8.20731984316766, 22.44]\n"
     ]
    }
   ],
   "source": [
    "# Run the primal SU-RCOT in its absolute form\n",
    "su_rcot_model = su_rcot(\"primal\", \"abs\", su_rcot_data);"
   ]
  },
  {
   "cell_type": "markdown",
   "metadata": {},
   "source": [
    "Let us lift the factor endowments yet a little further:"
   ]
  },
  {
   "cell_type": "code",
   "execution_count": 28,
   "metadata": {},
   "outputs": [],
   "source": [
    "su_rcot_data.ϕ = su_rcot_data.ϕ*1.5;"
   ]
  },
  {
   "cell_type": "code",
   "execution_count": 29,
   "metadata": {},
   "outputs": [
    {
     "name": "stdout",
     "output_type": "stream",
     "text": [
      "termination_status(model) = MathOptInterface.OPTIMAL\n",
      "primal_status(model) = MathOptInterface.FEASIBLE_POINT\n",
      "dual_status(model) = MathOptInterface.FEASIBLE_POINT\n",
      "objective_value(model) = 124.0\n",
      "value.(var_con) = [0.15818532500891247, 1.2251524264833586, 1.3903489126758504, 0.0, 0.0]\n",
      "value.(demand_con) = [51.0, 42.0, 31.0]\n",
      "value.(factor_con) = [24.47900765103248, 6.1716500452480405, 8.414866139940868, 23.66052956096559]\n"
     ]
    }
   ],
   "source": [
    "# Run the primal SU-RCOT in its absolute form\n",
    "su_rcot_model = su_rcot(\"primal\", \"abs\", su_rcot_data);"
   ]
  },
  {
   "cell_type": "markdown",
   "metadata": {},
   "source": [
    "We see that yet again a different set of industries is activated. Now that no factor constraint is active anymore, we get the same solution as before when factor constraints were not included in the model at all."
   ]
  },
  {
   "attachments": {},
   "cell_type": "markdown",
   "metadata": {},
   "source": [
    "Back to [table of contents](#toc)\n",
    "<a id='add_jp'></a>"
   ]
  },
  {
   "attachments": {},
   "cell_type": "markdown",
   "metadata": {},
   "source": [
    "## 3. Adding technology alternatives under factor constraints\n",
    "So far, we have only worked with the SUT system as imported and without considering factor constraints. Let us now add new technologies to it and see how substitution may or may not occur. We use the model in its absolute form."
   ]
  },
  {
   "attachments": {},
   "cell_type": "markdown",
   "metadata": {},
   "source": [
    "Back to [table of contents](#toc)\n",
    "<a id='add_jp_1sp'></a>"
   ]
  },
  {
   "attachments": {},
   "cell_type": "markdown",
   "metadata": {},
   "source": [
    "### 3.1 Introducing an alternative single production technology\n",
    "Let us now introduce a single-production alternative to #i.1 for producing #c.1 to the original SUT system, with no changed variables except the added technology."
   ]
  },
  {
   "cell_type": "code",
   "execution_count": 30,
   "metadata": {},
   "outputs": [
    {
     "name": "stderr",
     "output_type": "stream",
     "text": [
      "\u001b[36m\u001b[1m[ \u001b[22m\u001b[39m\u001b[36m\u001b[1mInfo: \u001b[22m\u001b[39mYou are setting up an SU model dataset. Elements of this dataset are now treated independently, meaning that no recalculation whatsoever takes place when individual elements are changed.\n"
     ]
    }
   ],
   "source": [
    "# start from fresh data\n",
    "su_rcot_data = Model_data.SU(sut);"
   ]
  },
  {
   "cell_type": "code",
   "execution_count": 31,
   "metadata": {},
   "outputs": [],
   "source": [
    "# Define supply and use of the additional technology\n",
    "V1_alt1 = [76 0 0]\n",
    "U1_alt1 = [0 9.5 45.0]'\n",
    "F1_alt1 = [10 0 1.3 2.8]';"
   ]
  },
  {
   "cell_type": "code",
   "execution_count": 32,
   "metadata": {},
   "outputs": [],
   "source": [
    "# Add the additional parameters to the copied SUT struct\n",
    "su_rcot_data.V = @views [su_rcot_data.V; V1_alt1]\n",
    "su_rcot_data.U = @views [su_rcot_data.U U1_alt1]\n",
    "su_rcot_data.F = @views [su_rcot_data.F F1_alt1];"
   ]
  },
  {
   "cell_type": "code",
   "execution_count": 33,
   "metadata": {},
   "outputs": [
    {
     "name": "stdout",
     "output_type": "stream",
     "text": [
      "termination_status(model) = MathOptInterface.OPTIMAL\n",
      "primal_status(model) = MathOptInterface.FEASIBLE_POINT\n",
      "dual_status(model) = MathOptInterface.FEASIBLE_POINT\n",
      "objective_value(model) = 123.87797966883994\n",
      "value.(var_con) = [0.0, 1.015074183045498, 0.9307046463568055, 1.2837385135683612, 0.9058591456602737, 1.1092757378188525]\n",
      "value.(demand_con) = [51.0, 42.0, 31.0]\n",
      "value.(factor_con) = [27.499999999999996, 6.666666666666666, 8.10381073568221, 21.427471753570455]\n"
     ]
    }
   ],
   "source": [
    "# Run the primal SU-RCOT in its absolute form\n",
    "su_rcot_model = su_rcot(\"primal\", \"abs\", su_rcot_data);"
   ]
  },
  {
   "cell_type": "markdown",
   "metadata": {},
   "source": [
    "Given that setup, we see that the new technology substitutes the dominant one (and further complementation occurs as well.)"
   ]
  },
  {
   "cell_type": "markdown",
   "metadata": {},
   "source": [
    "Back to [table of contents](#toc)\n",
    "<a id='add_jp_1jp'></a>"
   ]
  },
  {
   "cell_type": "markdown",
   "metadata": {},
   "source": [
    "### 3.2 Introducing an alternative joint production technology"
   ]
  },
  {
   "attachments": {},
   "cell_type": "markdown",
   "metadata": {},
   "source": [
    "Let us now introduce a joint-production alternative to industry #i.1 (i.e. again for producing commodity #c.1 as primary product), while also significantly increasing availability of factor #f.2 and increasing the final demand for #c.3. "
   ]
  },
  {
   "cell_type": "code",
   "execution_count": 34,
   "metadata": {},
   "outputs": [
    {
     "name": "stderr",
     "output_type": "stream",
     "text": [
      "\u001b[36m\u001b[1m[ \u001b[22m\u001b[39m\u001b[36m\u001b[1mInfo: \u001b[22m\u001b[39mYou are setting up an SU model dataset. Elements of this dataset are now treated independently, meaning that no recalculation whatsoever takes place when individual elements are changed.\n"
     ]
    }
   ],
   "source": [
    "# start from fresh data\n",
    "su_rcot_data = Model_data.SU(sut);"
   ]
  },
  {
   "cell_type": "code",
   "execution_count": 35,
   "metadata": {},
   "outputs": [],
   "source": [
    "# Alter final demand and factor availability\n",
    "su_rcot_data.ϕ[2] = 21\n",
    "su_rcot_data.e[3] = 35;"
   ]
  },
  {
   "cell_type": "code",
   "execution_count": 36,
   "metadata": {},
   "outputs": [],
   "source": [
    "# Define supply and use of the additional technology\n",
    "V1_alt1 = [78 5 0]\n",
    "U1_alt1 = [2 12 48]'\n",
    "F1_alt1 = [10 0 1.1 2.5]';"
   ]
  },
  {
   "cell_type": "code",
   "execution_count": 37,
   "metadata": {},
   "outputs": [],
   "source": [
    "# Add the additional parameters to the copied SUT struct\n",
    "su_rcot_data.V = @views [su_rcot_data.V; V1_alt1]\n",
    "su_rcot_data.U = @views [su_rcot_data.U U1_alt1]\n",
    "su_rcot_data.F = @views [su_rcot_data.F F1_alt1];"
   ]
  },
  {
   "cell_type": "code",
   "execution_count": 38,
   "metadata": {},
   "outputs": [
    {
     "name": "stdout",
     "output_type": "stream",
     "text": [
      "termination_status(model) = MathOptInterface.OPTIMAL\n",
      "primal_status(model) = MathOptInterface.FEASIBLE_POINT\n",
      "dual_status(model) = MathOptInterface.FEASIBLE_POINT\n",
      "objective_value(model) = 126.32314665329653\n",
      "value.(var_con) = [0.0, 0.9821809977437951, 0.0, 1.2345750814740555, 5.237894209074954, 2.1498119829531213]\n",
      "value.(demand_con) = [51.0, 42.0, 35.0]\n",
      "value.(factor_con) = [27.499999999999996, 12.255867524581484, 6.7019648477758285, 14.812723083718321]\n"
     ]
    }
   ],
   "source": [
    "# Run the primal SU-RCOT in its absolute form\n",
    "su_rcot_model = su_rcot(\"primal\", \"abs\", su_rcot_data);"
   ]
  },
  {
   "cell_type": "markdown",
   "metadata": {},
   "source": [
    "Yet again, another set of technologies is activated."
   ]
  },
  {
   "cell_type": "markdown",
   "metadata": {},
   "source": [
    "Let us compare this case to when we have the same technologies and parameterisation as just now, but add the same technology once more. On top of that, let us assume that #i.1 and the two alternative technologies make use of an additional factor #f.5 (priced at #pii.5)."
   ]
  },
  {
   "cell_type": "code",
   "execution_count": 39,
   "metadata": {},
   "outputs": [],
   "source": [
    "# Define supply and use of the additional technology\n",
    "F5 = [1 0 0 0 0 4 2]\n",
    "f5 = 1\n",
    "pii5 = 0.8;"
   ]
  },
  {
   "cell_type": "code",
   "execution_count": 40,
   "metadata": {},
   "outputs": [],
   "source": [
    "# Add the additional parameters to the copied SUT struct\n",
    "su_rcot_data.V = @views [su_rcot_data.V; V1_alt1]\n",
    "su_rcot_data.U = @views [su_rcot_data.U U1_alt1]\n",
    "su_rcot_data.F = @views [su_rcot_data.F F1_alt1]\n",
    "\n",
    "su_rcot_data.F = @views [su_rcot_data.F; F5]\n",
    "su_rcot_data.ϕ = @views [su_rcot_data.ϕ; f5]\n",
    "su_rcot_data.pii = @views [su_rcot_data.pii; pii5];"
   ]
  },
  {
   "cell_type": "code",
   "execution_count": 41,
   "metadata": {},
   "outputs": [
    {
     "name": "stdout",
     "output_type": "stream",
     "text": [
      "termination_status(model) = MathOptInterface.OPTIMAL\n",
      "primal_status(model) = MathOptInterface.FEASIBLE_POINT\n",
      "dual_status(model) = MathOptInterface.FEASIBLE_POINT\n",
      "objective_value(model) = 128.48413999946442\n",
      "value.(var_con) = [0.1901025627292925, 1.2356064054842943, 1.0222598612859173, 0.0, 1.8143627989181361, 0.0, 0.40494871863535375]\n",
      "value.(demand_con) = [51.0, 42.0, 35.0]\n",
      "value.(factor_con) = [24.85572374117416, 8.63871743030822, 8.058477318868825, 21.428571428571427, 1.0]\n"
     ]
    }
   ],
   "source": [
    "# Run the primal SU-RCOT in its absolute form\n",
    "su_rcot_model = su_rcot(\"primal\", \"abs\", su_rcot_data);"
   ]
  },
  {
   "cell_type": "markdown",
   "metadata": {},
   "source": [
    "And yet again, another set of technologies is activated."
   ]
  },
  {
   "attachments": {},
   "cell_type": "markdown",
   "metadata": {},
   "source": [
    "Back to [table of contents](#toc)\n",
    "<a id='add_jp_3mp_jp'></a>"
   ]
  },
  {
   "cell_type": "markdown",
   "metadata": {},
   "source": [
    "---\n",
    "\n",
    "We end here the exposition of RCOT models for the case (c<i) and suggest the reader to continue with case [(c=i)](./SU-RCOT_c=i.ipynb)."
   ]
  }
 ],
 "metadata": {
  "kernelspec": {
   "display_name": "RectangularChoice 1.9.0",
   "language": "julia",
   "name": "rectangularchoice-1.9"
  },
  "language_info": {
   "file_extension": ".jl",
   "mimetype": "application/julia",
   "name": "julia",
   "version": "1.9.0"
  },
  "orig_nbformat": 4
 },
 "nbformat": 4,
 "nbformat_minor": 2
}
