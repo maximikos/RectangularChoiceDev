{
 "cells": [
  {
   "cell_type": "markdown",
   "metadata": {},
   "source": [
    "# Check of substitution conditions\n",
    "This notebook applies conditions for examining when feasible substitution occurs. Here, only for the case of single production and with more industries than commodities ($c < i$) starting from a base SUT with also more industries than commodities."
   ]
  },
  {
   "cell_type": "markdown",
   "metadata": {},
   "source": [
    "Get the basis as described here https://discourse.julialang.org/t/how-to-obtain-a-basic-solution/1784/5 and here https://mathprogbasejl.readthedocs.io/en/latest/lpqcqp.html#getbasis. for the LCP, maybe work with PATH? https://github.com/chkwon/PATHSolver.jl"
   ]
  },
  {
   "cell_type": "code",
   "execution_count": 1,
   "metadata": {},
   "outputs": [],
   "source": [
    "using LinearAlgebra\n",
    "using JuMP\n",
    "using GLPK\n",
    "using XLSX\n",
    "using DataFrames\n",
    "#using Complementarity #not sure I need this one?\n",
    "using PATHSolver\n",
    "using Revise #not having to restart sessions\n",
    "\n",
    "include(\"../src/SUT_structure2.jl\") # Used for the SUT setup <sut = SUT.structure(...)>\n",
    "include(\"../src/Constructs.jl\") # Used to derive single-production systems from the SUT setup, e.g. as <itc = Constructs.ITC(sut)>\n",
    "include(\"../src/Auxiliary.jl\") # Includes some helper functions\n",
    "include(\"../src/Model_data.jl\") # Sets up the data structure for RCOT modelling based on SUT.structure or Constructs.construct\n",
    "include(\"../src/RCOT_model.jl\") # Builds and solves the RCOT models\n",
    "include(\"../src/LP_models.jl\"); # Builds and solves the LP models"
   ]
  },
  {
   "cell_type": "code",
   "execution_count": 2,
   "metadata": {},
   "outputs": [],
   "source": [
    "# Load the workbook containing SUT data, define the unit/type of the commodity data (monetary=default, physical, mixed), and optinally define factor availabilities.\n",
    "wb = XLSX.readxlsx(\"../data/SUT_c-i+.xlsx\")\n",
    "t = \"monetary\"\n",
    "ϕ = nothing;"
   ]
  },
  {
   "cell_type": "code",
   "execution_count": 3,
   "metadata": {},
   "outputs": [],
   "source": [
    "# Load SUT data from workbook as dataframes into dictionary, where sheetnames serve as keys of the dictionary and where numerical data is declared as such (Float64).\n",
    "dict = Dict()\n",
    "for i in XLSX.sheetnames(wb)\n",
    "    if i != \"README\"\n",
    "        dict[i] = DataFrame(XLSX.gettable(wb[i]))\n",
    "        dict[i][!,2:end] = convert.(Float64, dict[i][:,2:end])\n",
    "    end\n",
    "end"
   ]
  },
  {
   "cell_type": "code",
   "execution_count": 4,
   "metadata": {},
   "outputs": [],
   "source": [
    "# Create a second dictionary that contains the SUT data as matrices without any column or row descriptors and where the keys are the same as of the original dictionary.\n",
    "dict_m = Dict()\n",
    "for i in keys(dict)\n",
    "    dict_m[i] = Matrix(dict[i][:,2:end])\n",
    "end"
   ]
  },
  {
   "cell_type": "code",
   "execution_count": 5,
   "metadata": {},
   "outputs": [
    {
     "name": "stderr",
     "output_type": "stream",
     "text": [
      "\u001b[36m\u001b[1m[ \u001b[22m\u001b[39m\u001b[36m\u001b[1mInfo: \u001b[22m\u001b[39mA structure for supply-use elements was set up. Changing individual elements will not change others automatically.\n"
     ]
    }
   ],
   "source": [
    "sut = SUT.structure(dict_m,t);"
   ]
  },
  {
   "cell_type": "code",
   "execution_count": 6,
   "metadata": {},
   "outputs": [
    {
     "name": "stderr",
     "output_type": "stream",
     "text": [
      "\u001b[36m\u001b[1m[ \u001b[22m\u001b[39m\u001b[36m\u001b[1mInfo: \u001b[22m\u001b[39mYou are setting up an SU model dataset. Elements of this dataset are now treated independently, meaning that no recalculation whatsoever takes place when individual elements are changed.\n"
     ]
    },
    {
     "data": {
      "text/plain": [
       "structure([0.0 10.0 … 38.0 22.0; 38.0 7.0 … 0.0 0.0; 49.0 59.0 … 17.0 11.0], [75.0 32.0 0.0; 34.0 50.0 18.0; … ; 0.0 12.0 47.0; 5.0 0.0 38.0], [10.0 1.6666666666666667 … 0.0 0.8333333333333334; 0.0 4.722222222222222 … 0.2777777777777778 1.3888888888888888; 1.1111111111111112 0.0 … 0.37037037037037035 0.7407407407407407; 2.380952380952381 3.333333333333333 … 0.9523809523809523 0.9523809523809523], [51.0; 42.0; 31.0;;], [1.2; 3.6; 2.7; 2.1;;], [107.0; 102.0; … ; 59.0; 43.0;;], [136.0; 96.0; 167.0;;], [27.499999999999996; 6.666666666666666; 8.148148148148147; 21.428571428571427;;], [27.499999999999996; 6.666666666666666; 8.148148148148147; 21.428571428571427;;], [0.0 0.09803921568627451 … 0.6440677966101694 0.5116279069767442; 0.35514018691588783 0.06862745098039216 … 0.0 0.0; 0.4579439252336448 0.5784313725490196 … 0.288135593220339 0.2558139534883721], [0.7009345794392523 0.3333333333333333 … 0.0 0.11627906976744186; 0.29906542056074764 0.49019607843137253 … 0.2033898305084746 0.0; 0.0 0.1764705882352941 … 0.7966101694915254 0.8837209302325582], [0.5514705882352942 0.3333333333333333 0.0; 0.25 0.5208333333333333 0.10778443113772455; … ; 0.0 0.125 0.281437125748503; 0.03676470588235294 0.0 0.22754491017964074], [0.09345794392523364 0.016339869281045753 … 0.0 0.01937984496124031; 0.0 0.046296296296296294 … 0.004708097928436912 0.03229974160206718; 0.010384215991692626 0.0 … 0.006277463904582548 0.01722652885443583; 0.022251891410769914 0.0326797385620915 … 0.016142050040355124 0.022148394241417495], \"monetary\", #undef)"
      ]
     },
     "execution_count": 6,
     "metadata": {},
     "output_type": "execute_result"
    }
   ],
   "source": [
    "model_data = Model_data.SU(sut)"
   ]
  },
  {
   "cell_type": "code",
   "execution_count": 7,
   "metadata": {},
   "outputs": [
    {
     "name": "stdout",
     "output_type": "stream",
     "text": [
      "termination_status(model) = MathOptInterface.OPTIMAL\n",
      "primal_status(model) = MathOptInterface.FEASIBLE_POINT\n",
      "dual_status(model) = MathOptInterface.FEASIBLE_POINT\n",
      "objective_value(model) = 123.99999999999999\n",
      "value.(var_con) = [0.9999999999999993, 1.0, 1.0000000000000002, 0.9999999999999996, 0.9999999999999988]\n",
      "value.(demand_con) = [51.0, 42.0, 31.0]\n",
      "value.(factor_con) = [27.499999999999993, 6.666666666666666, 8.148148148148147, 21.428571428571427]\n"
     ]
    }
   ],
   "source": [
    "# SU-RCOT - LPP\n",
    "model = su_rcot(\"primal\", \"abs\", model_data);"
   ]
  },
  {
   "cell_type": "code",
   "execution_count": 8,
   "metadata": {},
   "outputs": [
    {
     "name": "stdout",
     "output_type": "stream",
     "text": [
      "termination_status(model) = MathOptInterface.OPTIMAL\n",
      "primal_status(model) = MathOptInterface.FEASIBLE_POINT\n",
      "dual_status(model) = MathOptInterface.FEASIBLE_POINT\n",
      "objective_value(model) = 124.0\n",
      "value.(p) = [1.0000000000000007, 1.000000000000001, 1.0000000000000009]\n",
      "value.(r) = [0.0, 3.984093603570996e-15, 0.0, 3.781093180473001e-15]\n",
      "value.(profit_con) = [20.0, 26.0, 64.0, 4.0, 10.0]\n"
     ]
    }
   ],
   "source": [
    "# SU-RCOT - LPD\n",
    "model = su_rcot(\"dual\", \"abs\", model_data);"
   ]
  },
  {
   "cell_type": "code",
   "execution_count": 9,
   "metadata": {},
   "outputs": [
    {
     "name": "stdout",
     "output_type": "stream",
     "text": [
      "termination_status(primal) = MathOptInterface.OPTIMAL\n",
      "primal_status(primal) = MathOptInterface.FEASIBLE_POINT\n",
      "dual_status(primal) = MathOptInterface.FEASIBLE_POINT\n",
      "objective_value(primal) = 123.99999999999999\n",
      "value.(z) = [0.9999999999999993, 1.0, 1.0000000000000002, 0.9999999999999996, 0.9999999999999988]\n"
     ]
    }
   ],
   "source": [
    "# SU-RCOT - LPP\n",
    "# Instantiate the model\n",
    "primal = Model(GLPK.Optimizer)\n",
    "(@isdefined primal) && (primal = nothing; primal = Model(GLPK.Optimizer));\n",
    "\n",
    "ACT = size(model_data.V,1)\n",
    "\n",
    "# Define the optimisation model\n",
    "@variable(primal, z[i=1:ACT] >= 0)\n",
    "\n",
    "@objective(primal, Min, sum(model_data.pii'*model_data.F*z))\n",
    "\n",
    "primal[:con] = @constraints(primal, begin\n",
    "    # Goods balance\n",
    "    (model_data.V'-model_data.U)*z .>= model_data.e,\n",
    "    (base_name = \"goods\")\n",
    "\n",
    "    # Factor constraint,\n",
    "    model_data.F*z .<= model_data.ϕ,\n",
    "    (base_name = \"factors\")\n",
    "end)\n",
    "\n",
    "# Run the model and show results\n",
    "optimize!(primal)\n",
    "@show termination_status(primal)\n",
    "@show primal_status(primal)\n",
    "@show dual_status(primal)\n",
    "@show objective_value(primal)\n",
    "@show value.(z);"
   ]
  },
  {
   "cell_type": "code",
   "execution_count": 78,
   "metadata": {},
   "outputs": [
    {
     "data": {
      "text/plain": [
       "4×1 Matrix{ConstraintRef{Model, MathOptInterface.ConstraintIndex{MathOptInterface.ScalarAffineFunction{Float64}, MathOptInterface.LessThan{Float64}}, ScalarShape}}:\n",
       " factors : 10 z[1] + 1.6666666666666667 z[2] + 15 z[3] + 0.8333333333333334 z[5] <= 27.499999999999996\n",
       " factors : 4.722222222222222 z[2] + 0.2777777777777778 z[3] + 0.2777777777777778 z[4] + 1.3888888888888888 z[5] <= 6.666666666666666\n",
       " factors : 1.1111111111111112 z[1] + 5.925925925925926 z[3] + 0.37037037037037035 z[4] + 0.7407407407407407 z[5] <= 8.148148148148147\n",
       " factors : 2.380952380952381 z[1] + 3.333333333333333 z[2] + 13.809523809523808 z[3] + 0.9523809523809523 z[4] + 0.9523809523809523 z[5] <= 21.428571428571427"
      ]
     },
     "execution_count": 78,
     "metadata": {},
     "output_type": "execute_result"
    }
   ],
   "source": [
    "primal[:con][2]"
   ]
  },
  {
   "cell_type": "code",
   "execution_count": 72,
   "metadata": {},
   "outputs": [
    {
     "ename": "LoadError",
     "evalue": "Multiple constraints have the name goods.",
     "output_type": "error",
     "traceback": [
      "Multiple constraints have the name goods.",
      "",
      "Stacktrace:",
      " [1] error(s::String)",
      "   @ Base .\\error.jl:35",
      " [2] throw_multiple_name_error(#unused#::Type{MathOptInterface.ConstraintIndex{Nothing, Nothing}}, name::String)",
      "   @ MathOptInterface.Utilities C:\\Users\\maximiko\\.julia\\packages\\MathOptInterface\\864xP\\src\\Utilities\\model.jl:184",
      " [3] throw_if_multiple_with_name",
      "   @ C:\\Users\\maximiko\\.julia\\packages\\MathOptInterface\\864xP\\src\\Utilities\\model.jl:189 [inlined]",
      " [4] get(model::MathOptInterface.Utilities.Model{Float64}, ConType::Type{MathOptInterface.ConstraintIndex}, name::String)",
      "   @ MathOptInterface.Utilities C:\\Users\\maximiko\\.julia\\packages\\MathOptInterface\\864xP\\src\\Utilities\\model.jl:270",
      " [5] get(uf::MathOptInterface.Utilities.UniversalFallback{MathOptInterface.Utilities.Model{Float64}}, #unused#::Type{MathOptInterface.ConstraintIndex}, name::String)",
      "   @ MathOptInterface.Utilities C:\\Users\\maximiko\\.julia\\packages\\MathOptInterface\\864xP\\src\\Utilities\\universalfallback.jl:697",
      " [6] get(m::MathOptInterface.Utilities.CachingOptimizer{MathOptInterface.Bridges.LazyBridgeOptimizer{GLPK.Optimizer}, MathOptInterface.Utilities.UniversalFallback{MathOptInterface.Utilities.Model{Float64}}}, IdxT::Type{MathOptInterface.ConstraintIndex}, name::String)",
      "   @ MathOptInterface.Utilities C:\\Users\\maximiko\\.julia\\packages\\MathOptInterface\\864xP\\src\\Utilities\\cachingoptimizer.jl:1041",
      " [7] constraint_by_name(model::Model, name::String)",
      "   @ JuMP C:\\Users\\maximiko\\.julia\\packages\\JuMP\\jZvaU\\src\\constraints.jl:313",
      " [8] top-level scope",
      "   @ In[72]:1"
     ]
    }
   ],
   "source": [
    "constraint_by_name(primal, \"goods\")"
   ]
  },
  {
   "cell_type": "code",
   "execution_count": 46,
   "metadata": {},
   "outputs": [
    {
     "name": "stdout",
     "output_type": "stream",
     "text": [
      "Path 5.0.03 (Fri Jun 26 10:05:33 2020)\n",
      "Written by Todd Munson, Steven Dirkse, Youngdae Kim, and Michael Ferris\n",
      "\n",
      "\n",
      "Crash Log\n",
      "major  func  diff  size  residual    step       prox   (label)\n",
      "    0     0             1.4596e+02             0.0e+00 (f[    6])\n",
      "    1     9     3     3 1.4538e+02  1.2e-02    1.5e+00 (f[    6])\n",
      "    2    19     0     3 1.4528e+02  1.9e-03    1.3e+00 (f[    6])\n",
      "pn_search terminated: no basis change.\n",
      "\n",
      "Major Iteration Log\n",
      "major minor  func  grad  residual    step  type prox    inorm  (label)\n",
      "    0     0    20     3 1.4528e+02           I 1.2e+00 1.0e+02 (f[    6])\n",
      "    1     8    21     4 1.3706e+00  1.0e+00 SM 4.7e-01 6.2e-01 (f[    3])\n",
      "    2     2    22     5 6.6832e-02  1.0e+00 SO 1.4e-01 4.7e-02 (f[    4])\n",
      "    3     1    23     6 1.9357e-04  1.0e+00 SO 6.7e-03 1.3e-04 (f[    9])\n",
      "    4     1    24     7 1.7722e-09  1.0e+00 SO 1.9e-05 8.8e-10 (f[    4])\n",
      "\n",
      "Major Iterations. . . . 4\n",
      "Minor Iterations. . . . 12\n",
      "Restarts. . . . . . . . 0\n",
      "Crash Iterations. . . . 2\n",
      "Gradient Steps. . . . . 0\n",
      "Function Evaluations. . 24\n",
      "Gradient Evaluations. . 7\n",
      "Basis Time. . . . . . . 0.000000\n",
      "Total Time. . . . . . . 0.000000\n",
      "Residual. . . . . . . . 1.772229e-09\n"
     ]
    }
   ],
   "source": [
    "# SU-RCOT - LCP\n",
    "compl = Model(PATHSolver.Optimizer)\n",
    "\n",
    "ACT = size(model_data.V,1)\n",
    "COM = size(model_data.V,2)\n",
    "FAC = size(model_data.F,1)\n",
    "\n",
    "# Define the optimisation model\n",
    "@variable(compl, z_star[1:ACT] >= 0)\n",
    "@variable(compl, p_star[1:COM] >= 0)\n",
    "@variable(compl, r_star[1:FAC] >= 0)\n",
    "\n",
    "@constraint(compl, c1, vec((model_data.pii + r_star)'*model_data.F - (p_star'*(model_data.V' - model_data.U))) ⟂ z_star)\n",
    "@constraint(compl, c2, vec((model_data.V' - model_data.U)*(z_star) - model_data.e) ⟂ p_star)\n",
    "@constraint(compl, c3, vec((model_data.ϕ - model_data.F*z_star)) ⟂ r_star)\n",
    "\n",
    "# Solve\n",
    "optimize!(compl)\n",
    "solution_summary(compl; verbose = true)"
   ]
  },
  {
   "cell_type": "code",
   "execution_count": 47,
   "metadata": {},
   "outputs": [
    {
     "data": {
      "text/plain": [
       "* Solver : Path 5.0.03\n",
       "\n",
       "* Status\n",
       "  Result count       : 1\n",
       "  Termination status : LOCALLY_SOLVED\n",
       "  Message from the solver:\n",
       "  \"The problem was solved\"\n",
       "\n",
       "* Candidate solution (result #1)\n",
       "  Primal status      : FEASIBLE_POINT\n",
       "  Dual status        : NO_SOLUTION\n",
       "  Objective value    : 0.00000e+00\n",
       "  Primal solution :\n",
       "    p_star[1] : 1.07105e+00\n",
       "    p_star[2] : 1.07501e+00\n",
       "    p_star[3] : 1.06882e+00\n",
       "    r_star[1] : 1.03179e-01\n",
       "    r_star[2] : 2.69490e-01\n",
       "    r_star[3] : 0.00000e+00\n",
       "    r_star[4] : 1.99423e-01\n",
       "    z_star[1] : 1.00000e+00\n",
       "    z_star[2] : 1.00000e+00\n",
       "    z_star[3] : 1.00000e+00\n",
       "    z_star[4] : 1.00000e+00\n",
       "    z_star[5] : 1.00000e+00\n",
       "\n",
       "* Work counters\n",
       "  Solve time (sec)   : 0.00000e+00\n"
      ]
     },
     "execution_count": 47,
     "metadata": {},
     "output_type": "execute_result"
    }
   ],
   "source": [
    "solution_summary(compl; verbose = true)"
   ]
  },
  {
   "cell_type": "code",
   "execution_count": 43,
   "metadata": {},
   "outputs": [
    {
     "data": {
      "text/plain": [
       "5-element Vector{Float64}:\n",
       " 0.9999999998307192\n",
       " 1.0000000000235394\n",
       " 1.000000000114045\n",
       " 0.9999999998941496\n",
       " 0.9999999995728296"
      ]
     },
     "execution_count": 43,
     "metadata": {},
     "output_type": "execute_result"
    }
   ],
   "source": [
    "value.(z_star)"
   ]
  },
  {
   "cell_type": "code",
   "execution_count": 44,
   "metadata": {},
   "outputs": [
    {
     "data": {
      "text/plain": [
       "3-element Vector{Float64}:\n",
       " 1.0710489086639738\n",
       " 1.0750135893040056\n",
       " 1.0688160190140077"
      ]
     },
     "execution_count": 44,
     "metadata": {},
     "output_type": "execute_result"
    }
   ],
   "source": [
    "value.(p_star)"
   ]
  },
  {
   "cell_type": "code",
   "execution_count": 45,
   "metadata": {},
   "outputs": [
    {
     "data": {
      "text/plain": [
       "4-element Vector{Float64}:\n",
       " 0.1031785064084582\n",
       " 0.26949047810462334\n",
       " 0.0\n",
       " 0.19942297995149494"
      ]
     },
     "execution_count": 45,
     "metadata": {},
     "output_type": "execute_result"
    }
   ],
   "source": [
    "value.(r_star)"
   ]
  },
  {
   "cell_type": "code",
   "execution_count": null,
   "metadata": {},
   "outputs": [],
   "source": []
  },
  {
   "cell_type": "code",
   "execution_count": null,
   "metadata": {},
   "outputs": [],
   "source": []
  },
  {
   "cell_type": "code",
   "execution_count": null,
   "metadata": {},
   "outputs": [],
   "source": []
  },
  {
   "cell_type": "code",
   "execution_count": null,
   "metadata": {},
   "outputs": [],
   "source": []
  },
  {
   "cell_type": "code",
   "execution_count": null,
   "metadata": {},
   "outputs": [],
   "source": []
  },
  {
   "cell_type": "code",
   "execution_count": null,
   "metadata": {},
   "outputs": [],
   "source": []
  },
  {
   "cell_type": "code",
   "execution_count": null,
   "metadata": {},
   "outputs": [],
   "source": []
  },
  {
   "cell_type": "code",
   "execution_count": null,
   "metadata": {},
   "outputs": [],
   "source": []
  },
  {
   "cell_type": "code",
   "execution_count": 8,
   "metadata": {},
   "outputs": [
    {
     "data": {
      "text/plain": [
       "3×5 Matrix{Float64}:\n",
       "  0.0  10.0  15.0  38.0  22.0\n",
       " 38.0   7.0   9.0   0.0   0.0\n",
       " 49.0  59.0   0.0  17.0  11.0"
      ]
     },
     "execution_count": 8,
     "metadata": {},
     "output_type": "execute_result"
    }
   ],
   "source": [
    "dict_m[\"U\"]"
   ]
  },
  {
   "cell_type": "code",
   "execution_count": 17,
   "metadata": {},
   "outputs": [
    {
     "data": {
      "text/plain": [
       "3"
      ]
     },
     "execution_count": 17,
     "metadata": {},
     "output_type": "execute_result"
    }
   ],
   "source": [
    "length(dict[\"U\"][:,1])"
   ]
  },
  {
   "cell_type": "code",
   "execution_count": 13,
   "metadata": {},
   "outputs": [
    {
     "ename": "LoadError",
     "evalue": "MethodError: no method matching isequal(::Vector{String}, ::Vector{Any}, ::Vector{Any})\n\n\u001b[0mClosest candidates are:\n\u001b[0m  isequal(::AbstractArray, ::AbstractArray)\n\u001b[0m\u001b[90m   @\u001b[39m \u001b[90mBase\u001b[39m \u001b[90m\u001b[4mabstractarray.jl:2884\u001b[24m\u001b[39m\n\u001b[0m  isequal(::Any, ::Any)\n\u001b[0m\u001b[90m   @\u001b[39m \u001b[90mBase\u001b[39m \u001b[90m\u001b[4moperators.jl:133\u001b[24m\u001b[39m\n\u001b[0m  isequal(::Any, \u001b[91m::Missing\u001b[39m)\n\u001b[0m\u001b[90m   @\u001b[39m \u001b[90mBase\u001b[39m \u001b[90m\u001b[4mmissing.jl:82\u001b[24m\u001b[39m\n\u001b[0m  ...\n",
     "output_type": "error",
     "traceback": [
      "MethodError: no method matching isequal(::Vector{String}, ::Vector{Any}, ::Vector{Any})\n\n\u001b[0mClosest candidates are:\n\u001b[0m  isequal(::AbstractArray, ::AbstractArray)\n\u001b[0m\u001b[90m   @\u001b[39m \u001b[90mBase\u001b[39m \u001b[90m\u001b[4mabstractarray.jl:2884\u001b[24m\u001b[39m\n\u001b[0m  isequal(::Any, ::Any)\n\u001b[0m\u001b[90m   @\u001b[39m \u001b[90mBase\u001b[39m \u001b[90m\u001b[4moperators.jl:133\u001b[24m\u001b[39m\n\u001b[0m  isequal(::Any, \u001b[91m::Missing\u001b[39m)\n\u001b[0m\u001b[90m   @\u001b[39m \u001b[90mBase\u001b[39m \u001b[90m\u001b[4mmissing.jl:82\u001b[24m\u001b[39m\n\u001b[0m  ...\n",
      "",
      "Stacktrace:",
      " [1] top-level scope",
      "   @ In[13]:1"
     ]
    }
   ],
   "source": [
    "isequal(\n",
    "        names(dict[\"V\"][:,2:end]), dict[\"U\"][:,1], dict[\"e\"][:,1]\n",
    "    ) "
   ]
  },
  {
   "cell_type": "code",
   "execution_count": 83,
   "metadata": {},
   "outputs": [
    {
     "data": {
      "text/plain": [
       "true"
      ]
     },
     "execution_count": 83,
     "metadata": {},
     "output_type": "execute_result"
    }
   ],
   "source": [
    "dict[\"U\"][:,1] == dict[\"e\"][:,1] == names(dict[\"V\"][:,2:end])"
   ]
  },
  {
   "cell_type": "code",
   "execution_count": 79,
   "metadata": {},
   "outputs": [
    {
     "data": {
      "text/plain": [
       "3-element Vector{String}:\n",
       " \"c.1\"\n",
       " \"c.2\"\n",
       " \"c.3\""
      ]
     },
     "execution_count": 79,
     "metadata": {},
     "output_type": "execute_result"
    }
   ],
   "source": [
    "names(dict[\"V\"][:,2:end])"
   ]
  },
  {
   "cell_type": "code",
   "execution_count": 22,
   "metadata": {},
   "outputs": [
    {
     "data": {
      "text/plain": [
       "5-element Vector{String}:\n",
       " \"i.1\"\n",
       " \"i.2\"\n",
       " \"i.3\"\n",
       " \"i.4\"\n",
       " \"i.5\""
      ]
     },
     "execution_count": 22,
     "metadata": {},
     "output_type": "execute_result"
    }
   ],
   "source": [
    "names(dict[\"U\"][:,2:end])"
   ]
  },
  {
   "cell_type": "code",
   "execution_count": 9,
   "metadata": {},
   "outputs": [
    {
     "ename": "LoadError",
     "evalue": "MethodError: no method matching isequal(::Vector{String}, ::Vector{Any}, ::Vector{Any})\n\n\u001b[0mClosest candidates are:\n\u001b[0m  isequal(::AbstractArray, ::AbstractArray)\n\u001b[0m\u001b[90m   @\u001b[39m \u001b[90mBase\u001b[39m \u001b[90m\u001b[4mabstractarray.jl:2884\u001b[24m\u001b[39m\n\u001b[0m  isequal(::Any, ::Any)\n\u001b[0m\u001b[90m   @\u001b[39m \u001b[90mBase\u001b[39m \u001b[90m\u001b[4moperators.jl:133\u001b[24m\u001b[39m\n\u001b[0m  isequal(::Any, \u001b[91m::Missing\u001b[39m)\n\u001b[0m\u001b[90m   @\u001b[39m \u001b[90mBase\u001b[39m \u001b[90m\u001b[4mmissing.jl:82\u001b[24m\u001b[39m\n\u001b[0m  ...\n",
     "output_type": "error",
     "traceback": [
      "MethodError: no method matching isequal(::Vector{String}, ::Vector{Any}, ::Vector{Any})\n\n\u001b[0mClosest candidates are:\n\u001b[0m  isequal(::AbstractArray, ::AbstractArray)\n\u001b[0m\u001b[90m   @\u001b[39m \u001b[90mBase\u001b[39m \u001b[90m\u001b[4mabstractarray.jl:2884\u001b[24m\u001b[39m\n\u001b[0m  isequal(::Any, ::Any)\n\u001b[0m\u001b[90m   @\u001b[39m \u001b[90mBase\u001b[39m \u001b[90m\u001b[4moperators.jl:133\u001b[24m\u001b[39m\n\u001b[0m  isequal(::Any, \u001b[91m::Missing\u001b[39m)\n\u001b[0m\u001b[90m   @\u001b[39m \u001b[90mBase\u001b[39m \u001b[90m\u001b[4mmissing.jl:82\u001b[24m\u001b[39m\n\u001b[0m  ...\n",
      "",
      "Stacktrace:",
      " [1] top-level scope",
      "   @ In[9]:1"
     ]
    }
   ],
   "source": [
    "if (\n",
    "    isequal(\n",
    "        names(dict[\"V\"][:,2:end]), dict[\"U\"][:,1], dict[\"e\"][:,1]\n",
    "    ) &&\n",
    "    isequal(\n",
    "        dict[\"V\"][:,1], names(dict[\"U\"][:,2:end]), names(dict[\"F\"][:,2:end])\n",
    "    ) &&\n",
    "    isequal(\n",
    "        dict[\"F\"][:,1], dict[\"pii\"][:,1]\n",
    "    )\n",
    "    )\n",
    "    @error \"The basic SUT matrices have different dimensions.\"\n",
    "end\n",
    "if (\n",
    "    isequal(\n",
    "\n",
    "    )\n",
    "    )\n",
    "    @error \"The dimensions of the SUT data for alternative technologies do not match.\"\n",
    "end"
   ]
  },
  {
   "cell_type": "code",
   "execution_count": 87,
   "metadata": {},
   "outputs": [
    {
     "data": {
      "text/plain": [
       "4"
      ]
     },
     "execution_count": 87,
     "metadata": {},
     "output_type": "execute_result"
    }
   ],
   "source": [
    "if !(\n",
    "    isequal(1,1) &&\n",
    "    isequal(2,2) &&\n",
    "    isequal(3,4)\n",
    "    )\n",
    "    2+2\n",
    "else println(\"Something wrong\")\n",
    "end"
   ]
  },
  {
   "cell_type": "code",
   "execution_count": null,
   "metadata": {},
   "outputs": [],
   "source": [
    "for i in (\"V\", \"U\", \"e\")\n",
    "    isequal()"
   ]
  },
  {
   "cell_type": "code",
   "execution_count": 31,
   "metadata": {},
   "outputs": [
    {
     "name": "stderr",
     "output_type": "stream",
     "text": [
      "\u001b[36m\u001b[1m[ \u001b[22m\u001b[39m\u001b[36m\u001b[1mInfo: \u001b[22m\u001b[39mA structure for supply-use elements was set up. Changing individual elements will not change others automatically.\n"
     ]
    }
   ],
   "source": [
    "sut = SUT.structure(dict_m,t);"
   ]
  },
  {
   "cell_type": "code",
   "execution_count": 34,
   "metadata": {},
   "outputs": [
    {
     "data": {
      "text/plain": [
       "4×1 Matrix{Float64}:\n",
       " 27.499999999999996\n",
       "  6.666666666666666\n",
       "  8.148148148148147\n",
       " 21.428571428571427"
      ]
     },
     "execution_count": 34,
     "metadata": {},
     "output_type": "execute_result"
    }
   ],
   "source": [
    "sut.f"
   ]
  },
  {
   "cell_type": "code",
   "execution_count": 35,
   "metadata": {},
   "outputs": [
    {
     "data": {
      "text/plain": [
       "Main.Constructs.construct([136.0; 96.0; 167.0;;], [51.0; 42.0; 31.0;;], [9.641472868217054 12.97168343454485 62.38684369723809; 31.21884735202492 15.000403984873474 7.780748663101605; 55.291530826631885 47.03340135357168 33.675067819796425], [0.07089318285453716 0.1351217024431755 0.37357391435471915; 0.22955034817665385 0.15625420817576535 0.04659130935988985; 0.4065553737252344 0.48993126409970494 0.20164711269339178], [1.59833317316061 0.7144586737028918 0.7896046410737875; 0.49661851260095824 1.4487520746555465 0.3169312490909092; 1.11870313292003 1.2528995188783316 1.8491729170383386], [11.41180057475428 4.148556760568855 11.939642664676864; 1.8050172265288542 2.3776251212691895 2.484024318868623; 2.3464303251306076 0.5423046132692892 5.259413209748251; 6.343125890506894 2.8536048675862875 12.231840670478245], [0.08391029834378147 0.043214132922592234 0.0714948662555501; 0.013272185489182752 0.024766928346554046 0.014874397118973792; 0.017253164155372116 0.005649006388221764 0.031493492273941624; 0.04664063154784481 0.029725050704023825 0.07324455491304338], [27.5; 6.666666666666667; 8.148148148148149; 21.428571428571427;;], [27.499999999999996; 6.666666666666666; 8.148148148148147; 21.428571428571427;;], [1.2; 3.6; 2.7; 2.1;;], #undef, #undef, #undef)"
      ]
     },
     "execution_count": 35,
     "metadata": {},
     "output_type": "execute_result"
    }
   ],
   "source": [
    "itc = Constructs.ITC(sut)"
   ]
  },
  {
   "cell_type": "code",
   "execution_count": 7,
   "metadata": {},
   "outputs": [
    {
     "name": "stderr",
     "output_type": "stream",
     "text": [
      "\u001b[36m\u001b[1m[ \u001b[22m\u001b[39m\u001b[36m\u001b[1mInfo: \u001b[22m\u001b[39mYou are setting up an IO model dataset. Elements of this dataset are now treated independently, meaning that no recalculation whatsoever takes place when individual elements are changed.\n"
     ]
    },
    {
     "data": {
      "text/plain": [
       "construct([136.0; 96.0; 167.0;;], [51.0; 42.0; 31.0;;], [9.641472868217054 12.97168343454485 62.38684369723809; 31.21884735202492 15.000403984873474 7.780748663101605; 55.291530826631885 47.03340135357168 33.675067819796425], [0.07089318285453716 0.1351217024431755 0.37357391435471915; 0.22955034817665385 0.15625420817576535 0.04659130935988985; 0.4065553737252344 0.48993126409970494 0.20164711269339178], [1.59833317316061 0.7144586737028918 0.7896046410737875; 0.49661851260095824 1.4487520746555465 0.3169312490909092; 1.11870313292003 1.2528995188783316 1.8491729170383386], [11.41180057475428 4.148556760568855 11.939642664676864; 1.8050172265288542 2.3776251212691895 2.484024318868623; 2.3464303251306076 0.5423046132692892 5.259413209748251; 6.343125890506894 2.8536048675862875 12.231840670478245], [0.08391029834378147 0.043214132922592234 0.0714948662555501; 0.013272185489182752 0.024766928346554046 0.014874397118973792; 0.017253164155372116 0.005649006388221764 0.031493492273941624; 0.04664063154784481 0.029725050704023825 0.07324455491304338], [27.5; 6.666666666666667; 8.148148148148149; 21.428571428571427;;], [27.499999999999996; 6.666666666666666; 8.148148148148147; 21.428571428571427;;], [1.2; 3.6; 2.7; 2.1;;], Bool[1 0 0; 0 1 0; 0 0 1], [136.0 0.0 0.0; 0.0 96.0 0.0; 0.0 0.0 167.0], #undef)"
      ]
     },
     "execution_count": 7,
     "metadata": {},
     "output_type": "execute_result"
    }
   ],
   "source": [
    "model_data = Model_data.IO(itc)"
   ]
  },
  {
   "cell_type": "code",
   "execution_count": 8,
   "metadata": {},
   "outputs": [
    {
     "data": {
      "text/plain": [
       "3×3 Matrix{Float64}:\n",
       " 0.0708932  0.135122  0.373574\n",
       " 0.22955    0.156254  0.0465913\n",
       " 0.406555   0.489931  0.201647"
      ]
     },
     "execution_count": 8,
     "metadata": {},
     "output_type": "execute_result"
    }
   ],
   "source": [
    "itc.A"
   ]
  },
  {
   "cell_type": "code",
   "execution_count": null,
   "metadata": {},
   "outputs": [],
   "source": [
    "model = io_rcot(\"primal\", \"rel\", io_rcot_data);"
   ]
  },
  {
   "cell_type": "code",
   "execution_count": 10,
   "metadata": {},
   "outputs": [],
   "source": [
    "using MathProgBase"
   ]
  },
  {
   "cell_type": "code",
   "execution_count": 12,
   "metadata": {},
   "outputs": [
    {
     "ename": "LoadError",
     "evalue": "MethodError: no method matching getbasis(::Model)\n\n\u001b[0mClosest candidates are:\n\u001b[0m  getbasis()\n\u001b[0m\u001b[90m   @\u001b[39m \u001b[35mMathProgBase\u001b[39m \u001b[90mC:\\Users\\maximiko\\.julia\\packages\\MathProgBase\\rr4Xh\\src\\SolverInterface\\\u001b[39m\u001b[90m\u001b[4mSolverInterface.jl:26\u001b[24m\u001b[39m\n\u001b[0m  getbasis(\u001b[91m::Int64\u001b[39m)\n\u001b[0m\u001b[90m   @\u001b[39m \u001b[35mMathProgBase\u001b[39m \u001b[90mC:\\Users\\maximiko\\.julia\\packages\\MathProgBase\\rr4Xh\\src\\SolverInterface\\\u001b[39m\u001b[90m\u001b[4mSolverInterface.jl:27\u001b[24m\u001b[39m\n",
     "output_type": "error",
     "traceback": [
      "MethodError: no method matching getbasis(::Model)\n\n\u001b[0mClosest candidates are:\n\u001b[0m  getbasis()\n\u001b[0m\u001b[90m   @\u001b[39m \u001b[35mMathProgBase\u001b[39m \u001b[90mC:\\Users\\maximiko\\.julia\\packages\\MathProgBase\\rr4Xh\\src\\SolverInterface\\\u001b[39m\u001b[90m\u001b[4mSolverInterface.jl:26\u001b[24m\u001b[39m\n\u001b[0m  getbasis(\u001b[91m::Int64\u001b[39m)\n\u001b[0m\u001b[90m   @\u001b[39m \u001b[35mMathProgBase\u001b[39m \u001b[90mC:\\Users\\maximiko\\.julia\\packages\\MathProgBase\\rr4Xh\\src\\SolverInterface\\\u001b[39m\u001b[90m\u001b[4mSolverInterface.jl:27\u001b[24m\u001b[39m\n",
      "",
      "Stacktrace:",
      " [1] top-level scope",
      "   @ In[12]:1"
     ]
    }
   ],
   "source": [
    "cbasis, rbasis = MathProgBase.getbasis(primal)#JuMP.internalmodel(primal))\n",
    "\n",
    "@show cbasis\n",
    "@show rbasis"
   ]
  },
  {
   "cell_type": "code",
   "execution_count": 63,
   "metadata": {},
   "outputs": [
    {
     "ename": "LoadError",
     "evalue": "MethodError: no method matching get(::Model, ::MathOptInterface.ConstraintBasisStatus)\n\n\u001b[0mClosest candidates are:\n\u001b[0m  get(::GenericModel, ::MathOptInterface.AbstractConstraintAttribute, \u001b[91m::ConstraintRef\u001b[39m)\n\u001b[0m\u001b[90m   @\u001b[39m \u001b[33mJuMP\u001b[39m \u001b[90mC:\\Users\\maximiko\\.julia\\packages\\JuMP\\jZvaU\\src\\\u001b[39m\u001b[90m\u001b[4moptimizer_interface.jl:681\u001b[24m\u001b[39m\n\u001b[0m  get(\u001b[91m::MathOptInterface.Bridges.AbstractBridgeOptimizer\u001b[39m, ::MathOptInterface.AbstractConstraintAttribute, \u001b[91m::MathOptInterface.ConstraintIndex\u001b[39m)\n\u001b[0m\u001b[90m   @\u001b[39m \u001b[32mMathOptInterface\u001b[39m \u001b[90mC:\\Users\\maximiko\\.julia\\packages\\MathOptInterface\\864xP\\src\\Bridges\\\u001b[39m\u001b[90m\u001b[4mbridge_optimizer.jl:1415\u001b[24m\u001b[39m\n\u001b[0m  get(\u001b[91m::MathOptInterface.Utilities.MockOptimizer\u001b[39m, ::MathOptInterface.ConstraintBasisStatus, \u001b[91m::MathOptInterface.ConstraintIndex\u001b[39m)\n\u001b[0m\u001b[90m   @\u001b[39m \u001b[32mMathOptInterface\u001b[39m \u001b[90mC:\\Users\\maximiko\\.julia\\packages\\MathOptInterface\\864xP\\src\\Utilities\\\u001b[39m\u001b[90m\u001b[4mmockoptimizer.jl:685\u001b[24m\u001b[39m\n\u001b[0m  ...\n",
     "output_type": "error",
     "traceback": [
      "MethodError: no method matching get(::Model, ::MathOptInterface.ConstraintBasisStatus)\n\n\u001b[0mClosest candidates are:\n\u001b[0m  get(::GenericModel, ::MathOptInterface.AbstractConstraintAttribute, \u001b[91m::ConstraintRef\u001b[39m)\n\u001b[0m\u001b[90m   @\u001b[39m \u001b[33mJuMP\u001b[39m \u001b[90mC:\\Users\\maximiko\\.julia\\packages\\JuMP\\jZvaU\\src\\\u001b[39m\u001b[90m\u001b[4moptimizer_interface.jl:681\u001b[24m\u001b[39m\n\u001b[0m  get(\u001b[91m::MathOptInterface.Bridges.AbstractBridgeOptimizer\u001b[39m, ::MathOptInterface.AbstractConstraintAttribute, \u001b[91m::MathOptInterface.ConstraintIndex\u001b[39m)\n\u001b[0m\u001b[90m   @\u001b[39m \u001b[32mMathOptInterface\u001b[39m \u001b[90mC:\\Users\\maximiko\\.julia\\packages\\MathOptInterface\\864xP\\src\\Bridges\\\u001b[39m\u001b[90m\u001b[4mbridge_optimizer.jl:1415\u001b[24m\u001b[39m\n\u001b[0m  get(\u001b[91m::MathOptInterface.Utilities.MockOptimizer\u001b[39m, ::MathOptInterface.ConstraintBasisStatus, \u001b[91m::MathOptInterface.ConstraintIndex\u001b[39m)\n\u001b[0m\u001b[90m   @\u001b[39m \u001b[32mMathOptInterface\u001b[39m \u001b[90mC:\\Users\\maximiko\\.julia\\packages\\MathOptInterface\\864xP\\src\\Utilities\\\u001b[39m\u001b[90m\u001b[4mmockoptimizer.jl:685\u001b[24m\u001b[39m\n\u001b[0m  ...\n",
      "",
      "Stacktrace:",
      " [1] top-level scope",
      "   @ In[63]:1"
     ]
    }
   ],
   "source": [
    "MOI.get(primal, MOI.ConstraintBasisStatus())"
   ]
  },
  {
   "cell_type": "code",
   "execution_count": 13,
   "metadata": {},
   "outputs": [
    {
     "ename": "LoadError",
     "evalue": "MethodError: no method matching MathOptInterface.BasisStatusCode()\n\n\u001b[0mClosest candidates are:\n\u001b[0m  MathOptInterface.BasisStatusCode(\u001b[91m::Integer\u001b[39m)\n\u001b[0m\u001b[90m   @\u001b[39m \u001b[36mMathOptInterface\u001b[39m \u001b[90m\u001b[4mEnums.jl:202\u001b[24m\u001b[39m\n",
     "output_type": "error",
     "traceback": [
      "MethodError: no method matching MathOptInterface.BasisStatusCode()\n\n\u001b[0mClosest candidates are:\n\u001b[0m  MathOptInterface.BasisStatusCode(\u001b[91m::Integer\u001b[39m)\n\u001b[0m\u001b[90m   @\u001b[39m \u001b[36mMathOptInterface\u001b[39m \u001b[90m\u001b[4mEnums.jl:202\u001b[24m\u001b[39m\n",
      "",
      "Stacktrace:",
      " [1] top-level scope",
      "   @ In[13]:1"
     ]
    }
   ],
   "source": [
    "MOI.get(primal, MOI.BasisStatusCode())"
   ]
  },
  {
   "cell_type": "code",
   "execution_count": 66,
   "metadata": {},
   "outputs": [
    {
     "ename": "LoadError",
     "evalue": "MethodError: no method matching MathOptInterface.BasisStatusCode(::Model)\n\n\u001b[0mClosest candidates are:\n\u001b[0m  MathOptInterface.BasisStatusCode(\u001b[91m::Integer\u001b[39m)\n\u001b[0m\u001b[90m   @\u001b[39m \u001b[32mMathOptInterface\u001b[39m \u001b[90m\u001b[4mEnums.jl:202\u001b[24m\u001b[39m\n",
     "output_type": "error",
     "traceback": [
      "MethodError: no method matching MathOptInterface.BasisStatusCode(::Model)\n\n\u001b[0mClosest candidates are:\n\u001b[0m  MathOptInterface.BasisStatusCode(\u001b[91m::Integer\u001b[39m)\n\u001b[0m\u001b[90m   @\u001b[39m \u001b[32mMathOptInterface\u001b[39m \u001b[90m\u001b[4mEnums.jl:202\u001b[24m\u001b[39m\n",
      "",
      "Stacktrace:",
      " [1] top-level scope",
      "   @ In[66]:1"
     ]
    }
   ],
   "source": [
    "MOI.BasisStatusCode(primal)"
   ]
  },
  {
   "cell_type": "code",
   "execution_count": 68,
   "metadata": {},
   "outputs": [
    {
     "ename": "LoadError",
     "evalue": "UndefVarError: `ListOfConstraints` not defined",
     "output_type": "error",
     "traceback": [
      "UndefVarError: `ListOfConstraints` not defined",
      "",
      "Stacktrace:",
      " [1] getproperty(x::Module, f::Symbol)",
      "   @ Base .\\Base.jl:31",
      " [2] top-level scope",
      "   @ In[68]:1"
     ]
    }
   ],
   "source": [
    "MOI.get(primal, MOI.ListOfConstraints())"
   ]
  },
  {
   "cell_type": "markdown",
   "metadata": {},
   "source": [
    "https://jump.dev/JuMP.jl/stable/moi/reference/variables/#MathOptInterface.VariableBasisStatus\n",
    "\n",
    "https://stackoverflow.com/questions/64682599/how-to-get-list-of-basic-variables-from-jump-gurobi"
   ]
  },
  {
   "cell_type": "code",
   "execution_count": 14,
   "metadata": {},
   "outputs": [
    {
     "ename": "LoadError",
     "evalue": "MethodError: no method matching get(::Model, ::MathOptInterface.VariableBasisStatus)\n\n\u001b[0mClosest candidates are:\n\u001b[0m  get(::GenericModel, ::MathOptInterface.AbstractVariableAttribute, \u001b[91m::GenericVariableRef\u001b[39m)\n\u001b[0m\u001b[90m   @\u001b[39m \u001b[32mJuMP\u001b[39m \u001b[90mC:\\Users\\maximiko\\.julia\\packages\\JuMP\\jZvaU\\src\\\u001b[39m\u001b[90m\u001b[4moptimizer_interface.jl:661\u001b[24m\u001b[39m\n\u001b[0m  get(\u001b[91m::MathOptInterface.Utilities.ModelFilter\u001b[39m, ::MathOptInterface.AbstractVariableAttribute, \u001b[91m::MathOptInterface.VariableIndex\u001b[39m)\n\u001b[0m\u001b[90m   @\u001b[39m \u001b[36mMathOptInterface\u001b[39m \u001b[90mC:\\Users\\maximiko\\.julia\\packages\\MathOptInterface\\wW7fs\\src\\Utilities\\\u001b[39m\u001b[90m\u001b[4mcopy.jl:613\u001b[24m\u001b[39m\n\u001b[0m  get(\u001b[91m::MathOptInterface.Bridges.AbstractBridgeOptimizer\u001b[39m, ::MathOptInterface.AbstractVariableAttribute, \u001b[91m::Vector{MathOptInterface.VariableIndex}\u001b[39m)\n\u001b[0m\u001b[90m   @\u001b[39m \u001b[36mMathOptInterface\u001b[39m \u001b[90mC:\\Users\\maximiko\\.julia\\packages\\MathOptInterface\\wW7fs\\src\\Bridges\\\u001b[39m\u001b[90m\u001b[4mbridge_optimizer.jl:1245\u001b[24m\u001b[39m\n\u001b[0m  ...\n",
     "output_type": "error",
     "traceback": [
      "MethodError: no method matching get(::Model, ::MathOptInterface.VariableBasisStatus)\n\n\u001b[0mClosest candidates are:\n\u001b[0m  get(::GenericModel, ::MathOptInterface.AbstractVariableAttribute, \u001b[91m::GenericVariableRef\u001b[39m)\n\u001b[0m\u001b[90m   @\u001b[39m \u001b[32mJuMP\u001b[39m \u001b[90mC:\\Users\\maximiko\\.julia\\packages\\JuMP\\jZvaU\\src\\\u001b[39m\u001b[90m\u001b[4moptimizer_interface.jl:661\u001b[24m\u001b[39m\n\u001b[0m  get(\u001b[91m::MathOptInterface.Utilities.ModelFilter\u001b[39m, ::MathOptInterface.AbstractVariableAttribute, \u001b[91m::MathOptInterface.VariableIndex\u001b[39m)\n\u001b[0m\u001b[90m   @\u001b[39m \u001b[36mMathOptInterface\u001b[39m \u001b[90mC:\\Users\\maximiko\\.julia\\packages\\MathOptInterface\\wW7fs\\src\\Utilities\\\u001b[39m\u001b[90m\u001b[4mcopy.jl:613\u001b[24m\u001b[39m\n\u001b[0m  get(\u001b[91m::MathOptInterface.Bridges.AbstractBridgeOptimizer\u001b[39m, ::MathOptInterface.AbstractVariableAttribute, \u001b[91m::Vector{MathOptInterface.VariableIndex}\u001b[39m)\n\u001b[0m\u001b[90m   @\u001b[39m \u001b[36mMathOptInterface\u001b[39m \u001b[90mC:\\Users\\maximiko\\.julia\\packages\\MathOptInterface\\wW7fs\\src\\Bridges\\\u001b[39m\u001b[90m\u001b[4mbridge_optimizer.jl:1245\u001b[24m\u001b[39m\n\u001b[0m  ...\n",
      "",
      "Stacktrace:",
      " [1] top-level scope",
      "   @ In[14]:1"
     ]
    }
   ],
   "source": [
    "MOI.get(primal, MOI.VariableBasisStatus())"
   ]
  },
  {
   "cell_type": "markdown",
   "metadata": {},
   "source": [
    "https://jump.dev/JuMP.jl/stable/moi/reference/constraints/#MathOptInterface.BasisStatusCode"
   ]
  },
  {
   "cell_type": "code",
   "execution_count": 16,
   "metadata": {},
   "outputs": [
    {
     "data": {
      "text/plain": [
       "MOIU.CachingOptimizer{MOIB.LazyBridgeOptimizer{GLPK.Optimizer}, MOIU.UniversalFallback{MOIU.Model{Float64}}}\n",
       "in state ATTACHED_OPTIMIZER\n",
       "in mode AUTOMATIC\n",
       "with model cache MOIU.UniversalFallback{MOIU.Model{Float64}}\n",
       "  fallback for MOIU.Model{Float64}\n",
       "with optimizer MOIB.LazyBridgeOptimizer{GLPK.Optimizer}\n",
       "  with 0 variable bridges\n",
       "  with 0 constraint bridges\n",
       "  with 0 objective bridges\n",
       "  with inner model A GLPK model"
      ]
     },
     "execution_count": 16,
     "metadata": {},
     "output_type": "execute_result"
    }
   ],
   "source": [
    "backend(primal)"
   ]
  },
  {
   "cell_type": "code",
   "execution_count": 11,
   "metadata": {},
   "outputs": [
    {
     "name": "stderr",
     "output_type": "stream",
     "text": [
      "\u001b[32m\u001b[1m   Resolving\u001b[22m\u001b[39m package versions...\n",
      "\u001b[32m\u001b[1m   Installed\u001b[22m\u001b[39m MathOptInterface ─ v1.22.0\n",
      "\u001b[32m\u001b[1m    Updating\u001b[22m\u001b[39m `C:\\Users\\maximiko\\JuliaEnvironments\\RectangularChoiceDev\\Project.toml`\n",
      "  \u001b[90m[b8f27783] \u001b[39m\u001b[92m+ MathOptInterface v1.22.0\u001b[39m\n",
      "\u001b[32m\u001b[1m    Updating\u001b[22m\u001b[39m `C:\\Users\\maximiko\\JuliaEnvironments\\RectangularChoiceDev\\Manifest.toml`\n",
      "  \u001b[90m[b8f27783] \u001b[39m\u001b[93m↑ MathOptInterface v1.18.0 ⇒ v1.22.0\u001b[39m\n",
      "\u001b[32m\u001b[1mPrecompiling\u001b[22m\u001b[39m project...\n",
      "\u001b[33m  ✓ \u001b[39mMathOptInterface\n",
      "\u001b[33m  ✓ \u001b[39mPATHSolver\n",
      "\u001b[33m  ✓ \u001b[39mGLPK\n",
      "\u001b[32m  ✓ \u001b[39mIpopt\n",
      "\u001b[33m  ✓ \u001b[39mJuMP\n",
      "\u001b[32m  ✓ \u001b[39mComplementarity\n",
      "\u001b[32m  ✓ \u001b[39mRectangularChoiceDev\n",
      "  7 dependencies successfully precompiled in 144 seconds. 114 already precompiled.\n",
      "  \u001b[33m4\u001b[39m dependencies precompiled but different versions are currently loaded. Restart julia to access the new versions\n"
     ]
    }
   ],
   "source": [
    "import Pkg; Pkg.add(\"MathOptInterface\")"
   ]
  },
  {
   "cell_type": "code",
   "execution_count": 12,
   "metadata": {},
   "outputs": [],
   "source": [
    "import MathOptInterface as MOI"
   ]
  },
  {
   "cell_type": "code",
   "execution_count": 20,
   "metadata": {},
   "outputs": [
    {
     "data": {
      "text/plain": [
       "BASIC::BasisStatusCode = 0"
      ]
     },
     "execution_count": 20,
     "metadata": {},
     "output_type": "execute_result"
    }
   ],
   "source": [
    "MOI.BasisStatusCode(0)"
   ]
  },
  {
   "cell_type": "code",
   "execution_count": 24,
   "metadata": {},
   "outputs": [
    {
     "data": {
      "text/plain": [
       "MathOptInterface.VariableBasisStatus(2)"
      ]
     },
     "execution_count": 24,
     "metadata": {},
     "output_type": "execute_result"
    }
   ],
   "source": [
    "MOI.VariableBasisStatus(2)"
   ]
  },
  {
   "cell_type": "code",
   "execution_count": 25,
   "metadata": {},
   "outputs": [
    {
     "ename": "LoadError",
     "evalue": "MethodError: no method matching get(::Model, ::MathOptInterface.VariableBasisStatus)\n\n\u001b[0mClosest candidates are:\n\u001b[0m  get(::GenericModel, ::MathOptInterface.AbstractVariableAttribute, \u001b[91m::GenericVariableRef\u001b[39m)\n\u001b[0m\u001b[90m   @\u001b[39m \u001b[36mJuMP\u001b[39m \u001b[90mC:\\Users\\maximiko\\.julia\\packages\\JuMP\\jZvaU\\src\\\u001b[39m\u001b[90m\u001b[4moptimizer_interface.jl:661\u001b[24m\u001b[39m\n\u001b[0m  get(\u001b[91m::MathOptInterface.Bridges.AbstractBridgeOptimizer\u001b[39m, ::MathOptInterface.AbstractVariableAttribute, \u001b[91m::Vector{MathOptInterface.VariableIndex}\u001b[39m)\n\u001b[0m\u001b[90m   @\u001b[39m \u001b[35mMathOptInterface\u001b[39m \u001b[90mC:\\Users\\maximiko\\.julia\\packages\\MathOptInterface\\864xP\\src\\Bridges\\\u001b[39m\u001b[90m\u001b[4mbridge_optimizer.jl:1200\u001b[24m\u001b[39m\n\u001b[0m  get(\u001b[91m::MathOptInterface.Bridges.AbstractBridgeOptimizer\u001b[39m, ::MathOptInterface.AbstractVariableAttribute, \u001b[91m::MathOptInterface.VariableIndex\u001b[39m)\n\u001b[0m\u001b[90m   @\u001b[39m \u001b[35mMathOptInterface\u001b[39m \u001b[90mC:\\Users\\maximiko\\.julia\\packages\\MathOptInterface\\864xP\\src\\Bridges\\\u001b[39m\u001b[90m\u001b[4mbridge_optimizer.jl:1187\u001b[24m\u001b[39m\n\u001b[0m  ...\n",
     "output_type": "error",
     "traceback": [
      "MethodError: no method matching get(::Model, ::MathOptInterface.VariableBasisStatus)\n\n\u001b[0mClosest candidates are:\n\u001b[0m  get(::GenericModel, ::MathOptInterface.AbstractVariableAttribute, \u001b[91m::GenericVariableRef\u001b[39m)\n\u001b[0m\u001b[90m   @\u001b[39m \u001b[36mJuMP\u001b[39m \u001b[90mC:\\Users\\maximiko\\.julia\\packages\\JuMP\\jZvaU\\src\\\u001b[39m\u001b[90m\u001b[4moptimizer_interface.jl:661\u001b[24m\u001b[39m\n\u001b[0m  get(\u001b[91m::MathOptInterface.Bridges.AbstractBridgeOptimizer\u001b[39m, ::MathOptInterface.AbstractVariableAttribute, \u001b[91m::Vector{MathOptInterface.VariableIndex}\u001b[39m)\n\u001b[0m\u001b[90m   @\u001b[39m \u001b[35mMathOptInterface\u001b[39m \u001b[90mC:\\Users\\maximiko\\.julia\\packages\\MathOptInterface\\864xP\\src\\Bridges\\\u001b[39m\u001b[90m\u001b[4mbridge_optimizer.jl:1200\u001b[24m\u001b[39m\n\u001b[0m  get(\u001b[91m::MathOptInterface.Bridges.AbstractBridgeOptimizer\u001b[39m, ::MathOptInterface.AbstractVariableAttribute, \u001b[91m::MathOptInterface.VariableIndex\u001b[39m)\n\u001b[0m\u001b[90m   @\u001b[39m \u001b[35mMathOptInterface\u001b[39m \u001b[90mC:\\Users\\maximiko\\.julia\\packages\\MathOptInterface\\864xP\\src\\Bridges\\\u001b[39m\u001b[90m\u001b[4mbridge_optimizer.jl:1187\u001b[24m\u001b[39m\n\u001b[0m  ...\n",
      "",
      "Stacktrace:",
      " [1] top-level scope",
      "   @ In[25]:1"
     ]
    }
   ],
   "source": [
    "MOI.get(primal, MOI.VariableBasisStatus())"
   ]
  },
  {
   "cell_type": "code",
   "execution_count": 35,
   "metadata": {},
   "outputs": [
    {
     "data": {
      "text/plain": [
       "0"
      ]
     },
     "execution_count": 35,
     "metadata": {},
     "output_type": "execute_result"
    }
   ],
   "source": [
    "MOI.get(GLPK.Optimizer(), MOI.ResultCount())"
   ]
  },
  {
   "cell_type": "code",
   "execution_count": 36,
   "metadata": {},
   "outputs": [
    {
     "data": {
      "text/plain": [
       "MOIU.CachingOptimizer{MOIB.LazyBridgeOptimizer{GLPK.Optimizer}, MOIU.UniversalFallback{MOIU.Model{Float64}}}\n",
       "in state ATTACHED_OPTIMIZER\n",
       "in mode AUTOMATIC\n",
       "with model cache MOIU.UniversalFallback{MOIU.Model{Float64}}\n",
       "  fallback for MOIU.Model{Float64}\n",
       "with optimizer MOIB.LazyBridgeOptimizer{GLPK.Optimizer}\n",
       "  with 0 variable bridges\n",
       "  with 0 constraint bridges\n",
       "  with 0 objective bridges\n",
       "  with inner model A GLPK model"
      ]
     },
     "execution_count": 36,
     "metadata": {},
     "output_type": "execute_result"
    }
   ],
   "source": [
    "backend(model)"
   ]
  },
  {
   "cell_type": "code",
   "execution_count": 37,
   "metadata": {},
   "outputs": [
    {
     "data": {
      "text/plain": [
       "Enum MathOptInterface.ResultStatusCode:\n",
       "NO_SOLUTION = 0\n",
       "FEASIBLE_POINT = 1\n",
       "NEARLY_FEASIBLE_POINT = 2\n",
       "INFEASIBLE_POINT = 3\n",
       "INFEASIBILITY_CERTIFICATE = 4\n",
       "NEARLY_INFEASIBILITY_CERTIFICATE = 5\n",
       "REDUCTION_CERTIFICATE = 6\n",
       "NEARLY_REDUCTION_CERTIFICATE = 7\n",
       "UNKNOWN_RESULT_STATUS = 8\n",
       "OTHER_RESULT_STATUS = 9"
      ]
     },
     "execution_count": 37,
     "metadata": {},
     "output_type": "execute_result"
    }
   ],
   "source": [
    "MOI.ResultStatusCode"
   ]
  },
  {
   "cell_type": "code",
   "execution_count": 41,
   "metadata": {},
   "outputs": [
    {
     "data": {
      "text/plain": [
       "MathOptInterface.VariableBasisStatus"
      ]
     },
     "execution_count": 41,
     "metadata": {},
     "output_type": "execute_result"
    }
   ],
   "source": [
    "MOI.VariableBasisStatus"
   ]
  },
  {
   "cell_type": "code",
   "execution_count": 45,
   "metadata": {},
   "outputs": [
    {
     "data": {
      "text/plain": [
       "FEASIBLE_POINT::ResultStatusCode = 1"
      ]
     },
     "execution_count": 45,
     "metadata": {},
     "output_type": "execute_result"
    }
   ],
   "source": [
    "MOI.get(primal, MOI.PrimalStatus())"
   ]
  },
  {
   "cell_type": "code",
   "execution_count": 48,
   "metadata": {},
   "outputs": [
    {
     "data": {
      "text/plain": [
       "OPTIMAL::TerminationStatusCode = 1"
      ]
     },
     "execution_count": 48,
     "metadata": {},
     "output_type": "execute_result"
    }
   ],
   "source": [
    "MOI.get(primal, MOI.TerminationStatus())"
   ]
  },
  {
   "cell_type": "code",
   "execution_count": 49,
   "metadata": {},
   "outputs": [
    {
     "data": {
      "text/plain": [
       "FEASIBLE_POINT::ResultStatusCode = 1"
      ]
     },
     "execution_count": 49,
     "metadata": {},
     "output_type": "execute_result"
    }
   ],
   "source": [
    "MOI.get(primal, MOI.DualStatus())"
   ]
  },
  {
   "cell_type": "code",
   "execution_count": 51,
   "metadata": {},
   "outputs": [
    {
     "data": {
      "text/plain": [
       "0.0"
      ]
     },
     "execution_count": 51,
     "metadata": {},
     "output_type": "execute_result"
    }
   ],
   "source": [
    "MOI.get(primal, MOI.SolveTimeSec())"
   ]
  },
  {
   "cell_type": "code",
   "execution_count": 55,
   "metadata": {},
   "outputs": [
    {
     "data": {
      "text/plain": [
       "1×5 Matrix{Float64}:\n",
       " 335.074  148.743  758.556  25.2778  58.6198"
      ]
     },
     "execution_count": 55,
     "metadata": {},
     "output_type": "execute_result"
    }
   ],
   "source": [
    "model_data.ϕ'*model_data.F"
   ]
  },
  {
   "cell_type": "code",
   "execution_count": 53,
   "metadata": {},
   "outputs": [
    {
     "data": {
      "text/latex": [
       "0.0 + 20.0 v_{1} + 26.0 v_{2} + 64.0 v_{3} + 10.0 v_{5} + 4.0 v_{4}"
      ],
      "text/plain": [
       "0.0 + 20.0 MOI.VariableIndex(1) + 26.0 MOI.VariableIndex(2) + 64.0 MOI.VariableIndex(3) + 10.0 MOI.VariableIndex(5) + 4.0 MOI.VariableIndex(4)"
      ]
     },
     "execution_count": 53,
     "metadata": {},
     "output_type": "execute_result"
    }
   ],
   "source": [
    "MOI.get(primal, MOI.ObjectiveFunction{MOI.ScalarAffineFunction{Float64}}())"
   ]
  },
  {
   "cell_type": "code",
   "execution_count": 81,
   "metadata": {},
   "outputs": [
    {
     "data": {
      "text/plain": [
       "NONBASIC::BasisStatusCode = 1"
      ]
     },
     "execution_count": 81,
     "metadata": {},
     "output_type": "execute_result"
    }
   ],
   "source": [
    "MOI.get(primal, MOI.ConstraintBasisStatus(), primal[:con][2][2])"
   ]
  },
  {
   "cell_type": "code",
   "execution_count": 87,
   "metadata": {},
   "outputs": [
    {
     "ename": "LoadError",
     "evalue": "BoundsError: attempt to access 5-element Vector{VariableRef} at index [6]",
     "output_type": "error",
     "traceback": [
      "BoundsError: attempt to access 5-element Vector{VariableRef} at index [6]",
      "",
      "Stacktrace:",
      " [1] getindex(A::Vector{VariableRef}, i1::Int64)",
      "   @ Base .\\essentials.jl:13",
      " [2] top-level scope",
      "   @ In[87]:1"
     ]
    }
   ],
   "source": [
    "MOI.get(primal, MOI.VariableBasisStatus(), z[6])"
   ]
  },
  {
   "cell_type": "code",
   "execution_count": null,
   "metadata": {},
   "outputs": [],
   "source": [
    "MOI.get(model, MOI.ConstraintBasisStatus(), LowerBoundRef(x))"
   ]
  },
  {
   "cell_type": "code",
   "execution_count": 88,
   "metadata": {},
   "outputs": [
    {
     "ename": "LoadError",
     "evalue": "MethodError: no method matching unsafe_convert(::Type{Ptr{Nothing}}, ::Model)\n\n\u001b[0mClosest candidates are:\n\u001b[0m  unsafe_convert(::Union{Type{Ptr{Nothing}}, Type{Ptr{Base.Libc.FILE}}}, \u001b[91m::Base.Libc.FILE\u001b[39m)\n\u001b[0m\u001b[90m   @\u001b[39m \u001b[90mBase\u001b[39m \u001b[90m\u001b[4mlibc.jl:94\u001b[24m\u001b[39m\n\u001b[0m  unsafe_convert(::Type{Ptr{T}}, \u001b[91m::SharedArrays.SharedArray{T}\u001b[39m) where T\n\u001b[0m\u001b[90m   @\u001b[39m \u001b[35mSharedArrays\u001b[39m \u001b[90mC:\\Users\\maximiko\\AppData\\Local\\Programs\\Julia-1.9.0\\share\\julia\\stdlib\\v1.9\\SharedArrays\\src\\\u001b[39m\u001b[90m\u001b[4mSharedArrays.jl:361\u001b[24m\u001b[39m\n\u001b[0m  unsafe_convert(::Type{Ptr{T}}, \u001b[91m::SharedArrays.SharedArray\u001b[39m) where T\n\u001b[0m\u001b[90m   @\u001b[39m \u001b[35mSharedArrays\u001b[39m \u001b[90mC:\\Users\\maximiko\\AppData\\Local\\Programs\\Julia-1.9.0\\share\\julia\\stdlib\\v1.9\\SharedArrays\\src\\\u001b[39m\u001b[90m\u001b[4mSharedArrays.jl:362\u001b[24m\u001b[39m\n\u001b[0m  ...\n",
     "output_type": "error",
     "traceback": [
      "MethodError: no method matching unsafe_convert(::Type{Ptr{Nothing}}, ::Model)\n\n\u001b[0mClosest candidates are:\n\u001b[0m  unsafe_convert(::Union{Type{Ptr{Nothing}}, Type{Ptr{Base.Libc.FILE}}}, \u001b[91m::Base.Libc.FILE\u001b[39m)\n\u001b[0m\u001b[90m   @\u001b[39m \u001b[90mBase\u001b[39m \u001b[90m\u001b[4mlibc.jl:94\u001b[24m\u001b[39m\n\u001b[0m  unsafe_convert(::Type{Ptr{T}}, \u001b[91m::SharedArrays.SharedArray{T}\u001b[39m) where T\n\u001b[0m\u001b[90m   @\u001b[39m \u001b[35mSharedArrays\u001b[39m \u001b[90mC:\\Users\\maximiko\\AppData\\Local\\Programs\\Julia-1.9.0\\share\\julia\\stdlib\\v1.9\\SharedArrays\\src\\\u001b[39m\u001b[90m\u001b[4mSharedArrays.jl:361\u001b[24m\u001b[39m\n\u001b[0m  unsafe_convert(::Type{Ptr{T}}, \u001b[91m::SharedArrays.SharedArray\u001b[39m) where T\n\u001b[0m\u001b[90m   @\u001b[39m \u001b[35mSharedArrays\u001b[39m \u001b[90mC:\\Users\\maximiko\\AppData\\Local\\Programs\\Julia-1.9.0\\share\\julia\\stdlib\\v1.9\\SharedArrays\\src\\\u001b[39m\u001b[90m\u001b[4mSharedArrays.jl:362\u001b[24m\u001b[39m\n\u001b[0m  ...\n",
      "",
      "Stacktrace:",
      " [1] glp_get_obj_dir(P::Model)",
      "   @ GLPK C:\\Users\\maximiko\\.julia\\packages\\GLPK\\lOla6\\src\\gen\\libglpk_api.jl:110",
      " [2] top-level scope",
      "   @ In[88]:1"
     ]
    }
   ],
   "source": [
    "GLPK.glp_get_obj_dir(primal)"
   ]
  },
  {
   "cell_type": "code",
   "execution_count": null,
   "metadata": {},
   "outputs": [],
   "source": []
  },
  {
   "cell_type": "code",
   "execution_count": 58,
   "metadata": {},
   "outputs": [
    {
     "data": {
      "text/plain": [
       "MathOptInterface.ConstraintBasisStatus"
      ]
     },
     "execution_count": 58,
     "metadata": {},
     "output_type": "execute_result"
    }
   ],
   "source": [
    "MOI.ConstraintBasisStatus"
   ]
  },
  {
   "cell_type": "code",
   "execution_count": 61,
   "metadata": {},
   "outputs": [
    {
     "data": {
      "text/plain": [
       "ConstraintRef{Model, MathOptInterface.ConstraintIndex{MathOptInterface.VariableIndex, MathOptInterface.Integer}, ScalarShape}[]"
      ]
     },
     "execution_count": 61,
     "metadata": {},
     "output_type": "execute_result"
    }
   ],
   "source": [
    "foo = all_constraints(primal, VariableRef, MOI.Integer)"
   ]
  },
  {
   "cell_type": "code",
   "execution_count": 62,
   "metadata": {},
   "outputs": [
    {
     "data": {
      "text/plain": [
       "ConstraintRef{Model, MathOptInterface.ConstraintIndex{MathOptInterface.VariableIndex, MathOptInterface.Integer}, ScalarShape}[]"
      ]
     },
     "execution_count": 62,
     "metadata": {},
     "output_type": "execute_result"
    }
   ],
   "source": [
    "foo"
   ]
  },
  {
   "cell_type": "code",
   "execution_count": 65,
   "metadata": {},
   "outputs": [
    {
     "data": {
      "text/plain": [
       "4"
      ]
     },
     "execution_count": 65,
     "metadata": {},
     "output_type": "execute_result"
    }
   ],
   "source": [
    "num_constraints(primal, AffExpr, MOI.LessThan{Float64})"
   ]
  },
  {
   "cell_type": "code",
   "execution_count": 66,
   "metadata": {},
   "outputs": [
    {
     "data": {
      "text/plain": [
       "3"
      ]
     },
     "execution_count": 66,
     "metadata": {},
     "output_type": "execute_result"
    }
   ],
   "source": [
    "num_constraints(primal, AffExpr, MOI.GreaterThan{Float64})"
   ]
  },
  {
   "cell_type": "code",
   "execution_count": 67,
   "metadata": {},
   "outputs": [
    {
     "data": {
      "text/plain": [
       "5"
      ]
     },
     "execution_count": 67,
     "metadata": {},
     "output_type": "execute_result"
    }
   ],
   "source": [
    "num_constraints(primal, VariableRef, MOI.GreaterThan{Float64})"
   ]
  },
  {
   "cell_type": "code",
   "execution_count": 68,
   "metadata": {},
   "outputs": [
    {
     "data": {
      "text/plain": [
       "0"
      ]
     },
     "execution_count": 68,
     "metadata": {},
     "output_type": "execute_result"
    }
   ],
   "source": [
    "num_constraints(primal, VariableRef, MOI.LessThan{Float64})"
   ]
  },
  {
   "cell_type": "code",
   "execution_count": 69,
   "metadata": {},
   "outputs": [
    {
     "data": {
      "text/latex": [
       "$$ \\begin{aligned}\n",
       "\\min\\quad & 20 z_{1} + 26 z_{2} + 64 z_{3} + 10 z_{5} + 4 z_{4}\\\\\n",
       "\\text{Subject to} \\quad & 75 z_{1} + 24 z_{2} + 7 z_{3} - 38 z_{4} - 17 z_{5} \\geq 51\\\\\n",
       " & -6 z_{1} + 43 z_{2} - 7 z_{3} + 12 z_{4} \\geq 42\\\\\n",
       " & -49 z_{1} - 41 z_{2} + 64 z_{3} + 30 z_{4} + 27 z_{5} \\geq 31\\\\\n",
       " & 10 z_{1} + 1.6666666666666667 z_{2} + 15 z_{3} + 0.8333333333333334 z_{5} \\leq 27.499999999999996\\\\\n",
       " & 4.722222222222222 z_{2} + 0.2777777777777778 z_{3} + 0.2777777777777778 z_{4} + 1.3888888888888888 z_{5} \\leq 6.666666666666666\\\\\n",
       " & 1.1111111111111112 z_{1} + 5.925925925925926 z_{3} + 0.37037037037037035 z_{4} + 0.7407407407407407 z_{5} \\leq 8.148148148148147\\\\\n",
       " & 2.380952380952381 z_{1} + 3.333333333333333 z_{2} + 13.809523809523808 z_{3} + 0.9523809523809523 z_{4} + 0.9523809523809523 z_{5} \\leq 21.428571428571427\\\\\n",
       " & z_{1} \\geq 0\\\\\n",
       " & z_{2} \\geq 0\\\\\n",
       " & z_{3} \\geq 0\\\\\n",
       " & z_{4} \\geq 0\\\\\n",
       " & z_{5} \\geq 0\\\\\n",
       "\\end{aligned} $$"
      ]
     },
     "metadata": {},
     "output_type": "display_data"
    }
   ],
   "source": [
    "print(primal)"
   ]
  },
  {
   "cell_type": "code",
   "execution_count": 70,
   "metadata": {},
   "outputs": [
    {
     "data": {
      "text/plain": [
       "MIN_SENSE::OptimizationSense = 0"
      ]
     },
     "execution_count": 70,
     "metadata": {},
     "output_type": "execute_result"
    }
   ],
   "source": [
    "MOI.get(primal, MOI.ObjectiveSense())"
   ]
  },
  {
   "cell_type": "code",
   "execution_count": null,
   "metadata": {},
   "outputs": [],
   "source": []
  },
  {
   "cell_type": "code",
   "execution_count": null,
   "metadata": {},
   "outputs": [],
   "source": []
  },
  {
   "cell_type": "code",
   "execution_count": null,
   "metadata": {},
   "outputs": [],
   "source": []
  },
  {
   "cell_type": "code",
   "execution_count": null,
   "metadata": {},
   "outputs": [],
   "source": []
  },
  {
   "cell_type": "code",
   "execution_count": 17,
   "metadata": {},
   "outputs": [],
   "source": [
    "using HiGHS"
   ]
  },
  {
   "cell_type": "code",
   "execution_count": 37,
   "metadata": {},
   "outputs": [
    {
     "name": "stdout",
     "output_type": "stream",
     "text": [
      "Running HiGHS 1.6.0: Copyright (c) 2023 HiGHS under MIT licence terms\n",
      "Presolving model\n",
      "7 rows, 5 cols, 31 nonzeros\n",
      "7 rows, 5 cols, 31 nonzeros\n",
      "Presolve : Reductions: rows 7(-0); columns 5(-0); elements 31(-0) - Not reduced\n",
      "Problem not reduced by presolve: solving the LP\n",
      "Using EKK dual simplex solver - serial\n",
      "  Iteration        Objective     Infeasibilities num(sum)\n",
      "          0     0.0000000000e+00 Pr: 3(37.625) 0s\n",
      "          6     1.2400000000e+02 Pr: 0(0) 0s\n",
      "Model   status      : Optimal\n",
      "Simplex   iterations: 6\n",
      "Objective value     :  1.2400000000e+02\n",
      "HiGHS run time      :          0.00\n",
      "termination_status(primal) = MathOptInterface.OPTIMAL\n",
      "primal_status(primal) = MathOptInterface.FEASIBLE_POINT\n",
      "dual_status(primal) = MathOptInterface.FEASIBLE_POINT\n",
      "objective_value(primal) = 123.99999999999999\n",
      "value.(z) = [0.9999999999999974, 1.0000000000000007, 1.0000000000000009, 0.9999999999999978, 0.9999999999999978]\n"
     ]
    }
   ],
   "source": [
    "# SU-RCOT - LPP\n",
    "# Instantiate the model\n",
    "#solver = optimizer_with_attributes(HiGHS.Optimizer, \"solver\" => \"simplex\")\n",
    "#primal = Model(solver)\n",
    "#primal = direct_model(solver)\n",
    "solver = optimizer_with_attributes(HiGHS.Optimizer)\n",
    "primal = direct_model(solver)\n",
    "set_attribute(primal, \"solver\", \"simplex\")\n",
    "\n",
    "#(@isdefined primal) && (primal = nothing; primal = Model(solver));\n",
    "\n",
    "ACT = size(model_data.V,1)\n",
    "\n",
    "# Define the optimisation model\n",
    "@variable(primal, z[i=1:ACT] >= 0)\n",
    "\n",
    "@objective(primal, Min, sum(model_data.pii'*model_data.F*z))\n",
    "\n",
    "primal[:con] = @constraints(primal, begin\n",
    "    # Goods balance\n",
    "    (model_data.V'-model_data.U)*z .>= model_data.e,\n",
    "    (base_name = \"goods\")\n",
    "\n",
    "    # Factor constraint,\n",
    "    model_data.F*z .<= model_data.ϕ,\n",
    "    (base_name = \"factors\")\n",
    "end)\n",
    "\n",
    "# Run the model and show results\n",
    "optimize!(primal)\n",
    "@show termination_status(primal)\n",
    "@show primal_status(primal)\n",
    "@show dual_status(primal)\n",
    "@show objective_value(primal)\n",
    "@show value.(z);"
   ]
  },
  {
   "cell_type": "code",
   "execution_count": 31,
   "metadata": {},
   "outputs": [
    {
     "data": {
      "text/plain": [
       "* Solver : HiGHS\n",
       "\n",
       "* Status\n",
       "  Result count       : 1\n",
       "  Termination status : OPTIMAL\n",
       "  Message from the solver:\n",
       "  \"kHighsModelStatusOptimal\"\n",
       "\n",
       "* Candidate solution (result #1)\n",
       "  Primal status      : FEASIBLE_POINT\n",
       "  Dual status        : FEASIBLE_POINT\n",
       "  Objective value    : 1.24000e+02\n",
       "  Objective bound    : 0.00000e+00\n",
       "  Relative gap       : Inf\n",
       "  Dual objective value : 1.24000e+02\n",
       "\n",
       "* Work counters\n",
       "  Solve time (sec)   : 0.00000e+00\n",
       "  Simplex iterations : 6\n",
       "  Barrier iterations : 0\n",
       "  Node count         : -1\n"
      ]
     },
     "execution_count": 31,
     "metadata": {},
     "output_type": "execute_result"
    }
   ],
   "source": [
    "solution_summary(primal; result = 1)"
   ]
  },
  {
   "cell_type": "code",
   "execution_count": 71,
   "metadata": {},
   "outputs": [
    {
     "data": {
      "text/plain": [
       "Ptr{Int8} @0x000000007101a022"
      ]
     },
     "execution_count": 71,
     "metadata": {},
     "output_type": "execute_result"
    }
   ],
   "source": [
    "HiGHS.Highs_version()"
   ]
  },
  {
   "cell_type": "code",
   "execution_count": 20,
   "metadata": {},
   "outputs": [
    {
     "data": {
      "text/plain": [
       "Ptr{Nothing} @0x00000185979d6010"
      ]
     },
     "execution_count": 20,
     "metadata": {},
     "output_type": "execute_result"
    }
   ],
   "source": [
    "highs = HiGHS.Highs_create()"
   ]
  },
  {
   "cell_type": "code",
   "execution_count": 38,
   "metadata": {},
   "outputs": [
    {
     "ename": "LoadError",
     "evalue": "MethodError: no method matching HiGHS._ConstraintInfo()\n\n\u001b[0mClosest candidates are:\n\u001b[0m  HiGHS._ConstraintInfo(\u001b[91m::Union{MathOptInterface.EqualTo{Float64}, MathOptInterface.GreaterThan{Float64}, MathOptInterface.Interval{Float64}, MathOptInterface.LessThan{Float64}}\u001b[39m)\n\u001b[0m\u001b[90m   @\u001b[39m \u001b[36mHiGHS\u001b[39m \u001b[90mC:\\Users\\maximiko\\.julia\\packages\\HiGHS\\zTMN2\\src\\\u001b[39m\u001b[90m\u001b[4mMOI_wrapper.jl:154\u001b[24m\u001b[39m\n\u001b[0m  HiGHS._ConstraintInfo(\u001b[91m::String\u001b[39m, \u001b[91m::Int32\u001b[39m, \u001b[91m::HiGHS._RowType\u001b[39m, \u001b[91m::Float64\u001b[39m, \u001b[91m::Float64\u001b[39m)\n\u001b[0m\u001b[90m   @\u001b[39m \u001b[36mHiGHS\u001b[39m \u001b[90mC:\\Users\\maximiko\\.julia\\packages\\HiGHS\\zTMN2\\src\\\u001b[39m\u001b[90m\u001b[4mMOI_wrapper.jl:145\u001b[24m\u001b[39m\n\u001b[0m  HiGHS._ConstraintInfo(\u001b[91m::Any\u001b[39m, \u001b[91m::Any\u001b[39m, \u001b[91m::Any\u001b[39m, \u001b[91m::Any\u001b[39m, \u001b[91m::Any\u001b[39m)\n\u001b[0m\u001b[90m   @\u001b[39m \u001b[36mHiGHS\u001b[39m \u001b[90mC:\\Users\\maximiko\\.julia\\packages\\HiGHS\\zTMN2\\src\\\u001b[39m\u001b[90m\u001b[4mMOI_wrapper.jl:145\u001b[24m\u001b[39m\n",
     "output_type": "error",
     "traceback": [
      "MethodError: no method matching HiGHS._ConstraintInfo()\n\n\u001b[0mClosest candidates are:\n\u001b[0m  HiGHS._ConstraintInfo(\u001b[91m::Union{MathOptInterface.EqualTo{Float64}, MathOptInterface.GreaterThan{Float64}, MathOptInterface.Interval{Float64}, MathOptInterface.LessThan{Float64}}\u001b[39m)\n\u001b[0m\u001b[90m   @\u001b[39m \u001b[36mHiGHS\u001b[39m \u001b[90mC:\\Users\\maximiko\\.julia\\packages\\HiGHS\\zTMN2\\src\\\u001b[39m\u001b[90m\u001b[4mMOI_wrapper.jl:154\u001b[24m\u001b[39m\n\u001b[0m  HiGHS._ConstraintInfo(\u001b[91m::String\u001b[39m, \u001b[91m::Int32\u001b[39m, \u001b[91m::HiGHS._RowType\u001b[39m, \u001b[91m::Float64\u001b[39m, \u001b[91m::Float64\u001b[39m)\n\u001b[0m\u001b[90m   @\u001b[39m \u001b[36mHiGHS\u001b[39m \u001b[90mC:\\Users\\maximiko\\.julia\\packages\\HiGHS\\zTMN2\\src\\\u001b[39m\u001b[90m\u001b[4mMOI_wrapper.jl:145\u001b[24m\u001b[39m\n\u001b[0m  HiGHS._ConstraintInfo(\u001b[91m::Any\u001b[39m, \u001b[91m::Any\u001b[39m, \u001b[91m::Any\u001b[39m, \u001b[91m::Any\u001b[39m, \u001b[91m::Any\u001b[39m)\n\u001b[0m\u001b[90m   @\u001b[39m \u001b[36mHiGHS\u001b[39m \u001b[90mC:\\Users\\maximiko\\.julia\\packages\\HiGHS\\zTMN2\\src\\\u001b[39m\u001b[90m\u001b[4mMOI_wrapper.jl:145\u001b[24m\u001b[39m\n",
      "",
      "Stacktrace:",
      " [1] top-level scope",
      "   @ In[38]:1"
     ]
    }
   ],
   "source": [
    "HiGHS._ConstraintInfo()"
   ]
  },
  {
   "cell_type": "code",
   "execution_count": 39,
   "metadata": {},
   "outputs": [
    {
     "ename": "LoadError",
     "evalue": "MethodError: no method matching Highs_getBasis(::Model)\n\n\u001b[0mClosest candidates are:\n\u001b[0m  Highs_getBasis(::Any, \u001b[91m::Any\u001b[39m, \u001b[91m::Any\u001b[39m)\n\u001b[0m\u001b[90m   @\u001b[39m \u001b[36mHiGHS\u001b[39m \u001b[90mC:\\Users\\maximiko\\.julia\\packages\\HiGHS\\zTMN2\\src\\gen\\\u001b[39m\u001b[90m\u001b[4mlibhighs.jl:831\u001b[24m\u001b[39m\n",
     "output_type": "error",
     "traceback": [
      "MethodError: no method matching Highs_getBasis(::Model)\n\n\u001b[0mClosest candidates are:\n\u001b[0m  Highs_getBasis(::Any, \u001b[91m::Any\u001b[39m, \u001b[91m::Any\u001b[39m)\n\u001b[0m\u001b[90m   @\u001b[39m \u001b[36mHiGHS\u001b[39m \u001b[90mC:\\Users\\maximiko\\.julia\\packages\\HiGHS\\zTMN2\\src\\gen\\\u001b[39m\u001b[90m\u001b[4mlibhighs.jl:831\u001b[24m\u001b[39m\n",
      "",
      "Stacktrace:",
      " [1] top-level scope",
      "   @ In[39]:1"
     ]
    }
   ],
   "source": [
    "HiGHS.Highs_getBasis(primal)"
   ]
  },
  {
   "cell_type": "code",
   "execution_count": 10,
   "metadata": {},
   "outputs": [
    {
     "data": {
      "text/plain": [
       "A JuMP Model\n",
       "Minimization problem with:\n",
       "Variables: 5\n",
       "Objective function type: AffExpr\n",
       "`AffExpr`-in-`MathOptInterface.GreaterThan{Float64}`: 3 constraints\n",
       "`AffExpr`-in-`MathOptInterface.LessThan{Float64}`: 4 constraints\n",
       "`VariableRef`-in-`MathOptInterface.GreaterThan{Float64}`: 5 constraints\n",
       "Model mode: AUTOMATIC\n",
       "CachingOptimizer state: ATTACHED_OPTIMIZER\n",
       "Solver name: GLPK\n",
       "Names registered in the model: con, z"
      ]
     },
     "execution_count": 10,
     "metadata": {},
     "output_type": "execute_result"
    }
   ],
   "source": [
    "primal"
   ]
  },
  {
   "cell_type": "code",
   "execution_count": 45,
   "metadata": {},
   "outputs": [
    {
     "ename": "LoadError",
     "evalue": "MethodError: no method matching unsafe_convert(::Type{Ptr{Int32}}, ::Int32)\n\n\u001b[0mClosest candidates are:\n\u001b[0m  unsafe_convert(::Type{Ptr{T}}, \u001b[91m::SharedArrays.SharedArray{T}\u001b[39m) where T\n\u001b[0m\u001b[90m   @\u001b[39m \u001b[32mSharedArrays\u001b[39m \u001b[90mC:\\Users\\maximiko\\AppData\\Local\\Programs\\Julia-1.9.0\\share\\julia\\stdlib\\v1.9\\SharedArrays\\src\\\u001b[39m\u001b[90m\u001b[4mSharedArrays.jl:361\u001b[24m\u001b[39m\n\u001b[0m  unsafe_convert(::Type{Ptr{T}}, \u001b[91m::SharedArrays.SharedArray\u001b[39m) where T\n\u001b[0m\u001b[90m   @\u001b[39m \u001b[32mSharedArrays\u001b[39m \u001b[90mC:\\Users\\maximiko\\AppData\\Local\\Programs\\Julia-1.9.0\\share\\julia\\stdlib\\v1.9\\SharedArrays\\src\\\u001b[39m\u001b[90m\u001b[4mSharedArrays.jl:362\u001b[24m\u001b[39m\n\u001b[0m  unsafe_convert(::Type{Ptr{T}}, \u001b[91m::SparseArrays.ReadOnly\u001b[39m) where T\n\u001b[0m\u001b[90m   @\u001b[39m \u001b[33mSparseArrays\u001b[39m \u001b[90mC:\\Users\\maximiko\\AppData\\Local\\Programs\\Julia-1.9.0\\share\\julia\\stdlib\\v1.9\\SparseArrays\\src\\\u001b[39m\u001b[90m\u001b[4mreadonly.jl:23\u001b[24m\u001b[39m\n\u001b[0m  ...\n",
     "output_type": "error",
     "traceback": [
      "MethodError: no method matching unsafe_convert(::Type{Ptr{Int32}}, ::Int32)\n\n\u001b[0mClosest candidates are:\n\u001b[0m  unsafe_convert(::Type{Ptr{T}}, \u001b[91m::SharedArrays.SharedArray{T}\u001b[39m) where T\n\u001b[0m\u001b[90m   @\u001b[39m \u001b[32mSharedArrays\u001b[39m \u001b[90mC:\\Users\\maximiko\\AppData\\Local\\Programs\\Julia-1.9.0\\share\\julia\\stdlib\\v1.9\\SharedArrays\\src\\\u001b[39m\u001b[90m\u001b[4mSharedArrays.jl:361\u001b[24m\u001b[39m\n\u001b[0m  unsafe_convert(::Type{Ptr{T}}, \u001b[91m::SharedArrays.SharedArray\u001b[39m) where T\n\u001b[0m\u001b[90m   @\u001b[39m \u001b[32mSharedArrays\u001b[39m \u001b[90mC:\\Users\\maximiko\\AppData\\Local\\Programs\\Julia-1.9.0\\share\\julia\\stdlib\\v1.9\\SharedArrays\\src\\\u001b[39m\u001b[90m\u001b[4mSharedArrays.jl:362\u001b[24m\u001b[39m\n\u001b[0m  unsafe_convert(::Type{Ptr{T}}, \u001b[91m::SparseArrays.ReadOnly\u001b[39m) where T\n\u001b[0m\u001b[90m   @\u001b[39m \u001b[33mSparseArrays\u001b[39m \u001b[90mC:\\Users\\maximiko\\AppData\\Local\\Programs\\Julia-1.9.0\\share\\julia\\stdlib\\v1.9\\SparseArrays\\src\\\u001b[39m\u001b[90m\u001b[4mreadonly.jl:23\u001b[24m\u001b[39m\n\u001b[0m  ...\n",
      "",
      "Stacktrace:",
      " [1] Highs_getObjectiveSense(highs::Ptr{Nothing}, sense::Int32)",
      "   @ HiGHS C:\\Users\\maximiko\\.julia\\packages\\HiGHS\\zTMN2\\src\\gen\\libhighs.jl:1604",
      " [2] top-level scope",
      "   @ In[45]:1"
     ]
    }
   ],
   "source": [
    "HiGHS.Highs_getObjectiveSense(highs, kHighsObjSenseMinimize)"
   ]
  },
  {
   "cell_type": "code",
   "execution_count": 49,
   "metadata": {},
   "outputs": [
    {
     "data": {
      "text/plain": [
       "1"
      ]
     },
     "execution_count": 49,
     "metadata": {},
     "output_type": "execute_result"
    }
   ],
   "source": [
    "HiGHS.Highs_versionMajor()"
   ]
  },
  {
   "cell_type": "code",
   "execution_count": 18,
   "metadata": {},
   "outputs": [],
   "source": [
    "rm(\"model.lp\", recursive=true)"
   ]
  },
  {
   "cell_type": "code",
   "execution_count": 19,
   "metadata": {},
   "outputs": [],
   "source": [
    "write_to_file(primal, \"model.lp\")"
   ]
  },
  {
   "cell_type": "code",
   "execution_count": 21,
   "metadata": {},
   "outputs": [
    {
     "name": "stdout",
     "output_type": "stream",
     "text": [
      "Running HiGHS 1.6.0: Copyright (c) 2023 HiGHS under MIT licence terms\n"
     ]
    },
    {
     "data": {
      "text/plain": [
       "0"
      ]
     },
     "execution_count": 21,
     "metadata": {},
     "output_type": "execute_result"
    }
   ],
   "source": [
    "HiGHS.Highs_readModel(highs, \"model.lp\")"
   ]
  },
  {
   "cell_type": "code",
   "execution_count": 22,
   "metadata": {},
   "outputs": [
    {
     "data": {
      "text/plain": [
       "0"
      ]
     },
     "execution_count": 22,
     "metadata": {},
     "output_type": "execute_result"
    }
   ],
   "source": [
    "HiGHS.Highs_getModelStatus(highs)"
   ]
  },
  {
   "cell_type": "code",
   "execution_count": null,
   "metadata": {},
   "outputs": [],
   "source": []
  },
  {
   "cell_type": "code",
   "execution_count": 57,
   "metadata": {},
   "outputs": [
    {
     "data": {
      "text/plain": [
       "Base.RefValue{Int32}(0)"
      ]
     },
     "execution_count": 57,
     "metadata": {},
     "output_type": "execute_result"
    }
   ],
   "source": [
    "senseP = Ref{Cint}(0)"
   ]
  },
  {
   "cell_type": "code",
   "execution_count": 58,
   "metadata": {},
   "outputs": [
    {
     "data": {
      "text/plain": [
       "0"
      ]
     },
     "execution_count": 58,
     "metadata": {},
     "output_type": "execute_result"
    }
   ],
   "source": [
    "HiGHS.Highs_getObjectiveSense(highs, senseP)"
   ]
  },
  {
   "cell_type": "code",
   "execution_count": 62,
   "metadata": {},
   "outputs": [
    {
     "data": {
      "text/plain": [
       "1"
      ]
     },
     "execution_count": 62,
     "metadata": {},
     "output_type": "execute_result"
    }
   ],
   "source": [
    "senseP[]# == kHighsObjSenseMinimize"
   ]
  },
  {
   "cell_type": "code",
   "execution_count": null,
   "metadata": {},
   "outputs": [],
   "source": []
  },
  {
   "cell_type": "code",
   "execution_count": null,
   "metadata": {},
   "outputs": [],
   "source": []
  },
  {
   "cell_type": "code",
   "execution_count": null,
   "metadata": {},
   "outputs": [],
   "source": []
  },
  {
   "cell_type": "code",
   "execution_count": 12,
   "metadata": {},
   "outputs": [
    {
     "data": {
      "text/plain": [
       "A JuMP Model\n",
       "Minimization problem with:\n",
       "Variables: 5\n",
       "Objective function type: AffExpr\n",
       "`AffExpr`-in-`MathOptInterface.GreaterThan{Float64}`: 3 constraints\n",
       "`AffExpr`-in-`MathOptInterface.LessThan{Float64}`: 4 constraints\n",
       "`VariableRef`-in-`MathOptInterface.GreaterThan{Float64}`: 5 constraints\n",
       "Model mode: AUTOMATIC\n",
       "CachingOptimizer state: ATTACHED_OPTIMIZER\n",
       "Solver name: GLPK\n",
       "Names registered in the model: con, z"
      ]
     },
     "execution_count": 12,
     "metadata": {},
     "output_type": "execute_result"
    }
   ],
   "source": [
    "src = primal"
   ]
  },
  {
   "cell_type": "code",
   "execution_count": 13,
   "metadata": {},
   "outputs": [
    {
     "data": {
      "text/plain": [
       "A .LP-file model"
      ]
     },
     "execution_count": 13,
     "metadata": {},
     "output_type": "execute_result"
    }
   ],
   "source": [
    "dest = MOI.FileFormats.Model(format = MOI.FileFormats.FORMAT_LP)"
   ]
  },
  {
   "cell_type": "code",
   "execution_count": 14,
   "metadata": {},
   "outputs": [
    {
     "data": {
      "text/plain": [
       "MathOptInterface.Utilities.IndexMap with 17 entries:\n",
       "  MOI.VariableIndex(1)      => MOI.VariableIndex(1)\n",
       "  MOI.VariableIndex(2)      => MOI.VariableIndex(2)\n",
       "  MOI.VariableIndex(3)      => MOI.VariableIndex(3)\n",
       "  MOI.VariableIndex(4)      => MOI.VariableIndex(4)\n",
       "  MOI.VariableIndex(5)      => MOI.VariableIndex(5)\n",
       "  ConstraintIndex{ScalarAf… => ConstraintIndex{ScalarAffineFunction{Float64}, L…\n",
       "  ConstraintIndex{ScalarAf… => ConstraintIndex{ScalarAffineFunction{Float64}, L…\n",
       "  ConstraintIndex{ScalarAf… => ConstraintIndex{ScalarAffineFunction{Float64}, L…\n",
       "  ConstraintIndex{ScalarAf… => ConstraintIndex{ScalarAffineFunction{Float64}, L…\n",
       "  ConstraintIndex{Variable… => ConstraintIndex{VariableIndex, GreaterThan{Float…\n",
       "  ConstraintIndex{Variable… => ConstraintIndex{VariableIndex, GreaterThan{Float…\n",
       "  ConstraintIndex{Variable… => ConstraintIndex{VariableIndex, GreaterThan{Float…\n",
       "  ConstraintIndex{Variable… => ConstraintIndex{VariableIndex, GreaterThan{Float…\n",
       "  ConstraintIndex{Variable… => ConstraintIndex{VariableIndex, GreaterThan{Float…\n",
       "  ConstraintIndex{ScalarAf… => ConstraintIndex{ScalarAffineFunction{Float64}, G…\n",
       "  ConstraintIndex{ScalarAf… => ConstraintIndex{ScalarAffineFunction{Float64}, G…\n",
       "  ConstraintIndex{ScalarAf… => ConstraintIndex{ScalarAffineFunction{Float64}, G…"
      ]
     },
     "execution_count": 14,
     "metadata": {},
     "output_type": "execute_result"
    }
   ],
   "source": [
    "MOI.copy_to(dest, src);"
   ]
  },
  {
   "cell_type": "code",
   "execution_count": 41,
   "metadata": {},
   "outputs": [],
   "source": [
    "io = IOBuffer();"
   ]
  },
  {
   "cell_type": "code",
   "execution_count": 16,
   "metadata": {},
   "outputs": [],
   "source": [
    "#write(io, dest)"
   ]
  },
  {
   "cell_type": "code",
   "execution_count": 29,
   "metadata": {},
   "outputs": [],
   "source": [
    "write(io, src)"
   ]
  },
  {
   "cell_type": "code",
   "execution_count": 17,
   "metadata": {},
   "outputs": [],
   "source": [
    "seekstart(io);"
   ]
  },
  {
   "cell_type": "code",
   "execution_count": 18,
   "metadata": {},
   "outputs": [
    {
     "data": {
      "text/plain": [
       "Ptr{Nothing} @0x00000214b2fe8060"
      ]
     },
     "execution_count": 18,
     "metadata": {},
     "output_type": "execute_result"
    }
   ],
   "source": [
    "highs = HiGHS.Highs_create();"
   ]
  },
  {
   "cell_type": "code",
   "execution_count": 42,
   "metadata": {},
   "outputs": [
    {
     "data": {
      "text/plain": [
       "Ptr{Nothing}"
      ]
     },
     "execution_count": 42,
     "metadata": {},
     "output_type": "execute_result"
    }
   ],
   "source": [
    "typeof(highs)"
   ]
  },
  {
   "cell_type": "code",
   "execution_count": 39,
   "metadata": {},
   "outputs": [
    {
     "data": {
      "text/plain": [
       "Ptr{Nothing} @0x00000214b2fe8060"
      ]
     },
     "execution_count": 39,
     "metadata": {},
     "output_type": "execute_result"
    }
   ],
   "source": [
    "read!(io, highs)"
   ]
  },
  {
   "cell_type": "code",
   "execution_count": 31,
   "metadata": {},
   "outputs": [
    {
     "data": {
      "text/plain": [
       "6"
      ]
     },
     "execution_count": 31,
     "metadata": {},
     "output_type": "execute_result"
    }
   ],
   "source": [
    "HiGHS.Highs_getModelStatus(highs)"
   ]
  },
  {
   "cell_type": "code",
   "execution_count": 30,
   "metadata": {},
   "outputs": [
    {
     "ename": "LoadError",
     "evalue": "MethodError: no method matching unsafe_convert(::Type{Ptr{Int8}}, ::IOBuffer)\n\n\u001b[0mClosest candidates are:\n\u001b[0m  unsafe_convert(::Union{Cstring, Type{Ptr{Int8}}, Type{Ptr{UInt8}}}, \u001b[91m::LaTeXStrings.LaTeXString\u001b[39m)\n\u001b[0m\u001b[90m   @\u001b[39m \u001b[36mLaTeXStrings\u001b[39m \u001b[90mC:\\Users\\maximiko\\.julia\\packages\\LaTeXStrings\\pJ7vn\\src\\\u001b[39m\u001b[90m\u001b[4mLaTeXStrings.jl:129\u001b[24m\u001b[39m\n\u001b[0m  unsafe_convert(::Type{Ptr{T}}, \u001b[91m::SharedArrays.SharedArray{T}\u001b[39m) where T\n\u001b[0m\u001b[90m   @\u001b[39m \u001b[32mSharedArrays\u001b[39m \u001b[90mC:\\Users\\maximiko\\AppData\\Local\\Programs\\Julia-1.9.0\\share\\julia\\stdlib\\v1.9\\SharedArrays\\src\\\u001b[39m\u001b[90m\u001b[4mSharedArrays.jl:361\u001b[24m\u001b[39m\n\u001b[0m  unsafe_convert(::Type{Ptr{T}}, \u001b[91m::SharedArrays.SharedArray\u001b[39m) where T\n\u001b[0m\u001b[90m   @\u001b[39m \u001b[32mSharedArrays\u001b[39m \u001b[90mC:\\Users\\maximiko\\AppData\\Local\\Programs\\Julia-1.9.0\\share\\julia\\stdlib\\v1.9\\SharedArrays\\src\\\u001b[39m\u001b[90m\u001b[4mSharedArrays.jl:362\u001b[24m\u001b[39m\n\u001b[0m  ...\n",
     "output_type": "error",
     "traceback": [
      "MethodError: no method matching unsafe_convert(::Type{Ptr{Int8}}, ::IOBuffer)\n\n\u001b[0mClosest candidates are:\n\u001b[0m  unsafe_convert(::Union{Cstring, Type{Ptr{Int8}}, Type{Ptr{UInt8}}}, \u001b[91m::LaTeXStrings.LaTeXString\u001b[39m)\n\u001b[0m\u001b[90m   @\u001b[39m \u001b[36mLaTeXStrings\u001b[39m \u001b[90mC:\\Users\\maximiko\\.julia\\packages\\LaTeXStrings\\pJ7vn\\src\\\u001b[39m\u001b[90m\u001b[4mLaTeXStrings.jl:129\u001b[24m\u001b[39m\n\u001b[0m  unsafe_convert(::Type{Ptr{T}}, \u001b[91m::SharedArrays.SharedArray{T}\u001b[39m) where T\n\u001b[0m\u001b[90m   @\u001b[39m \u001b[32mSharedArrays\u001b[39m \u001b[90mC:\\Users\\maximiko\\AppData\\Local\\Programs\\Julia-1.9.0\\share\\julia\\stdlib\\v1.9\\SharedArrays\\src\\\u001b[39m\u001b[90m\u001b[4mSharedArrays.jl:361\u001b[24m\u001b[39m\n\u001b[0m  unsafe_convert(::Type{Ptr{T}}, \u001b[91m::SharedArrays.SharedArray\u001b[39m) where T\n\u001b[0m\u001b[90m   @\u001b[39m \u001b[32mSharedArrays\u001b[39m \u001b[90mC:\\Users\\maximiko\\AppData\\Local\\Programs\\Julia-1.9.0\\share\\julia\\stdlib\\v1.9\\SharedArrays\\src\\\u001b[39m\u001b[90m\u001b[4mSharedArrays.jl:362\u001b[24m\u001b[39m\n\u001b[0m  ...\n",
      "",
      "Stacktrace:",
      " [1] Highs_readModel(highs::Ptr{Nothing}, filename::IOBuffer)",
      "   @ HiGHS C:\\Users\\maximiko\\.julia\\packages\\HiGHS\\zTMN2\\src\\gen\\libhighs.jl:210",
      " [2] top-level scope",
      "   @ In[30]:1"
     ]
    }
   ],
   "source": [
    "HiGHS.Highs_readModel(highs, io)"
   ]
  },
  {
   "cell_type": "code",
   "execution_count": null,
   "metadata": {},
   "outputs": [],
   "source": []
  },
  {
   "cell_type": "code",
   "execution_count": null,
   "metadata": {},
   "outputs": [],
   "source": []
  },
  {
   "cell_type": "code",
   "execution_count": null,
   "metadata": {},
   "outputs": [],
   "source": []
  },
  {
   "cell_type": "code",
   "execution_count": null,
   "metadata": {},
   "outputs": [],
   "source": []
  },
  {
   "cell_type": "code",
   "execution_count": null,
   "metadata": {},
   "outputs": [],
   "source": []
  },
  {
   "cell_type": "code",
   "execution_count": null,
   "metadata": {},
   "outputs": [],
   "source": []
  },
  {
   "cell_type": "code",
   "execution_count": 23,
   "metadata": {},
   "outputs": [
    {
     "name": "stdout",
     "output_type": "stream",
     "text": [
      "Presolving model\n",
      "7 rows, 5 cols, 31 nonzeros\n",
      "7 rows, 5 cols, 31 nonzeros\n",
      "Presolve : Reductions: rows 7(-0); columns 5(-0); elements 31(-0) - Not reduced\n",
      "Problem not reduced by presolve: solving the LP\n",
      "Using EKK dual simplex solver - serial\n",
      "  Iteration        Objective     Infeasibilities num(sum)\n",
      "          0     0.0000000000e+00 Pr: 3(37.625) 0s\n",
      "          6     1.2400000000e+02 Pr: 0(0) 0s\n",
      "Model   status      : Optimal\n",
      "Simplex   iterations: 6\n",
      "Objective value     :  1.2400000000e+02\n",
      "HiGHS run time      :          0.01\n"
     ]
    },
    {
     "data": {
      "text/plain": [
       "0"
      ]
     },
     "execution_count": 23,
     "metadata": {},
     "output_type": "execute_result"
    }
   ],
   "source": [
    "HiGHS.Highs_run(highs)"
   ]
  },
  {
   "cell_type": "code",
   "execution_count": null,
   "metadata": {},
   "outputs": [],
   "source": []
  },
  {
   "cell_type": "code",
   "execution_count": null,
   "metadata": {},
   "outputs": [],
   "source": []
  },
  {
   "cell_type": "code",
   "execution_count": 68,
   "metadata": {},
   "outputs": [],
   "source": [
    "col_value = zeros(Cdouble, 10);"
   ]
  },
  {
   "cell_type": "code",
   "execution_count": 69,
   "metadata": {},
   "outputs": [
    {
     "data": {
      "text/plain": [
       "0"
      ]
     },
     "execution_count": 69,
     "metadata": {},
     "output_type": "execute_result"
    }
   ],
   "source": [
    "HiGHS.Highs_getSolution(highs, col_value, C_NULL, C_NULL, C_NULL)"
   ]
  },
  {
   "cell_type": "code",
   "execution_count": 70,
   "metadata": {},
   "outputs": [
    {
     "data": {
      "text/plain": [
       "10-element Vector{Float64}:\n",
       " 0.9999999999999967\n",
       " 1.0000000000000007\n",
       " 1.000000000000001\n",
       " 0.9999999999999974\n",
       " 0.9999999999999962\n",
       " 0.0\n",
       " 0.0\n",
       " 0.0\n",
       " 0.0\n",
       " 0.0"
      ]
     },
     "execution_count": 70,
     "metadata": {},
     "output_type": "execute_result"
    }
   ],
   "source": [
    "col_value"
   ]
  },
  {
   "cell_type": "code",
   "execution_count": null,
   "metadata": {},
   "outputs": [],
   "source": []
  },
  {
   "cell_type": "code",
   "execution_count": null,
   "metadata": {},
   "outputs": [],
   "source": []
  },
  {
   "cell_type": "code",
   "execution_count": 45,
   "metadata": {},
   "outputs": [
    {
     "data": {
      "text/plain": [
       "7"
      ]
     },
     "execution_count": 45,
     "metadata": {},
     "output_type": "execute_result"
    }
   ],
   "source": [
    "HiGHS.HiGHS.Highs_getNumRow(highs)"
   ]
  },
  {
   "cell_type": "code",
   "execution_count": 73,
   "metadata": {},
   "outputs": [
    {
     "data": {
      "text/plain": [
       "5"
      ]
     },
     "execution_count": 73,
     "metadata": {},
     "output_type": "execute_result"
    }
   ],
   "source": [
    "HiGHS.HiGHS.Highs_getNumCol(highs)"
   ]
  },
  {
   "cell_type": "code",
   "execution_count": 74,
   "metadata": {},
   "outputs": [
    {
     "data": {
      "text/plain": [
       "31"
      ]
     },
     "execution_count": 74,
     "metadata": {},
     "output_type": "execute_result"
    }
   ],
   "source": [
    "HiGHS.HiGHS.Highs_getNumNz(highs)"
   ]
  },
  {
   "cell_type": "code",
   "execution_count": 75,
   "metadata": {},
   "outputs": [
    {
     "data": {
      "text/plain": [
       "65"
      ]
     },
     "execution_count": 75,
     "metadata": {},
     "output_type": "execute_result"
    }
   ],
   "source": [
    "HiGHS.HiGHS.Highs_getNumOptions(highs)"
   ]
  },
  {
   "cell_type": "code",
   "execution_count": 76,
   "metadata": {},
   "outputs": [
    {
     "data": {
      "text/plain": [
       "123.99999999999999"
      ]
     },
     "execution_count": 76,
     "metadata": {},
     "output_type": "execute_result"
    }
   ],
   "source": [
    "HiGHS.Highs_getObjectiveValue(highs)"
   ]
  },
  {
   "cell_type": "code",
   "execution_count": null,
   "metadata": {},
   "outputs": [],
   "source": []
  },
  {
   "cell_type": "code",
   "execution_count": 24,
   "metadata": {},
   "outputs": [
    {
     "data": {
      "text/plain": [
       "7"
      ]
     },
     "execution_count": 24,
     "metadata": {},
     "output_type": "execute_result"
    }
   ],
   "source": [
    "nrows = HiGHS.HiGHS.Highs_getNumRow(highs)"
   ]
  },
  {
   "cell_type": "code",
   "execution_count": 62,
   "metadata": {},
   "outputs": [
    {
     "data": {
      "text/plain": [
       "7-element Vector{Float64}:\n",
       " 0.0\n",
       " 0.0\n",
       " 0.0\n",
       " 0.0\n",
       " 0.0\n",
       " 0.0\n",
       " 0.0"
      ]
     },
     "execution_count": 62,
     "metadata": {},
     "output_type": "execute_result"
    }
   ],
   "source": [
    "basic_variables = zeros(nrows)"
   ]
  },
  {
   "cell_type": "code",
   "execution_count": 25,
   "metadata": {},
   "outputs": [
    {
     "data": {
      "text/plain": [
       "7-element Vector{Float64}:\n",
       " NaN\n",
       " NaN\n",
       " NaN\n",
       " NaN\n",
       " NaN\n",
       " NaN\n",
       " NaN"
      ]
     },
     "execution_count": 25,
     "metadata": {},
     "output_type": "execute_result"
    }
   ],
   "source": [
    "basic_variables = fill(NaN, nrows)"
   ]
  },
  {
   "cell_type": "code",
   "execution_count": 63,
   "metadata": {},
   "outputs": [
    {
     "data": {
      "text/plain": [
       "7-element Vector{Tuple{Nothing, Nothing}}:\n",
       " (nothing, nothing)\n",
       " (nothing, nothing)\n",
       " (nothing, nothing)\n",
       " (nothing, nothing)\n",
       " (nothing, nothing)\n",
       " (nothing, nothing)\n",
       " (nothing, nothing)"
      ]
     },
     "execution_count": 63,
     "metadata": {},
     "output_type": "execute_result"
    }
   ],
   "source": [
    "#citArr = map(1:nrows) do i\n",
    "    x1 = nothing\n",
    "    y1 = nothing\n",
    "    (x1, y1)\n",
    "  end"
   ]
  },
  {
   "cell_type": "code",
   "execution_count": 23,
   "metadata": {},
   "outputs": [
    {
     "data": {
      "text/plain": [
       "7-element Vector{Any}:\n",
       " nothing\n",
       " nothing\n",
       " nothing\n",
       " nothing\n",
       " nothing\n",
       " nothing\n",
       " nothing"
      ]
     },
     "execution_count": 23,
     "metadata": {},
     "output_type": "execute_result"
    }
   ],
   "source": [
    "#arr = Array{Union{Nothing, Any}}(nothing, nrows)"
   ]
  },
  {
   "cell_type": "code",
   "execution_count": 56,
   "metadata": {},
   "outputs": [
    {
     "data": {
      "text/plain": [
       "Ptr{Nothing} @0x00000214b2fe8060"
      ]
     },
     "execution_count": 56,
     "metadata": {},
     "output_type": "execute_result"
    }
   ],
   "source": [
    "highs"
   ]
  },
  {
   "cell_type": "markdown",
   "metadata": {},
   "source": [
    "I noticed that getBasicVariables returns an array, presumably filled with tuples. The docs say that an array is returned with {1,-1} as an entry for example.."
   ]
  },
  {
   "cell_type": "code",
   "execution_count": 24,
   "metadata": {},
   "outputs": [
    {
     "data": {
      "text/plain": [
       "0"
      ]
     },
     "execution_count": 24,
     "metadata": {},
     "output_type": "execute_result"
    }
   ],
   "source": [
    "HiGHS.Highs_getBasicVariables(highs, arr)#basic_variables)"
   ]
  },
  {
   "cell_type": "code",
   "execution_count": 25,
   "metadata": {},
   "outputs": [
    {
     "ename": "",
     "evalue": "",
     "output_type": "error",
     "traceback": [
      "\u001b[1;31mThe Kernel crashed while executing code in the the current cell or a previous cell. Please review the code in the cell(s) to identify a possible cause of the failure. Click <a href='https://aka.ms/vscodeJupyterKernelCrash'>here</a> for more info. View Jupyter <a href='command:jupyter.viewOutput'>log</a> for further details."
     ]
    }
   ],
   "source": [
    "arr"
   ]
  },
  {
   "cell_type": "code",
   "execution_count": 26,
   "metadata": {},
   "outputs": [
    {
     "data": {
      "text/plain": [
       "0"
      ]
     },
     "execution_count": 26,
     "metadata": {},
     "output_type": "execute_result"
    }
   ],
   "source": [
    "HiGHS.Highs_getBasicVariables(highs, basic_variables)"
   ]
  },
  {
   "cell_type": "code",
   "execution_count": 27,
   "metadata": {},
   "outputs": [
    {
     "data": {
      "text/plain": [
       "7-element Vector{Float64}:\n",
       "   1.06099789543e-313\n",
       "   8.4879831624e-314\n",
       "   5.0e-324\n",
       " NaN\n",
       " NaN\n",
       " NaN\n",
       " NaN"
      ]
     },
     "execution_count": 27,
     "metadata": {},
     "output_type": "execute_result"
    }
   ],
   "source": [
    "basic_variables"
   ]
  },
  {
   "cell_type": "markdown",
   "metadata": {},
   "source": [
    "I should probably pass \"basic_variables\" as an array?!"
   ]
  },
  {
   "cell_type": "code",
   "execution_count": null,
   "metadata": {},
   "outputs": [],
   "source": []
  },
  {
   "cell_type": "code",
   "execution_count": null,
   "metadata": {},
   "outputs": [],
   "source": []
  },
  {
   "cell_type": "code",
   "execution_count": 54,
   "metadata": {},
   "outputs": [
    {
     "name": "stdout",
     "output_type": "stream",
     "text": [
      "[75.0 32.0 0.0; 34.0 50.0 18.0; 22.0 2.0 64.0; 0.0 12.0 47.0; 5.0 0.0 38.0]\n"
     ]
    }
   ],
   "source": [
    "println(dict_m[\"V\"])"
   ]
  },
  {
   "cell_type": "code",
   "execution_count": 61,
   "metadata": {},
   "outputs": [
    {
     "name": "stdout",
     "output_type": "stream",
     "text": [
      "7×12 SparseArrays.SparseMatrixCSC{Float64, Int64} with 38 stored entries:\n",
      "  10.0        1.66667  15.0          ⋅          0.833333  -1.0    ⋅     ⋅     ⋅     ⋅     ⋅     ⋅ \n",
      "    ⋅         4.72222   0.277778    0.277778    1.38889     ⋅   -1.0    ⋅     ⋅     ⋅     ⋅     ⋅ \n",
      "   1.11111     ⋅        5.92593     0.37037     0.740741    ⋅     ⋅   -1.0    ⋅     ⋅     ⋅     ⋅ \n",
      "   2.38095    3.33333  13.8095      0.952381    0.952381    ⋅     ⋅     ⋅   -1.0    ⋅     ⋅     ⋅ \n",
      "  75.0       24.0       7.0       -38.0       -17.0         ⋅     ⋅     ⋅     ⋅   -1.0    ⋅     ⋅ \n",
      "  -6.0       43.0      -7.0        12.0          ⋅          ⋅     ⋅     ⋅     ⋅     ⋅   -1.0    ⋅ \n",
      " -49.0      -41.0      64.0        30.0        27.0         ⋅     ⋅     ⋅     ⋅     ⋅     ⋅   -1.0"
     ]
    }
   ],
   "source": [
    "show(stdout, \"text/plain\", std_form.A)"
   ]
  },
  {
   "cell_type": "code",
   "execution_count": 64,
   "metadata": {},
   "outputs": [
    {
     "data": {
      "text/plain": [
       "(columns = Dict{VariableRef, Int64}(z[4] => 4, z[5] => 5, z[2] => 2, z[1] => 1, z[3] => 3), lower = [0.0, 0.0, 0.0, 0.0, 0.0, -Inf, -Inf, -Inf, -Inf, 51.0, 42.0, 31.0], upper = [Inf, Inf, Inf, Inf, Inf, 27.499999999999996, 6.666666666666666, 8.148148148148147, 21.428571428571427, Inf, Inf, Inf], A = sparse([1, 3, 4, 5, 6, 7, 1, 2, 4, 5  …  4, 5, 7, 1, 2, 3, 4, 5, 6, 7], [1, 1, 1, 1, 1, 1, 2, 2, 2, 2, 2, 2, 3, 3, 3, 3, 3, 3, 3, 4, 4, 4, 4, 4, 4, 5, 5, 5, 5, 5, 5, 6, 7, 8, 9, 10, 11, 12], [10.0, 1.1111111111111112, 2.380952380952381, 75.0, -6.0, -49.0, 1.6666666666666667, 4.722222222222222, 3.333333333333333, 24.0  …  0.9523809523809523, -17.0, 27.0, -1.0, -1.0, -1.0, -1.0, -1.0, -1.0, -1.0], 7, 12), bounds = ConstraintRef[z[1] >= 0, z[2] >= 0, z[3] >= 0, z[4] >= 0, z[5] >= 0], constraints = ConstraintRef[factors : 10 z[1] + 1.6666666666666667 z[2] + 15 z[3] + 0.8333333333333334 z[5] <= 27.499999999999996, factors : 4.722222222222222 z[2] + 0.2777777777777778 z[3] + 0.2777777777777778 z[4] + 1.3888888888888888 z[5] <= 6.666666666666666, factors : 1.1111111111111112 z[1] + 5.925925925925926 z[3] + 0.37037037037037035 z[4] + 0.7407407407407407 z[5] <= 8.148148148148147, factors : 2.380952380952381 z[1] + 3.333333333333333 z[2] + 13.809523809523808 z[3] + 0.9523809523809523 z[4] + 0.9523809523809523 z[5] <= 21.428571428571427, goods : 75 z[1] + 24 z[2] + 7 z[3] - 38 z[4] - 17 z[5] >= 51, goods : -6 z[1] + 43 z[2] - 7 z[3] + 12 z[4] >= 42, goods : -49 z[1] - 41 z[2] + 64 z[3] + 30 z[4] + 27 z[5] >= 31])"
      ]
     },
     "execution_count": 64,
     "metadata": {},
     "output_type": "execute_result"
    }
   ],
   "source": [
    "std_form"
   ]
  },
  {
   "cell_type": "code",
   "execution_count": 38,
   "metadata": {},
   "outputs": [
    {
     "data": {
      "text/plain": [
       "(variables = MathOptInterface.BasisStatusCode[MathOptInterface.BASIC, MathOptInterface.BASIC, MathOptInterface.BASIC, MathOptInterface.BASIC, MathOptInterface.BASIC], bounds = MathOptInterface.BasisStatusCode[MathOptInterface.BASIC, MathOptInterface.BASIC, MathOptInterface.BASIC, MathOptInterface.BASIC, MathOptInterface.BASIC], constraints = MathOptInterface.BasisStatusCode[MathOptInterface.BASIC, MathOptInterface.NONBASIC_AT_UPPER, MathOptInterface.BASIC, MathOptInterface.NONBASIC_AT_UPPER, MathOptInterface.NONBASIC_AT_LOWER, MathOptInterface.NONBASIC_AT_LOWER, MathOptInterface.NONBASIC_AT_LOWER], basic_cols = Bool[1, 1, 1, 1, 1, 1, 0, 1, 0, 0, 0, 0])"
      ]
     },
     "execution_count": 38,
     "metadata": {},
     "output_type": "execute_result"
    }
   ],
   "source": [
    "std_form = JuMP._standard_form_matrix(primal)\n",
    "basis = JuMP._standard_form_basis(primal, std_form)"
   ]
  },
  {
   "cell_type": "code",
   "execution_count": 39,
   "metadata": {},
   "outputs": [
    {
     "data": {
      "text/plain": [
       "12-element BitVector:\n",
       " 1\n",
       " 1\n",
       " 1\n",
       " 1\n",
       " 1\n",
       " 1\n",
       " 0\n",
       " 1\n",
       " 0\n",
       " 0\n",
       " 0\n",
       " 0"
      ]
     },
     "execution_count": 39,
     "metadata": {},
     "output_type": "execute_result"
    }
   ],
   "source": [
    "basis.basic_cols"
   ]
  },
  {
   "cell_type": "code",
   "execution_count": 67,
   "metadata": {},
   "outputs": [
    {
     "data": {
      "text/plain": [
       "7-element Vector{MathOptInterface.BasisStatusCode}:\n",
       " BASIC::BasisStatusCode = 0\n",
       " NONBASIC_AT_UPPER::BasisStatusCode = 3\n",
       " BASIC::BasisStatusCode = 0\n",
       " NONBASIC_AT_UPPER::BasisStatusCode = 3\n",
       " NONBASIC_AT_LOWER::BasisStatusCode = 2\n",
       " NONBASIC_AT_LOWER::BasisStatusCode = 2\n",
       " NONBASIC_AT_LOWER::BasisStatusCode = 2"
      ]
     },
     "execution_count": 67,
     "metadata": {},
     "output_type": "execute_result"
    }
   ],
   "source": [
    "basis.constraints"
   ]
  },
  {
   "cell_type": "code",
   "execution_count": 50,
   "metadata": {},
   "outputs": [
    {
     "data": {
      "text/plain": [
       "Dict{Any, Any} with 8 entries:\n",
       "  \"U\"     => [0.0 10.0 … 38.0 22.0; 38.0 7.0 … 0.0 0.0; 49.0 59.0 … 17.0 11.0]\n",
       "  \"e\"     => [51.0; 42.0; 31.0;;]\n",
       "  \"pii\"   => [1.2; 3.6; 2.7; 2.1;;]\n",
       "  \"V\"     => [75.0 32.0 0.0; 34.0 50.0 18.0; … ; 0.0 12.0 47.0; 5.0 0.0 38.0]\n",
       "  \"F_alt\" => [0.0; 0.25; 0.1; 1.1;;]\n",
       "  \"V_alt\" => [0.0 0.0 32.0]\n",
       "  \"U_alt\" => [13.0; 24.0; 0.0;;]\n",
       "  \"F\"     => [10.0 1.66667 … 0.0 0.833333; 0.0 4.72222 … 0.277778 1.38889; 1.11…"
      ]
     },
     "execution_count": 50,
     "metadata": {},
     "output_type": "execute_result"
    }
   ],
   "source": [
    "dict_m"
   ]
  },
  {
   "cell_type": "code",
   "execution_count": null,
   "metadata": {},
   "outputs": [],
   "source": []
  },
  {
   "cell_type": "markdown",
   "metadata": {},
   "source": [
    "https://ergo-code.github.io/HiGHS/dev/interfaces/julia/\n",
    "\n",
    "https://ergo-code.github.io/HiGHS/dev/guide/basic/\n",
    "\n",
    "https://docs.juliahub.com/HiGHS/WFic5/1.7.5/autodocs/\n",
    "\n",
    "https://jump.dev/JuMP.jl/stable/background/algebraic_modeling_languages/\n",
    "\n",
    "https://github.com/jump-dev/GLPK.jl/blob/master/test/MOI_wrapper.jl"
   ]
  }
 ],
 "metadata": {
  "kernelspec": {
   "display_name": "RectangularChoiceDev 1.9.0",
   "language": "julia",
   "name": "rectangularchoicedev-1.9"
  },
  "language_info": {
   "file_extension": ".jl",
   "mimetype": "application/julia",
   "name": "julia",
   "version": "1.9.0"
  }
 },
 "nbformat": 4,
 "nbformat_minor": 2
}
