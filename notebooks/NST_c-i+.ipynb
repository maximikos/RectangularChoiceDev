{
 "cells": [
  {
   "cell_type": "code",
   "execution_count": null,
   "metadata": {},
   "outputs": [],
   "source": []
  },
  {
   "cell_type": "code",
   "execution_count": 1,
   "metadata": {},
   "outputs": [],
   "source": [
    "using LinearAlgebra\n",
    "using JuMP\n",
    "using GLPK\n",
    "using XLSX\n",
    "using Complementarity #not sure I need this one?\n",
    "using PATHSolver\n",
    "using Revise #not having to restart sessions\n",
    "#using Pandas #optional (only for EXIOBASE data)\n",
    "\n",
    "include(\"../src/SUT_structure.jl\") # Used for the SUT setup <sut = SUT.structure(...)>\n",
    "include(\"../src/Constructs.jl\") # Used to derive single-production systems from the SUT setup, e.g. as <itc = Constructs.ITC(sut)>\n",
    "include(\"../src/Auxiliary.jl\") # Includes some helper functions\n",
    "include(\"../src/Model_data.jl\") # Sets up the data structure for RCOT modelling based on SUT.structure or Constructs.construct\n",
    "include(\"../src/RCOT_model.jl\") # Builds and solves the RCOT models\n",
    "include(\"../src/LP_models.jl\"); # Builds and solves the LP models"
   ]
  },
  {
   "cell_type": "code",
   "execution_count": 2,
   "metadata": {},
   "outputs": [
    {
     "data": {
      "text/plain": [
       "XLSXFile(\"../data/SUT_c-i+.xlsx\") containing 4 Worksheets\n",
       "            sheetname size          range        \n",
       "-------------------------------------------------\n",
       "                    V 6x4           A1:D6        \n",
       "                  U+e 4x7           A1:G4        \n",
       "                    F 5x6           A1:F5        \n",
       "                   pi 5x2           A1:B5        \n"
      ]
     },
     "execution_count": 2,
     "metadata": {},
     "output_type": "execute_result"
    }
   ],
   "source": [
    "# Load the workbook\n",
    "xf = XLSX.readxlsx(\"../data/SUT_c-i+.xlsx\")"
   ]
  },
  {
   "cell_type": "code",
   "execution_count": 3,
   "metadata": {},
   "outputs": [],
   "source": [
    "# Get data from all worksheets and convert it to float64 data type\n",
    "V = convert(Matrix{Float64}, xf[\"V!B2:D6\"])\n",
    "U = convert(Matrix{Float64}, xf[\"U+e!B2:F4\"])\n",
    "e = convert(Matrix{Float64}, xf[\"U+e!G2:G4\"])\n",
    "F = convert(Matrix{Float64}, xf[\"F!B2:F5\"])\n",
    "pii = convert(Matrix{Float64}, xf[\"pi!B2:B5\"])\n",
    "t = xf[\"V!A1\"];"
   ]
  },
  {
   "cell_type": "code",
   "execution_count": 28,
   "metadata": {},
   "outputs": [
    {
     "name": "stderr",
     "output_type": "stream",
     "text": [
      "\u001b[36m\u001b[1m[ \u001b[22m\u001b[39m\u001b[36m\u001b[1mInfo: \u001b[22m\u001b[39mA structure for supply-use elements was set up. Changing individual elements will not change others automatically.\n"
     ]
    }
   ],
   "source": [
    "sut = SUT.structure(U,V,F,e,pii,t);"
   ]
  },
  {
   "cell_type": "code",
   "execution_count": 8,
   "metadata": {},
   "outputs": [
    {
     "data": {
      "text/plain": [
       "construct([136.0; 96.0; 167.0;;], [51.0; 42.0; 31.0;;], [9.641472868217054 12.97168343454485 62.38684369723809; 31.21884735202492 15.000403984873474 7.780748663101605; 55.291530826631885 47.03340135357168 33.675067819796425], [0.07089318285453716 0.1351217024431755 0.37357391435471915; 0.22955034817665385 0.15625420817576535 0.04659130935988985; 0.4065553737252344 0.48993126409970494 0.20164711269339178], [1.59833317316061 0.7144586737028918 0.7896046410737875; 0.49661851260095824 1.4487520746555465 0.3169312490909092; 1.11870313292003 1.2528995188783316 1.8491729170383386], [11.41180057475428 4.148556760568855 11.939642664676864; 1.8050172265288542 2.3776251212691895 2.484024318868623; 2.3464303251306076 0.5423046132692892 5.259413209748251; 6.343125890506894 2.8536048675862875 12.231840670478245], [0.08391029834378147 0.043214132922592234 0.0714948662555501; 0.013272185489182752 0.024766928346554046 0.014874397118973792; 0.017253164155372116 0.005649006388221764 0.031493492273941624; 0.04664063154784481 0.029725050704023825 0.07324455491304338], [27.5; 6.666666666666667; 8.148148148148149; 21.428571428571427;;], [27.499999999999996; 6.666666666666666; 8.148148148148147; 21.428571428571427;;], [1.2; 3.6; 2.7; 2.1;;], #undef, #undef, #undef)"
      ]
     },
     "execution_count": 8,
     "metadata": {},
     "output_type": "execute_result"
    }
   ],
   "source": [
    "itc = Constructs.ITC(sut)"
   ]
  },
  {
   "cell_type": "code",
   "execution_count": 9,
   "metadata": {},
   "outputs": [
    {
     "name": "stderr",
     "output_type": "stream",
     "text": [
      "\u001b[36m\u001b[1m[ \u001b[22m\u001b[39m\u001b[36m\u001b[1mInfo: \u001b[22m\u001b[39mYou are setting up an IO model dataset. Elements of this dataset are now treated independently, meaning that no recalculation whatsoever takes place when individual elements are changed.\n"
     ]
    },
    {
     "data": {
      "text/plain": [
       "construct([136.0; 96.0; 167.0;;], [51.0; 42.0; 31.0;;], [9.641472868217054 12.97168343454485 62.38684369723809; 31.21884735202492 15.000403984873474 7.780748663101605; 55.291530826631885 47.03340135357168 33.675067819796425], [0.07089318285453716 0.1351217024431755 0.37357391435471915; 0.22955034817665385 0.15625420817576535 0.04659130935988985; 0.4065553737252344 0.48993126409970494 0.20164711269339178], [1.59833317316061 0.7144586737028918 0.7896046410737875; 0.49661851260095824 1.4487520746555465 0.3169312490909092; 1.11870313292003 1.2528995188783316 1.8491729170383386], [11.41180057475428 4.148556760568855 11.939642664676864; 1.8050172265288542 2.3776251212691895 2.484024318868623; 2.3464303251306076 0.5423046132692892 5.259413209748251; 6.343125890506894 2.8536048675862875 12.231840670478245], [0.08391029834378147 0.043214132922592234 0.0714948662555501; 0.013272185489182752 0.024766928346554046 0.014874397118973792; 0.017253164155372116 0.005649006388221764 0.031493492273941624; 0.04664063154784481 0.029725050704023825 0.07324455491304338], [27.5; 6.666666666666667; 8.148148148148149; 21.428571428571427;;], [27.499999999999996; 6.666666666666666; 8.148148148148147; 21.428571428571427;;], [1.2; 3.6; 2.7; 2.1;;], Bool[1 0 0; 0 1 0; 0 0 1], [136.0 0.0 0.0; 0.0 96.0 0.0; 0.0 0.0 167.0], #undef)"
      ]
     },
     "execution_count": 9,
     "metadata": {},
     "output_type": "execute_result"
    }
   ],
   "source": [
    "model_data = Model_data.IO(itc)"
   ]
  },
  {
   "cell_type": "code",
   "execution_count": 49,
   "metadata": {},
   "outputs": [
    {
     "name": "stderr",
     "output_type": "stream",
     "text": [
      "\u001b[36m\u001b[1m[ \u001b[22m\u001b[39m\u001b[36m\u001b[1mInfo: \u001b[22m\u001b[39mYou are setting up an SU model dataset. Elements of this dataset are now treated independently, meaning that no recalculation whatsoever takes place when individual elements are changed.\n"
     ]
    }
   ],
   "source": [
    "model_data = Model_data.SU(sut);"
   ]
  },
  {
   "cell_type": "code",
   "execution_count": null,
   "metadata": {},
   "outputs": [],
   "source": []
  },
  {
   "cell_type": "code",
   "execution_count": 5,
   "metadata": {},
   "outputs": [
    {
     "name": "stdout",
     "output_type": "stream",
     "text": [
      "Path 5.0.03 (Fri Jun 26 10:05:33 2020)\n",
      "Written by Todd Munson, Steven Dirkse, Youngdae Kim, and Michael Ferris\n",
      "\n",
      "\n",
      "Crash Log\n",
      "major  func  diff  size  residual    step       prox   (label)\n",
      "    0     0             1.4596e+02             0.0e+00 (f[    6])\n",
      "    1    11     6     3 1.4595e+02  3.2e-04    1.5e+00 (f[    6])\n",
      "    2    12     7     6 5.9007e+00  1.0e+00    1.3e+00 (f[   12])\n",
      "    3    13     7    10 7.9253e-01  1.0e+00    5.9e-02 (f[    3])\n",
      "    4    21     2     8 7.8799e-01  2.8e-02    7.9e-03 (f[    3])\n",
      "pn_search terminated: no basis change.\n",
      "\n",
      "Major Iteration Log\n",
      "major minor  func  grad  residual    step  type prox    inorm  (label)\n",
      "    0     0    22     5 7.8799e-01           I 7.1e-03 7.0e-01 (f[    3])\n",
      "    1     3    23     6 3.8709e-04  1.0e+00 SM 2.9e-03 2.5e-04 (f[    4])\n",
      "    2     1    24     7 6.3081e-09  1.0e+00 SO 3.9e-05 4.2e-09 (f[    5])\n",
      "\n",
      "Major Iterations. . . . 2\n",
      "Minor Iterations. . . . 4\n",
      "Restarts. . . . . . . . 0\n",
      "Crash Iterations. . . . 4\n",
      "Gradient Steps. . . . . 0\n",
      "Function Evaluations. . 24\n",
      "Gradient Evaluations. . 7\n",
      "Basis Time. . . . . . . 0.000000\n",
      "Total Time. . . . . . . 0.156000\n",
      "Residual. . . . . . . . 6.308121e-09\n"
     ]
    }
   ],
   "source": [
    "# NST - MCP\n",
    "\n",
    "model_data = sut\n",
    "# To set up our initial primal, we write:\n",
    "compl = Model(PATHSolver.Optimizer)\n",
    "\n",
    "act = size(model_data.V,1)\n",
    "com = size(model_data.V,2)\n",
    "fac = size(model_data.F,1)\n",
    "\n",
    "# Define the optimisation model\n",
    "@variable(compl, z_star[1:act] >= 0)\n",
    "@variable(compl, p_star[1:com] >= 0)\n",
    "@variable(compl, pii_star[1:fac] >= 0)\n",
    "\n",
    "@constraint(compl, c1, vec(pii_star'*model_data.F - (p_star'*(model_data.V' - model_data.U))) ⟂ z_star)\n",
    "@constraint(compl, c2, vec((model_data.V' - model_data.U)*(z_star) - model_data.e) ⟂ p_star)\n",
    "@constraint(compl, c3, vec((model_data.ϕ - model_data.F*z_star)) ⟂ pii_star)\n",
    "\n",
    "# Solve\n",
    "optimize!(compl)"
   ]
  },
  {
   "cell_type": "code",
   "execution_count": 6,
   "metadata": {},
   "outputs": [
    {
     "data": {
      "text/plain": [
       "* Solver : Path 5.0.03\n",
       "\n",
       "* Status\n",
       "  Result count       : 1\n",
       "  Termination status : LOCALLY_SOLVED\n",
       "  Message from the solver:\n",
       "  \"The problem was solved\"\n",
       "\n",
       "* Candidate solution (result #1)\n",
       "  Primal status      : FEASIBLE_POINT\n",
       "  Dual status        : NO_SOLUTION\n",
       "  Objective value    : 0.00000e+00\n",
       "  Primal solution :\n",
       "    p_star[1] : 1.10682e-02\n",
       "    p_star[2] : 1.16858e-02\n",
       "    p_star[3] : 1.07203e-02\n",
       "    pii_star[1] : 1.60734e-02\n",
       "    pii_star[2] : 4.19819e-02\n",
       "    pii_star[3] : 0.00000e+00\n",
       "    pii_star[4] : 3.10666e-02\n",
       "    z_star[1] : 1.00000e+00\n",
       "    z_star[2] : 1.00000e+00\n",
       "    z_star[3] : 1.00000e+00\n",
       "    z_star[4] : 1.00000e+00\n",
       "    z_star[5] : 1.00000e+00\n",
       "\n",
       "* Work counters\n",
       "  Solve time (sec)   : 1.56000e-01\n"
      ]
     },
     "execution_count": 6,
     "metadata": {},
     "output_type": "execute_result"
    }
   ],
   "source": [
    "solution_summary(compl; verbose = true)"
   ]
  },
  {
   "cell_type": "code",
   "execution_count": 7,
   "metadata": {},
   "outputs": [
    {
     "name": "stdout",
     "output_type": "stream",
     "text": [
      "termination_status(primal) = MathOptInterface.OPTIMAL\n",
      "primal_status(primal) = MathOptInterface.FEASIBLE_POINT\n",
      "dual_status(primal) = MathOptInterface.FEASIBLE_POINT\n",
      "objective_value(primal) = 0.9999999999999999\n",
      "value.(z_star) = [0.9999999999999996, 0.9999999999999998, 1.0, 0.9999999999999992, 1.0000000000000002]\n",
      "value.(c_star) = 0.9999999999999999\n",
      "value.(c1) = [0.0; 0.0; 0.0;;]\n",
      "value.(c2) = [27.499999999999996; 6.666666666666666; 8.148148148148147; 21.428571428571427;;]\n",
      "shadow_price.(c1) = [0.007976425700459118; 0.008421527271114592; 0.0077257465770894235;;]\n",
      "shadow_price.(c2) = [0.01158350920034474; 0.03025480355223982; 0.0; 0.022388557643305204;;]\n"
     ]
    },
    {
     "data": {
      "text/plain": [
       "4×1 Matrix{Float64}:\n",
       " 0.01158350920034474\n",
       " 0.03025480355223982\n",
       " 0.0\n",
       " 0.022388557643305204"
      ]
     },
     "execution_count": 7,
     "metadata": {},
     "output_type": "execute_result"
    }
   ],
   "source": [
    "# SU-NEO - LP\n",
    "# Instantiate the model\n",
    "primal = Model(GLPK.Optimizer)\n",
    "(@isdefined primal) && (primal = nothing; primal = Model(GLPK.Optimizer));\n",
    "# Define the optimisation model\n",
    "@variable(primal, z_star[1:size(V,1)] >= 0, base_name = \"z*\")\n",
    "@variable(primal, c_star >= 0, base_name = \"c*\")\n",
    "@objective(primal, Max, c_star)\n",
    "@constraint(primal, c1, (model_data.V'-model_data.U)*(z_star) .>= c_star*model_data.e)\n",
    "@constraint(primal, c2, model_data.F*z_star .<= model_data.ϕ);\n",
    "# Run the model and show results\n",
    "optimize!(primal)\n",
    "@show termination_status(primal)\n",
    "@show primal_status(primal)\n",
    "@show dual_status(primal)\n",
    "@show objective_value(primal)\n",
    "@show value.(z_star)\n",
    "@show value.(c_star)\n",
    "@show value.(c1)\n",
    "@show value.(c2)\n",
    "@show shadow_price.(c1)\n",
    "@show shadow_price.(c2)"
   ]
  },
  {
   "cell_type": "code",
   "execution_count": 8,
   "metadata": {},
   "outputs": [
    {
     "name": "stdout",
     "output_type": "stream",
     "text": [
      "termination_status(model) = MathOptInterface.OPTIMAL\n",
      "primal_status(model) = MathOptInterface.FEASIBLE_POINT\n",
      "dual_status(model) = MathOptInterface.FEASIBLE_POINT\n",
      "objective_value(model) = 124.0000000000001\n",
      "value.(p) = [0.9890767868569321, 1.044269381618209, 0.9579925755590895]\n",
      "value.(pii) = [1.4363551408427555, 3.751595640477734, 0.0, 2.7761811477698406]\n",
      "shadow_price.(c1d) = [-1.000000000000008, -0.9999999999999943, -0.9999999999999949, -1.0000000000000138, -1.0]\n",
      "shadow_price.(c2d) = [-0.999999999999998;;]\n"
     ]
    }
   ],
   "source": [
    "#SU-NEO - LP\n",
    "# Instantiate the model\n",
    "dual = Model(GLPK.Optimizer)\n",
    "(@isdefined dual) && (dual = nothing; dual = Model(GLPK.Optimizer));\n",
    "\n",
    "# Set up the model\n",
    "dual = Model(GLPK.Optimizer)\n",
    "\n",
    "# Define the optimisation model\n",
    "@variable(dual, p[1:size(sut.V,2)] >= 0)\n",
    "@variable(dual, pii[1:size(sut.F,1)] >= 0)\n",
    "@objective(dual, Min, sum(pii'*model_data.ϕ))\n",
    "@constraint(dual, c1d, (model_data.V'-model_data.U)'*(p) .<= model_data.F'*pii)\n",
    "@constraint(dual, c2d, (p'*model_data.e) .== sum(model_data.e))# or .==1?\n",
    "\n",
    "# Run the model and show results\n",
    "optimize!(dual)\n",
    "model_solution(dual)\n",
    "@show value.(p)\n",
    "@show value.(pii)\n",
    "@show shadow_price.(c1d)\n",
    "@show shadow_price.(c2d);"
   ]
  },
  {
   "cell_type": "code",
   "execution_count": 10,
   "metadata": {},
   "outputs": [
    {
     "name": "stdout",
     "output_type": "stream",
     "text": [
      "termination_status(model) = MathOptInterface.OPTIMAL\n",
      "primal_status(model) = MathOptInterface.FEASIBLE_POINT\n",
      "dual_status(model) = MathOptInterface.FEASIBLE_POINT\n",
      "objective_value(model) = 123.99999999999999\n",
      "value.(var_con) = [0.9999999999999993, 1.0, 1.0000000000000002, 0.9999999999999996, 0.9999999999999988]\n",
      "value.(demand_con) = [51.0, 42.0, 31.0]\n",
      "value.(factor_con) = [27.499999999999993, 6.666666666666666, 8.148148148148147, 21.428571428571427]\n"
     ]
    },
    {
     "data": {
      "text/plain": [
       "4-element Vector{Float64}:\n",
       " 27.499999999999993\n",
       "  6.666666666666666\n",
       "  8.148148148148147\n",
       " 21.428571428571427"
      ]
     },
     "execution_count": 10,
     "metadata": {},
     "output_type": "execute_result"
    }
   ],
   "source": [
    "#SU-RCOT_abs\n",
    "dosso_primal = Model(GLPK.Optimizer)\n",
    "(@isdefined dosso_primal) && (dosso_primal = nothing; dosso_primal = Model(GLPK.Optimizer));\n",
    "\n",
    "@variable(dosso_primal, z_star[1:size(V,1)] >= 0, base_name = \"z*\")\n",
    "@objective(dosso_primal, Min, sum(model_data.pii'*model_data.F*z_star))\n",
    "@constraint(dosso_primal, mass_balance, (model_data.V'-model_data.U)*(z_star) .>= model_data.e)\n",
    "@constraint(dosso_primal, zero_profit, (model_data.F)*(z_star) .<= model_data.ϕ)\n",
    "optimize!(dosso_primal)\n",
    "model_solution(dosso_primal)\n",
    "show_primal_lhs(dosso_primal)"
   ]
  },
  {
   "cell_type": "code",
   "execution_count": 11,
   "metadata": {},
   "outputs": [
    {
     "name": "stdout",
     "output_type": "stream",
     "text": [
      "termination_status(model) = MathOptInterface.OPTIMAL\n",
      "primal_status(model) = MathOptInterface.FEASIBLE_POINT\n",
      "dual_status(model) = MathOptInterface.FEASIBLE_POINT\n",
      "objective_value(model) = 124.0\n",
      "value.(var_con) = [0.15818532500891247, 1.2251524264833586, 1.3903489126758504, 0.0, 0.0]\n",
      "value.(demand_con) = [51.0, 42.0, 31.0]\n",
      "value.(factor_con) = Float64[]\n"
     ]
    },
    {
     "data": {
      "text/plain": [
       "Float64[]"
      ]
     },
     "execution_count": 11,
     "metadata": {},
     "output_type": "execute_result"
    }
   ],
   "source": [
    "#SU-DOSSO_abs\n",
    "dosso_primal = Model(GLPK.Optimizer)\n",
    "(@isdefined dosso_primal) && (dosso_primal = nothing; dosso_primal = Model(GLPK.Optimizer));\n",
    "\n",
    "@variable(dosso_primal, z_star[1:size(V,1)] >= 0, base_name = \"z*\")\n",
    "@objective(dosso_primal, Min, sum(model_data.pii'*model_data.F*z_star))\n",
    "@constraint(dosso_primal, mass_balance, (model_data.V'-model_data.U)*(z_star) .>= model_data.e)\n",
    "#@constraint(dosso_primal, zero_profit, (model_data.F)*(z_star) .<= model_data.ϕ)\n",
    "optimize!(dosso_primal)\n",
    "model_solution(dosso_primal)\n",
    "show_primal_lhs(dosso_primal)"
   ]
  },
  {
   "cell_type": "code",
   "execution_count": null,
   "metadata": {},
   "outputs": [],
   "source": []
  },
  {
   "cell_type": "code",
   "execution_count": 30,
   "metadata": {},
   "outputs": [
    {
     "name": "stdout",
     "output_type": "stream",
     "text": [
      "Path 5.0.03 (Fri Jun 26 10:05:33 2020)\n",
      "Written by Todd Munson, Steven Dirkse, Youngdae Kim, and Michael Ferris\n",
      "\n",
      "\n",
      "Crash Log\n",
      "major  func  diff  size  residual    step       prox   (label)\n",
      "    0     0             1.4596e+02             0.0e+00 (f[    6])\n",
      "    1    11     6     3 1.4595e+02  3.2e-04    1.5e+00 (f[    6])\n",
      "    2    12     7     6 5.9007e+00  1.0e+00    1.3e+00 (f[   12])\n",
      "    3    13     7    10 7.9253e-01  1.0e+00    5.9e-02 (f[    3])\n",
      "    4    21     2     8 7.8799e-01  2.8e-02    7.9e-03 (f[    3])\n",
      "pn_search terminated: no basis change.\n",
      "\n",
      "Major Iteration Log\n",
      "major minor  func  grad  residual    step  type prox    inorm  (label)\n",
      "    0     0    22     5 7.8799e-01           I 7.1e-03 7.0e-01 (f[    3])\n",
      "    1     3    23     6 3.8709e-04  1.0e+00 SM 2.9e-03 2.5e-04 (f[    4])\n",
      "    2     1    24     7 6.3081e-09  1.0e+00 SO 3.9e-05 4.2e-09 (f[    5])\n",
      "\n",
      "Major Iterations. . . . 2\n",
      "Minor Iterations. . . . 4\n",
      "Restarts. . . . . . . . 0\n",
      "Crash Iterations. . . . 4\n",
      "Gradient Steps. . . . . 0\n",
      "Function Evaluations. . 24\n",
      "Gradient Evaluations. . 7\n",
      "Basis Time. . . . . . . 0.000000\n",
      "Total Time. . . . . . . 0.031000\n",
      "Residual. . . . . . . . 6.308121e-09\n"
     ]
    }
   ],
   "source": [
    "# SU-NST - MCP\n",
    "# To set up our initial primal, we write:\n",
    "compl = Model(PATHSolver.Optimizer)\n",
    "\n",
    "act = size(model_data.V,1)\n",
    "com = size(model_data.V,2)\n",
    "fac = size(model_data.F,1)\n",
    "\n",
    "# Define the optimisation model\n",
    "@variable(compl, z_star[1:act] >= 0)\n",
    "@variable(compl, p_star[1:com] >= 0)\n",
    "@variable(compl, pii_star[1:fac] >= 0)\n",
    "\n",
    "@constraint(compl, c1, vec(pii_star'*model_data.F - (p_star'*(model_data.V' - model_data.U))) ⟂ z_star)\n",
    "@constraint(compl, c2, vec((model_data.V' - model_data.U)*(z_star) - model_data.e) ⟂ p_star)\n",
    "@constraint(compl, c3, vec((model_data.ϕ - model_data.F*z_star)) ⟂ pii_star)\n",
    "\n",
    "# Solve\n",
    "optimize!(compl)"
   ]
  },
  {
   "cell_type": "code",
   "execution_count": 31,
   "metadata": {},
   "outputs": [
    {
     "data": {
      "text/plain": [
       "* Solver : Path 5.0.03\n",
       "\n",
       "* Status\n",
       "  Result count       : 1\n",
       "  Termination status : LOCALLY_SOLVED\n",
       "  Message from the solver:\n",
       "  \"The problem was solved\"\n",
       "\n",
       "* Candidate solution (result #1)\n",
       "  Primal status      : FEASIBLE_POINT\n",
       "  Dual status        : NO_SOLUTION\n",
       "  Objective value    : 0.00000e+00\n",
       "  Primal solution :\n",
       "    p_star[1] : 1.10682e-02\n",
       "    p_star[2] : 1.16858e-02\n",
       "    p_star[3] : 1.07203e-02\n",
       "    pii_star[1] : 1.60734e-02\n",
       "    pii_star[2] : 4.19819e-02\n",
       "    pii_star[3] : 0.00000e+00\n",
       "    pii_star[4] : 3.10666e-02\n",
       "    z_star[1] : 1.00000e+00\n",
       "    z_star[2] : 1.00000e+00\n",
       "    z_star[3] : 1.00000e+00\n",
       "    z_star[4] : 1.00000e+00\n",
       "    z_star[5] : 1.00000e+00\n",
       "\n",
       "* Work counters\n",
       "  Solve time (sec)   : 3.10000e-02\n"
      ]
     },
     "execution_count": 31,
     "metadata": {},
     "output_type": "execute_result"
    }
   ],
   "source": [
    "solution_summary(compl; verbose = true)"
   ]
  },
  {
   "cell_type": "code",
   "execution_count": 32,
   "metadata": {},
   "outputs": [
    {
     "data": {
      "text/plain": [
       "1.387610577406891"
      ]
     },
     "execution_count": 32,
     "metadata": {},
     "output_type": "execute_result"
    }
   ],
   "source": [
    "sum(value.(pii_star)'*model_data.F)"
   ]
  },
  {
   "cell_type": "code",
   "execution_count": 33,
   "metadata": {},
   "outputs": [
    {
     "data": {
      "text/plain": [
       "1×1 adjoint(::Vector{Float64}) with eltype Float64:\n",
       " 1.3876105719834"
      ]
     },
     "execution_count": 33,
     "metadata": {},
     "output_type": "execute_result"
    }
   ],
   "source": [
    "value.(p_star)'*model_data.e"
   ]
  },
  {
   "cell_type": "code",
   "execution_count": 37,
   "metadata": {},
   "outputs": [
    {
     "data": {
      "text/plain": [
       "1×5 adjoint(::Vector{Float64}) with eltype Float64:\n",
       " 1.20406  1.15357  0.952972  0.644085  0.462713"
      ]
     },
     "execution_count": 37,
     "metadata": {},
     "output_type": "execute_result"
    }
   ],
   "source": [
    "value.(p_star)'*model_data.V'"
   ]
  },
  {
   "cell_type": "code",
   "execution_count": 41,
   "metadata": {},
   "outputs": [
    {
     "data": {
      "text/plain": [
       "4.417403009707454"
      ]
     },
     "execution_count": 41,
     "metadata": {},
     "output_type": "execute_result"
    }
   ],
   "source": [
    "sum(value.(p_star)'*model_data.V')"
   ]
  },
  {
   "cell_type": "code",
   "execution_count": 40,
   "metadata": {},
   "outputs": [
    {
     "data": {
      "text/plain": [
       "1×1 adjoint(::Vector{Float64}) with eltype Float64:\n",
       " 4.417403009707454"
      ]
     },
     "execution_count": 40,
     "metadata": {},
     "output_type": "execute_result"
    }
   ],
   "source": [
    "value.(p_star)'*(sum(model_data.U,dims=2) + model_data.e)"
   ]
  },
  {
   "cell_type": "code",
   "execution_count": 42,
   "metadata": {},
   "outputs": [
    {
     "data": {
      "text/plain": [
       "1×5 adjoint(::Vector{Float64}) with eltype Float64:\n",
       " 1.20406  1.15357  0.952972  0.644085  0.462713"
      ]
     },
     "execution_count": 42,
     "metadata": {},
     "output_type": "execute_result"
    }
   ],
   "source": [
    "value.(p_star)'*(model_data.U) + value.(pii_star)'*model_data.F"
   ]
  },
  {
   "cell_type": "code",
   "execution_count": 43,
   "metadata": {},
   "outputs": [
    {
     "data": {
      "text/plain": [
       "4.417403015130944"
      ]
     },
     "execution_count": 43,
     "metadata": {},
     "output_type": "execute_result"
    }
   ],
   "source": [
    "sum(value.(p_star)'*(model_data.U) + value.(pii_star)'*model_data.F)"
   ]
  },
  {
   "cell_type": "code",
   "execution_count": null,
   "metadata": {},
   "outputs": [],
   "source": []
  },
  {
   "cell_type": "code",
   "execution_count": null,
   "metadata": {},
   "outputs": [],
   "source": []
  },
  {
   "cell_type": "code",
   "execution_count": null,
   "metadata": {},
   "outputs": [],
   "source": []
  },
  {
   "cell_type": "code",
   "execution_count": null,
   "metadata": {},
   "outputs": [
    {
     "data": {
      "text/plain": [
       "construct([136.0; 96.0; 167.0;;], [51.0; 42.0; 31.0;;], [9.641472868217054 12.97168343454485 62.38684369723809; 31.21884735202492 15.000403984873474 7.780748663101605; 55.291530826631885 47.03340135357168 33.675067819796425], [0.07089318285453716 0.1351217024431755 0.37357391435471915; 0.22955034817665385 0.15625420817576535 0.04659130935988985; 0.4065553737252344 0.48993126409970494 0.20164711269339178], [1.59833317316061 0.7144586737028918 0.7896046410737875; 0.49661851260095824 1.4487520746555465 0.3169312490909092; 1.11870313292003 1.2528995188783316 1.8491729170383386], [11.41180057475428 4.148556760568855 11.939642664676864; 1.8050172265288542 2.3776251212691895 2.484024318868623; 2.3464303251306076 0.5423046132692892 5.259413209748251; 6.343125890506894 2.8536048675862875 12.231840670478245], [0.08391029834378147 0.043214132922592234 0.0714948662555501; 0.013272185489182752 0.024766928346554046 0.014874397118973792; 0.017253164155372116 0.005649006388221764 0.031493492273941624; 0.04664063154784481 0.029725050704023825 0.07324455491304338], [27.5; 6.666666666666667; 8.148148148148149; 21.428571428571427;;], [27.499999999999996; 6.666666666666666; 8.148148148148147; 21.428571428571427;;], [1.2; 3.6; 2.7; 2.1;;], #undef, #undef, #undef)"
      ]
     },
     "metadata": {},
     "output_type": "display_data"
    }
   ],
   "source": [
    "itc = Constructs.ITC(sut)"
   ]
  },
  {
   "cell_type": "code",
   "execution_count": null,
   "metadata": {},
   "outputs": [
    {
     "name": "stderr",
     "output_type": "stream",
     "text": [
      "\u001b[36m\u001b[1m[ \u001b[22m\u001b[39m\u001b[36m\u001b[1mInfo: \u001b[22m\u001b[39mYou are setting up an IO model dataset. Elements of this dataset are now treated independently, meaning that no recalculation whatsoever takes place when individual elements are changed.\n"
     ]
    },
    {
     "data": {
      "text/plain": [
       "construct([136.0; 96.0; 167.0;;], [51.0; 42.0; 31.0;;], [9.641472868217054 12.97168343454485 62.38684369723809; 31.21884735202492 15.000403984873474 7.780748663101605; 55.291530826631885 47.03340135357168 33.675067819796425], [0.07089318285453716 0.1351217024431755 0.37357391435471915; 0.22955034817665385 0.15625420817576535 0.04659130935988985; 0.4065553737252344 0.48993126409970494 0.20164711269339178], [1.59833317316061 0.7144586737028918 0.7896046410737875; 0.49661851260095824 1.4487520746555465 0.3169312490909092; 1.11870313292003 1.2528995188783316 1.8491729170383386], [11.41180057475428 4.148556760568855 11.939642664676864; 1.8050172265288542 2.3776251212691895 2.484024318868623; 2.3464303251306076 0.5423046132692892 5.259413209748251; 6.343125890506894 2.8536048675862875 12.231840670478245], [0.08391029834378147 0.043214132922592234 0.0714948662555501; 0.013272185489182752 0.024766928346554046 0.014874397118973792; 0.017253164155372116 0.005649006388221764 0.031493492273941624; 0.04664063154784481 0.029725050704023825 0.07324455491304338], [27.5; 6.666666666666667; 8.148148148148149; 21.428571428571427;;], [27.499999999999996; 6.666666666666666; 8.148148148148147; 21.428571428571427;;], [1.2; 3.6; 2.7; 2.1;;], Bool[1 0 0; 0 1 0; 0 0 1], [136.0 0.0 0.0; 0.0 96.0 0.0; 0.0 0.0 167.0], #undef)"
      ]
     },
     "metadata": {},
     "output_type": "display_data"
    }
   ],
   "source": [
    "model_data = Model_data.IO(itc)"
   ]
  },
  {
   "cell_type": "code",
   "execution_count": 12,
   "metadata": {},
   "outputs": [
    {
     "name": "stdout",
     "output_type": "stream",
     "text": [
      "Path 5.0.03 (Fri Jun 26 10:05:33 2020)\n",
      "Written by Todd Munson, Steven Dirkse, Youngdae Kim, and Michael Ferris\n",
      "\n",
      "\n",
      "Crash Log\n",
      "major  func  diff  size  residual    step       prox   (label)\n",
      "    0     0             1.4596e+02             0.0e+00 (f[    4])\n",
      "    1     1     6     3 1.1819e+02  1.0e+00    1.5e+00 (f[    4])\n",
      "    2     2     3     6 9.5511e+01  1.0e+00    1.2e+00 (f[    6])\n",
      "    3     3     0     6 8.2900e+01  1.0e+00    9.6e-01 (f[    3])\n",
      "pn_search terminated: no basis change.\n",
      "\n",
      "Major Iteration Log\n",
      "major minor  func  grad  residual    step  type prox    inorm  (label)\n",
      "    0     0     4     4 8.2900e+01           I 8.3e-01 4.1e+01 (f[    3])\n",
      "    1     1     5     5 5.5202e+01  1.0e+00 SO 3.3e-01 4.2e+01 (f[    3])\n",
      "    2     5     6     6 1.6822e+01  1.0e+00 SO 1.3e-01 7.4e+00 (f[    6])\n",
      "    3     1     7     7 2.7560e+00  1.0e+00 SO 5.3e-02 1.7e+00 (f[    3])\n",
      "    4     1     8     8 1.7326e-01  1.0e+00 SO 2.1e-02 7.9e-02 (f[    3])\n",
      "    5     1     9     9 4.3167e-03  1.0e+00 SO 8.5e-03 2.5e-03 (f[    3])\n",
      "    6     1    10    10 5.4745e-06  1.0e+00 SO 4.3e-04 2.6e-06 (f[    3])\n",
      "    7     1    11    11 8.7972e-12  1.0e+00 SO 5.5e-07 5.0e-12 (f[    3])\n",
      "\n",
      "Major Iterations. . . . 7\n",
      "Minor Iterations. . . . 11\n",
      "Restarts. . . . . . . . 0\n",
      "Crash Iterations. . . . 3\n",
      "Gradient Steps. . . . . 0\n",
      "Function Evaluations. . 11\n",
      "Gradient Evaluations. . 11\n",
      "Basis Time. . . . . . . 0.000000\n",
      "Total Time. . . . . . . 0.032000\n",
      "Residual. . . . . . . . 8.797156e-12\n"
     ]
    }
   ],
   "source": [
    "# IO-NST - MCP\n",
    "# To set up our initial primal, we write:\n",
    "compl = Model(PATHSolver.Optimizer)\n",
    "\n",
    "act = size(model_data.A,1)\n",
    "com = size(model_data.A,2)\n",
    "fac = size(model_data.R,1)\n",
    "\n",
    "# Define the optimisation model\n",
    "@variable(compl, x_star[1:act] >= 0)\n",
    "@variable(compl, p_star[1:com] >= 0)\n",
    "@variable(compl, pii_star[1:fac] >= 0)\n",
    "\n",
    "@constraint(compl, c1, vec(pii_star'*model_data.R - (p_star'*(model_data.I_mod - model_data.A))) ⟂ x_star)\n",
    "@constraint(compl, c2, vec((model_data.I_mod - model_data.A)*(x_star) - model_data.y) ⟂ p_star)\n",
    "@constraint(compl, c3, vec((model_data.ϕ - model_data.R*x_star)) ⟂ pii_star)\n",
    "\n",
    "# Solve\n",
    "optimize!(compl)"
   ]
  },
  {
   "cell_type": "code",
   "execution_count": 13,
   "metadata": {},
   "outputs": [
    {
     "data": {
      "text/plain": [
       "* Solver : Path 5.0.03\n",
       "\n",
       "* Status\n",
       "  Result count       : 1\n",
       "  Termination status : LOCALLY_SOLVED\n",
       "  Message from the solver:\n",
       "  \"The problem was solved\"\n",
       "\n",
       "* Candidate solution (result #1)\n",
       "  Primal status      : FEASIBLE_POINT\n",
       "  Dual status        : NO_SOLUTION\n",
       "  Objective value    : 0.00000e+00\n",
       "  Primal solution :\n",
       "    p_star[1] : 1.99387e+01\n",
       "    p_star[2] : 1.87402e+01\n",
       "    p_star[3] : 1.92579e+01\n",
       "    pii_star[1] : 4.94781e+01\n",
       "    pii_star[2] : 1.19960e+01\n",
       "    pii_star[3] : 1.49669e+01\n",
       "    pii_star[4] : 3.91247e+01\n",
       "    x_star[1] : 1.36000e+02\n",
       "    x_star[2] : 9.60000e+01\n",
       "    x_star[3] : 1.67000e+02\n",
       "\n",
       "* Work counters\n",
       "  Solve time (sec)   : 3.20000e-02\n"
      ]
     },
     "execution_count": 13,
     "metadata": {},
     "output_type": "execute_result"
    }
   ],
   "source": [
    "solution_summary(compl; verbose = true)"
   ]
  },
  {
   "cell_type": "code",
   "execution_count": 21,
   "metadata": {},
   "outputs": [
    {
     "data": {
      "text/plain": [
       "2400.9594420674325"
      ]
     },
     "execution_count": 21,
     "metadata": {},
     "output_type": "execute_result"
    }
   ],
   "source": [
    "sum(value.(pii_star)'*model_data.G)"
   ]
  },
  {
   "cell_type": "code",
   "execution_count": 19,
   "metadata": {},
   "outputs": [
    {
     "data": {
      "text/plain": [
       "1×1 adjoint(::Vector{Float64}) with eltype Float64:\n",
       " 2400.9594420658314"
      ]
     },
     "execution_count": 19,
     "metadata": {},
     "output_type": "execute_result"
    }
   ],
   "source": [
    "value.(p_star)'*model_data.y"
   ]
  },
  {
   "cell_type": "code",
   "execution_count": 23,
   "metadata": {},
   "outputs": [
    {
     "data": {
      "text/plain": [
       "1×1 adjoint(::Vector{Float64}) with eltype Float64:\n",
       " 7726.798622507047"
      ]
     },
     "execution_count": 23,
     "metadata": {},
     "output_type": "execute_result"
    }
   ],
   "source": [
    "value.(p_star)'*(sum(model_data.Z,dims=2) + model_data.y)"
   ]
  },
  {
   "cell_type": "code",
   "execution_count": 24,
   "metadata": {},
   "outputs": [
    {
     "data": {
      "text/plain": [
       "1×1 adjoint(::Vector{Float64}) with eltype Float64:\n",
       " 7726.798622507047"
      ]
     },
     "execution_count": 24,
     "metadata": {},
     "output_type": "execute_result"
    }
   ],
   "source": [
    "value.(p_star)'*model_data.x"
   ]
  },
  {
   "cell_type": "code",
   "execution_count": 26,
   "metadata": {},
   "outputs": [
    {
     "data": {
      "text/plain": [
       "7726.798622508648"
      ]
     },
     "execution_count": 26,
     "metadata": {},
     "output_type": "execute_result"
    }
   ],
   "source": [
    "sum(value.(p_star)'*(model_data.Z) + value.(pii_star)'*model_data.G)"
   ]
  },
  {
   "cell_type": "code",
   "execution_count": 27,
   "metadata": {},
   "outputs": [
    {
     "data": {
      "text/plain": [
       "7726.79862250758"
      ]
     },
     "execution_count": 27,
     "metadata": {},
     "output_type": "execute_result"
    }
   ],
   "source": [
    "value.(p_star)'*value.(x_star)"
   ]
  },
  {
   "cell_type": "code",
   "execution_count": null,
   "metadata": {},
   "outputs": [],
   "source": []
  },
  {
   "cell_type": "code",
   "execution_count": null,
   "metadata": {},
   "outputs": [],
   "source": []
  },
  {
   "cell_type": "code",
   "execution_count": null,
   "metadata": {},
   "outputs": [],
   "source": []
  },
  {
   "cell_type": "code",
   "execution_count": null,
   "metadata": {},
   "outputs": [],
   "source": []
  },
  {
   "cell_type": "code",
   "execution_count": null,
   "metadata": {},
   "outputs": [],
   "source": []
  },
  {
   "cell_type": "markdown",
   "metadata": {},
   "source": [
    "# Increase \\varphi"
   ]
  },
  {
   "cell_type": "code",
   "execution_count": 59,
   "metadata": {},
   "outputs": [
    {
     "data": {
      "text/plain": [
       "3×1 Matrix{Float64}:\n",
       " 0.0\n",
       " 0.0\n",
       " 0.0"
      ]
     },
     "execution_count": 59,
     "metadata": {},
     "output_type": "execute_result"
    }
   ],
   "source": [
    "sum(model_data.V'-model_data.U,dims=2)-model_data.e"
   ]
  },
  {
   "cell_type": "code",
   "execution_count": 53,
   "metadata": {},
   "outputs": [
    {
     "name": "stderr",
     "output_type": "stream",
     "text": [
      "\u001b[36m\u001b[1m[ \u001b[22m\u001b[39m\u001b[36m\u001b[1mInfo: \u001b[22m\u001b[39mYou are setting up an SU model dataset. Elements of this dataset are now treated independently, meaning that no recalculation whatsoever takes place when individual elements are changed.\n"
     ]
    }
   ],
   "source": [
    "model_data = Model_data.SU(sut);"
   ]
  },
  {
   "cell_type": "code",
   "execution_count": 54,
   "metadata": {},
   "outputs": [
    {
     "data": {
      "text/plain": [
       "4×1 Matrix{Float64}:\n",
       " 27.499999999999996\n",
       "  6.666666666666666\n",
       "  8.148148148148147\n",
       " 21.428571428571427"
      ]
     },
     "execution_count": 54,
     "metadata": {},
     "output_type": "execute_result"
    }
   ],
   "source": [
    "model_data.ϕ"
   ]
  },
  {
   "cell_type": "code",
   "execution_count": 50,
   "metadata": {},
   "outputs": [
    {
     "data": {
      "text/plain": [
       "3-element Vector{Float64}:\n",
       "  8.666666666666666\n",
       " 10.148148148148147\n",
       " 23.428571428571427"
      ]
     },
     "execution_count": 50,
     "metadata": {},
     "output_type": "execute_result"
    }
   ],
   "source": [
    "model_data.ϕ[2:4] = model_data.ϕ[2:4].+2"
   ]
  },
  {
   "cell_type": "code",
   "execution_count": 61,
   "metadata": {},
   "outputs": [
    {
     "name": "stdout",
     "output_type": "stream",
     "text": [
      "Path 5.0.03 (Fri Jun 26 10:05:33 2020)\n",
      "Written by Todd Munson, Steven Dirkse, Youngdae Kim, and Michael Ferris\n",
      "\n",
      "\n",
      "Crash Log\n",
      "major  func  diff  size  residual    step       prox   (label)\n",
      "    0     0             1.4596e+02             0.0e+00 (f[    6])\n",
      "    1    11     6     3 1.4595e+02  3.2e-04    1.5e+00 (f[    6])\n",
      "    2    12     7     6 5.9007e+00  1.0e+00    1.3e+00 (f[   12])\n",
      "    3    13     7    10 7.9253e-01  1.0e+00    5.9e-02 (f[    3])\n",
      "    4    21     2     8 7.8799e-01  2.8e-02    7.9e-03 (f[    3])\n",
      "pn_search terminated: no basis change.\n",
      "\n",
      "Major Iteration Log\n",
      "major minor  func  grad  residual    step  type prox    inorm  (label)\n",
      "    0     0    22     5 7.8799e-01           I 7.1e-03 7.0e-01 (f[    3])\n",
      "    1     3    23     6 3.8709e-04  1.0e+00 SM 2.9e-03 2.5e-04 (f[    4])\n",
      "    2     1    24     7 6.3081e-09  1.0e+00 SO 3.9e-05 4.2e-09 (f[    5])\n",
      "\n",
      "Major Iterations. . . . 2\n",
      "Minor Iterations. . . . 4\n",
      "Restarts. . . . . . . . 0\n",
      "Crash Iterations. . . . 4\n",
      "Gradient Steps. . . . . 0\n",
      "Function Evaluations. . 24\n",
      "Gradient Evaluations. . 7\n",
      "Basis Time. . . . . . . 0.000000\n",
      "Total Time. . . . . . . 0.000000\n",
      "Residual. . . . . . . . 6.308121e-09\n"
     ]
    }
   ],
   "source": [
    "# SU-NST - MCP\n",
    "# To set up our initial primal, we write:\n",
    "compl = Model(PATHSolver.Optimizer)\n",
    "\n",
    "act = size(model_data.V,1)\n",
    "com = size(model_data.V,2)\n",
    "fac = size(model_data.F,1)\n",
    "\n",
    "# Define the optimisation model\n",
    "@variable(compl, z_star[1:act] >= 0)\n",
    "@variable(compl, p_star[1:com] >= 0)\n",
    "@variable(compl, pii_star[1:fac] >= 0)\n",
    "\n",
    "@constraint(compl, c1, vec(pii_star'*model_data.F - (p_star'*(model_data.V' - model_data.U))) ⟂ z_star)\n",
    "@constraint(compl, c2, vec((model_data.V' - model_data.U)*(z_star) - model_data.e) ⟂ p_star)\n",
    "@constraint(compl, c3, vec((model_data.ϕ - model_data.F*z_star)) ⟂ pii_star)\n",
    "\n",
    "# Solve\n",
    "optimize!(compl)"
   ]
  },
  {
   "cell_type": "code",
   "execution_count": 62,
   "metadata": {},
   "outputs": [
    {
     "data": {
      "text/plain": [
       "* Solver : Path 5.0.03\n",
       "\n",
       "* Status\n",
       "  Result count       : 1\n",
       "  Termination status : LOCALLY_SOLVED\n",
       "  Message from the solver:\n",
       "  \"The problem was solved\"\n",
       "\n",
       "* Candidate solution (result #1)\n",
       "  Primal status      : FEASIBLE_POINT\n",
       "  Dual status        : NO_SOLUTION\n",
       "  Objective value    : 0.00000e+00\n",
       "  Primal solution :\n",
       "    p_star[1] : 1.10682e-02\n",
       "    p_star[2] : 1.16858e-02\n",
       "    p_star[3] : 1.07203e-02\n",
       "    pii_star[1] : 1.60734e-02\n",
       "    pii_star[2] : 4.19819e-02\n",
       "    pii_star[3] : 0.00000e+00\n",
       "    pii_star[4] : 3.10666e-02\n",
       "    z_star[1] : 1.00000e+00\n",
       "    z_star[2] : 1.00000e+00\n",
       "    z_star[3] : 1.00000e+00\n",
       "    z_star[4] : 1.00000e+00\n",
       "    z_star[5] : 1.00000e+00\n",
       "\n",
       "* Work counters\n",
       "  Solve time (sec)   : 0.00000e+00\n"
      ]
     },
     "execution_count": 62,
     "metadata": {},
     "output_type": "execute_result"
    }
   ],
   "source": [
    "solution_summary(compl; verbose = true)"
   ]
  },
  {
   "cell_type": "code",
   "execution_count": null,
   "metadata": {},
   "outputs": [
    {
     "data": {
      "text/plain": [
       "1.387610577406891"
      ]
     },
     "metadata": {},
     "output_type": "display_data"
    }
   ],
   "source": [
    "sum(value.(pii_star)'*model_data.F)"
   ]
  },
  {
   "cell_type": "code",
   "execution_count": null,
   "metadata": {},
   "outputs": [
    {
     "data": {
      "text/plain": [
       "1×1 adjoint(::Vector{Float64}) with eltype Float64:\n",
       " 1.3876105719834"
      ]
     },
     "metadata": {},
     "output_type": "display_data"
    }
   ],
   "source": [
    "value.(p_star)'*model_data.e"
   ]
  },
  {
   "cell_type": "code",
   "execution_count": null,
   "metadata": {},
   "outputs": [
    {
     "data": {
      "text/plain": [
       "1×5 adjoint(::Vector{Float64}) with eltype Float64:\n",
       " 1.20406  1.15357  0.952972  0.644085  0.462713"
      ]
     },
     "metadata": {},
     "output_type": "display_data"
    }
   ],
   "source": [
    "value.(p_star)'*model_data.V'"
   ]
  },
  {
   "cell_type": "code",
   "execution_count": null,
   "metadata": {},
   "outputs": [
    {
     "data": {
      "text/plain": [
       "4.417403009707454"
      ]
     },
     "metadata": {},
     "output_type": "display_data"
    }
   ],
   "source": [
    "sum(value.(p_star)'*model_data.V')"
   ]
  },
  {
   "cell_type": "code",
   "execution_count": null,
   "metadata": {},
   "outputs": [
    {
     "data": {
      "text/plain": [
       "1×1 adjoint(::Vector{Float64}) with eltype Float64:\n",
       " 4.417403009707454"
      ]
     },
     "metadata": {},
     "output_type": "display_data"
    }
   ],
   "source": [
    "value.(p_star)'*(sum(model_data.U,dims=2) + model_data.e)"
   ]
  },
  {
   "cell_type": "code",
   "execution_count": null,
   "metadata": {},
   "outputs": [
    {
     "data": {
      "text/plain": [
       "1×5 adjoint(::Vector{Float64}) with eltype Float64:\n",
       " 1.20406  1.15357  0.952972  0.644085  0.462713"
      ]
     },
     "metadata": {},
     "output_type": "display_data"
    }
   ],
   "source": [
    "value.(p_star)'*(model_data.U) + value.(pii_star)'*model_data.F"
   ]
  },
  {
   "cell_type": "code",
   "execution_count": null,
   "metadata": {},
   "outputs": [
    {
     "data": {
      "text/plain": [
       "4.417403015130944"
      ]
     },
     "metadata": {},
     "output_type": "display_data"
    }
   ],
   "source": [
    "sum(value.(p_star)'*(model_data.U) + value.(pii_star)'*model_data.F)"
   ]
  }
 ],
 "metadata": {
  "kernelspec": {
   "display_name": "RectangularChoiceDev 1.9.0",
   "language": "julia",
   "name": "rectangularchoicedev-1.9"
  },
  "language_info": {
   "file_extension": ".jl",
   "mimetype": "application/julia",
   "name": "julia",
   "version": "1.9.0"
  },
  "orig_nbformat": 4
 },
 "nbformat": 4,
 "nbformat_minor": 2
}
