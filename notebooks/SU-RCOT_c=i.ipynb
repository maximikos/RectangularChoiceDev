{
 "cells": [
  {
   "attachments": {},
   "cell_type": "markdown",
   "metadata": {},
   "source": [
    "# RCOT on SUTs (c=i)"
   ]
  },
  {
   "attachments": {},
   "cell_type": "markdown",
   "metadata": {},
   "source": [
    "This notebook starts from an exemplary supply-use table (SUT) that features an equal number of commodities and industries (c=i). The cases of [c<i](./SU-RCOT_c=i.ipynb) and [c>i](./SU-RCOT_c+i-.ipynb) are illustrated in separate notebooks. All notebooks share the same basic structure. That is, an illustrative SUT is imported from a spreadsheet; solved for the cases of factor constraints being absent or present; and solved when new technologies are introduced.\n",
    "\n",
    "<a id='toc'></a>\n",
    "\n",
    "The outline of the current notebook is as follows:\n",
    "\n",
    "\n",
    "0. [Data import and set-up](#data-import)\n",
    "1. [Empirical system with factor constraints](#emp_f)\\\n",
    "    1.1 [As-is solution by inversion](#emp_f_inv)\\\n",
    "        1.1.1 [SUT-based](#emp_f_inv_sut)\\\n",
    "        1.1.2 [Construct_based](#emp_f_inv_ctc)\\\n",
    "    1.2 [As-is solution via linear program](#emp_f_lp)\\\n",
    "        1.2.1 [Absolute SU-RCOT](#emp_f_lp_abs)\\\n",
    "        1.2.2 [IO-RCOT](#emp_f_lp_rel)\\\n",
    "    1.3 [Method comparison for changed final demand](#comp)\n",
    "3. [Adding technology alternatives to the SUT system](#add_jp)"
   ]
  },
  {
   "attachments": {},
   "cell_type": "markdown",
   "metadata": {},
   "source": [
    "<a id='data-import'></a>"
   ]
  },
  {
   "attachments": {},
   "cell_type": "markdown",
   "metadata": {},
   "source": [
    "## 0. Data import and set-up"
   ]
  },
  {
   "cell_type": "code",
   "execution_count": 1,
   "metadata": {},
   "outputs": [],
   "source": [
    "using LinearAlgebra\n",
    "using JuMP\n",
    "using GLPK\n",
    "using XLSX\n",
    "using DataFrames\n",
    "\n",
    "include(\"../src/SUT_structure.jl\") # Used for the SUT setup <sut = SUT.structure(...)>\n",
    "include(\"../src/Constructs.jl\") # Used to derive single-production systems from the SUT setup, e.g. as <itc = Constructs.ITC(sut)>\n",
    "include(\"../src/Auxiliary.jl\") # Includes some helper functions\n",
    "include(\"../src/Model_data.jl\") # Sets up the data structure for inversion-based or RCOT modelling based on SUT.structure or Constructs.construct\n",
    "include(\"../src/Leontief.jl\"); # Solves the model based on Leontief calculus\n",
    "include(\"../src/RCOT_model.jl\"); # Builds and solves the RCOT models"
   ]
  },
  {
   "cell_type": "code",
   "execution_count": 2,
   "metadata": {},
   "outputs": [
    {
     "data": {
      "text/plain": [
       "XLSXFile(\"../data/SUT_c=i.xlsx\") containing 4 Worksheets\n",
       "            sheetname size          range        \n",
       "-------------------------------------------------\n",
       "                    V 4x4           A1:D4        \n",
       "                  U+e 4x5           A1:E4        \n",
       "                    F 5x4           A1:D5        \n",
       "                   pi 5x2           A1:B5        \n"
      ]
     },
     "execution_count": 2,
     "metadata": {},
     "output_type": "execute_result"
    }
   ],
   "source": [
    "# Load the workbook\n",
    "xf = XLSX.readxlsx(\"../data/SUT_c=i.xlsx\")"
   ]
  },
  {
   "cell_type": "code",
   "execution_count": 3,
   "metadata": {},
   "outputs": [
    {
     "data": {
      "text/plain": [
       "\"mixed\""
      ]
     },
     "execution_count": 3,
     "metadata": {},
     "output_type": "execute_result"
    }
   ],
   "source": [
    "# Get data from all worksheets and convert it to float64 data type\n",
    "V = convert(Matrix{Float64}, xf[\"V!B2:D4\"])\n",
    "U = convert(Matrix{Float64}, xf[\"U+e!B2:D4\"])\n",
    "e = convert(Matrix{Float64}, xf[\"U+e!E2:E4\"])\n",
    "F = convert(Matrix{Float64}, xf[\"F!B2:D5\"])\n",
    "pii = convert(Matrix{Float64}, xf[\"pi!B2:B5\"])\n",
    "t = xf[\"V!A1\"]"
   ]
  },
  {
   "cell_type": "code",
   "execution_count": 4,
   "metadata": {},
   "outputs": [
    {
     "name": "stderr",
     "output_type": "stream",
     "text": [
      "\u001b[36m\u001b[1m[ \u001b[22m\u001b[39m\u001b[36m\u001b[1mInfo: \u001b[22m\u001b[39mThe SUT system is not given in monetary units such that no total industry output and dependent matrices may be calculated.\n",
      "\u001b[36m\u001b[1m[ \u001b[22m\u001b[39m\u001b[36m\u001b[1mInfo: \u001b[22m\u001b[39mA structure for supply-use elements was set up. Changing individual elements will not change others automatically.\n"
     ]
    }
   ],
   "source": [
    "sut = SUT.structure(U,V,F,e,pii,t);"
   ]
  },
  {
   "cell_type": "code",
   "execution_count": 5,
   "metadata": {},
   "outputs": [
    {
     "data": {
      "text/plain": [
       "1×1 Matrix{Float64}:\n",
       " 261.90000000000003"
      ]
     },
     "execution_count": 5,
     "metadata": {},
     "output_type": "execute_result"
    }
   ],
   "source": [
    "# For completeness, let's check the total factor costs (in this unconstrained system)\n",
    "sut.pii'*sut.f"
   ]
  },
  {
   "cell_type": "markdown",
   "metadata": {},
   "source": [
    "Back to [table of contents](#toc)\n",
    "<a id='emp_f'></a>"
   ]
  },
  {
   "cell_type": "markdown",
   "metadata": {},
   "source": [
    "## 1. Empirical system with factor constraints"
   ]
  },
  {
   "cell_type": "markdown",
   "metadata": {},
   "source": [
    "<a id='emp_f_inv'></a>"
   ]
  },
  {
   "cell_type": "markdown",
   "metadata": {},
   "source": [
    "### 1.1 Solution by inversion\n",
    "Let us first solve the system by inversion."
   ]
  },
  {
   "cell_type": "markdown",
   "metadata": {},
   "source": [
    "<a id='emp_f_inv_sut'></a>"
   ]
  },
  {
   "cell_type": "markdown",
   "metadata": {},
   "source": [
    "#### 1.1.1 SUT-based"
   ]
  },
  {
   "cell_type": "markdown",
   "metadata": {},
   "source": [
    "Because the given SUT is square, we can invert the SUT system directly to derive the industry activity levels and the total factor use. Since the data is given in mixed units, we can only use the absolute SUT data for the inversion-based model."
   ]
  },
  {
   "cell_type": "code",
   "execution_count": 6,
   "metadata": {},
   "outputs": [
    {
     "name": "stderr",
     "output_type": "stream",
     "text": [
      "\u001b[36m\u001b[1m[ \u001b[22m\u001b[39m\u001b[36m\u001b[1mInfo: \u001b[22m\u001b[39mYou are setting up an SU model dataset. Elements of this dataset are now treated independently, meaning that no recalculation whatsoever takes place when individual elements are changed.\n",
      "\u001b[36m\u001b[1m[ \u001b[22m\u001b[39m\u001b[36m\u001b[1mInfo: \u001b[22m\u001b[39mYou are about to perform an inversion-based imputation or impact analysis. Keep in mind that input variables are treated independently, thus potentially resulting in different results for a model in absolute or relative form.\n"
     ]
    }
   ],
   "source": [
    "su_model_data = Model_data.SU(sut)\n",
    "leo_sut_abs = Leontief.quantity(su_model_data, \"abs\");"
   ]
  },
  {
   "cell_type": "code",
   "execution_count": 7,
   "metadata": {},
   "outputs": [
    {
     "data": {
      "text/plain": [
       "3×1 Matrix{Float64}:\n",
       " 1.0\n",
       " 0.9999999999999999\n",
       " 1.0"
      ]
     },
     "execution_count": 7,
     "metadata": {},
     "output_type": "execute_result"
    }
   ],
   "source": [
    "leo_sut_abs.output"
   ]
  },
  {
   "cell_type": "code",
   "execution_count": 8,
   "metadata": {},
   "outputs": [
    {
     "data": {
      "text/plain": [
       "4×1 Matrix{Float64}:\n",
       " 34.0\n",
       " 25.0\n",
       " 26.0\n",
       " 29.0"
      ]
     },
     "execution_count": 8,
     "metadata": {},
     "output_type": "execute_result"
    }
   ],
   "source": [
    "leo_sut_abs.factor_use"
   ]
  },
  {
   "cell_type": "code",
   "execution_count": 9,
   "metadata": {},
   "outputs": [
    {
     "data": {
      "text/plain": [
       "4×3 Matrix{Float64}:\n",
       " 8.60196  6.75172  18.6463\n",
       " 3.45163  2.71584  18.8325\n",
       " 8.53984  4.03338  13.4268\n",
       " 5.40657  6.49906  17.0944"
      ]
     },
     "execution_count": 9,
     "metadata": {},
     "output_type": "execute_result"
    }
   ],
   "source": [
    "leo_sut_abs.factor_use_disagg_by_demand"
   ]
  },
  {
   "cell_type": "markdown",
   "metadata": {},
   "source": [
    "Let us briefly also look at the price model:"
   ]
  },
  {
   "cell_type": "code",
   "execution_count": 10,
   "metadata": {},
   "outputs": [
    {
     "name": "stderr",
     "output_type": "stream",
     "text": [
      "\u001b[36m\u001b[1m[ \u001b[22m\u001b[39m\u001b[36m\u001b[1mInfo: \u001b[22m\u001b[39mYou are about to perform an inversion-based imputation or impact analysis. Keep in mind that input variables are treated independently, thus potentially resulting in different results for a model in absolute or relative form.\n"
     ]
    }
   ],
   "source": [
    "leo_sut_abs_p = Leontief.price(su_model_data, \"abs\");"
   ]
  },
  {
   "cell_type": "code",
   "execution_count": 11,
   "metadata": {},
   "outputs": [
    {
     "data": {
      "text/plain": [
       "3×1 Matrix{Float64}:\n",
       " 2.1984456937063555\n",
       " 2.1208619175194343\n",
       " 2.387105494312442"
      ]
     },
     "execution_count": 11,
     "metadata": {},
     "output_type": "execute_result"
    }
   ],
   "source": [
    "leo_sut_abs_p.com_price"
   ]
  },
  {
   "cell_type": "code",
   "execution_count": 12,
   "metadata": {},
   "outputs": [
    {
     "data": {
      "text/plain": [
       "3×4 Matrix{Float64}:\n",
       " 0.397013  0.477918  0.886829  0.436685\n",
       " 0.405103  0.488852  0.544506  0.682401\n",
       " 0.329053  0.997016  0.533122  0.527914"
      ]
     },
     "execution_count": 12,
     "metadata": {},
     "output_type": "execute_result"
    }
   ],
   "source": [
    "leo_sut_abs_p.com_price_disagg_by_factors"
   ]
  },
  {
   "cell_type": "markdown",
   "metadata": {},
   "source": [
    "<a id='emp_f_inv_ctc'></a>"
   ]
  },
  {
   "cell_type": "markdown",
   "metadata": {},
   "source": [
    "#### 1.1.2 Construct-based\n",
    "Since the data is given in mixed units, we may only apply certain constructs to derive a pseudo single production system. Let's go for the CTC, and we start with the transaction-based inversion:\n",
    "\n",
    "(Note that if the data were given in a rectangular shape, no construct would be applicable - as described in our paper.)"
   ]
  },
  {
   "cell_type": "code",
   "execution_count": 13,
   "metadata": {},
   "outputs": [
    {
     "name": "stderr",
     "output_type": "stream",
     "text": [
      "\u001b[36m\u001b[1m[ \u001b[22m\u001b[39m\u001b[36m\u001b[1mInfo: \u001b[22m\u001b[39mYou are setting up an IO model dataset. Elements of this dataset are now treated independently, meaning that no recalculation whatsoever takes place when individual elements are changed.\n",
      "\u001b[36m\u001b[1m[ \u001b[22m\u001b[39m\u001b[36m\u001b[1mInfo: \u001b[22m\u001b[39mYou are about to perform an inversion-based imputation or impact analysis. Keep in mind that input variables are treated independently, thus potentially resulting in different results for a model in absolute or relative form.\n"
     ]
    }
   ],
   "source": [
    "ctc = Constructs.CTC(sut)\n",
    "io_model_data = Model_data.IO(ctc)\n",
    "leo_ctc_abs = Leontief.quantity(io_model_data, \"abs\");"
   ]
  },
  {
   "cell_type": "code",
   "execution_count": 14,
   "metadata": {},
   "outputs": [
    {
     "data": {
      "text/plain": [
       "3×1 Matrix{Float64}:\n",
       " 0.9999999999999996\n",
       " 0.9999999999999997\n",
       " 0.9999999999999999"
      ]
     },
     "execution_count": 14,
     "metadata": {},
     "output_type": "execute_result"
    }
   ],
   "source": [
    "leo_ctc_abs.output"
   ]
  },
  {
   "cell_type": "code",
   "execution_count": 15,
   "metadata": {},
   "outputs": [
    {
     "data": {
      "text/plain": [
       "4×1 Matrix{Float64}:\n",
       " 33.999999999999986\n",
       " 24.999999999999993\n",
       " 25.999999999999986\n",
       " 28.999999999999993"
      ]
     },
     "execution_count": 15,
     "metadata": {},
     "output_type": "execute_result"
    }
   ],
   "source": [
    "leo_ctc_abs.factor_use"
   ]
  },
  {
   "cell_type": "markdown",
   "metadata": {},
   "source": [
    "And now in coefficient form:"
   ]
  },
  {
   "cell_type": "code",
   "execution_count": 16,
   "metadata": {},
   "outputs": [
    {
     "name": "stderr",
     "output_type": "stream",
     "text": [
      "\u001b[36m\u001b[1m[ \u001b[22m\u001b[39m\u001b[36m\u001b[1mInfo: \u001b[22m\u001b[39mYou are about to perform an inversion-based imputation or impact analysis. Keep in mind that input variables are treated independently, thus potentially resulting in different results for a model in absolute or relative form.\n"
     ]
    }
   ],
   "source": [
    "leo_ctc_rel = Leontief.quantity(io_model_data, \"rel\");"
   ]
  },
  {
   "cell_type": "code",
   "execution_count": 17,
   "metadata": {},
   "outputs": [
    {
     "data": {
      "text/plain": [
       "3×1 Matrix{Float64}:\n",
       " 112.99999999999997\n",
       "  73.99999999999999\n",
       " 126.99999999999999"
      ]
     },
     "execution_count": 17,
     "metadata": {},
     "output_type": "execute_result"
    }
   ],
   "source": [
    "leo_ctc_rel.output"
   ]
  },
  {
   "cell_type": "code",
   "execution_count": 18,
   "metadata": {},
   "outputs": [
    {
     "data": {
      "text/plain": [
       "4×1 Matrix{Float64}:\n",
       " 33.99999999999999\n",
       " 24.999999999999996\n",
       " 25.999999999999993\n",
       " 28.999999999999996"
      ]
     },
     "execution_count": 18,
     "metadata": {},
     "output_type": "execute_result"
    }
   ],
   "source": [
    "leo_ctc_rel.factor_use"
   ]
  },
  {
   "cell_type": "markdown",
   "metadata": {},
   "source": [
    "Back to [table of contents](#toc)\n",
    "<a id='emp_f_lp'></a>"
   ]
  },
  {
   "cell_type": "markdown",
   "metadata": {},
   "source": [
    "### 1.2 Solution by LP\n",
    "Let us now solve the system via a linear program."
   ]
  },
  {
   "cell_type": "markdown",
   "metadata": {},
   "source": [
    "#### 1.2.1 SU-RCOT\n",
    "Since SU-RCOT solves in its relative form for the industry output, we cannot apply it to this case where the data is given in mixed units. Instead, we perform SU-RCOT in its absolute form:"
   ]
  },
  {
   "cell_type": "code",
   "execution_count": 19,
   "metadata": {},
   "outputs": [
    {
     "name": "stderr",
     "output_type": "stream",
     "text": [
      "\u001b[36m\u001b[1m[ \u001b[22m\u001b[39m\u001b[36m\u001b[1mInfo: \u001b[22m\u001b[39mYou are setting up an SU model dataset. Elements of this dataset are now treated independently, meaning that no recalculation whatsoever takes place when individual elements are changed.\n"
     ]
    }
   ],
   "source": [
    "su_rcot_data = Model_data.SU(sut);"
   ]
  },
  {
   "cell_type": "code",
   "execution_count": 20,
   "metadata": {},
   "outputs": [
    {
     "name": "stdout",
     "output_type": "stream",
     "text": [
      "termination_status(model) = MathOptInterface.OPTIMAL\n",
      "primal_status(model) = MathOptInterface.FEASIBLE_POINT\n",
      "dual_status(model) = MathOptInterface.FEASIBLE_POINT\n",
      "objective_value(model) = 261.9\n",
      "value.(var_con) = [1.0, 1.0, 1.0]\n",
      "value.(demand_con) = [26.0, 20.0, 68.0]\n",
      "value.(factor_con) = [34.0, 25.0, 26.0, 29.0]\n"
     ]
    }
   ],
   "source": [
    "su_rcot(\"primal\", \"abs\", su_rcot_data);"
   ]
  },
  {
   "cell_type": "markdown",
   "metadata": {},
   "source": [
    "Let us solve for completeness also the dual:"
   ]
  },
  {
   "cell_type": "code",
   "execution_count": 21,
   "metadata": {},
   "outputs": [
    {
     "name": "stdout",
     "output_type": "stream",
     "text": [
      "termination_status(model) = MathOptInterface.OPTIMAL\n",
      "primal_status(model) = MathOptInterface.FEASIBLE_POINT\n",
      "dual_status(model) = MathOptInterface.FEASIBLE_POINT\n",
      "objective_value(model) = 261.9\n",
      "value.(p) = [2.198445693706355, 2.1208619175194343, 2.3871054943124426]\n",
      "value.(r) = [0.0, 0.0, 0.0, 0.0]\n",
      "value.(profit_con) = [71.10000000000001, 81.60000000000001, 109.2]\n"
     ]
    }
   ],
   "source": [
    "su_rcot(\"dual\", \"abs\", su_rcot_data);"
   ]
  },
  {
   "cell_type": "markdown",
   "metadata": {},
   "source": [
    "#### 1.2.2 IO-RCOT"
   ]
  },
  {
   "cell_type": "code",
   "execution_count": 22,
   "metadata": {},
   "outputs": [
    {
     "name": "stderr",
     "output_type": "stream",
     "text": [
      "\u001b[36m\u001b[1m[ \u001b[22m\u001b[39m\u001b[36m\u001b[1mInfo: \u001b[22m\u001b[39mYou are setting up an IO model dataset. Elements of this dataset are now treated independently, meaning that no recalculation whatsoever takes place when individual elements are changed.\n"
     ]
    }
   ],
   "source": [
    "io_rcot_data = Model_data.IO(ctc);"
   ]
  },
  {
   "cell_type": "code",
   "execution_count": 23,
   "metadata": {},
   "outputs": [
    {
     "name": "stdout",
     "output_type": "stream",
     "text": [
      "termination_status(model) = MathOptInterface.OPTIMAL\n",
      "primal_status(model) = MathOptInterface.FEASIBLE_POINT\n",
      "dual_status(model) = MathOptInterface.FEASIBLE_POINT\n",
      "objective_value(model) = 261.8999999999999\n",
      "value.(var_con) = [0.9999999999999997, 0.9999999999999997, 0.9999999999999998]\n",
      "value.(demand_con) = [26.0, 20.0, 68.0]\n",
      "value.(factor_con) = [33.999999999999986, 24.999999999999993, 25.99999999999999, 28.99999999999999]\n"
     ]
    }
   ],
   "source": [
    "# Model in absolute (transaction) form\n",
    "io_rcot(\"primal\", \"abs\", io_rcot_data);"
   ]
  },
  {
   "cell_type": "code",
   "execution_count": 24,
   "metadata": {},
   "outputs": [
    {
     "name": "stdout",
     "output_type": "stream",
     "text": [
      "termination_status(model) = MathOptInterface.OPTIMAL\n",
      "primal_status(model) = MathOptInterface.FEASIBLE_POINT\n",
      "dual_status(model) = MathOptInterface.FEASIBLE_POINT\n",
      "objective_value(model) = 261.9\n",
      "value.(var_con) = [112.99999999999999, 73.99999999999999, 127.0]\n",
      "value.(demand_con) = [26.0, 20.0, 68.0]\n",
      "value.(factor_con) = [33.99999999999999, 25.0, 25.999999999999996, 29.0]\n"
     ]
    }
   ],
   "source": [
    "# Model in relative (coefficient) form\n",
    "io_rcot(\"primal\", \"rel\", io_rcot_data);"
   ]
  },
  {
   "cell_type": "markdown",
   "metadata": {},
   "source": [
    "While we have shown now that all models yield the same results, we have done so only with the empirical base data."
   ]
  },
  {
   "cell_type": "markdown",
   "metadata": {},
   "source": [
    "Back to [table of contents](#toc)\n",
    "<a id='comp'></a>"
   ]
  },
  {
   "cell_type": "markdown",
   "metadata": {},
   "source": [
    "#### 1.3 Method comparison for changed final demand\n",
    "\n",
    "Let us now alter the final demand, while keeping everything else equal. Importantly, this also means that the factor availabilities are now equal to the absolute factor use. We show only the primal models."
   ]
  },
  {
   "cell_type": "code",
   "execution_count": 25,
   "metadata": {},
   "outputs": [
    {
     "name": "stderr",
     "output_type": "stream",
     "text": [
      "\u001b[36m\u001b[1m[ \u001b[22m\u001b[39m\u001b[36m\u001b[1mInfo: \u001b[22m\u001b[39mYou are setting up an IO model dataset. Elements of this dataset are now treated independently, meaning that no recalculation whatsoever takes place when individual elements are changed.\n",
      "\u001b[36m\u001b[1m[ \u001b[22m\u001b[39m\u001b[36m\u001b[1mInfo: \u001b[22m\u001b[39mYou are setting up an SU model dataset. Elements of this dataset are now treated independently, meaning that no recalculation whatsoever takes place when individual elements are changed.\n"
     ]
    }
   ],
   "source": [
    "# Change final demand for commodity #c.2 and set up the data structures\n",
    "sut.e[2] = 24\n",
    "ctc = Constructs.CTC(sut)\n",
    "io_model_data = Model_data.IO(ctc)\n",
    "su_model_data = Model_data.SU(sut);"
   ]
  },
  {
   "cell_type": "code",
   "execution_count": 26,
   "metadata": {},
   "outputs": [
    {
     "name": "stdout",
     "output_type": "stream",
     "text": [
      "leo_sut_abs.output = "
     ]
    },
    {
     "name": "stderr",
     "output_type": "stream",
     "text": [
      "\u001b[36m\u001b[1m[ \u001b[22m\u001b[39m\u001b[36m\u001b[1mInfo: \u001b[22m\u001b[39mYou are about to perform an inversion-based imputation or impact analysis. Keep in mind that input variables are treated independently, thus potentially resulting in different results for a model in absolute or relative form.\n"
     ]
    },
    {
     "name": "stdout",
     "output_type": "stream",
     "text": [
      "[1.0053318107953797; 1.0660635074004126; 1.0248495761781369;;]\n",
      "leo_sut_abs.factor_use = [35.35034476700777; 25.543168342922392; 26.806675743335234; 30.29981114673459;;]\n"
     ]
    }
   ],
   "source": [
    "# Solution by inversion with absolute SUT data (relative not possible)\n",
    "leo_sut_abs = Leontief.quantity(su_model_data, \"abs\")\n",
    "@show leo_sut_abs.output\n",
    "@show leo_sut_abs.factor_use;"
   ]
  },
  {
   "cell_type": "code",
   "execution_count": 27,
   "metadata": {},
   "outputs": [
    {
     "name": "stdout",
     "output_type": "stream",
     "text": [
      "leo_ctc_abs.output = [1.0207065420807746; 1.0660635074004126; 1.0306909207608217;;]\n",
      "leo_ctc_abs.factor_use = [35.35034476700776; 25.54316834292239; 26.806675743335223; 30.299811146734587;;]\n"
     ]
    },
    {
     "name": "stderr",
     "output_type": "stream",
     "text": [
      "\u001b[36m\u001b[1m[ \u001b[22m\u001b[39m\u001b[36m\u001b[1mInfo: \u001b[22m\u001b[39mYou are about to perform an inversion-based imputation or impact analysis. Keep in mind that input variables are treated independently, thus potentially resulting in different results for a model in absolute or relative form.\n"
     ]
    }
   ],
   "source": [
    "# Solution by inversion with absolute construct data\n",
    "leo_ctc_abs = Leontief.quantity(io_model_data, \"abs\")\n",
    "@show leo_ctc_abs.output\n",
    "@show leo_ctc_abs.factor_use;"
   ]
  },
  {
   "cell_type": "code",
   "execution_count": 28,
   "metadata": {},
   "outputs": [
    {
     "name": "stdout",
     "output_type": "stream",
     "text": [
      "leo_ctc_rel.output = [115.33983925512756; 78.88869954763054; 130.89774693662434;;]\n",
      "leo_ctc_rel.factor_use = [35.35034476700776; 25.543168342922392; 26.80667574333523; 30.29981114673459;;]\n"
     ]
    },
    {
     "name": "stderr",
     "output_type": "stream",
     "text": [
      "\u001b[36m\u001b[1m[ \u001b[22m\u001b[39m\u001b[36m\u001b[1mInfo: \u001b[22m\u001b[39mYou are about to perform an inversion-based imputation or impact analysis. Keep in mind that input variables are treated independently, thus potentially resulting in different results for a model in absolute or relative form.\n"
     ]
    }
   ],
   "source": [
    "# Solution by inversion with relative construct data\n",
    "leo_ctc_rel = Leontief.quantity(io_model_data, \"rel\")\n",
    "@show leo_ctc_rel.output\n",
    "@show leo_ctc_rel.factor_use;"
   ]
  },
  {
   "cell_type": "code",
   "execution_count": 29,
   "metadata": {},
   "outputs": [
    {
     "name": "stdout",
     "output_type": "stream",
     "text": [
      "termination_status(model) = MathOptInterface.INFEASIBLE\n",
      "primal_status(model) = MathOptInterface.NO_SOLUTION\n",
      "dual_status(model) = MathOptInterface.INFEASIBILITY_CERTIFICATE\n",
      "objective_value(model) = 270.3834476700777\n",
      "value.(var_con) = [1.020706542080775, 1.0660635074004126, 1.0306909207608217]\n",
      "value.(demand_con) = [26.0, 24.0, 68.0]\n",
      "value.(factor_con) = [35.35034476700777, 25.543168342922392, 26.806675743335234, 30.29981114673459]\n"
     ]
    }
   ],
   "source": [
    "# Solution by absolute IO-RCOT\n",
    "io_rcot(\"primal\", \"abs\", io_model_data);"
   ]
  },
  {
   "cell_type": "code",
   "execution_count": 30,
   "metadata": {},
   "outputs": [
    {
     "name": "stdout",
     "output_type": "stream",
     "text": [
      "termination_status(model) = MathOptInterface.INFEASIBLE\n",
      "primal_status(model) = MathOptInterface.NO_SOLUTION\n",
      "dual_status(model) = MathOptInterface.INFEASIBILITY_CERTIFICATE\n",
      "objective_value(model) = 270.3834476700777\n",
      "value.(var_con) = [115.33983925512757, 78.88869954763054, 130.89774693662434]\n",
      "value.(demand_con) = [26.0, 24.0, 68.0]\n",
      "value.(factor_con) = [35.35034476700777, 25.543168342922396, 26.806675743335234, 30.29981114673459]\n"
     ]
    }
   ],
   "source": [
    "# Solution by relative IO-RCOT\n",
    "io_rcot(\"primal\", \"rel\", io_model_data);"
   ]
  },
  {
   "cell_type": "code",
   "execution_count": 31,
   "metadata": {},
   "outputs": [
    {
     "name": "stdout",
     "output_type": "stream",
     "text": [
      "termination_status(model) = MathOptInterface.INFEASIBLE\n",
      "primal_status(model) = MathOptInterface.NO_SOLUTION\n",
      "dual_status(model) = MathOptInterface.INFEASIBILITY_CERTIFICATE\n",
      "objective_value(model) = 270.38344767007777\n",
      "value.(var_con) = [1.0053318107953797, 1.0660635074004128, 1.024849576178137]\n",
      "value.(demand_con) = [26.0, 24.0, 68.0]\n",
      "value.(factor_con) = [35.35034476700777, 25.5431683429224, 26.806675743335237, 30.2998111467346]\n"
     ]
    }
   ],
   "source": [
    "# Solution by absolute SU-RCOT\n",
    "su_rcot(\"primal\", \"abs\", su_model_data);"
   ]
  },
  {
   "cell_type": "markdown",
   "metadata": {},
   "source": [
    "Unsurprisingly, the RCOT models are infeasible - because the physical factor limits would be transgressed if the increased final demand were to be satisfied. Since the inversion-based models are not constrained by factor availability, they yield a solution - although it may not be possible in the end..."
   ]
  },
  {
   "cell_type": "markdown",
   "metadata": {},
   "source": [
    "Back to [table of contents](#toc)\n",
    "<a id='add_jp'></a>"
   ]
  },
  {
   "cell_type": "markdown",
   "metadata": {},
   "source": [
    "## 2. Adding technology alternatives under factor constraints\n",
    "So far, we have only worked with the SUT system as imported and without considering factor constraints. Let us now add new technologies to it and see how substitution may or may not occur. We use the model in its absolute form."
   ]
  },
  {
   "cell_type": "code",
   "execution_count": 32,
   "metadata": {},
   "outputs": [
    {
     "name": "stderr",
     "output_type": "stream",
     "text": [
      "\u001b[36m\u001b[1m[ \u001b[22m\u001b[39m\u001b[36m\u001b[1mInfo: \u001b[22m\u001b[39mYou are setting up an SU model dataset. Elements of this dataset are now treated independently, meaning that no recalculation whatsoever takes place when individual elements are changed.\n"
     ]
    }
   ],
   "source": [
    "# start from fresh data\n",
    "su_rcot_data = Model_data.SU(sut);"
   ]
  },
  {
   "cell_type": "code",
   "execution_count": 33,
   "metadata": {},
   "outputs": [],
   "source": [
    "# Define supply and use of the additional technology\n",
    "V3_alt1 = [1 0 20]\n",
    "U3_alt1 = [10 2 0]'\n",
    "F3_alt1 = [1.5 1 0 1.1]';"
   ]
  },
  {
   "cell_type": "code",
   "execution_count": 34,
   "metadata": {},
   "outputs": [],
   "source": [
    "# Add the additional parameters to the copied SUT struct\n",
    "su_rcot_data.V = @views [su_rcot_data.V; V3_alt1]\n",
    "su_rcot_data.U = @views [su_rcot_data.U U3_alt1]\n",
    "su_rcot_data.F = @views [su_rcot_data.F F3_alt1];"
   ]
  },
  {
   "cell_type": "code",
   "execution_count": 35,
   "metadata": {},
   "outputs": [
    {
     "name": "stdout",
     "output_type": "stream",
     "text": [
      "termination_status(model) = MathOptInterface.OPTIMAL\n",
      "primal_status(model) = MathOptInterface.FEASIBLE_POINT\n",
      "dual_status(model) = MathOptInterface.FEASIBLE_POINT\n",
      "objective_value(model) = 183.228515285881\n",
      "value.(var_con) = [0.841260210035006, 0.997899649941657, 0.0, 5.445694282380398]\n",
      "value.(demand_con) = [26.0, 24.0, 68.0]\n",
      "value.(factor_con) = [33.545437572928826, 8.81073512252042, 23.595799299883318, 22.641278879813306]\n"
     ]
    }
   ],
   "source": [
    "# Run the primal SU-RCOT in its absolute form\n",
    "su_rcot_model = su_rcot(\"primal\", \"abs\", su_rcot_data);"
   ]
  },
  {
   "cell_type": "markdown",
   "metadata": {},
   "source": [
    "We see that another set of technologies is activated."
   ]
  },
  {
   "cell_type": "markdown",
   "metadata": {},
   "source": [
    "Back to [table of contents](#toc)\n",
    "<a id='add_jp_3mp_jp'></a>"
   ]
  },
  {
   "cell_type": "markdown",
   "metadata": {},
   "source": [
    "---\n",
    "\n",
    "We end here the exposition for the case (c=i)."
   ]
  }
 ],
 "metadata": {
  "kernelspec": {
   "display_name": "RectangularChoice 1.9.0",
   "language": "julia",
   "name": "rectangularchoice-1.9"
  },
  "language_info": {
   "file_extension": ".jl",
   "mimetype": "application/julia",
   "name": "julia",
   "version": "1.9.0"
  },
  "orig_nbformat": 4
 },
 "nbformat": 4,
 "nbformat_minor": 2
}
