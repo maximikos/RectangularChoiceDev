{
 "cells": [
  {
   "cell_type": "code",
   "execution_count": 1,
   "metadata": {},
   "outputs": [],
   "source": [
    "using LinearAlgebra\n",
    "using JuMP\n",
    "using GLPK\n",
    "using XLSX\n",
    "using Complementarity #not sure I need this one?\n",
    "using PATHSolver\n",
    "using Revise #not having to restart sessions\n",
    "#using Pandas #optional (only for EXIOBASE data)\n",
    "\n",
    "include(\"../src/SUT_structure.jl\") # Used for the SUT setup <sut = SUT.structure(...)>\n",
    "include(\"../src/Constructs.jl\") # Used to derive single-production systems from the SUT setup, e.g. as <itc = Constructs.ITC(sut)>\n",
    "include(\"../src/Auxiliary.jl\") # Includes some helper functions\n",
    "include(\"../src/Model_data.jl\") # Sets up the data structure for RCOT modelling based on SUT.structure or Constructs.construct\n",
    "include(\"../src/RCOT_model.jl\"); # Builds and solves the RCOT models"
   ]
  },
  {
   "cell_type": "code",
   "execution_count": 2,
   "metadata": {},
   "outputs": [
    {
     "data": {
      "text/plain": [
       "XLSXFile(\"../data/SUT_c+i-.xlsx\") containing 4 Worksheets\n",
       "            sheetname size          range        \n",
       "-------------------------------------------------\n",
       "                    V 4x6           A1:F4        \n",
       "                  U+e 6x5           A1:E6        \n",
       "                    F 5x4           A1:D5        \n",
       "                   pi 5x2           A1:B5        \n"
      ]
     },
     "execution_count": 2,
     "metadata": {},
     "output_type": "execute_result"
    }
   ],
   "source": [
    "# Load the workbook\n",
    "xf = XLSX.readxlsx(\"../data/SUT_c+i-.xlsx\")"
   ]
  },
  {
   "cell_type": "code",
   "execution_count": 3,
   "metadata": {},
   "outputs": [],
   "source": [
    "# Get data from all worksheets and convert it to float64 data type\n",
    "V = convert(Matrix{Float64}, xf[\"V!B2:F4\"])\n",
    "U = convert(Matrix{Float64}, xf[\"U+e!B2:D6\"])\n",
    "e = convert(Matrix{Float64}, xf[\"U+e!E2:E6\"])\n",
    "F = convert(Matrix{Float64}, xf[\"F!B2:D5\"])\n",
    "pii = convert(Matrix{Float64}, xf[\"pi!B2:B5\"])\n",
    "t = xf[\"V!A1\"];"
   ]
  },
  {
   "cell_type": "code",
   "execution_count": 16,
   "metadata": {},
   "outputs": [
    {
     "data": {
      "text/plain": [
       "XLSXFile(\"../data/SUT_c=i.xlsx\") containing 4 Worksheets\n",
       "            sheetname size          range        \n",
       "-------------------------------------------------\n",
       "                    V 4x4           A1:D4        \n",
       "                  U+e 4x5           A1:E4        \n",
       "                    F 5x4           A1:D5        \n",
       "                   pi 5x2           A1:B5        \n"
      ]
     },
     "execution_count": 16,
     "metadata": {},
     "output_type": "execute_result"
    }
   ],
   "source": [
    "# Load the workbook\n",
    "xf = XLSX.readxlsx(\"../data/SUT_c=i.xlsx\")"
   ]
  },
  {
   "cell_type": "code",
   "execution_count": 17,
   "metadata": {},
   "outputs": [
    {
     "data": {
      "text/plain": [
       "\"mixed\""
      ]
     },
     "execution_count": 17,
     "metadata": {},
     "output_type": "execute_result"
    }
   ],
   "source": [
    "# Get data from all worksheets and convert it to float64 data type\n",
    "V = convert(Matrix{Float64}, xf[\"V!B2:D4\"])\n",
    "U = convert(Matrix{Float64}, xf[\"U+e!B2:D4\"])\n",
    "e = convert(Matrix{Float64}, xf[\"U+e!E2:E4\"])\n",
    "F = convert(Matrix{Float64}, xf[\"F!B2:D5\"])\n",
    "pii = convert(Matrix{Float64}, xf[\"pi!B2:B5\"])\n",
    "t = xf[\"V!A1\"]"
   ]
  },
  {
   "cell_type": "code",
   "execution_count": 18,
   "metadata": {},
   "outputs": [
    {
     "name": "stderr",
     "output_type": "stream",
     "text": [
      "\u001b[36m\u001b[1m[ \u001b[22m\u001b[39m\u001b[36m\u001b[1mInfo: \u001b[22m\u001b[39mThe SUT system is not given in monetary units such that no total industry output and dependent matrices may be calculated.\n",
      "\u001b[36m\u001b[1m[ \u001b[22m\u001b[39m\u001b[36m\u001b[1mInfo: \u001b[22m\u001b[39mA structure for supply-use elements was set up. Changing individual elements will not change others automatically.\n"
     ]
    }
   ],
   "source": [
    "sut = SUT.structure(U,V,F,e,pii,t);"
   ]
  },
  {
   "cell_type": "code",
   "execution_count": 19,
   "metadata": {},
   "outputs": [
    {
     "name": "stderr",
     "output_type": "stream",
     "text": [
      "\u001b[36m\u001b[1m[ \u001b[22m\u001b[39m\u001b[36m\u001b[1mInfo: \u001b[22m\u001b[39mYou are setting up an SU model dataset. Elements of this dataset are now treated independently, meaning that no recalculation whatsoever takes place when individual elements are changed.\n"
     ]
    }
   ],
   "source": [
    "model_data = Model_data.SU(sut);"
   ]
  },
  {
   "cell_type": "code",
   "execution_count": 35,
   "metadata": {},
   "outputs": [
    {
     "data": {
      "text/plain": [
       "construct([113.0; 74.0; 127.0;;], [26.0; 20.0; 68.0;;], [16.74074074074074 -4.611620795107033 74.87088005436628; 53.01234567901234 -6.7655453618756365 7.753199682863292; 0.0 59.0 0.0], [0.14814814814814814 -0.06231919993387883 0.5895344886170574; 0.4691358024691358 -0.0914262886739951 0.06104881640049836; 0.0 0.7972972972972974 0.0], [1.496064824981334 0.5849598137818962 0.9176929158065789; 0.6730818217752205 1.2221748869076374 0.4714172778778162; 0.5366463173613245 0.9744367341560893 1.3758597215512318], [13.950617283950617 12.612640163098877 7.436742552950504; 5.580246913580247 -4.760448521916412 24.180201608336162; 20.925925925925924 6.152905198776758 -1.078831124702684; 2.7901234567901234 12.372069317023445 13.83780722618643], [0.12345679012345678 0.17044108328511998 0.058557027975988225; 0.04938271604938271 -0.06433038543130287 0.1903952882546155; 0.18518518518518517 0.08314736755103729 -0.008494733265375467; 0.024691358024691357 0.16719012590572224 0.108959112017216], [34.0; 24.999999999999996; 25.999999999999996; 29.0;;], [34.0; 25.0; 26.0; 29.0;;], [1.2; 3.6; 2.7; 2.1;;], #undef, #undef, #undef)"
      ]
     },
     "execution_count": 35,
     "metadata": {},
     "output_type": "execute_result"
    }
   ],
   "source": [
    "ctc = Constructs.CTC(sut)"
   ]
  },
  {
   "cell_type": "code",
   "execution_count": 46,
   "metadata": {},
   "outputs": [
    {
     "name": "stderr",
     "output_type": "stream",
     "text": [
      "\u001b[36m\u001b[1m[ \u001b[22m\u001b[39m\u001b[36m\u001b[1mInfo: \u001b[22m\u001b[39mYou are setting up an IO model dataset. Elements of this dataset are now treated independently, meaning that no recalculation whatsoever takes place when individual elements are changed.\n"
     ]
    }
   ],
   "source": [
    "model_data = Model_data.IO(ctc);"
   ]
  },
  {
   "cell_type": "code",
   "execution_count": 7,
   "metadata": {},
   "outputs": [],
   "source": [
    "using Ipopt"
   ]
  },
  {
   "cell_type": "code",
   "execution_count": 23,
   "metadata": {},
   "outputs": [
    {
     "name": "stdout",
     "output_type": "stream",
     "text": [
      "This is Ipopt version 3.14.13, running with linear solver MUMPS 5.6.0.\n",
      "\n",
      "Number of nonzeros in equality constraint Jacobian...:        0\n",
      "Number of nonzeros in inequality constraint Jacobian.:       16\n",
      "Number of nonzeros in Lagrangian Hessian.............:        5\n",
      "\n",
      "Total number of variables............................:       10\n",
      "                     variables with only lower bounds:       10\n",
      "                variables with lower and upper bounds:        0\n",
      "                     variables with only upper bounds:        0\n",
      "Total number of equality constraints.................:        0\n",
      "Total number of inequality constraints...............:        4\n",
      "        inequality constraints with only lower bounds:        0\n",
      "   inequality constraints with lower and upper bounds:        0\n",
      "        inequality constraints with only upper bounds:        4\n",
      "\n",
      "iter    objective    inf_pr   inf_du lg(mu)  ||d||  lg(rg) alpha_du alpha_pr  ls\n",
      "   0  4.9999900e-04 0.00e+00 1.01e+00  -1.0 0.00e+00    -  0.00e+00 0.00e+00   0\n",
      "   1  6.1716094e-02 0.00e+00 1.21e-01  -1.0 1.01e-01    -  8.91e-01 1.00e+00f  1\n",
      "   2  1.7888655e+02 0.00e+00 6.73e+00  -1.0 6.73e+00   0.0 1.00e+00 1.00e+00f  1\n",
      "   3  4.1542753e+02 0.00e+00 9.93e+00  -1.0 3.67e+00   0.4 6.66e-01 1.00e+00f  1\n",
      "   4  5.5039037e+02 0.00e+00 1.15e+01  -1.0 1.61e+00   0.9 1.00e+00 1.00e+00f  1\n",
      "   5  1.4959841e+03 0.00e+00 1.91e+01  -1.0 8.06e+00   0.4 1.00e+00 1.00e+00f  1\n",
      "   6  2.0587828e+03 0.00e+00 2.25e+01  -1.0 3.56e+00   0.8 1.00e+00 1.00e+00f  1\n",
      "   7  6.6296594e+03 0.00e+00 4.09e+01  -1.0 1.94e+01   0.3 1.00e+00 1.00e+00f  1\n",
      "   8  9.5326626e+03 0.00e+00 4.92e+01  -1.0 8.75e+00   0.7 1.00e+00 1.00e+00f  1\n",
      "   9  1.0698589e+04 0.00e+00 5.22e+01  -1.0 5.32e+01   0.3 8.55e-01 5.99e-02f  1\n",
      "iter    objective    inf_pr   inf_du lg(mu)  ||d||  lg(rg) alpha_du alpha_pr  ls\n",
      "  10  1.0715318e+04 0.00e+00 1.35e+03  -1.0 1.28e+01   0.7 1.00e+00 3.98e-03f  1\n",
      "  11  1.2411950e+04 0.00e+00 2.93e+03  -1.0 7.35e+01   0.2 7.23e-01 1.12e-01f  1\n",
      "  12  1.2750130e+04 0.00e+00 3.35e+02  -1.0 1.59e+01   0.6 7.96e-01 8.38e-02f  1\n",
      "  13  2.3163440e+04 0.00e+00 2.89e+02  -1.0 1.05e+02   0.2 2.37e-02 3.74e-01f  1\n",
      "  14  2.3294322e+04 0.00e+00 3.51e+02  -1.0 3.07e+01   0.6 1.00e+00 1.27e-02f  1\n",
      "  15  2.3343104e+04 0.00e+00 1.63e+03  -1.0 7.57e+01   0.1 1.00e+00 3.15e-03f  1\n",
      "  16  2.9001502e+04 0.00e+00 9.50e+01  -1.0 2.71e+01   0.5 1.00e+00 1.00e+00f  1\n",
      "  17  3.9798827e+04 0.00e+00 2.96e+02  -1.0 8.13e+01   0.1 1.00e+00 6.36e-01f  1\n",
      "  18  4.6162123e+04 0.00e+00 9.50e+01  -1.0 3.05e+01   0.5 1.00e+00 1.00e+00f  1\n",
      "  19  6.5252611e+04 0.00e+00 9.50e+01  -1.0 9.14e+01   0.0 1.00e+00 1.00e+00f  1\n",
      "iter    objective    inf_pr   inf_du lg(mu)  ||d||  lg(rg) alpha_du alpha_pr  ls\n",
      "  20  7.2411458e+04 0.00e+00 9.50e+01  -1.0 3.43e+01   0.4 1.00e+00 1.00e+00f  1\n",
      "  21  7.5096054e+04 0.00e+00 9.50e+01  -1.0 1.29e+01   0.9 1.00e+00 1.00e+00f  1\n",
      "  22  8.3149831e+04 0.00e+00 9.50e+01  -1.0 3.86e+01   0.4 1.00e+00 1.00e+00f  1\n",
      "  23  8.6169992e+04 0.00e+00 9.50e+01  -1.0 1.45e+01   0.8 1.00e+00 1.00e+00f  1\n",
      "  24  9.5230489e+04 0.00e+00 9.50e+01  -1.0 4.34e+01   0.3 1.00e+00 1.00e+00f  1\n",
      "  25  9.8628171e+04 0.00e+00 9.50e+01  -1.0 1.63e+01   0.8 1.00e+00 1.00e+00f  1\n",
      "  26  1.0882123e+05 0.00e+00 9.50e+01  -1.0 4.88e+01   0.3 1.00e+00 1.00e+00f  1\n",
      "  27  1.1264362e+05 0.00e+00 9.50e+01  -1.0 1.83e+01   0.7 1.00e+00 1.00e+00f  1\n",
      "  28  1.2411081e+05 0.00e+00 9.50e+01  -1.0 5.49e+01   0.2 1.00e+00 1.00e+00f  1\n",
      "  29  1.2841100e+05 0.00e+00 9.50e+01  -1.0 2.06e+01   0.7 1.00e+00 1.00e+00f  1\n",
      "iter    objective    inf_pr   inf_du lg(mu)  ||d||  lg(rg) alpha_du alpha_pr  ls\n",
      "  30  1.4131158e+05 0.00e+00 9.50e+01  -1.0 6.18e+01   0.2 1.00e+00 1.00e+00f  1\n",
      "  31  1.4614929e+05 0.00e+00 9.50e+01  -1.0 2.32e+01   0.6 1.00e+00 1.00e+00f  1\n",
      "  32  1.6066245e+05 0.00e+00 9.50e+01  -1.0 6.95e+01   0.1 1.00e+00 1.00e+00f  1\n",
      "  33  1.6610488e+05 0.00e+00 9.50e+01  -1.0 2.61e+01   0.6 1.00e+00 1.00e+00f  1\n",
      "  34  1.8243217e+05 0.00e+00 9.50e+01  -1.0 7.82e+01   0.1 1.00e+00 1.00e+00f  1\n",
      "  35  1.8855491e+05 0.00e+00 9.50e+01  -1.0 2.93e+01   0.5 1.00e+00 1.00e+00f  1\n",
      "  36  2.0692311e+05 0.00e+00 9.50e+01  -1.0 8.79e+01   0.0 1.00e+00 1.00e+00f  1\n",
      "  37  2.1381119e+05 0.00e+00 9.50e+01  -1.0 3.30e+01   0.5 1.00e+00 1.00e+00f  1\n",
      "  38  2.1639422e+05 0.00e+00 9.50e+01  -1.0 1.24e+01   0.9 1.00e+00 1.00e+00f  1\n",
      "  39  2.2414330e+05 0.00e+00 9.50e+01  -1.0 3.71e+01   0.4 1.00e+00 1.00e+00f  1\n",
      "iter    objective    inf_pr   inf_du lg(mu)  ||d||  lg(rg) alpha_du alpha_pr  ls\n",
      "  40  2.2704921e+05 0.00e+00 9.50e+01  -1.0 1.39e+01   0.8 1.00e+00 1.00e+00f  1\n",
      "  41  2.3576693e+05 0.00e+00 9.50e+01  -1.0 4.17e+01   0.4 1.00e+00 1.00e+00f  1\n",
      "  42  2.3903608e+05 0.00e+00 9.50e+01  -1.0 1.57e+01   0.8 1.00e+00 1.00e+00f  1\n",
      "  43  2.4884351e+05 0.00e+00 9.50e+01  -1.0 4.70e+01   0.3 1.00e+00 1.00e+00f  1\n",
      "  44  2.5252130e+05 0.00e+00 9.50e+01  -1.0 1.76e+01   0.7 1.00e+00 1.00e+00f  1\n",
      "  45  2.6355467e+05 0.00e+00 9.50e+01  -1.0 5.28e+01   0.3 1.00e+00 1.00e+00f  1\n",
      "  46  2.6769218e+05 0.00e+00 9.50e+01  -1.0 1.98e+01   0.7 1.00e+00 1.00e+00f  1\n",
      "  47  2.8010471e+05 0.00e+00 9.50e+01  -1.0 5.94e+01   0.2 1.00e+00 1.00e+00f  1\n",
      "  48  2.8475941e+05 0.00e+00 9.50e+01  -1.0 2.23e+01   0.6 1.00e+00 1.00e+00f  1\n",
      "  49  2.9872352e+05 0.00e+00 9.50e+01  -1.0 6.69e+01   0.2 1.00e+00 1.00e+00f  1\n",
      "iter    objective    inf_pr   inf_du lg(mu)  ||d||  lg(rg) alpha_du alpha_pr  ls\n",
      "  50  3.0396005e+05 0.00e+00 9.50e+01  -1.0 2.51e+01   0.6 1.00e+00 1.00e+00f  1\n",
      "  51  3.1966967e+05 0.00e+00 9.50e+01  -1.0 7.52e+01   0.1 1.00e+00 1.00e+00f  1\n",
      "  52  3.2556077e+05 0.00e+00 9.50e+01  -1.0 2.82e+01   0.5 1.00e+00 1.00e+00f  1\n",
      "  53  3.4323409e+05 0.00e+00 9.50e+01  -1.0 8.46e+01   0.1 1.00e+00 1.00e+00f  1\n",
      "  54  3.4986158e+05 0.00e+00 9.50e+01  -1.0 3.17e+01   0.5 1.00e+00 1.00e+00f  1\n",
      "  55  3.5234689e+05 0.00e+00 9.50e+01  -1.0 1.19e+01   0.9 1.00e+00 1.00e+00f  1\n",
      "  56  3.5980283e+05 0.00e+00 9.50e+01  -1.0 3.57e+01   0.4 1.00e+00 1.00e+00f  1\n",
      "  57  3.6259880e+05 0.00e+00 9.50e+01  -1.0 1.34e+01   0.9 1.00e+00 1.00e+00f  1\n",
      "  58  3.7098673e+05 0.00e+00 9.50e+01  -1.0 4.02e+01   0.4 1.00e+00 1.00e+00f  1\n",
      "  59  3.7413221e+05 0.00e+00 9.50e+01  -1.0 1.51e+01   0.8 1.00e+00 1.00e+00f  1\n",
      "iter    objective    inf_pr   inf_du lg(mu)  ||d||  lg(rg) alpha_du alpha_pr  ls\n",
      "  60  3.8356867e+05 0.00e+00 9.50e+01  -1.0 4.52e+01   0.3 1.00e+00 1.00e+00f  1\n",
      "  61  3.8710736e+05 0.00e+00 9.50e+01  -1.0 1.69e+01   0.7 1.00e+00 1.00e+00f  1\n",
      "  62  3.9772369e+05 0.00e+00 9.50e+01  -1.0 5.08e+01   0.3 1.00e+00 1.00e+00f  1\n",
      "  63  4.0170495e+05 0.00e+00 9.50e+01  -1.0 1.91e+01   0.7 1.00e+00 1.00e+00f  1\n",
      "  64  4.1365187e+05 0.00e+00 9.50e+01  -1.0 5.72e+01   0.2 1.00e+00 1.00e+00f  1\n",
      "  65  4.1813362e+05 0.00e+00 9.50e+01  -1.0 2.14e+01   0.6 1.00e+00 1.00e+00f  1\n",
      "  66  4.3163688e+05 0.00e+00 9.50e+01  -1.0 6.43e+01   0.2 1.00e+00 1.00e+00f  1\n",
      "  67  4.3673528e+05 0.00e+00 9.50e+01  -1.0 2.41e+01   0.6 1.00e+00 1.00e+00f  1\n",
      "  68  4.5003528e+05 0.00e+00 1.10e+02  -1.0 7.24e+01   0.1 1.00e+00 7.80e-01f  1\n",
      "  69  4.5016186e+05 0.00e+00 1.99e+02  -1.0 2.71e+01   0.5 1.00e+00 1.81e-02f  1\n",
      "iter    objective    inf_pr   inf_du lg(mu)  ||d||  lg(rg) alpha_du alpha_pr  ls\n",
      "  70  4.5058850e+05 0.00e+00 1.91e+03  -1.0 9.10e+01   0.1 1.00e+00 2.12e-02f  1\n",
      "  71  4.5766438e+05 0.00e+00 9.50e+01  -1.0 3.05e+01   0.5 1.00e+00 1.00e+00f  1\n",
      "  72  4.6370586e+05 0.00e+00 9.57e+01  -1.0 4.17e+02   0.0 1.63e-01 9.12e-02f  1\n",
      "  73  4.6386848e+05 0.00e+00 5.02e+02  -1.0 4.43e+01   0.4 1.00e+00 1.26e-02f  1\n",
      "  74  4.6403015e+05 0.00e+00 5.47e+03  -1.0 1.05e+02  -0.0 1.00e+00 5.71e-03f  1\n",
      "  75  5.1882412e+05 0.00e+00 3.73e+03  -1.0 3.12e+02  -0.5 1.00e+00 6.48e-01f  1\n",
      "  76  6.3093665e+05 0.00e+00 9.85e+03  -1.0 9.37e+02  -1.0 1.00e+00 4.42e-01f  1\n",
      "  77  1.0034566e+06 0.00e+00 2.14e+04  -1.0 2.81e+03  -1.5 1.00e+00 4.89e-01f  1\n",
      "  78  2.0097185e+06 0.00e+00 7.87e+03  -1.0 8.43e+03  -1.9 3.98e-01 4.41e-01f  1\n",
      "  79  3.8864744e+06 0.00e+00 4.54e+04  -1.0 2.53e+04  -2.4 3.89e-01 2.74e-01f  1\n",
      "iter    objective    inf_pr   inf_du lg(mu)  ||d||  lg(rg) alpha_du alpha_pr  ls\n",
      "  80  8.8894102e+06 0.00e+00 2.43e+04  -1.0 7.59e+04  -2.9 1.85e-01 2.43e-01f  1\n",
      "  81  1.8273861e+07 0.00e+00 7.72e+04  -1.0 2.28e+05  -3.4 1.83e-01 1.52e-01f  1\n",
      "  82  4.2039231e+07 0.00e+00 4.54e+04  -1.0 6.83e+05  -3.9 1.16e-01 1.29e-01f  1\n",
      "  83  9.2682825e+07 0.00e+00 8.60e+04  -1.0 2.05e+06  -4.3 9.59e-02 9.13e-02f  1\n",
      "  84  2.0291445e+08 1.81e-07 2.98e+05  -1.0 6.15e+06  -4.8 7.01e-02 6.62e-02f  1\n",
      "  85  4.8069861e+08 1.62e-07 2.11e+05  -1.0 1.84e+07  -5.3 5.24e-02 5.56e-02f  1\n",
      "  86  5.2756569e+08 5.08e-07 2.41e+07  -1.0 5.53e+07  -5.8 9.10e-04 3.13e-03f  1\n",
      "  87  1.0679644e+09 4.86e-07 2.38e+07  -1.0 1.66e+08  -6.2 1.26e-02 1.20e-02f  1\n",
      "  88  2.5489135e+09 6.50e-07 2.35e+07  -1.0 4.98e+08  -6.7 1.14e-02 1.10e-02f  1\n",
      "  89  2.6649191e+09 0.00e+00 2.69e+07  -1.0 2.66e+14    -  1.40e-08 4.92e-09f  1\n",
      "iter    objective    inf_pr   inf_du lg(mu)  ||d||  lg(rg) alpha_du alpha_pr  ls\n",
      "  90  6.8376222e+09 3.93e-07 2.28e+08  -1.0 1.49e+09  -7.2 4.39e-05 1.03e-02f  1\n",
      "  91  6.8929474e+09 7.75e-07 2.28e+08  -1.0 3.42e+14    -  4.65e-08 1.42e-09f  1\n",
      "  92  9.2118541e+09 7.71e-07 2.28e+08  -1.0 4.48e+09  -7.7 9.20e-03 1.91e-03f  1\n",
      "  93  2.2248507e+10 7.52e-07 2.27e+08  -1.0 1.34e+10  -8.1 3.13e-03 3.58e-03f  1\n",
      "  94  5.5927687e+10 1.72e-07 3.55e+08  -1.0 4.03e+10  -8.6 7.64e-04 3.08e-03f  1\n",
      "  95  9.7772574e+10 0.00e+00 2.26e+08  -1.0 1.21e+11  -9.1 1.95e-03 1.28e-03f  1\n",
      "  96  2.3545480e+11 0.00e+00 2.26e+08  -1.0 3.63e+11  -9.6 1.52e-03 1.40e-03f  1\n",
      "  97  2.3916730e+11 0.00e+00 4.58e+09  -1.0 1.09e+12 -10.1 1.03e-03 1.26e-05f  1\n",
      "In iteration 97, 1 Slack too small, adjusting variable bound\n",
      "  98  1.7205306e+12 1.85e-04 1.73e+10  -1.0 4.09e+11  -9.6 9.96e-07 1.34e-02f  1\n",
      "  99  2.2796970e+12 0.00e+00 6.45e+10  -1.0 1.23e+12 -10.1 1.79e-02 1.72e-03f  1\n",
      "iter    objective    inf_pr   inf_du lg(mu)  ||d||  lg(rg) alpha_du alpha_pr  ls\n",
      " 100  2.7439560e+12 0.00e+00 9.31e+10  -1.0 3.68e+12 -10.6 2.53e-03 4.74e-04f  1\n",
      " 101  2.7465051e+12 0.00e+00 5.44e+12  -1.0 1.38e+12 -10.2 9.98e-01 6.91e-06f  1\n",
      "In iteration 101, 1 Slack too small, adjusting variable bound\n",
      " 102  5.9164300e+13 0.00e+00 2.77e+13  -1.0 3.09e+12 -10.6 3.48e-05 9.60e-02f  1\n",
      "In iteration 102, 1 Slack too small, adjusting variable bound\n",
      " 103  2.6116528e+14 0.00e+00 2.63e+13  -1.0 1.33e+13 -11.1 1.51e-05 6.61e-02f  1\n",
      " 104  2.9469976e+14 0.00e+00 2.41e+13  -1.0 5.12e+12 -10.7 1.87e-01 8.27e-02f  1\n",
      "In iteration 104, 1 Slack too small, adjusting variable bound\n",
      " 105  3.8119244e+14 0.00e+00 1.96e+13  -1.0 1.74e+12 -10.3 1.03e-02 1.88e-01f  1\n",
      "In iteration 105, 1 Slack too small, adjusting variable bound\n",
      " 106  4.7343544e+14 0.00e+00 1.82e+13  -1.0 5.10e+12 -10.7 1.83e-02 6.81e-02f  1\n",
      " 107  5.1622939e+14 0.00e+00 1.80e+13  -1.0 1.47e+13 -11.2 8.32e-02 1.14e-02f  1\n",
      " 108  5.2071011e+14 0.00e+00 4.62e+13  -1.0 1.27e+13 -10.8 1.21e-01 3.23e-03f  1\n",
      " 109  5.2071797e+14 0.00e+00 4.67e+13  -1.0 6.28e+12 -10.4 1.18e-02 3.66e-05f  1\n",
      "iter    objective    inf_pr   inf_du lg(mu)  ||d||  lg(rg) alpha_du alpha_pr  ls\n",
      " 110  5.2071948e+14 0.00e+00 1.80e+13  -1.0 9.13e+11  -9.9 7.89e-01 7.17e-06f  1\n",
      " 111  5.4165523e+14 2.49e-01 1.80e+13  -1.0 9.69e+06  -5.0 2.27e-04 1.00e+00f  1\n",
      " 112  5.3843629e+14 0.00e+00 9.60e+01  -1.0 2.84e+07  -5.5 1.00e+00 1.00e+00h  1\n",
      "In iteration 112, 3 Slacks too small, adjusting variable bounds\n",
      " 113  5.3846277e+14 6.18e-08 8.61e+03  -5.7 8.53e+07  -5.9 1.00e+00 1.00e+00f  1\n",
      "In iteration 113, 3 Slacks too small, adjusting variable bounds\n",
      " 114  5.3853203e+14 0.00e+00 9.60e+01  -8.6 2.56e+08  -6.4 1.00e+00 1.00e+00f  1\n",
      "In iteration 114, 3 Slacks too small, adjusting variable bounds\n",
      " 115  5.3873980e+14 0.00e+00 9.60e+01  -9.0 7.68e+08  -6.9 1.00e+00 1.00e+00f  1\n",
      "In iteration 115, 3 Slacks too small, adjusting variable bounds\n",
      " 116  5.3936313e+14 0.00e+00 9.60e+01  -9.0 2.30e+09  -7.4 1.00e+00 1.00e+00f  1\n",
      "In iteration 116, 3 Slacks too small, adjusting variable bounds\n",
      " 117  5.4123310e+14 0.00e+00 9.60e+01  -9.0 6.91e+09  -7.9 1.00e+00 1.00e+00f  1\n",
      "In iteration 117, 3 Slacks too small, adjusting variable bounds\n",
      " 118  5.4684302e+14 0.00e+00 9.60e+01  -9.0 2.07e+10  -8.3 1.00e+00 1.00e+00f  1\n",
      "In iteration 118, 3 Slacks too small, adjusting variable bounds\n",
      " 119  5.6367277e+14 0.00e+00 9.60e+01  -9.0 6.22e+10  -8.8 1.00e+00 1.00e+00f  1\n",
      "In iteration 119, 3 Slacks too small, adjusting variable bounds\n",
      "iter    objective    inf_pr   inf_du lg(mu)  ||d||  lg(rg) alpha_du alpha_pr  ls\n",
      " 120  6.1416202e+14 0.00e+00 9.60e+01  -9.0 1.87e+11  -9.3 1.00e+00 1.00e+00f  1\n",
      "In iteration 120, 3 Slacks too small, adjusting variable bounds\n",
      " 121  7.6562978e+14 0.00e+00 9.60e+01  -9.0 5.60e+11  -9.8 1.00e+00 1.00e+00f  1\n",
      "In iteration 121, 3 Slacks too small, adjusting variable bounds\n",
      " 122  1.0722211e+15 0.00e+00 2.15e+12  -9.0 1.68e+12 -10.2 1.00e+00 6.75e-01f  1\n",
      "In iteration 122, 3 Slacks too small, adjusting variable bounds\n",
      " 123  1.7769226e+15 0.00e+00 9.56e+12  -9.0 5.04e+12 -10.7 1.00e+00 5.17e-01f  1\n",
      "In iteration 123, 3 Slacks too small, adjusting variable bounds\n",
      " 124  3.6063913e+15 0.00e+00 3.04e+13  -9.0 1.51e+13 -11.2 9.51e-01 4.47e-01f  1\n",
      "In iteration 124, 3 Slacks too small, adjusting variable bounds\n",
      " 125  8.4833526e+15 0.00e+00 2.34e+13  -9.0 4.53e+13 -11.7 4.32e-01 3.98e-01f  1\n",
      "In iteration 125, 3 Slacks too small, adjusting variable bounds\n",
      " 126  1.7539938e+16 0.00e+00 7.25e+12  -9.0 1.36e+14 -12.2 2.26e-01 2.46e-01f  1\n",
      "In iteration 126, 3 Slacks too small, adjusting variable bounds\n",
      " 127  3.4106170e+16 0.00e+00 8.03e+13  -9.0 4.08e+14 -12.6 1.96e-01 1.50e-01f  1\n",
      "In iteration 127, 5 Slacks too small, adjusting variable bounds\n",
      " 128  6.9170116e+16 0.00e+00 1.52e+14  -9.0 1.22e+15 -13.1 1.23e-01 1.06e-01f  1\n",
      "In iteration 128, 3 Slacks too small, adjusting variable bounds\n",
      " 129  6.9386996e+16 0.00e+00 1.41e+15  -9.0 3.67e+15 -13.6 8.83e-02 2.18e-04f  1\n",
      "In iteration 129, 5 Slacks too small, adjusting variable bounds\n",
      "iter    objective    inf_pr   inf_du lg(mu)  ||d||  lg(rg) alpha_du alpha_pr  ls\n",
      " 130  2.3425676e+17 0.00e+00 2.95e+14  -9.0 1.10e+16 -14.1 3.05e-02 5.53e-02f  1\n",
      "In iteration 130, 5 Slacks too small, adjusting variable bounds\n",
      " 131  4.8658189e+17 0.00e+00 1.03e+15  -9.0 3.30e+16 -14.5 3.40e-02 2.82e-02f  1\n",
      "In iteration 131, 5 Slacks too small, adjusting variable bounds\n",
      " 132  1.0390959e+18 0.00e+00 2.26e+15  -9.0 9.91e+16 -15.0 2.38e-02 2.06e-02f  1\n",
      "In iteration 132, 5 Slacks too small, adjusting variable bounds\n",
      " 133  2.2230795e+18 0.00e+00 4.91e+15  -9.0 2.97e+17 -15.5 1.70e-02 1.47e-02f  1\n",
      "In iteration 133, 5 Slacks too small, adjusting variable bounds\n",
      " 134  4.7641007e+18 0.00e+00 1.06e+16  -9.0 8.92e+17 -16.0 1.22e-02 1.05e-02f  1\n",
      "In iteration 134, 5 Slacks too small, adjusting variable bounds\n",
      " 135  1.0227024e+19 0.00e+00 2.29e+16  -9.0 2.68e+18 -16.4 8.72e-03 7.54e-03f  1\n",
      "In iteration 135, 5 Slacks too small, adjusting variable bounds\n",
      " 136  2.1978222e+19 0.00e+00 4.93e+16  -9.0 8.03e+18 -16.9 6.25e-03 5.41e-03f  1\n",
      "In iteration 136, 5 Slacks too small, adjusting variable bounds\n",
      " 137  4.7266562e+19 0.00e+00 1.06e+17  -9.0 2.41e+19 -17.4 4.48e-03 3.88e-03f  1\n",
      "In iteration 137, 5 Slacks too small, adjusting variable bounds\n",
      " 138  1.0170836e+20 0.00e+00 2.28e+17  -9.0 7.23e+19 -17.9 3.21e-03 2.78e-03f  1\n",
      "In iteration 138, 5 Slacks too small, adjusting variable bounds\n",
      " 139  2.1893786e+20 0.00e+00 4.91e+17  -9.0 2.17e+20 -18.4 2.31e-03 2.00e-03f  1\n",
      "In iteration 139, 5 Slacks too small, adjusting variable bounds\n",
      "iter    objective    inf_pr   inf_du lg(mu)  ||d||  lg(rg) alpha_du alpha_pr  ls\n",
      " 140  4.7141842e+20 0.00e+00 1.06e+18  -9.0 6.50e+20 -18.8 1.66e-03 1.43e-03f  1\n",
      "In iteration 140, 5 Slacks too small, adjusting variable bounds\n",
      " 141  1.0152575e+21 0.00e+00 2.28e+18  -9.0 1.95e+21 -19.3 1.19e-03 1.03e-03f  1\n",
      "In iteration 141, 5 Slacks too small, adjusting variable bounds\n",
      " 142  2.1867929e+21 0.00e+00 4.91e+18  -9.0 5.85e+21 -19.8 8.54e-04 7.39e-04f  1\n",
      "In iteration 142, 5 Slacks too small, adjusting variable bounds\n",
      " 143  4.7097082e+21 0.00e+00 2.67e+19  -9.0 9.60e+21 -20.0 1.55e-03 9.71e-04f  1\n",
      "In iteration 143, 5 Slacks too small, adjusting variable bounds\n",
      " 144  1.1247613e+22 0.00e+00 8.08e+19  -9.0 9.60e+21 -20.0 3.95e-03 2.52e-03f  1\n",
      "In iteration 144, 5 Slacks too small, adjusting variable bounds\n",
      " 145  2.7988677e+22 0.00e+00 1.36e+20  -9.0 9.60e+21 -20.0 7.93e-03 6.44e-03f  1\n",
      "\n",
      "Number of Iterations....: 145\n",
      "\n",
      "                                   (scaled)                 (unscaled)\n",
      "Objective...............:  -2.7988677413132552e+22    2.7988677413132552e+22\n",
      "Dual infeasibility......:   1.3628553935555507e+20    1.3628553935555507e+20\n",
      "Constraint violation....:   0.0000000000000000e+00    0.0000000000000000e+00\n",
      "Variable bound violation:   1.0000000000000010e-08    1.0000000000000010e-08\n",
      "Complementarity.........:   1.0952095939310464e-04    1.0952095939310464e-04\n",
      "Overall NLP error.......:   8.8253827964038450e+01    1.3628553935555507e+20\n",
      "\n",
      "\n",
      "Number of objective function evaluations             = 146\n",
      "Number of objective gradient evaluations             = 146\n",
      "Number of equality constraint evaluations            = 0\n",
      "Number of inequality constraint evaluations          = 146\n",
      "Number of equality constraint Jacobian evaluations   = 0\n",
      "Number of inequality constraint Jacobian evaluations = 1\n",
      "Number of Lagrangian Hessian evaluations             = 1\n",
      "Total seconds in IPOPT                               = 0.056\n",
      "\n",
      "EXIT: Iterates diverging; problem might be unbounded.\n",
      "termination_status(primal) = MathOptInterface.NORM_LIMIT\n",
      "primal_status(primal) = MathOptInterface.UNKNOWN_RESULT_STATUS\n",
      "dual_status(primal) = MathOptInterface.UNKNOWN_RESULT_STATUS\n",
      "objective_value(primal) = 2.798867741313255e22\n",
      "value.(x_star) = [88.00000088006702, 95.00000095001755, -1.000000000000001e-8, -1.000000000000001e-8, 96.0000009799726]\n",
      "value.(p_star) = [9.478559112427853e19, 1.0232535372584555e20, 0.33516989914876394, 0.1606883485807437, 1.034024636279227e20]\n",
      "value.(c1) = [34.16666700834975; 16.111111272222633; 2.222222244444158; 30.4761907809524;;]\n",
      "shadow_price.(c1) = [3.132960002017056e20; 4.062768677476948e20; 3173.784092736588; 3.5236770732592746e20;;]\n"
     ]
    },
    {
     "data": {
      "text/plain": [
       "4×1 Matrix{Float64}:\n",
       "    3.132960002017056e20\n",
       "    4.062768677476948e20\n",
       " 3173.784092736588\n",
       "    3.5236770732592746e20"
      ]
     },
     "execution_count": 23,
     "metadata": {},
     "output_type": "execute_result"
    }
   ],
   "source": [
    "# Heckscher-Ohlin - Quadratic program\n",
    "# behaves diverging, no real solution\n",
    "# probably because I assumed not-given commodity prices, but in the paper they are in fact given\n",
    "#based on https://www.sciencedirect.com/science/article/pii/S0014292177800330/pdf\n",
    "# Instantiate the model\n",
    "primal = Model(Ipopt.Optimizer)\n",
    "(@isdefined primal) && (primal = nothing; primal = Model(Ipopt.Optimizer));\n",
    "# Define the optimisation model\n",
    "@variable(primal, x_star[1:size(itc.A,1)] >= 0, base_name = \"x*\")\n",
    "@variable(primal, p_star[1:size(itc.A,2)] >= 0, base_name = \"p*\")#Not sur eif p is actually unbounded; the paper doesn't set any bounds at least\n",
    "@objective(primal, Max, sum(p_star'*x_star))\n",
    "@constraint(primal, c1, itc.R*x_star .<= itc.ϕ);\n",
    "# Run the model and show results\n",
    "optimize!(primal)\n",
    "@show termination_status(primal)\n",
    "@show primal_status(primal)\n",
    "@show dual_status(primal)\n",
    "@show objective_value(primal)\n",
    "@show value.(x_star)\n",
    "@show value.(p_star)\n",
    "@show value.(c1)\n",
    "@show shadow_price.(c1)"
   ]
  },
  {
   "cell_type": "code",
   "execution_count": 16,
   "metadata": {},
   "outputs": [
    {
     "data": {
      "text/plain": [
       "4×1 Matrix{Float64}:\n",
       " 34.16666666666667\n",
       " 16.11111111111111\n",
       "  2.2222222222222223\n",
       " 30.476190476190474"
      ]
     },
     "execution_count": 16,
     "metadata": {},
     "output_type": "execute_result"
    }
   ],
   "source": [
    "itc.ϕ"
   ]
  },
  {
   "cell_type": "code",
   "execution_count": 15,
   "metadata": {},
   "outputs": [
    {
     "name": "stdout",
     "output_type": "stream",
     "text": [
      "This is Ipopt version 3.14.13, running with linear solver MUMPS 5.6.0.\n",
      "\n",
      "Number of nonzeros in equality constraint Jacobian...:        0\n",
      "Number of nonzeros in inequality constraint Jacobian.:       21\n",
      "Number of nonzeros in Lagrangian Hessian.............:        0\n",
      "\n",
      "Total number of variables............................:        9\n",
      "                     variables with only lower bounds:        9\n",
      "                variables with lower and upper bounds:        0\n",
      "                     variables with only upper bounds:        0\n",
      "Total number of equality constraints.................:        0\n",
      "Total number of inequality constraints...............:        5\n",
      "        inequality constraints with only lower bounds:        5\n",
      "   inequality constraints with lower and upper bounds:        0\n",
      "        inequality constraints with only upper bounds:        0\n",
      "\n",
      "iter    objective    inf_pr   inf_du lg(mu)  ||d||  lg(rg) alpha_du alpha_pr  ls\n",
      "   0  8.2976107e-01 7.12e-03 3.13e+01  -1.0 0.00e+00    -  0.00e+00 0.00e+00   0\n",
      "   1  3.0300027e-01 7.88e-03 7.62e+00  -1.0 1.93e-01    -  1.00e+00 5.13e-02h  1\n",
      "   2  6.1972251e-01 0.00e+00 1.00e-06  -1.0 5.42e-02    -  1.00e+00 1.00e+00h  1\n",
      "   3  3.9595269e-02 0.00e+00 2.83e-08  -2.5 6.39e-02    -  1.00e+00 1.00e+00f  1\n",
      "   4  2.1030647e-03 0.00e+00 1.50e-09  -3.8 4.35e-03    -  1.00e+00 1.00e+00f  1\n",
      "   5  2.2942831e-05 0.00e+00 1.85e-11  -5.7 2.45e-04    -  1.00e+00 1.00e+00f  1\n",
      "   6 -5.2612453e-07 0.00e+00 4.84e-01  -8.6 3.04e-06    -  1.00e+00 9.17e-01f  1\n",
      "   7 -7.8408397e-07 0.00e+00 1.06e+01  -8.6 8.34e-08    -  1.00e+00 5.36e-01f  1\n",
      "   8 -8.2065510e-07 0.00e+00 2.55e-14  -8.6 1.21e-09    -  1.00e+00 1.00e+00f  1\n",
      "\n",
      "Number of Iterations....: 8\n",
      "\n",
      "                                   (scaled)                 (unscaled)\n",
      "Objective...............:  -8.2065509990772487e-07   -8.2065509990772487e-07\n",
      "Dual infeasibility......:   2.5535129566378600e-14    2.5535129566378600e-14\n",
      "Constraint violation....:   0.0000000000000000e+00    0.0000000000000000e+00\n",
      "Variable bound violation:   9.9414836887113568e-09    9.9414836887113568e-09\n",
      "Complementarity.........:   2.7353320212800994e-09    2.7353320212800994e-09\n",
      "Overall NLP error.......:   2.7353320212800994e-09    2.7353320212800994e-09\n",
      "\n",
      "\n",
      "Number of objective function evaluations             = 9\n",
      "Number of objective gradient evaluations             = 9\n",
      "Number of equality constraint evaluations            = 0\n",
      "Number of inequality constraint evaluations          = 9\n",
      "Number of equality constraint Jacobian evaluations   = 0\n",
      "Number of inequality constraint Jacobian evaluations = 1\n",
      "Number of Lagrangian Hessian evaluations             = 1\n",
      "Total seconds in IPOPT                               = 0.003\n",
      "\n",
      "EXIT: Optimal Solution Found.\n",
      "termination_status(dual) = MathOptInterface.LOCALLY_SOLVED\n",
      "primal_status(dual) = MathOptInterface.FEASIBLE_POINT\n",
      "dual_status(dual) = MathOptInterface.FEASIBLE_POINT\n",
      "objective_value(dual) = -8.206550999077249e-7\n",
      "value.(x_star) = [88.00000088006702, 95.00000095001755, -1.000000000000001e-8, -1.000000000000001e-8, 96.0000009799726]\n",
      "value.(p_star) = [-1.4309070630617026e-9, -1.5160591623977402e-9, -1.4623136247567423e-9, -1.4623136247567423e-9, -1.4623136247567423e-9]\n",
      "value.(c1) = [-1.4309070630617064e-9, -1.5160591623977348e-9, -1.462313624756744e-9, -1.462313624756744e-9, -1.462313624756744e-9]\n",
      "shadow_price.(c1) = [-0.3036538296955946, -0.32241290617638896, -0.2998028334535814, -0.2998028334535814, -0.2998028334535814]\n"
     ]
    },
    {
     "data": {
      "text/plain": [
       "5-element Vector{Float64}:\n",
       " -0.3036538296955946\n",
       " -0.32241290617638896\n",
       " -0.2998028334535814\n",
       " -0.2998028334535814\n",
       " -0.2998028334535814"
      ]
     },
     "execution_count": 15,
     "metadata": {},
     "output_type": "execute_result"
    }
   ],
   "source": [
    "# Heckscher-Ohlin - Quadratic program\n",
    "# Instantiate the model\n",
    "dual = Model(Ipopt.Optimizer)\n",
    "(@isdefined dual) && (dual = nothing; dual = Model(Ipopt.Optimizer));\n",
    "# Define the optimisation model\n",
    "@variable(dual, pii_star[1:size(itc.R,1)] >= 0, base_name = \"pii*\")\n",
    "@variable(dual, p_star[1:size(itc.A,2)] >= 0, base_name = \"p*\")\n",
    "@objective(dual, Min, sum(pii_star'*itc.ϕ))\n",
    "@constraint(dual, c1, itc.R'*pii_star .>= p_star);\n",
    "# Run the model and show results\n",
    "optimize!(dual)\n",
    "@show termination_status(dual)\n",
    "@show primal_status(dual)\n",
    "@show dual_status(dual)\n",
    "@show objective_value(dual)\n",
    "@show value.(x_star)\n",
    "@show value.(p_star)\n",
    "@show value.(c1)\n",
    "@show shadow_price.(c1)"
   ]
  },
  {
   "cell_type": "code",
   "execution_count": 27,
   "metadata": {},
   "outputs": [
    {
     "data": {
      "text/plain": [
       "5×1 Matrix{Float64}:\n",
       " 88.0\n",
       " 95.0\n",
       " 76.0\n",
       " 10.0\n",
       " 10.0"
      ]
     },
     "execution_count": 27,
     "metadata": {},
     "output_type": "execute_result"
    }
   ],
   "source": [
    "itc.x"
   ]
  },
  {
   "cell_type": "code",
   "execution_count": 24,
   "metadata": {},
   "outputs": [
    {
     "name": "stdout",
     "output_type": "stream",
     "text": [
      "This is Ipopt version 3.14.13, running with linear solver MUMPS 5.6.0.\n",
      "\n",
      "Number of nonzeros in equality constraint Jacobian...:        0\n",
      "Number of nonzeros in inequality constraint Jacobian.:       16\n",
      "Number of nonzeros in Lagrangian Hessian.............:        0\n",
      "\n",
      "Total number of variables............................:        5\n",
      "                     variables with only lower bounds:        5\n",
      "                variables with lower and upper bounds:        0\n",
      "                     variables with only upper bounds:        0\n",
      "Total number of equality constraints.................:        0\n",
      "Total number of inequality constraints...............:        4\n",
      "        inequality constraints with only lower bounds:        0\n",
      "   inequality constraints with lower and upper bounds:        0\n",
      "        inequality constraints with only upper bounds:        4\n",
      "\n",
      "iter    objective    inf_pr   inf_du lg(mu)  ||d||  lg(rg) alpha_du alpha_pr  ls\n",
      "   0  4.9999950e-02 0.00e+00 1.52e+00  -1.0 0.00e+00    -  0.00e+00 0.00e+00   0\n",
      "   1  5.9988787e-01 0.00e+00 1.01e+00  -1.0 1.10e-01    -  4.95e-01 1.00e+00f  1\n",
      "   2  1.0263624e+02 0.00e+00 9.55e-01  -1.0 2.15e+01    -  1.03e-02 1.00e+00f  1\n",
      "   3  2.6196153e+02 0.00e+00 3.04e+00  -1.0 7.65e+02    -  1.00e+00 1.33e-01f  1\n",
      "   4  2.7858368e+02 0.00e+00 1.00e-06  -1.0 5.15e+01    -  1.00e+00 1.00e+00f  1\n",
      "   5  2.7898819e+02 0.00e+00 2.83e-08  -2.5 1.06e+00    -  1.00e+00 1.00e+00f  1\n",
      "   6  2.7899940e+02 0.00e+00 1.50e-09  -3.8 2.63e-02    -  1.00e+00 1.00e+00f  1\n",
      "   7  2.7900000e+02 0.00e+00 1.84e-11  -5.7 1.44e-03    -  1.00e+00 1.00e+00f  1\n",
      "   8  2.7900000e+02 0.00e+00 2.53e-14  -8.6 1.80e-05    -  1.00e+00 1.00e+00f  1\n",
      "\n",
      "Number of Iterations....: 8\n",
      "\n",
      "                                   (scaled)                 (unscaled)\n",
      "Objective...............:  -2.7900000277997617e+02    2.7900000277997617e+02\n",
      "Dual infeasibility......:   2.5342706381907154e-14    2.5342706381907154e-14\n",
      "Constraint violation....:   0.0000000000000000e+00    0.0000000000000000e+00\n",
      "Variable bound violation:   0.0000000000000000e+00    0.0000000000000000e+00\n",
      "Complementarity.........:   4.1648767175277719e-09    4.1648767175277719e-09\n",
      "Overall NLP error.......:   4.1648767175277719e-09    4.1648767175277719e-09\n",
      "\n",
      "\n",
      "Number of objective function evaluations             = 9\n",
      "Number of objective gradient evaluations             = 9\n",
      "Number of equality constraint evaluations            = 0\n",
      "Number of inequality constraint evaluations          = 9\n",
      "Number of equality constraint Jacobian evaluations   = 0\n",
      "Number of inequality constraint Jacobian evaluations = 1\n",
      "Number of Lagrangian Hessian evaluations             = 1\n",
      "Total seconds in IPOPT                               = 0.003\n",
      "\n",
      "EXIT: Optimal Solution Found.\n",
      "termination_status(primal) = MathOptInterface.LOCALLY_SOLVED\n",
      "primal_status(primal) = MathOptInterface.FEASIBLE_POINT\n",
      "dual_status(primal) = MathOptInterface.FEASIBLE_POINT\n",
      "objective_value(primal) = 279.00000277997617\n",
      "value.(x_star) = [88.00000089809592, 95.0000009255422, 32.00000031877826, 32.00000031878293, 32.000000318776856]\n",
      "value.(p_star) = [1.0, 1.0, 1.0, 1.0, 1.0]\n",
      "value.(c1) = [34.16666700764111; 16.111111270491005; 2.2222222441972286; 30.476190780254658;;]\n",
      "shadow_price.(c1) = [3.4788606819335546; 2.405752127193995; 3.422497616266235; 3.7332105768477866;;]\n"
     ]
    },
    {
     "data": {
      "text/plain": [
       "4×1 Matrix{Float64}:\n",
       " 3.4788606819335546\n",
       " 2.405752127193995\n",
       " 3.422497616266235\n",
       " 3.7332105768477866"
      ]
     },
     "execution_count": 24,
     "metadata": {},
     "output_type": "execute_result"
    }
   ],
   "source": [
    "# Heckscher-Ohlin - Quadratic program.\n",
    "# In fact not quadratic when prices are given...\n",
    "#based on https://www.sciencedirect.com/science/article/pii/S0014292177800330/pdf\n",
    "# Instantiate the model\n",
    "primal = Model(Ipopt.Optimizer)\n",
    "(@isdefined primal) && (primal = nothing; primal = Model(Ipopt.Optimizer));\n",
    "# Define the optimisation model\n",
    "@variable(primal, x_star[1:size(itc.A,1)] >= 0, base_name = \"x*\")\n",
    "#@variable(primal, p_star[1:size(itc.A,2)] >= 0, base_name = \"p*\")#Not sur eif p is actually unbounded; the paper doesn't set any bounds at least\n",
    "p_star = ones(size(itc.A,1))\n",
    "@objective(primal, Max, sum(p_star'x_star))\n",
    "@constraint(primal, c1, itc.R*x_star .<= itc.ϕ);\n",
    "# Run the model and show results\n",
    "optimize!(primal)\n",
    "@show termination_status(primal)\n",
    "@show primal_status(primal)\n",
    "@show dual_status(primal)\n",
    "@show objective_value(primal)\n",
    "@show value.(x_star)\n",
    "@show value.(p_star)\n",
    "@show value.(c1)\n",
    "@show shadow_price.(c1)"
   ]
  },
  {
   "cell_type": "code",
   "execution_count": 28,
   "metadata": {},
   "outputs": [
    {
     "name": "stdout",
     "output_type": "stream",
     "text": [
      "This is Ipopt version 3.14.13, running with linear solver MUMPS 5.6.0.\n",
      "\n",
      "Number of nonzeros in equality constraint Jacobian...:        0\n",
      "Number of nonzeros in inequality constraint Jacobian.:       16\n",
      "Number of nonzeros in Lagrangian Hessian.............:        0\n",
      "\n",
      "Total number of variables............................:        4\n",
      "                     variables with only lower bounds:        4\n",
      "                variables with lower and upper bounds:        0\n",
      "                     variables with only upper bounds:        0\n",
      "Total number of equality constraints.................:        0\n",
      "Total number of inequality constraints...............:        5\n",
      "        inequality constraints with only lower bounds:        5\n",
      "   inequality constraints with lower and upper bounds:        0\n",
      "        inequality constraints with only upper bounds:        0\n",
      "\n",
      "iter    objective    inf_pr   inf_du lg(mu)  ||d||  lg(rg) alpha_du alpha_pr  ls\n",
      "   0  8.2976107e-01 9.97e-01 2.99e+01  -1.0 0.00e+00    -  0.00e+00 0.00e+00   0\n",
      "   1  1.0971747e+00 9.96e-01 2.97e+01  -1.0 9.37e-01    -  2.32e-02 1.06e-02h  1\n",
      "   2  2.2462105e+00 9.92e-01 2.94e+01  -1.0 4.37e+00    -  3.43e-03 4.06e-03h  1\n",
      "   3  2.8698056e+02 0.00e+00 5.40e+02  -1.0 4.11e+00    -  9.46e-03 1.00e+00h  1\n",
      "   4  2.8210740e+02 0.00e+00 5.38e+02  -1.0 2.93e+02    -  7.70e-03 2.67e-03f  1\n",
      "   5  2.8229386e+02 0.00e+00 4.52e+02  -1.0 6.56e+00    -  9.96e-01 1.60e-02f  4\n",
      "   6  2.7949287e+02 0.00e+00 1.00e-06  -1.0 1.20e+01    -  1.00e+00 1.00e+00f  1\n",
      "   7  2.7901356e+02 0.00e+00 2.83e-08  -2.5 9.40e-02    -  1.00e+00 1.00e+00f  1\n",
      "   8  2.7900075e+02 0.00e+00 1.50e-09  -3.8 1.01e-01    -  1.00e+00 1.00e+00f  1\n",
      "   9  2.7900001e+02 0.00e+00 1.85e-11  -5.7 2.30e-02    -  1.00e+00 1.00e+00f  1\n",
      "iter    objective    inf_pr   inf_du lg(mu)  ||d||  lg(rg) alpha_du alpha_pr  ls\n",
      "  10  2.7900000e+02 0.00e+00 3.51e-14  -8.6 2.51e-03    -  1.00e+00 1.00e+00f  1\n",
      "\n",
      "Number of Iterations....: 10\n",
      "\n",
      "                                   (scaled)                 (unscaled)\n",
      "Objective...............:   2.7899999722252926e+02    2.7899999722252926e+02\n",
      "Dual infeasibility......:   3.5140101599899628e-14    3.5140101599899628e-14\n",
      "Constraint violation....:   0.0000000000000000e+00    0.0000000000000000e+00\n",
      "Variable bound violation:   0.0000000000000000e+00    0.0000000000000000e+00\n",
      "Complementarity.........:   2.9630278604400893e-09    2.9630278604400893e-09\n",
      "Overall NLP error.......:   2.9630278604400893e-09    2.9630278604400893e-09\n",
      "\n",
      "\n",
      "Number of objective function evaluations             = 14\n",
      "Number of objective gradient evaluations             = 11\n",
      "Number of equality constraint evaluations            = 0\n",
      "Number of inequality constraint evaluations          = 14\n",
      "Number of equality constraint Jacobian evaluations   = 0\n",
      "Number of inequality constraint Jacobian evaluations = 1\n",
      "Number of Lagrangian Hessian evaluations             = 1\n",
      "Total seconds in IPOPT                               = 0.004\n",
      "\n",
      "EXIT: Optimal Solution Found.\n",
      "termination_status(dual) = MathOptInterface.LOCALLY_SOLVED\n",
      "primal_status(dual) = MathOptInterface.FEASIBLE_POINT\n",
      "dual_status(dual) = MathOptInterface.FEASIBLE_POINT\n",
      "objective_value(dual) = 278.99999722252926\n",
      "value.(x_star) = [88.00000089809592, 95.0000009255422, 32.00000031877826, 32.00000031878293, 32.000000318776856]\n",
      "value.(p_star) = [1.0, 1.0, 1.0, 1.0, 1.0]\n",
      "value.(c1) = [0.9999999900284794, 0.9999999900263741, 0.9999999900783079, 0.9999999900783079, 0.9999999900783079]\n",
      "shadow_price.(c1) = [-88.00000001809542, -94.99999997554298, -31.99999999877881, -31.99999999877881, -31.999999998780645]\n"
     ]
    },
    {
     "data": {
      "text/plain": [
       "5-element Vector{Float64}:\n",
       " -88.00000001809542\n",
       " -94.99999997554298\n",
       " -31.99999999877881\n",
       " -31.99999999877881\n",
       " -31.999999998780645"
      ]
     },
     "execution_count": 28,
     "metadata": {},
     "output_type": "execute_result"
    }
   ],
   "source": [
    "# Heckscher-Ohlin - Quadratic program\n",
    "# Instantiate the model\n",
    "dual = Model(Ipopt.Optimizer)\n",
    "(@isdefined dual) && (dual = nothing; dual = Model(Ipopt.Optimizer));\n",
    "# Define the optimisation model\n",
    "@variable(dual, pii_star[1:size(itc.R,1)] >= 0, base_name = \"pii*\")\n",
    "#@variable(dual, p_star[1:size(itc.A,2)] >= 0, base_name = \"p*\")\n",
    "p_star = ones(size(itc.A,1))\n",
    "@objective(dual, Min, sum(pii_star'*itc.ϕ))\n",
    "@constraint(dual, c1, itc.R'*pii_star .>= p_star);\n",
    "# Run the model and show results\n",
    "optimize!(dual)\n",
    "@show termination_status(dual)\n",
    "@show primal_status(dual)\n",
    "@show dual_status(dual)\n",
    "@show objective_value(dual)\n",
    "@show value.(x_star)\n",
    "@show value.(p_star)\n",
    "@show value.(c1)\n",
    "@show shadow_price.(c1)"
   ]
  },
  {
   "cell_type": "code",
   "execution_count": null,
   "metadata": {},
   "outputs": [
    {
     "name": "stdout",
     "output_type": "stream",
     "text": [
      "termination_status(primal) = MathOptInterface.OPTIMAL\n",
      "primal_status(primal) = MathOptInterface.FEASIBLE_POINT\n",
      "dual_status(primal) = MathOptInterface.FEASIBLE_POINT\n",
      "objective_value(primal) = 1.0000000000000004\n",
      "value.(z_star) = [1.0000000000000002, 1.0, 1.0000000000000002]\n",
      "value.(c_star) = 1.0000000000000004\n",
      "value.(c1) = [0.0; 0.0; 0.0;;]\n",
      "value.(c2) = [34.0; 25.000000000000004; 26.000000000000004; 29.000000000000004;;]\n",
      "shadow_price.(c1) = [0.009730722628548101; 0.009929005639763044; 0.008065016159742477;;]\n",
      "shadow_price.(c2) = [0.029411764705882353; 0.0; 0.0; 0.0;;]\n"
     ]
    },
    {
     "data": {
      "text/plain": [
       "4×1 Matrix{Float64}:\n",
       " 0.029411764705882353\n",
       " 0.0\n",
       " 0.0\n",
       " 0.0"
      ]
     },
     "metadata": {},
     "output_type": "display_data"
    }
   ],
   "source": [
    "# SU-NEO - LP\n",
    "# Instantiate the model\n",
    "primal = Model(GLPK.Optimizer)\n",
    "(@isdefined primal) && (primal = nothing; primal = Model(GLPK.Optimizer));\n",
    "# Define the optimisation model\n",
    "@variable(primal, z_star[1:size(V,1)] >= 0, base_name = \"z*\")\n",
    "@variable(primal, c_star >= 0, base_name = \"c*\")\n",
    "@objective(primal, Max, c_star)\n",
    "@constraint(primal, c1, (model_data.V'-model_data.U)*(z_star) .>= c_star*model_data.e)\n",
    "@constraint(primal, c2, model_data.F*z_star .<= model_data.ϕ);\n",
    "# Run the model and show results\n",
    "optimize!(primal)\n",
    "@show termination_status(primal)\n",
    "@show primal_status(primal)\n",
    "@show dual_status(primal)\n",
    "@show objective_value(primal)\n",
    "@show value.(z_star)\n",
    "@show value.(c_star)\n",
    "@show value.(c1)\n",
    "@show value.(c2)\n",
    "@show shadow_price.(c1)\n",
    "@show shadow_price.(c2)"
   ]
  },
  {
   "cell_type": "code",
   "execution_count": 104,
   "metadata": {},
   "outputs": [
    {
     "name": "stdout",
     "output_type": "stream",
     "text": [
      "termination_status(model) = MathOptInterface.OPTIMAL\n",
      "primal_status(model) = MathOptInterface.FEASIBLE_POINT\n",
      "dual_status(model) = MathOptInterface.FEASIBLE_POINT\n",
      "objective_value(model) = 169.0\n",
      "value.(p) = [1.0561836072199977, 0.9769985726736475, 1.1709128573052583, 0.0, 0.0]\n",
      "value.(r) = [0.0, 0.0, 0.0, 0.0]\n",
      "value.(profit_con) = [40.0, 57.0, 72.0]\n"
     ]
    }
   ],
   "source": [
    "su_rcot(\"dual\", \"abs\", model_data);#, surplus=false);"
   ]
  },
  {
   "cell_type": "code",
   "execution_count": 103,
   "metadata": {},
   "outputs": [
    {
     "name": "stdout",
     "output_type": "stream",
     "text": [
      "termination_status(model) = MathOptInterface.OPTIMAL\n",
      "primal_status(model) = MathOptInterface.FEASIBLE_POINT\n",
      "dual_status(model) = MathOptInterface.FEASIBLE_POINT\n",
      "objective_value(model) = 169.0\n",
      "value.(p) = [1.1592841371453286, 1.2471962572194275, 0.16267777268079495, 0.0, 0.0]\n",
      "value.(pii) = [4.946341463414633, 0.0, 0.0, 0.0]\n",
      "shadow_price.(c1d) = [-1.0, -1.0, -1.0000000000000002]\n",
      "shadow_price.(c2d) = [-1.0;;]\n"
     ]
    }
   ],
   "source": [
    "#SU-NEO - LP\n",
    "# Instantiate the model\n",
    "dual = Model(GLPK.Optimizer)\n",
    "(@isdefined dual) && (dual = nothing; dual = Model(GLPK.Optimizer));\n",
    "\n",
    "# Set up the model\n",
    "dual = Model(GLPK.Optimizer)\n",
    "\n",
    "# Define the optimisation model\n",
    "@variable(dual, p[1:size(sut.V,2)] >= 0)\n",
    "@variable(dual, pii[1:size(sut.F,1)] >= 0)\n",
    "@objective(dual, Min, sum(pii'*model_data.ϕ))\n",
    "@constraint(dual, c1d, (model_data.V'-model_data.U)'*(p) .<= model_data.F'*pii)\n",
    "@constraint(dual, c2d, (p'*model_data.e) .== sum(model_data.e))# or .==1?\n",
    "\n",
    "# Run the model and show results\n",
    "optimize!(dual)\n",
    "model_solution(dual)\n",
    "@show value.(p)\n",
    "@show value.(pii)\n",
    "@show shadow_price.(c1d)\n",
    "@show shadow_price.(c2d);"
   ]
  },
  {
   "cell_type": "code",
   "execution_count": 22,
   "metadata": {},
   "outputs": [
    {
     "name": "stdout",
     "output_type": "stream",
     "text": [
      "Path 5.0.03 (Fri Jun 26 10:05:33 2020)\n",
      "Written by Todd Munson, Steven Dirkse, Youngdae Kim, and Michael Ferris\n",
      "\n",
      "\n",
      "Crash Log\n",
      "major  func  diff  size  residual    step       prox   (label)\n",
      "    0     0             1.5100e+02             0.0e+00 (f[    6])\n",
      "    1     8     3     3 1.4960e+02  2.8e-02    1.5e+00 (f[    6])\n",
      "    2    19     0     3 1.4958e+02  3.2e-04    1.4e+00 (f[    6])\n",
      "pn_search terminated: no basis change.\n",
      "\n",
      "Major Iteration Log\n",
      "major minor  func  grad  residual    step  type prox    inorm  (label)\n",
      "    0     0    20     3 1.4958e+02           I 1.2e+00 1.3e+02 (f[    6])\n",
      "    1     4    21     4 1.8600e+00  1.0e+00 SM 4.9e-01 1.0e+00 (f[    5])\n",
      "    2     5    22     5 7.1801e-03  1.0e+00 SO 1.9e-01 4.7e-03 (f[    2])\n",
      "    3     1    23     6 1.0146e-07  1.0e+00 SO 7.2e-04 4.4e-08 (f[    4])\n",
      "\n",
      "Major Iterations. . . . 3\n",
      "Minor Iterations. . . . 10\n",
      "Restarts. . . . . . . . 0\n",
      "Crash Iterations. . . . 2\n",
      "Gradient Steps. . . . . 0\n",
      "Function Evaluations. . 23\n",
      "Gradient Evaluations. . 6\n",
      "Basis Time. . . . . . . 0.000000\n",
      "Total Time. . . . . . . 0.000000\n",
      "Residual. . . . . . . . 1.014623e-07\n"
     ]
    }
   ],
   "source": [
    "# SU-RCOT - MCP\n",
    "# To set up our initial primal, we write:\n",
    "compl = Model(PATHSolver.Optimizer)\n",
    "\n",
    "act = size(model_data.V,1)\n",
    "com = size(model_data.V,2)\n",
    "fac = size(model_data.F,1)\n",
    "\n",
    "# Define the optimisation model\n",
    "@variable(compl, z_star[1:act] >= 0)\n",
    "@variable(compl, p_star[1:com] >= 0)\n",
    "@variable(compl, r_star[1:fac] >= 0)\n",
    "\n",
    "@constraint(compl, c1, vec((model_data.pii + r_star)'*model_data.F - (p_star'*(model_data.V' - model_data.U))) ⟂ z_star)\n",
    "@constraint(compl, c2, vec((model_data.V' - model_data.U)*(z_star) - model_data.e) ⟂ p_star)\n",
    "@constraint(compl, c3, vec((model_data.ϕ - model_data.F*z_star)) ⟂ r_star)\n",
    "\n",
    "# Solve\n",
    "optimize!(compl)"
   ]
  },
  {
   "cell_type": "code",
   "execution_count": 23,
   "metadata": {},
   "outputs": [
    {
     "data": {
      "text/plain": [
       "* Solver : Path 5.0.03\n",
       "\n",
       "* Status\n",
       "  Result count       : 1\n",
       "  Termination status : LOCALLY_SOLVED\n",
       "  Message from the solver:\n",
       "  \"The problem was solved\"\n",
       "\n",
       "* Candidate solution (result #1)\n",
       "  Primal status      : FEASIBLE_POINT\n",
       "  Dual status        : NO_SOLUTION\n",
       "  Objective value    : 0.00000e+00\n",
       "  Primal solution :\n",
       "    p_star[1] : 2.20398e+00\n",
       "    p_star[2] : 2.12643e+00\n",
       "    p_star[3] : 2.39238e+00\n",
       "    r_star[1] : 6.60676e-03\n",
       "    r_star[2] : 3.89078e-03\n",
       "    r_star[3] : 5.21122e-03\n",
       "    r_star[4] : 5.40887e-03\n",
       "    z_star[1] : 1.00000e+00\n",
       "    z_star[2] : 1.00000e+00\n",
       "    z_star[3] : 1.00000e+00\n",
       "\n",
       "* Work counters\n",
       "  Solve time (sec)   : 0.00000e+00\n"
      ]
     },
     "execution_count": 23,
     "metadata": {},
     "output_type": "execute_result"
    }
   ],
   "source": [
    "solution_summary(compl; verbose = true)"
   ]
  },
  {
   "cell_type": "code",
   "execution_count": 11,
   "metadata": {},
   "outputs": [
    {
     "name": "stdout",
     "output_type": "stream",
     "text": [
      "termination_status(model) = MathOptInterface.OPTIMAL\n",
      "primal_status(model) = MathOptInterface.FEASIBLE_POINT\n",
      "dual_status(model) = MathOptInterface.FEASIBLE_POINT\n",
      "objective_value(model) = 169.0\n",
      "value.(p) = [1.0561836072199977, 0.9769985726736475, 1.1709128573052583, 0.0, 0.0]\n",
      "value.(r) = [0.0, 0.0, 0.0, 0.0]\n",
      "value.(profit_con) = [40.0, 57.0, 72.0]\n"
     ]
    },
    {
     "data": {
      "text/plain": [
       "A JuMP Model\n",
       "Maximization problem with:\n",
       "Variables: 9\n",
       "Objective function type: AffExpr\n",
       "`AffExpr`-in-`MathOptInterface.LessThan{Float64}`: 3 constraints\n",
       "`VariableRef`-in-`MathOptInterface.GreaterThan{Float64}`: 9 constraints\n",
       "Model mode: AUTOMATIC\n",
       "CachingOptimizer state: ATTACHED_OPTIMIZER\n",
       "Solver name: GLPK\n",
       "Names registered in the model: c1d, p, r"
      ]
     },
     "execution_count": 11,
     "metadata": {},
     "output_type": "execute_result"
    }
   ],
   "source": [
    "su_rcot(\"dual\", \"abs\", model_data)"
   ]
  },
  {
   "cell_type": "code",
   "execution_count": 10,
   "metadata": {},
   "outputs": [
    {
     "name": "stdout",
     "output_type": "stream",
     "text": [
      "termination_status(model) = MathOptInterface.OPTIMAL\n",
      "primal_status(model) = MathOptInterface.FEASIBLE_POINT\n",
      "dual_status(model) = MathOptInterface.FEASIBLE_POINT\n",
      "objective_value(model) = 169.0\n",
      "value.(var_con) = [1.0, 1.0, 1.0]\n",
      "value.(demand_con) = [57.0, 79.0, 26.999999999999996, 4.0, 2.0]\n",
      "value.(factor_con) = [34.16666666666667, 16.11111111111111, 2.2222222222222223, 30.476190476190474]\n"
     ]
    },
    {
     "data": {
      "text/plain": [
       "A JuMP Model\n",
       "Minimization problem with:\n",
       "Variables: 3\n",
       "Objective function type: AffExpr\n",
       "`AffExpr`-in-`MathOptInterface.GreaterThan{Float64}`: 5 constraints\n",
       "`AffExpr`-in-`MathOptInterface.LessThan{Float64}`: 4 constraints\n",
       "`VariableRef`-in-`MathOptInterface.GreaterThan{Float64}`: 3 constraints\n",
       "Model mode: AUTOMATIC\n",
       "CachingOptimizer state: ATTACHED_OPTIMIZER\n",
       "Solver name: GLPK\n",
       "Names registered in the model: c1, c2, z_star"
      ]
     },
     "execution_count": 10,
     "metadata": {},
     "output_type": "execute_result"
    }
   ],
   "source": [
    "su_rcot(\"primal\", \"abs\", model_data)"
   ]
  },
  {
   "cell_type": "code",
   "execution_count": 212,
   "metadata": {},
   "outputs": [
    {
     "data": {
      "text/latex": [
       "$$ \\begin{aligned}\n",
       "\\text{feasibility}\\\\\n",
       "\\text{Subject to} \\quad & [80 z\\_star_{1} - 23 z\\_star_{2} - 57, 88 z\\_star_{2} - 9 z\\_star_{3} - 79, -38 z\\_star_{1} - 4 z\\_star_{2} + 69 z\\_star_{3} - 27, -2 z\\_star_{1} - 4 z\\_star_{2} + 10 z\\_star_{3} - 4, 2 z\\_star_{3} - 2, p\\_star_{1}, p\\_star_{2}, p\\_star_{3}, p\\_star_{4}, p\\_star_{5}] \\in \\text{MathOptInterface.Complements(10)}\\\\\n",
       " & [-80 p\\_star_{1} + 38 p\\_star_{3} + 2 p\\_star_{4} + 17.5 r\\_star_{1} + 1.6666666666666667 r\\_star_{2} + 6.19047619047619 r\\_star_{4} + 40, 23 p\\_star_{1} - 88 p\\_star_{2} + 4 p\\_star_{3} + 4 p\\_star_{4} + 16.666666666666668 r\\_star_{1} + 6.944444444444445 r\\_star_{2} + 0.7407407407407407 r\\_star_{3} + 4.761904761904762 r\\_star_{4} + 57, 9 p\\_star_{2} - 69 p\\_star_{3} - 10 p\\_star_{4} - 2 p\\_star_{5} + 7.5 r\\_star_{2} + 1.4814814814814814 r\\_star_{3} + 19.523809523809522 r\\_star_{4} + 72, z\\_star_{1}, z\\_star_{2}, z\\_star_{3}] \\in \\text{MathOptInterface.Complements(6)}\\\\\n",
       " & [-17.5 z\\_star_{1} - 16.666666666666668 z\\_star_{2} + 34.16666666666667, -1.6666666666666667 z\\_star_{1} - 6.944444444444445 z\\_star_{2} - 7.5 z\\_star_{3} + 16.11111111111111, -0.7407407407407407 z\\_star_{2} - 1.4814814814814814 z\\_star_{3} + 2.2222222222222223, -6.19047619047619 z\\_star_{1} - 4.761904761904762 z\\_star_{2} - 19.523809523809522 z\\_star_{3} + 30.476190476190474, r\\_star_{1}, r\\_star_{2}, r\\_star_{3}, r\\_star_{4}] \\in \\text{MathOptInterface.Complements(8)}\\\\\n",
       " & z\\_star_{1} \\geq 0\\\\\n",
       " & z\\_star_{2} \\geq 0\\\\\n",
       " & z\\_star_{3} \\geq 0\\\\\n",
       " & p\\_star_{1} \\geq 0\\\\\n",
       " & p\\_star_{2} \\geq 0\\\\\n",
       " & p\\_star_{3} \\geq 0\\\\\n",
       " & p\\_star_{4} \\geq 0\\\\\n",
       " & p\\_star_{5} \\geq 0\\\\\n",
       " & r\\_star_{1} \\geq 0\\\\\n",
       " & r\\_star_{2} \\geq 0\\\\\n",
       " & r\\_star_{3} \\geq 0\\\\\n",
       " & r\\_star_{4} \\geq 0\\\\\n",
       "\\end{aligned} $$"
      ]
     },
     "metadata": {},
     "output_type": "display_data"
    }
   ],
   "source": [
    "print(compl)"
   ]
  },
  {
   "cell_type": "code",
   "execution_count": 9,
   "metadata": {},
   "outputs": [
    {
     "data": {
      "text/plain": [
       "3-element Vector{Float64}:\n",
       " 1.0000000000107638\n",
       " 1.0000000000103195\n",
       " 1.0"
      ]
     },
     "execution_count": 9,
     "metadata": {},
     "output_type": "execute_result"
    }
   ],
   "source": [
    "value.(z_star)"
   ]
  },
  {
   "cell_type": "code",
   "execution_count": 10,
   "metadata": {},
   "outputs": [
    {
     "data": {
      "text/plain": [
       "5-element Vector{Float64}:\n",
       "  0.5030856910415265\n",
       "  0.780276068154548\n",
       "  0.004556523736093214\n",
       "  0.0006337864650413722\n",
       " 39.36573642356929"
      ]
     },
     "execution_count": 10,
     "metadata": {},
     "output_type": "execute_result"
    }
   ],
   "source": [
    "value.(p_star)"
   ]
  },
  {
   "cell_type": "code",
   "execution_count": 11,
   "metadata": {},
   "outputs": [
    {
     "data": {
      "text/plain": [
       "4-element Vector{Float64}:\n",
       " 0.0036396220584329784\n",
       " 0.0009035815056565031\n",
       " 7.701048377237372e-5\n",
       " 0.0011696121734147977"
      ]
     },
     "execution_count": 11,
     "metadata": {},
     "output_type": "execute_result"
    }
   ],
   "source": [
    "value.(r_star)"
   ]
  },
  {
   "cell_type": "markdown",
   "metadata": {},
   "source": [
    "MAybe something useful in this Julia opt cookbook? https://juliabook.chkwon.net/book/complementarity\n",
    "\n",
    "A (good?) book on LCP/MCP: http://www-personal.umich.edu/%7Emurty/books/linear_complementarity_webbook/lcp-complete.pdf\n",
    "\n",
    "There's an example for MCP in Julia in an answer [here](https://or.stackexchange.com/questions/9511/convert-mcp-model-from-gams-to-pyomo)"
   ]
  },
  {
   "cell_type": "code",
   "execution_count": 9,
   "metadata": {},
   "outputs": [
    {
     "ename": "LoadError",
     "evalue": "Constraints of type MathOptInterface.VectorQuadraticFunction{Float64}-in-MathOptInterface.Complements are not supported by the solver.\n\nIf you expected the solver to support your problem, you may have an error in your formulation. Otherwise, consider using a different solver.\n\nThe list of available solvers, along with the problem types they support, is available at https://jump.dev/JuMP.jl/stable/installation/#Supported-solvers.",
     "output_type": "error",
     "traceback": [
      "Constraints of type MathOptInterface.VectorQuadraticFunction{Float64}-in-MathOptInterface.Complements are not supported by the solver.\n\nIf you expected the solver to support your problem, you may have an error in your formulation. Otherwise, consider using a different solver.\n\nThe list of available solvers, along with the problem types they support, is available at https://jump.dev/JuMP.jl/stable/installation/#Supported-solvers.",
      "",
      "Stacktrace:",
      " [1] error(s::String)",
      "   @ Base .\\error.jl:35",
      " [2] _moi_add_constraint(model::MathOptInterface.Utilities.CachingOptimizer{MathOptInterface.Bridges.LazyBridgeOptimizer{MathOptInterface.Utilities.GenericOptimizer{Float64, MathOptInterface.Utilities.ObjectiveContainer{Float64}, MathOptInterface.Utilities.VariablesContainer{Float64}, MathOptInterface.Utilities.VectorOfConstraints{MathOptInterface.VectorAffineFunction{Float64}, MathOptInterface.Complements}}}, MathOptInterface.Utilities.UniversalFallback{MathOptInterface.Utilities.Model{Float64}}}, f::MathOptInterface.VectorQuadraticFunction{Float64}, s::MathOptInterface.Complements)",
      "   @ JuMP C:\\Users\\maximiko\\.julia\\packages\\JuMP\\jZvaU\\src\\constraints.jl:679",
      " [3] add_constraint(model::Model, con::VectorConstraint{QuadExpr, MathOptInterface.Complements, VectorShape}, name::String)",
      "   @ JuMP C:\\Users\\maximiko\\.julia\\packages\\JuMP\\jZvaU\\src\\constraints.jl:706",
      " [4] macro expansion",
      "   @ C:\\Users\\maximiko\\.julia\\packages\\JuMP\\jZvaU\\src\\macros.jl:1072 [inlined]",
      " [5] top-level scope",
      "   @ In[9]:19"
     ]
    }
   ],
   "source": [
    "# SU-NEO: MCP (PATHSolver). Might not work because PATHSolver cannot deal with quadratic functions - which is included here as c4.\n",
    "# To set up our initial primal, we write:\n",
    "(@isdefined compl) && (compl = nothing; compl = Model(PATHSolver.Optimizer))\n",
    "\n",
    "act = size(model_data.V,1)\n",
    "com = size(model_data.V,2)\n",
    "fac = size(model_data.F,1)\n",
    "\n",
    "# Define the optimisation model\n",
    "@variable(compl, z_star[1:act] >= 0)\n",
    "@variable(compl, p_star[1:com] >= 0)\n",
    "@variable(compl, pii_star[1:fac] >= 0)\n",
    "@variable(compl, c_star >= 0)\n",
    "\n",
    "\n",
    "@constraint(compl, c1, vec((model_data.V' - model_data.U)*(z_star) - model_data.e) ⟂ p_star)\n",
    "@constraint(compl, c2, vec((pii_star)'*model_data.F - (p_star'*(model_data.V' - model_data.U))) ⟂ z_star)\n",
    "@constraint(compl, c3, vec((model_data.ϕ - model_data.F*z_star)) ⟂ pii_star)\n",
    "@constraint(compl, c4, dot(p_star',c_star,model_data.e) - dot(pii_star',model_data.ϕ) ⟂ c_star)\n",
    "\n",
    "# Solve\n",
    "optimize!(compl)"
   ]
  },
  {
   "cell_type": "code",
   "execution_count": 24,
   "metadata": {},
   "outputs": [
    {
     "data": {
      "text/latex": [
       "$$ [26 p\\_star_{1}\\times c\\_star + 20 p\\_star_{2}\\times c\\_star + 68 p\\_star_{3}\\times c\\_star - 34 pii\\_star_{1} - 25 pii\\_star_{2} - 26 pii\\_star_{3} - 29 pii\\_star_{4}, c\\_star] \\in \\text{MathOptInterface.Complements(2)} $$"
      ],
      "text/plain": [
       "c4 : [26 p_star[1]*c_star + 20 p_star[2]*c_star + 68 p_star[3]*c_star - 34 pii_star[1] - 25 pii_star[2] - 26 pii_star[3] - 29 pii_star[4], c_star] in MathOptInterface.Complements(2)"
      ]
     },
     "execution_count": 24,
     "metadata": {},
     "output_type": "execute_result"
    }
   ],
   "source": [
    "# SU-NEO: MCP\n",
    "# PATHSolver cannot solve NL problem --> expansion factor c is problem\n",
    "# To set up our initial primal, we write:\n",
    "compl = MCPModel()\n",
    "\n",
    "act = size(model_data.V,1)\n",
    "com = size(model_data.V,2)\n",
    "fac = size(model_data.F,1)\n",
    "\n",
    "# Define the optimisation model\n",
    "@variable(compl, z_star[1:act] >= 0)\n",
    "@variable(compl, p_star[1:com] >= 0)\n",
    "@variable(compl, pii_star[1:fac] >= 0)\n",
    "@variable(compl, c_star >= 0)\n",
    "\n",
    "\n",
    "@constraint(compl, c1, vec((model_data.V' - model_data.U)*(z_star) - c_star*model_data.e) ⟂ p_star)\n",
    "@constraint(compl, c2, vec((pii_star)'*model_data.F - (p_star'*(model_data.V' - model_data.U))) ⟂ z_star)\n",
    "@constraint(compl, c3, vec((model_data.ϕ - model_data.F*z_star)) ⟂ pii_star)\n",
    "@constraint(compl, c4, dot(p_star',c_star,model_data.e) - dot(pii_star',model_data.ϕ) ⟂ c_star)#with scalar multiplication it must be dot product as described here: https://stackoverflow.com/questions/39079428/1-element-array-to-scalar-in-julia\n",
    "\n",
    "#optimize!(compl)"
   ]
  },
  {
   "cell_type": "code",
   "execution_count": 25,
   "metadata": {},
   "outputs": [
    {
     "data": {
      "text/latex": [
       "$$ \\begin{aligned}\n",
       "\\text{feasibility}\\\\\n",
       "\\text{Subject to} \\quad & [69 z\\_star_{1} + 17 z\\_star_{2} - 60 z\\_star_{3} - 26 c\\_star, -38 z\\_star_{1} + 67 z\\_star_{2} - 9 z\\_star_{3} - 20 c\\_star, -41 z\\_star_{2} + 109 z\\_star_{3} - 68 c\\_star, p\\_star_{1}, p\\_star_{2}, p\\_star_{3}] \\in \\text{MathOptInterface.Complements(6)}\\\\\n",
       " & [-69 p\\_star_{1} + 38 p\\_star_{2} + 10 pii\\_star_{1} + 4 pii\\_star_{2} + 15 pii\\_star_{3} + 2 pii\\_star_{4}, -17 p\\_star_{1} - 67 p\\_star_{2} + 41 p\\_star_{3} + 17 pii\\_star_{1} + 11 pii\\_star_{3} + 15 pii\\_star_{4}, 60 p\\_star_{1} + 9 p\\_star_{2} - 109 p\\_star_{3} + 7 pii\\_star_{1} + 21 pii\\_star_{2} + 12 pii\\_star_{4}, z\\_star_{1}, z\\_star_{2}, z\\_star_{3}] \\in \\text{MathOptInterface.Complements(6)}\\\\\n",
       " & [-10 z\\_star_{1} - 17 z\\_star_{2} - 7 z\\_star_{3} + 34, -4 z\\_star_{1} - 21 z\\_star_{3} + 25, -15 z\\_star_{1} - 11 z\\_star_{2} + 26, -2 z\\_star_{1} - 15 z\\_star_{2} - 12 z\\_star_{3} + 29, pii\\_star_{1}, pii\\_star_{2}, pii\\_star_{3}, pii\\_star_{4}] \\in \\text{MathOptInterface.Complements(8)}\\\\\n",
       " & [26 p\\_star_{1}\\times c\\_star + 20 p\\_star_{2}\\times c\\_star + 68 p\\_star_{3}\\times c\\_star - 34 pii\\_star_{1} - 25 pii\\_star_{2} - 26 pii\\_star_{3} - 29 pii\\_star_{4}, c\\_star] \\in \\text{MathOptInterface.Complements(2)}\\\\\n",
       " & z\\_star_{1} \\geq 0\\\\\n",
       " & z\\_star_{2} \\geq 0\\\\\n",
       " & z\\_star_{3} \\geq 0\\\\\n",
       " & p\\_star_{1} \\geq 0\\\\\n",
       " & p\\_star_{2} \\geq 0\\\\\n",
       " & p\\_star_{3} \\geq 0\\\\\n",
       " & pii\\_star_{1} \\geq 0\\\\\n",
       " & pii\\_star_{2} \\geq 0\\\\\n",
       " & pii\\_star_{3} \\geq 0\\\\\n",
       " & pii\\_star_{4} \\geq 0\\\\\n",
       " & c\\_star \\geq 0\\\\\n",
       "\\end{aligned} $$"
      ]
     },
     "metadata": {},
     "output_type": "display_data"
    }
   ],
   "source": [
    "print(compl)"
   ]
  },
  {
   "cell_type": "markdown",
   "metadata": {},
   "source": [
    "Is the reason for the below error that I don't provide initial values as in Problem 3 here? https://github.com/chkwon/Complementarity.jl/blob/master/MCP.md"
   ]
  },
  {
   "cell_type": "code",
   "execution_count": 26,
   "metadata": {},
   "outputs": [
    {
     "ename": "LoadError",
     "evalue": "ArgumentError: range must be non-empty",
     "output_type": "error",
     "traceback": [
      "ArgumentError: range must be non-empty",
      "",
      "Stacktrace:",
      "  [1] maximum",
      "    @ .\\range.jl:834 [inlined]",
      "  [2] finite_difference_jacobian!(J::Matrix{Float64}, f::Complementarity.var\"#function_callback!#17\"{MathOptInterface.Nonlinear.Evaluator{MathOptInterface.Nonlinear.ReverseAD.NLPEvaluator}}, x::Vector{Float64}, cache::FiniteDiff.JacobianCache{Vector{Float64}, Vector{Float64}, Vector{Float64}, Vector{Float64}, UnitRange{Int64}, Nothing, Val{:central}(), Float64}, f_in::Nothing; relstep::Float64, absstep::Float64, colorvec::UnitRange{Int64}, sparsity::Nothing, dir::Bool)",
      "    @ FiniteDiff C:\\Users\\maximiko\\.julia\\packages\\FiniteDiff\\grio1\\src\\jacobians.jl:433",
      "  [3] finite_difference_jacobian! (repeats 2 times)",
      "    @ C:\\Users\\maximiko\\.julia\\packages\\FiniteDiff\\grio1\\src\\jacobians.jl:341 [inlined]",
      "  [4] (::NLSolversBase.var\"#fj_finitediff!#21\"{Complementarity.var\"#function_callback!#17\"{MathOptInterface.Nonlinear.Evaluator{MathOptInterface.Nonlinear.ReverseAD.NLPEvaluator}}, FiniteDiff.JacobianCache{Vector{Float64}, Vector{Float64}, Vector{Float64}, Vector{Float64}, UnitRange{Int64}, Nothing, Val{:central}(), Float64}})(F::Vector{Float64}, J::Matrix{Float64}, x::Vector{Float64})",
      "    @ NLSolversBase C:\\Users\\maximiko\\.julia\\packages\\NLSolversBase\\kavn7\\src\\objective_types\\oncedifferentiable.jl:139",
      "  [5] value_jacobian!!(obj::NLSolversBase.OnceDifferentiable{Vector{Float64}, Matrix{Float64}, Vector{Float64}}, F::Vector{Float64}, J::Matrix{Float64}, x::Vector{Float64})",
      "    @ NLSolversBase C:\\Users\\maximiko\\.julia\\packages\\NLSolversBase\\kavn7\\src\\interface.jl:124",
      "  [6] (::NLsolve.var\"#j!#22\"{NLSolversBase.OnceDifferentiable{Vector{Float64}, Matrix{Float64}, Vector{Float64}}, Vector{Float64}, Vector{Float64}})(J::Matrix{Float64}, x::Vector{Float64})",
      "    @ NLsolve C:\\Users\\maximiko\\.julia\\packages\\NLsolve\\gJL1I\\src\\solvers\\mcp.jl:32",
      "  [7] (::NLSolversBase.var\"#fj!#7\"{NLsolve.var\"#f!#21\"{NLSolversBase.OnceDifferentiable{Vector{Float64}, Matrix{Float64}, Vector{Float64}}, Vector{Float64}, Vector{Float64}}, NLsolve.var\"#j!#22\"{NLSolversBase.OnceDifferentiable{Vector{Float64}, Matrix{Float64}, Vector{Float64}}, Vector{Float64}, Vector{Float64}}})(fx::Vector{Float64}, jx::Matrix{Float64}, x::Vector{Float64})",
      "    @ NLSolversBase C:\\Users\\maximiko\\.julia\\packages\\NLSolversBase\\kavn7\\src\\objective_types\\abstract.jl:7",
      "  [8] value_jacobian!!(obj::NLSolversBase.OnceDifferentiable{Vector{Float64}, Matrix{Float64}, Vector{Float64}}, F::Vector{Float64}, J::Matrix{Float64}, x::Vector{Float64})",
      "    @ NLSolversBase C:\\Users\\maximiko\\.julia\\packages\\NLSolversBase\\kavn7\\src\\interface.jl:124",
      "  [9] value_jacobian!!",
      "    @ C:\\Users\\maximiko\\.julia\\packages\\NLSolversBase\\kavn7\\src\\interface.jl:122 [inlined]",
      " [10] trust_region_(df::NLSolversBase.OnceDifferentiable{Vector{Float64}, Matrix{Float64}, Vector{Float64}}, initial_x::Vector{Float64}, xtol::Float64, ftol::Float64, iterations::Int64, store_trace::Bool, show_trace::Bool, extended_trace::Bool, factor::Float64, autoscale::Bool, cache::NLsolve.NewtonTrustRegionCache{Vector{Float64}})",
      "    @ NLsolve C:\\Users\\maximiko\\.julia\\packages\\NLsolve\\gJL1I\\src\\solvers\\trust_region.jl:119",
      " [11] trust_region (repeats 2 times)",
      "    @ C:\\Users\\maximiko\\.julia\\packages\\NLsolve\\gJL1I\\src\\solvers\\trust_region.jl:235 [inlined]",
      " [12] nlsolve(df::NLSolversBase.OnceDifferentiable{Vector{Float64}, Matrix{Float64}, Vector{Float64}}, initial_x::Vector{Float64}; method::Symbol, xtol::Float64, ftol::Float64, iterations::Int64, store_trace::Bool, show_trace::Bool, extended_trace::Bool, linesearch::LineSearches.BackTracking{Float64, Int64}, linsolve::NLsolve.var\"#27#29\", factor::Float64, autoscale::Bool, m::Int64, beta::Int64, aa_start::Int64, droptol::Float64)",
      "    @ NLsolve C:\\Users\\maximiko\\.julia\\packages\\NLsolve\\gJL1I\\src\\nlsolve\\nlsolve.jl:26",
      " [13] nlsolve",
      "    @ C:\\Users\\maximiko\\.julia\\packages\\NLsolve\\gJL1I\\src\\nlsolve\\nlsolve.jl:1 [inlined]",
      " [14] mcpsolve(f::Complementarity.var\"#function_callback!#17\"{MathOptInterface.Nonlinear.Evaluator{MathOptInterface.Nonlinear.ReverseAD.NLPEvaluator}}, j::Complementarity.var\"#jacobian_callback!#18\"{MathOptInterface.Nonlinear.Evaluator{MathOptInterface.Nonlinear.ReverseAD.NLPEvaluator}}, lower::Vector{Float64}, upper::Vector{Float64}, initial_x::Vector{Float64}; method::Symbol, reformulation::Symbol, xtol::Float64, ftol::Float64, iterations::Int64, store_trace::Bool, show_trace::Bool, extended_trace::Bool, linesearch::LineSearches.BackTracking{Float64, Int64}, factor::Float64, autoscale::Bool, inplace::Bool)",
      "    @ NLsolve C:\\Users\\maximiko\\.julia\\packages\\NLsolve\\gJL1I\\src\\solvers\\mcp_func_defs.jl:62",
      " [15] mcpsolve",
      "    @ C:\\Users\\maximiko\\.julia\\packages\\NLsolve\\gJL1I\\src\\solvers\\mcp_func_defs.jl:39 [inlined]",
      " [16] _solve_nlsolve!(m::Model; method::Symbol)",
      "    @ Complementarity C:\\Users\\maximiko\\.julia\\packages\\Complementarity\\NbsQM\\src\\mcp.jl:316",
      " [17] _solve_nlsolve!",
      "    @ C:\\Users\\maximiko\\.julia\\packages\\Complementarity\\NbsQM\\src\\mcp.jl:261 [inlined]",
      " [18] solveMCP(m::Model; solver::Symbol, method::Symbol, linear::Bool, kwargs::Base.Pairs{Symbol, Union{}, Tuple{}, NamedTuple{(), Tuple{}}})",
      "    @ Complementarity C:\\Users\\maximiko\\.julia\\packages\\Complementarity\\NbsQM\\src\\mcp.jl:104",
      " [19] top-level scope",
      "    @ In[26]:1"
     ]
    }
   ],
   "source": [
    "status = solveMCP(compl, solver=:NLsolve)"
   ]
  },
  {
   "cell_type": "code",
   "execution_count": 10,
   "metadata": {},
   "outputs": [
    {
     "ename": "LoadError",
     "evalue": "UndefVarError: `setvalue` not defined",
     "output_type": "error",
     "traceback": [
      "UndefVarError: `setvalue` not defined",
      "",
      "Stacktrace:",
      " [1] top-level scope",
      "   @ In[10]:18"
     ]
    }
   ],
   "source": [
    "m = MCPModel()\n",
    "\n",
    "lb = zeros(4)\n",
    "ub = Inf*ones(4)\n",
    "items = 1:4\n",
    "@variable(m, lb[i] <= x[i in items] <= ub[i])\n",
    "\n",
    "@mapping(m, F1, 3*x[1]^2 + 2*x[1]*x[2] + 2*x[2]^2 + x[3] + 3*x[4] -6)\n",
    "@mapping(m, F2, 2*x[1]^2 + x[1] + x[2]^2 + 3*x[3] + 2*x[4] -2)\n",
    "@mapping(m, F3, 3*x[1]^2 + x[1]*x[2] + 2*x[2]^2 + 2*x[3] + 3*x[4] -1)\n",
    "@mapping(m, F4, x[1]^2 + 3*x[2]^2 + 2*x[3] + 3*x[4] - 3)\n",
    "\n",
    "@complementarity(m, F1, x[1])\n",
    "@complementarity(m, F2, x[2])\n",
    "@complementarity(m, F3, x[3])\n",
    "@complementarity(m, F4, x[4])\n",
    "\n",
    "setvalue(x[1], 1.25)\n",
    "setvalue(x[2], 0.)\n",
    "setvalue(x[3], 0.)\n",
    "setvalue(x[4], 0.5)\n",
    "\n",
    "status = solveMCP(m, solver=:NLsolve)\n",
    "@show status\n",
    "\n",
    "z = result_value(x)\n",
    "\n",
    "@show z\n",
    "@show Fz"
   ]
  },
  {
   "cell_type": "code",
   "execution_count": 28,
   "metadata": {},
   "outputs": [
    {
     "name": "stderr",
     "output_type": "stream",
     "text": [
      "\u001b[33m\u001b[1m┌ \u001b[22m\u001b[39m\u001b[33m\u001b[1mWarning: \u001b[22m\u001b[39mThe model has been modified since the last call to `optimize!` (or `optimize!` has not been called yet). If you are iteratively querying solution information and modifying a model, query all the results first, then modify the model.\n",
      "\u001b[33m\u001b[1m└ \u001b[22m\u001b[39m\u001b[90m@ JuMP C:\\Users\\maximiko\\.julia\\packages\\JuMP\\jZvaU\\src\\optimizer_interface.jl:670\u001b[39m\n"
     ]
    },
    {
     "ename": "LoadError",
     "evalue": "OptimizeNotCalled()",
     "output_type": "error",
     "traceback": [
      "OptimizeNotCalled()",
      "",
      "Stacktrace:",
      "  [1] get(model::Model, attr::MathOptInterface.VariablePrimal, v::VariableRef)",
      "    @ JuMP C:\\Users\\maximiko\\.julia\\packages\\JuMP\\jZvaU\\src\\optimizer_interface.jl:676",
      "  [2] value(v::VariableRef; result::Int64)",
      "    @ JuMP C:\\Users\\maximiko\\.julia\\packages\\JuMP\\jZvaU\\src\\variables.jl:1156",
      "  [3] value",
      "    @ C:\\Users\\maximiko\\.julia\\packages\\JuMP\\jZvaU\\src\\variables.jl:1155 [inlined]",
      "  [4] _broadcast_getindex_evalf",
      "    @ .\\broadcast.jl:683 [inlined]",
      "  [5] _broadcast_getindex",
      "    @ .\\broadcast.jl:656 [inlined]",
      "  [6] getindex",
      "    @ .\\broadcast.jl:610 [inlined]",
      "  [7] macro expansion",
      "    @ .\\broadcast.jl:974 [inlined]",
      "  [8] macro expansion",
      "    @ .\\simdloop.jl:77 [inlined]",
      "  [9] copyto!",
      "    @ .\\broadcast.jl:973 [inlined]",
      " [10] copyto!",
      "    @ .\\broadcast.jl:926 [inlined]",
      " [11] copy",
      "    @ .\\broadcast.jl:898 [inlined]",
      " [12] materialize",
      "    @ .\\broadcast.jl:873 [inlined]",
      " [13] broadcast(f::typeof(value), As::Vector{VariableRef})",
      "    @ Base.Broadcast .\\broadcast.jl:811",
      " [14] broadcasted(#unused#::Base.Broadcast.ArrayStyle{JuMP.Containers.DenseAxisArray}, f::Function, args::JuMP.Containers.DenseAxisArray{VariableRef, 1, Tuple{UnitRange{Int64}}, Tuple{JuMP.Containers._AxisLookup{Tuple{Int64, Int64}}}})",
      "    @ JuMP.Containers C:\\Users\\maximiko\\.julia\\packages\\JuMP\\jZvaU\\src\\Containers\\DenseAxisArray.jl:554",
      " [15] broadcasted(::Function, ::JuMP.Containers.DenseAxisArray{VariableRef, 1, Tuple{UnitRange{Int64}}, Tuple{JuMP.Containers._AxisLookup{Tuple{Int64, Int64}}}})",
      "    @ Base.Broadcast .\\broadcast.jl:1311",
      " [16] top-level scope",
      "    @ show.jl:1128"
     ]
    }
   ],
   "source": [
    "@show value.(x)"
   ]
  },
  {
   "cell_type": "code",
   "execution_count": 30,
   "metadata": {},
   "outputs": [
    {
     "name": "stdout",
     "output_type": "stream",
     "text": [
      "status = Results of Nonlinear Solver Algorithm\n",
      " * Algorithm: Trust-region with dogleg and autoscaling\n",
      " * Starting Point: [1.25, 0.0, 0.0, 0.5]\n",
      " * Zero: [1.224744871126381, 0.0, -6.44459011190863e-20, 0.500000000228632]\n",
      " * Inf-norm of residuals: 0.000000\n",
      " * Iterations: 3\n",
      " * Convergence: true\n",
      "   * |x - x'| < 0.0e+00: false\n",
      "   * |f(x)| < 1.0e-08: true\n",
      " * Function Calls (f): 4\n",
      " * Jacobian Calls (df/dx): 4\n"
     ]
    },
    {
     "data": {
      "text/plain": [
       "Results of Nonlinear Solver Algorithm\n",
       " * Algorithm: Trust-region with dogleg and autoscaling\n",
       " * Starting Point: [1.25, 0.0, 0.0, 0.5]\n",
       " * Zero: [1.224744871126381, 0.0, -6.44459011190863e-20, 0.500000000228632]\n",
       " * Inf-norm of residuals: 0.000000\n",
       " * Iterations: 3\n",
       " * Convergence: true\n",
       "   * |x - x'| < 0.0e+00: false\n",
       "   * |f(x)| < 1.0e-08: true\n",
       " * Function Calls (f): 4\n",
       " * Jacobian Calls (df/dx): 4"
      ]
     },
     "execution_count": 30,
     "metadata": {},
     "output_type": "execute_result"
    }
   ],
   "source": [
    "(@isdefined m) && (m = nothing; m = MCPModel())\n",
    "\n",
    "#m = MCPModel()\n",
    "\n",
    "lb = zeros(4)\n",
    "ub = Inf*ones(4)\n",
    "items = 1:4\n",
    "@variable(m, lb[i] <= x[i in items] <= ub[i])\n",
    "\n",
    "@mapping(m, F1, 3*x[1]^2 + 2*x[1]*x[2] + 2*x[2]^2 + x[3] + 3*x[4] -6)\n",
    "@mapping(m, F2, 2*x[1]^2 + x[1] + x[2]^2 + 3*x[3] + 2*x[4] -2)\n",
    "@mapping(m, F3, 3*x[1]^2 + x[1]*x[2] + 2*x[2]^2 + 2*x[3] + 3*x[4] -1)\n",
    "@mapping(m, F4, x[1]^2 + 3*x[2]^2 + 2*x[3] + 3*x[4] - 3)\n",
    "\n",
    "@complementarity(m, F1, x[1])\n",
    "@complementarity(m, F2, x[2])\n",
    "@complementarity(m, F3, x[3])\n",
    "@complementarity(m, F4, x[4])\n",
    "\n",
    "#setvalue(x[1], 1.25)\n",
    "#setvalue(x[2], 0.)\n",
    "#setvalue(x[3], 0.)\n",
    "#setvalue(x[4], 0.5)\n",
    "set_start_value.(x, [1.25, 0., 0., 0.5])\n",
    "\n",
    "status = solveMCP(m, solver=:NLsolve)\n",
    "@show status\n"
   ]
  },
  {
   "cell_type": "code",
   "execution_count": 18,
   "metadata": {},
   "outputs": [
    {
     "name": "stderr",
     "output_type": "stream",
     "text": [
      "\u001b[33m\u001b[1m┌ \u001b[22m\u001b[39m\u001b[33m\u001b[1mWarning: \u001b[22m\u001b[39mThe model has been modified since the last call to `optimize!` (or `optimize!` has not been called yet). If you are iteratively querying solution information and modifying a model, query all the results first, then modify the model.\n",
      "\u001b[33m\u001b[1m└ \u001b[22m\u001b[39m\u001b[90m@ JuMP C:\\Users\\maximiko\\.julia\\packages\\JuMP\\jZvaU\\src\\optimizer_interface.jl:670\u001b[39m\n"
     ]
    },
    {
     "ename": "LoadError",
     "evalue": "OptimizeNotCalled()",
     "output_type": "error",
     "traceback": [
      "OptimizeNotCalled()",
      "",
      "Stacktrace:",
      "  [1] get(model::Model, attr::MathOptInterface.VariablePrimal, v::VariableRef)",
      "    @ JuMP C:\\Users\\maximiko\\.julia\\packages\\JuMP\\jZvaU\\src\\optimizer_interface.jl:676",
      "  [2] value(v::VariableRef; result::Int64)",
      "    @ JuMP C:\\Users\\maximiko\\.julia\\packages\\JuMP\\jZvaU\\src\\variables.jl:1156",
      "  [3] value",
      "    @ C:\\Users\\maximiko\\.julia\\packages\\JuMP\\jZvaU\\src\\variables.jl:1155 [inlined]",
      "  [4] _broadcast_getindex_evalf",
      "    @ .\\broadcast.jl:683 [inlined]",
      "  [5] _broadcast_getindex",
      "    @ .\\broadcast.jl:656 [inlined]",
      "  [6] getindex",
      "    @ .\\broadcast.jl:610 [inlined]",
      "  [7] macro expansion",
      "    @ .\\broadcast.jl:974 [inlined]",
      "  [8] macro expansion",
      "    @ .\\simdloop.jl:77 [inlined]",
      "  [9] copyto!",
      "    @ .\\broadcast.jl:973 [inlined]",
      " [10] copyto!",
      "    @ .\\broadcast.jl:926 [inlined]",
      " [11] copy",
      "    @ .\\broadcast.jl:898 [inlined]",
      " [12] materialize",
      "    @ .\\broadcast.jl:873 [inlined]",
      " [13] broadcast(f::typeof(value), As::Vector{VariableRef})",
      "    @ Base.Broadcast .\\broadcast.jl:811",
      " [14] broadcasted(#unused#::Base.Broadcast.ArrayStyle{JuMP.Containers.DenseAxisArray}, f::Function, args::JuMP.Containers.DenseAxisArray{VariableRef, 1, Tuple{UnitRange{Int64}}, Tuple{JuMP.Containers._AxisLookup{Tuple{Int64, Int64}}}})",
      "    @ JuMP.Containers C:\\Users\\maximiko\\.julia\\packages\\JuMP\\jZvaU\\src\\Containers\\DenseAxisArray.jl:554",
      " [15] broadcasted(::Function, ::JuMP.Containers.DenseAxisArray{VariableRef, 1, Tuple{UnitRange{Int64}}, Tuple{JuMP.Containers._AxisLookup{Tuple{Int64, Int64}}}})",
      "    @ Base.Broadcast .\\broadcast.jl:1311",
      " [16] top-level scope",
      "    @ In[18]:1"
     ]
    }
   ],
   "source": [
    "z = value.(x)\n",
    "\n",
    "@show z\n",
    "@show Fz"
   ]
  },
  {
   "cell_type": "code",
   "execution_count": 43,
   "metadata": {},
   "outputs": [
    {
     "name": "stdout",
     "output_type": "stream",
     "text": [
      "Path 5.0.03 (Fri Jun 26 10:05:33 2020)\n",
      "Written by Todd Munson, Steven Dirkse, Youngdae Kim, and Michael Ferris\n",
      "\n",
      "\n",
      "Crash Log\n",
      "major  func  diff  size  residual    step       prox   (label)\n",
      "    0     0             0.0000e+00             0.0e+00 (f[    1])\n",
      "\n",
      "Major Iteration Log\n",
      "major minor  func  grad  residual    step  type prox    inorm  (label)\n",
      "    0     0     1     1 0.0000e+00           I 0.0e+00 0.0e+00 (f[    1])\n",
      "\n",
      "Major Iterations. . . . 0\n",
      "Minor Iterations. . . . 0\n",
      "Restarts. . . . . . . . 0\n",
      "Crash Iterations. . . . 0\n",
      "Gradient Steps. . . . . 0\n",
      "Function Evaluations. . 1\n",
      "Gradient Evaluations. . 1\n",
      "Basis Time. . . . . . . 0.000000\n",
      "Total Time. . . . . . . 0.000000\n",
      "Residual. . . . . . . . 0.000000e+00\n"
     ]
    }
   ],
   "source": [
    "optimize!(compl)"
   ]
  },
  {
   "cell_type": "code",
   "execution_count": 44,
   "metadata": {},
   "outputs": [
    {
     "data": {
      "text/plain": [
       "3-element Vector{Float64}:\n",
       " 0.0\n",
       " 0.0\n",
       " 0.0"
      ]
     },
     "execution_count": 44,
     "metadata": {},
     "output_type": "execute_result"
    }
   ],
   "source": [
    "value.(z_star)"
   ]
  },
  {
   "cell_type": "code",
   "execution_count": 45,
   "metadata": {},
   "outputs": [
    {
     "data": {
      "text/plain": [
       "5-element Vector{Float64}:\n",
       " 0.0\n",
       " 0.0\n",
       " 0.0\n",
       " 0.0\n",
       " 0.0"
      ]
     },
     "execution_count": 45,
     "metadata": {},
     "output_type": "execute_result"
    }
   ],
   "source": [
    "value.(p_star)"
   ]
  },
  {
   "cell_type": "code",
   "execution_count": 46,
   "metadata": {},
   "outputs": [
    {
     "data": {
      "text/plain": [
       "4-element Vector{Float64}:\n",
       " 0.0\n",
       " 0.0\n",
       " 0.0\n",
       " 0.0"
      ]
     },
     "execution_count": 46,
     "metadata": {},
     "output_type": "execute_result"
    }
   ],
   "source": [
    "value.(pii_star)"
   ]
  },
  {
   "cell_type": "code",
   "execution_count": 40,
   "metadata": {},
   "outputs": [
    {
     "data": {
      "text/plain": [
       "5×1 Matrix{AffExpr}:\n",
       " 57 c_star\n",
       " 79 c_star\n",
       " 27 c_star\n",
       " 4 c_star\n",
       " 2 c_star"
      ]
     },
     "execution_count": 40,
     "metadata": {},
     "output_type": "execute_result"
    }
   ],
   "source": [
    "model_data.e*c_star"
   ]
  },
  {
   "cell_type": "code",
   "execution_count": 33,
   "metadata": {},
   "outputs": [
    {
     "data": {
      "text/plain": [
       "1×1 Matrix{QuadExpr}:\n",
       " 57 p_star[1]*c_star + 79 p_star[2]*c_star + 27 p_star[3]*c_star + 4 p_star[4]*c_star + 2 p_star[5]*c_star"
      ]
     },
     "execution_count": 33,
     "metadata": {},
     "output_type": "execute_result"
    }
   ],
   "source": [
    "p_star'*c_star*model_data.e"
   ]
  },
  {
   "cell_type": "code",
   "execution_count": null,
   "metadata": {},
   "outputs": [],
   "source": []
  },
  {
   "cell_type": "code",
   "execution_count": null,
   "metadata": {},
   "outputs": [],
   "source": []
  },
  {
   "cell_type": "code",
   "execution_count": null,
   "metadata": {},
   "outputs": [],
   "source": []
  },
  {
   "cell_type": "code",
   "execution_count": 77,
   "metadata": {},
   "outputs": [
    {
     "ename": "LoadError",
     "evalue": "MethodError: no method matching _build_complements_constraint(::JuMP.var\"#_error#84\"{Tuple{Symbol, Expr, Expr}, Symbol, LineNumberNode}, ::Matrix{VariableRef}, ::AffExpr)\n\n\u001b[0mClosest candidates are:\n\u001b[0m  _build_complements_constraint(::Function, ::AbstractArray{<:AbstractJuMPScalar}, \u001b[91m::AbstractArray{<:AbstractVariableRef}\u001b[39m)\n\u001b[0m\u001b[90m   @\u001b[39m \u001b[35mJuMP\u001b[39m \u001b[90mC:\\Users\\maximiko\\.julia\\packages\\JuMP\\H2SWp\\src\\\u001b[39m\u001b[90m\u001b[4mcomplement.jl:12\u001b[24m\u001b[39m\n\u001b[0m  _build_complements_constraint(::Function, ::AbstractArray{<:AbstractJuMPScalar}, \u001b[91m::AbstractArray{<:AbstractJuMPScalar}\u001b[39m)\n\u001b[0m\u001b[90m   @\u001b[39m \u001b[35mJuMP\u001b[39m \u001b[90mC:\\Users\\maximiko\\.julia\\packages\\JuMP\\H2SWp\\src\\\u001b[39m\u001b[90m\u001b[4mcomplement.jl:42\u001b[24m\u001b[39m\n\u001b[0m  _build_complements_constraint(::Function, \u001b[91m::AbstractJuMPScalar\u001b[39m, ::AbstractJuMPScalar)\n\u001b[0m\u001b[90m   @\u001b[39m \u001b[35mJuMP\u001b[39m \u001b[90mC:\\Users\\maximiko\\.julia\\packages\\JuMP\\H2SWp\\src\\\u001b[39m\u001b[90m\u001b[4mcomplement.jl:58\u001b[24m\u001b[39m\n\u001b[0m  ...\n",
     "output_type": "error",
     "traceback": [
      "MethodError: no method matching _build_complements_constraint(::JuMP.var\"#_error#84\"{Tuple{Symbol, Expr, Expr}, Symbol, LineNumberNode}, ::Matrix{VariableRef}, ::AffExpr)\n\n\u001b[0mClosest candidates are:\n\u001b[0m  _build_complements_constraint(::Function, ::AbstractArray{<:AbstractJuMPScalar}, \u001b[91m::AbstractArray{<:AbstractVariableRef}\u001b[39m)\n\u001b[0m\u001b[90m   @\u001b[39m \u001b[35mJuMP\u001b[39m \u001b[90mC:\\Users\\maximiko\\.julia\\packages\\JuMP\\H2SWp\\src\\\u001b[39m\u001b[90m\u001b[4mcomplement.jl:12\u001b[24m\u001b[39m\n\u001b[0m  _build_complements_constraint(::Function, ::AbstractArray{<:AbstractJuMPScalar}, \u001b[91m::AbstractArray{<:AbstractJuMPScalar}\u001b[39m)\n\u001b[0m\u001b[90m   @\u001b[39m \u001b[35mJuMP\u001b[39m \u001b[90mC:\\Users\\maximiko\\.julia\\packages\\JuMP\\H2SWp\\src\\\u001b[39m\u001b[90m\u001b[4mcomplement.jl:42\u001b[24m\u001b[39m\n\u001b[0m  _build_complements_constraint(::Function, \u001b[91m::AbstractJuMPScalar\u001b[39m, ::AbstractJuMPScalar)\n\u001b[0m\u001b[90m   @\u001b[39m \u001b[35mJuMP\u001b[39m \u001b[90mC:\\Users\\maximiko\\.julia\\packages\\JuMP\\H2SWp\\src\\\u001b[39m\u001b[90m\u001b[4mcomplement.jl:58\u001b[24m\u001b[39m\n\u001b[0m  ...\n",
      "",
      "Stacktrace:",
      "  [1] macro expansion",
      "    @ C:\\Users\\maximiko\\.julia\\packages\\JuMP\\H2SWp\\src\\macros.jl:987 [inlined]",
      "  [2] (::var\"#161#162\")(i::Int64, j::Int64, k::Int64)",
      "    @ Main C:\\Users\\maximiko\\.julia\\packages\\JuMP\\H2SWp\\src\\Containers\\macro.jl:301",
      "  [3] #84",
      "    @ C:\\Users\\maximiko\\.julia\\packages\\JuMP\\H2SWp\\src\\Containers\\container.jl:85 [inlined]",
      "  [4] iterate",
      "    @ .\\generator.jl:47 [inlined]",
      "  [5] collect(itr::Base.Generator{JuMP.Containers.VectorizedProductIterator{Tuple{Base.OneTo{Int64}, Base.OneTo{Int64}, Base.OneTo{Int64}}}, JuMP.Containers.var\"#84#85\"{var\"#161#162\"}})",
      "    @ Base .\\array.jl:782",
      "  [6] map(f::Function, A::JuMP.Containers.VectorizedProductIterator{Tuple{Base.OneTo{Int64}, Base.OneTo{Int64}, Base.OneTo{Int64}}})",
      "    @ Base .\\abstractarray.jl:3289",
      "  [7] container",
      "    @ C:\\Users\\maximiko\\.julia\\packages\\JuMP\\H2SWp\\src\\Containers\\container.jl:85 [inlined]",
      "  [8] container",
      "    @ C:\\Users\\maximiko\\.julia\\packages\\JuMP\\H2SWp\\src\\Containers\\container.jl:71 [inlined]",
      "  [9] container(f::Function, indices::JuMP.Containers.VectorizedProductIterator{Tuple{Base.OneTo{Int64}, Base.OneTo{Int64}, Base.OneTo{Int64}}}, #unused#::Type{JuMP.Containers.AutoContainerType}, names::Vector{Any})",
      "    @ JuMP.Containers C:\\Users\\maximiko\\.julia\\packages\\JuMP\\H2SWp\\src\\Containers\\container.jl:75",
      " [10] macro expansion",
      "    @ C:\\Users\\maximiko\\.julia\\packages\\JuMP\\H2SWp\\src\\macros.jl:136 [inlined]",
      " [11] top-level scope",
      "    @ In[77]:9"
     ]
    }
   ],
   "source": [
    "# NEO - MCP\n",
    "# To set up our initial primal, we write:\n",
    "compl = MCPModel()\n",
    "\n",
    "# Define the optimisation model\n",
    "@variable(compl, z_star[1:act,1:1] >= 0, base_name = \"z*\")\n",
    "@variable(compl, p_star[1:com,1:1] >= 0, base_name = \"p*\")\n",
    "@variable(compl, r_star[1:fac,1:1] >= 0, base_name = \"r*\")\n",
    "\n",
    "@constraint(compl, c1[i in 1:fac, j in 1:act, k in 1:com], p_star ⟂  (su_rcot_data.pii[i]+r_star[i])*su_rcot_data.F[i,j] - p_star[k]*(su_rcot_data.V[j,k] - su_rcot_data.U[k,j]))\n",
    "@constraint(compl, c1[i in 1:fac, j in 1:act, k in 1:com], p_star ⟂ (su_rcot_data.V' - su_rcot_data.U)*(z_star) - su_rcot_data.e)\n",
    "@constraint(compl, c2[j in 1:act, k in 1:com], z_star' ⟂ (su_rcot_data.pii + r_star)'*su_rcot_data.F - (p_star'*(su_rcot_data.V' - su_rcot_data.U)))\n",
    "@constraint(compl, c3[i in 1:fac, j in 1:act], r_star ⟂ (su_rcot_data.ϕ - su_rcot_data.F*z_star))\n",
    "\n",
    "\n",
    "# To print the model:\n",
    "# print(model) #or:\n",
    "#latex_formulation(compl)"
   ]
  },
  {
   "cell_type": "code",
   "execution_count": 29,
   "metadata": {},
   "outputs": [
    {
     "data": {
      "text/plain": [
       "5"
      ]
     },
     "execution_count": 29,
     "metadata": {},
     "output_type": "execute_result"
    }
   ],
   "source": [
    "com"
   ]
  },
  {
   "cell_type": "code",
   "execution_count": 30,
   "metadata": {},
   "outputs": [
    {
     "data": {
      "text/plain": [
       "5×3 Matrix{Float64}:\n",
       "  8.0  23.0  0.0\n",
       "  0.0   7.0  9.0\n",
       " 38.0   4.0  7.0\n",
       "  2.0   4.0  0.0\n",
       "  0.0   0.0  8.0"
      ]
     },
     "execution_count": 30,
     "metadata": {},
     "output_type": "execute_result"
    }
   ],
   "source": [
    "su_rcot_data.U"
   ]
  },
  {
   "cell_type": "code",
   "execution_count": 35,
   "metadata": {},
   "outputs": [
    {
     "data": {
      "text/plain": [
       "false"
      ]
     },
     "execution_count": 35,
     "metadata": {},
     "output_type": "execute_result"
    }
   ],
   "source": [
    "1 in [1:act]"
   ]
  },
  {
   "cell_type": "code",
   "execution_count": 40,
   "metadata": {},
   "outputs": [],
   "source": [
    "for i=1:fac, j=1:act, k=1:com\n",
    "    su_rcot_data.F[i,j]*(su_rcot_data.V[j,k] - su_rcot_data.U[k,j])\n",
    "end"
   ]
  },
  {
   "cell_type": "code",
   "execution_count": 54,
   "metadata": {},
   "outputs": [
    {
     "data": {
      "text/plain": [
       "3×9 Matrix{Float64}:\n",
       "  80.0   0.0  -38.0  -2.0  0.0  -17.5     -1.66667  -0.0        -6.19048\n",
       " -23.0  88.0   -4.0  -4.0  0.0  -16.6667  -6.94444  -0.740741   -4.7619\n",
       "   0.0  -9.0   69.0  10.0  2.0   -0.0     -7.5      -1.48148   -19.5238"
      ]
     },
     "execution_count": 54,
     "metadata": {},
     "output_type": "execute_result"
    }
   ],
   "source": [
    "M = [(model_data.V'-model_data.U)' (-model_data.F')]"
   ]
  },
  {
   "cell_type": "code",
   "execution_count": 59,
   "metadata": {},
   "outputs": [
    {
     "data": {
      "text/plain": [
       "3-element Vector{AffExpr}:\n",
       " 80 p*[1] - 38 p*[3] - 2 p*[4] - 17.5 r*[1] - 1.6666666666666667 r*[2] - 6.19047619047619 r*[4]\n",
       " -23 p*[1] + 88 p*[2] - 4 p*[3] - 4 p*[4] - 16.666666666666668 r*[1] - 6.944444444444445 r*[2] - 0.7407407407407407 r*[3] - 4.761904761904762 r*[4]\n",
       " -9 p*[2] + 69 p*[3] + 10 p*[4] + 2 p*[5] - 7.5 r*[2] - 1.4814814814814814 r*[3] - 19.523809523809522 r*[4]"
      ]
     },
     "execution_count": 59,
     "metadata": {},
     "output_type": "execute_result"
    }
   ],
   "source": [
    "M*[p_star; r_star]"
   ]
  },
  {
   "cell_type": "code",
   "execution_count": 67,
   "metadata": {},
   "outputs": [
    {
     "data": {
      "text/plain": [
       "9-element Vector{AffExpr}:\n",
       " 80 p*[1]\n",
       " 0\n",
       " -38 p*[1]\n",
       " -2 p*[1]\n",
       " 0\n",
       " -17.5 p*[1]\n",
       " -1.6666666666666667 p*[1]\n",
       " 0\n",
       " -6.19047619047619 p*[1]"
      ]
     },
     "execution_count": 67,
     "metadata": {},
     "output_type": "execute_result"
    }
   ],
   "source": [
    "M[1,:]*([p_star; r_star][1])"
   ]
  },
  {
   "cell_type": "code",
   "execution_count": 68,
   "metadata": {},
   "outputs": [
    {
     "data": {
      "text/plain": [
       "3×9 Matrix{AffExpr}:\n",
       " 80 r*[1]   0         -38 r*[1]  -2 r*[1]  …  -6.19047619047619 r*[1]\n",
       " -23 r*[1]  88 r*[1]  -4 r*[1]   -4 r*[1]     -4.761904761904762 r*[1]\n",
       " 0          -9 r*[1]  69 r*[1]   10 r*[1]     -19.523809523809522 r*[1]"
      ]
     },
     "execution_count": 68,
     "metadata": {},
     "output_type": "execute_result"
    }
   ],
   "source": [
    "bar = [p_star; r_star][6]\n",
    "M*bar"
   ]
  },
  {
   "cell_type": "code",
   "execution_count": 65,
   "metadata": {},
   "outputs": [
    {
     "data": {
      "text/plain": [
       "3×9 Matrix{Float64}:\n",
       "  80.0   0.0  -38.0  -2.0  0.0  -17.5     -1.66667  -0.0        -6.19048\n",
       " -23.0  88.0   -4.0  -4.0  0.0  -16.6667  -6.94444  -0.740741   -4.7619\n",
       "   0.0  -9.0   69.0  10.0  2.0   -0.0     -7.5      -1.48148   -19.5238"
      ]
     },
     "execution_count": 65,
     "metadata": {},
     "output_type": "execute_result"
    }
   ],
   "source": [
    "M"
   ]
  },
  {
   "cell_type": "code",
   "execution_count": 70,
   "metadata": {},
   "outputs": [
    {
     "data": {
      "text/plain": [
       "1:9"
      ]
     },
     "execution_count": 70,
     "metadata": {},
     "output_type": "execute_result"
    }
   ],
   "source": [
    "j=1:(com+fac)"
   ]
  },
  {
   "cell_type": "code",
   "execution_count": 76,
   "metadata": {},
   "outputs": [
    {
     "ename": "LoadError",
     "evalue": "UndefVarError: `i` not defined",
     "output_type": "error",
     "traceback": [
      "UndefVarError: `i` not defined",
      "",
      "Stacktrace:",
      " [1] top-level scope",
      "   @ In[76]:1"
     ]
    }
   ],
   "source": [
    "F[i in 1:act]"
   ]
  },
  {
   "cell_type": "code",
   "execution_count": 72,
   "metadata": {},
   "outputs": [
    {
     "ename": "LoadError",
     "evalue": "Unrecognized function \":\" used in nonlinear expression.\n\nYou must register it as a user-defined function before building\nthe model. For example, replacing `N` with the appropriate number\nof arguments, do:\n```julia\nmodel = Model()\nregister(model, ::, N, :, autodiff=true)\n# ... variables and constraints ...\n```\n",
     "output_type": "error",
     "traceback": [
      "Unrecognized function \":\" used in nonlinear expression.\n\nYou must register it as a user-defined function before building\nthe model. For example, replacing `N` with the appropriate number\nof arguments, do:\n```julia\nmodel = Model()\nregister(model, ::, N, :, autodiff=true)\n# ... variables and constraints ...\n```\n",
      "",
      "Stacktrace:",
      "  [1] error(s::String)",
      "    @ Base .\\error.jl:35",
      "  [2] assert_registered",
      "    @ C:\\Users\\maximiko\\.julia\\packages\\MathOptInterface\\864xP\\src\\Nonlinear\\operators.jl:487 [inlined]",
      "  [3] macro expansion",
      "    @ C:\\Users\\maximiko\\.julia\\packages\\JuMP\\H2SWp\\src\\macros.jl:2205 [inlined]",
      "  [4] (::var\"#153#154\")(i::Int64)",
      "    @ Main C:\\Users\\maximiko\\.julia\\packages\\JuMP\\H2SWp\\src\\Containers\\macro.jl:301",
      "  [5] #84",
      "    @ C:\\Users\\maximiko\\.julia\\packages\\JuMP\\H2SWp\\src\\Containers\\container.jl:85 [inlined]",
      "  [6] iterate",
      "    @ .\\generator.jl:47 [inlined]",
      "  [7] collect(itr::Base.Generator{JuMP.Containers.VectorizedProductIterator{Tuple{Base.OneTo{Int64}}}, JuMP.Containers.var\"#84#85\"{var\"#153#154\"}})",
      "    @ Base .\\array.jl:782",
      "  [8] map(f::Function, A::JuMP.Containers.VectorizedProductIterator{Tuple{Base.OneTo{Int64}}})",
      "    @ Base .\\abstractarray.jl:3289",
      "  [9] container",
      "    @ C:\\Users\\maximiko\\.julia\\packages\\JuMP\\H2SWp\\src\\Containers\\container.jl:85 [inlined]",
      " [10] container",
      "    @ C:\\Users\\maximiko\\.julia\\packages\\JuMP\\H2SWp\\src\\Containers\\container.jl:71 [inlined]",
      " [11] container(f::Function, indices::JuMP.Containers.VectorizedProductIterator{Tuple{Base.OneTo{Int64}}}, #unused#::Type{JuMP.Containers.AutoContainerType}, names::Vector{Any})",
      "    @ JuMP.Containers C:\\Users\\maximiko\\.julia\\packages\\JuMP\\H2SWp\\src\\Containers\\container.jl:75",
      " [12] macro expansion",
      "    @ C:\\Users\\maximiko\\.julia\\packages\\JuMP\\H2SWp\\src\\macros.jl:136 [inlined]",
      " [13] top-level scope",
      "    @ In[72]:1"
     ]
    }
   ],
   "source": [
    "@mapping(compl, F[i=1:act], M[i,j]*[p_star; r_star][j] for j=1:(com+fac))"
   ]
  },
  {
   "cell_type": "code",
   "execution_count": 48,
   "metadata": {},
   "outputs": [
    {
     "name": "stdout",
     "output_type": "stream",
     "text": [
      "Path 5.0.03 (Fri Jun 26 10:05:33 2020)\n",
      "Written by Todd Munson, Steven Dirkse, Youngdae Kim, and Michael Ferris\n",
      "\n",
      "Crash Log\n",
      "major  func  diff  size  residual    step       prox   (label)\n",
      "    0     0             2.9819e+02             0.0e+00 (demand[(4,)])\n",
      "    1    10     6     5 2.9815e+02  1.9e-03    3.0e+00 (demand[(4,)])\n",
      "pn_search terminated: no progress.\n",
      "\n",
      "Major Iteration Log\n",
      "major minor  func  grad  residual    step  type prox    inorm  (label)\n",
      "    0     0    23     2 2.9815e+02           I 2.7e+00 1.6e+02 (demand[(4,)])\n",
      "    1     4    24     3 5.8470e+02  1.0e+00 SM 1.1e+00 5.7e+02 (demand[(2,)])\n",
      "    2     1    25     4 1.4226e+03  1.0e+00 SD 4.3e-01 1.4e+03 (demand[(2,)])\n",
      "    3     1    27     5 1.2425e+03  8.0e-01 SW 1.1e+00 1.2e+03 (demand[(2,)])\n",
      "    4     1    28     6 2.0857e+03  1.0e+00 SD 4.3e-01 2.1e+03 (demand[(2,)])\n",
      "    5     1    36     7 1.2864e+03  5.5e-02 SW 1.1e+00 1.3e+03 (demand[(2,)])\n",
      "    6     1    37     8 2.1299e+03  1.0e+00 SD 4.3e-01 2.1e+03 (demand[(2,)])\n",
      "    7     1    45     9 1.3305e+03  5.5e-02 SW 1.1e+00 1.3e+03 (demand[(2,)])\n",
      "    8     1    46    10 2.1741e+03  1.0e+00 SD 4.3e-01 2.2e+03 (demand[(2,)])\n",
      "    9     1    57    11 1.3318e+03  1.5e-03 SW 1.1e+00 1.3e+03 (demand[(2,)])\n",
      "   10     1    58    12 2.1754e+03  1.0e+00 SD 4.3e-01 2.2e+03 (demand[(2,)])\n",
      "   11     1    69    13 1.3330e+03  1.5e-03 SW 1.1e+00 1.3e+03 (demand[(2,)])\n",
      "   12     1    70    14 2.1766e+03  1.0e+00 SD 4.3e-01 2.2e+03 (demand[(2,)])\n",
      "\n",
      "Restart Log\n",
      "proximal_perturbation 0\n",
      "crash_method none\n",
      "crash_perturb yes\n",
      "nms_initial_reference_factor 2\n",
      "lemke_start_type slack\n",
      "proximal_perturbation 1.0000e-01\n",
      "\n",
      "Major Iteration Log\n",
      "major minor  func  grad  residual    step  type prox    inorm  (label)\n",
      "   12     0    72    15 2.9819e+02           R 1.0e-01 1.6e+02 (demand[(4,)])\n",
      "   13     4    81    16 3.2070e+02  2.3e-02 SB 4.0e-02 2.6e+02 (demand[(2,)])\n",
      "   14     1    92    17 3.4554e+02  1.5e-03 SB 1.6e-02 2.9e+02 (demand[(2,)])\n",
      "   15     1   103    18 4.1280e+02  1.5e-03 SB 6.4e-03 3.7e+02 (demand[(2,)])\n",
      "   16     1   116    19 4.1768e+02  4.4e-05 SB 2.6e-03 3.8e+02 (demand[(2,)])\n",
      "   17     1   130    20 4.1800e+02  1.2e-06 SB 1.0e-03 3.8e+02 (demand[(2,)])\n",
      "   18     1   144    21 4.1864e+02  1.2e-06 SB 4.1e-04 3.8e+02 (demand[(2,)])\n",
      "   19     1   158    22 4.1995e+02  1.2e-06 SB 1.6e-04 3.8e+02 (demand[(2,)])\n",
      "   20     1   173    23 4.2001e+02  3.5e-08 SB 6.6e-05 3.8e+02 (demand[(2,)])\n",
      "   21     1   188    24 4.1999e+02  3.5e-08 SB 2.6e-05 3.8e+02 (demand[(2,)])\n",
      "   22     1   203    25 4.2031e+02  3.5e-08 SB 1.0e-05 3.8e+02 (demand[(2,)])\n",
      "   23     1   230    26 2.5890e+02  5.4e-05 SG 4.0e-02 1.7e+02 (demand[(2,)])\n",
      "   24     2   241    27 2.2232e+02  1.5e-03 SB 1.6e-02 1.5e+02 (demand[(4,)])\n",
      "   25     2   253    28 2.2671e+02  2.6e-04 SB 6.4e-03 1.5e+02 (demand[(4,)])\n",
      "   26     2   265    29 2.4237e+02  2.6e-04 SB 2.6e-03 1.7e+02 (demand[(2,)])\n",
      "   27     2   278    30 2.5046e+02  4.4e-05 SB 1.0e-03 1.8e+02 (demand[(2,)])\n",
      "   28     2   292    31 2.5105e+02  1.2e-06 SB 4.1e-04 1.8e+02 (demand[(2,)])\n",
      "   29     2   306    32 2.5249e+02  1.2e-06 SB 1.6e-04 1.9e+02 (demand[(2,)])\n",
      "   30     2   320    33 2.5626e+02  1.2e-06 SB 6.6e-05 1.9e+02 (demand[(2,)])\n",
      "   31     2   335    34 2.5654e+02  3.5e-08 SB 2.6e-05 1.9e+02 (demand[(2,)])\n",
      "   32     2   350    35 2.5721e+02  3.5e-08 SB 1.0e-05 1.9e+02 (demand[(2,)])\n",
      "   33     2   368    36 2.1991e+02  6.4e-01 SG 1.6e-02 1.6e+02 (demand[(5,)])\n",
      "   34     3   379    37 1.9676e+02  1.5e-03 SB 6.4e-03 1.4e+02 (demand[(2,)])\n",
      "   35     2   392    38 2.0080e+02  4.4e-05 SB 2.6e-03 1.5e+02 (demand[(2,)])\n",
      "   36     2   405    39 2.1119e+02  4.4e-05 SB 1.0e-03 1.6e+02 (demand[(2,)])\n",
      "   37     2   419    40 2.1193e+02  1.2e-06 SB 4.1e-04 1.6e+02 (demand[(2,)])\n",
      "   38     2   433    41 2.1376e+02  1.2e-06 SB 1.6e-04 1.6e+02 (demand[(2,)])\n",
      "   39     2   447    42 2.1847e+02  1.2e-06 SB 6.6e-05 1.7e+02 (demand[(2,)])\n",
      "   40     2   462    43 2.1880e+02  3.5e-08 SB 2.6e-05 1.7e+02 (demand[(2,)])\n",
      "   41     2   477    44 2.1964e+02  3.5e-08 SB 1.0e-05 1.7e+02 (demand[(2,)])\n",
      "   42     2   503    45 1.7663e+02  3.2e-04 SG 6.4e-03 1.2e+02 (demand[(2,)])\n",
      "   43     2   529    46 1.6145e+02  3.2e-04 SG 2.6e-03 1.0e+02 (demand[(4,)])\n",
      "   44     8   555    47 1.5111e+02  3.2e-04 SG 1.0e-03 1.0e+02 (demand[(4,)])\n",
      "\n",
      "Restart Log\n",
      "proximal_perturbation 0\n",
      "crash_method none\n",
      "crash_perturb no\n",
      "nms_initial_reference_factor 10\n",
      "nms_memory_size 2\n",
      "nms_mstep_frequency 1\n",
      "lemke_search_type slack\n",
      "\n",
      "Major Iteration Log\n",
      "major minor  func  grad  residual    step  type prox    inorm  (label)\n",
      "   44     0   583    48 2.9819e+02           R 0.0e+00 1.6e+02 (demand[(4,)])\n",
      "   45     2   584    49 2.9792e+02  1.0e+00 RM 0.0e+00 1.6e+02 (demand[(5,)])\n",
      "   46     6   585    50 2.9819e+02  1.0e+00 RM 0.0e+00 1.6e+02 (demand[(4,)])\n",
      "   47     2   586    51 2.9792e+02  1.0e+00 RM 0.0e+00 1.6e+02 (demand[(5,)])\n",
      "   48     6   613    52 2.5860e+02  5.4e-05 RG 0.0e+00 1.7e+02 (demand[(2,)])\n",
      "   49    10   629    53 2.3327e+02  1.0e+00 RG 0.0e+00 1.6e+02 (demand[(5,)])\n",
      "   50     2   642    54 1.6403e+02  5.4e-05 RG 0.0e+00 1.1e+02 (demand[(2,)])\n",
      "   51    12   643    55 2.0571e+02  1.0e+00 RM 0.0e+00 1.6e+02 (demand[(4,)])\n",
      "   52     2   644    56 2.0532e+02  1.0e+00 RM 0.0e+00 1.6e+02 (demand[(4,)])\n",
      "   53    12   671    57 1.5948e+02  5.4e-05 RG 0.0e+00 1.0e+02 (demand[(2,)])\n",
      "   54    12   698    58 1.5546e+02  5.4e-05 RG 0.0e+00 9.8e+01 (demand[(2,)])\n",
      "\n",
      "Restart Log\n",
      "proximal_perturbation 0\n",
      "crash_method pnewton\n",
      "crash_nbchange_limit 10\n",
      "nms_initial_reference_factor 2\n",
      "crash_searchtype arc\n",
      "nms_searchtype arc\n",
      "gradient_searchtype arc\n",
      "lemke_search_type slack\n",
      "\n",
      "Crash Log\n",
      "major  func  diff  size  residual    step       prox   (label)\n",
      "    0     0             2.9819e+02             0.0e+00 (demand[(4,)])\n",
      "    1    10     6     5 2.9815e+02  1.9e-03    3.0e+00 (demand[(4,)])\n",
      "pn_search terminated: no progress.\n",
      "\n",
      "Major Iteration Log\n",
      "major minor  func  grad  residual    step  type prox    inorm  (label)\n",
      "   54     0   748    60 2.9815e+02           R 2.7e+00 1.6e+02 (demand[(4,)])\n",
      "   55     4   751    61 4.0318e+02  6.4e-01 SB 1.1e+00 3.5e+02 (demand[(2,)])\n",
      "   56     3   760    62 4.1589e+02  2.3e-02 SB 4.3e-01 3.7e+02 (demand[(2,)])\n",
      "   57     3   771    63 4.1575e+02  1.5e-03 SB 1.7e-01 3.7e+02 (demand[(2,)])\n",
      "   58     3   781    64 4.0824e+02  9.2e-03 SB 6.9e-02 3.6e+02 (demand[(2,)])\n",
      "   59     3   793    65 4.0746e+02  2.6e-04 SB 2.7e-02 3.6e+02 (demand[(2,)])\n",
      "   60     3   805    66 4.0056e+02  2.6e-04 SB 1.1e-02 3.6e+02 (demand[(2,)])\n",
      "   61     3   817    67 4.0119e+02  2.6e-04 SB 4.4e-03 3.6e+02 (demand[(2,)])\n",
      "   62     3   844    68 2.5882e+02  5.4e-05 SG 1.1e+00 1.7e+02 (demand[(2,)])\n",
      "   63     5   853    69 2.5480e+02  2.3e-02 SB 4.3e-01 1.7e+02 (demand[(2,)])\n",
      "   64     3   862    70 2.5406e+02  2.3e-02 SB 1.7e-01 1.8e+02 (demand[(2,)])\n",
      "   65     3   873    71 2.5442e+02  1.5e-03 SB 6.9e-02 1.8e+02 (demand[(2,)])\n",
      "   66     3   885    72 2.5290e+02  2.6e-04 SB 2.7e-02 1.8e+02 (demand[(2,)])\n",
      "   67     3   897    73 2.4921e+02  2.6e-04 SB 1.1e-02 1.8e+02 (demand[(2,)])\n",
      "   68     3   910    74 2.4849e+02  4.4e-05 SB 4.4e-03 1.8e+02 (demand[(2,)])\n",
      "   69     3   924    75 2.4833e+02  1.2e-06 SB 1.8e-03 1.8e+02 (demand[(2,)])\n",
      "   70     5   938    76 2.4739e+02  1.2e-06 SB 7.0e-04 1.8e+02 (demand[(2,)])\n",
      "   71     5   952    77 2.4609e+02  1.2e-06 SB 2.8e-04 1.7e+02 (demand[(2,)])\n",
      "   72     5   966    78 2.4721e+02  1.2e-06 SB 1.1e-04 1.8e+02 (demand[(2,)])\n",
      "   73     3   991    79 2.4154e+02  1.9e-03 SG 2.8e-04 1.6e+02 (demand[(5,)])\n",
      "   74     2  1005    80 2.2413e+02  1.2e-06 SB 1.1e-04 1.4e+02 (demand[(4,)])\n",
      "   75     2  1019    81 1.9334e+02  1.2e-06 SB 4.5e-05 1.4e+02 (demand[(4,)])\n",
      "   76     2  1033    82 1.9077e+02  1.2e-06 SB 1.8e-05 1.3e+02 (demand[(4,)])\n",
      "   77     2  1048    83 1.9132e+02  3.5e-08 SB 7.2e-06 1.3e+02 (demand[(4,)])\n",
      "   78     2  1074    84 1.8280e+02  3.2e-04 SG 1.8e-05 1.3e+02 (demand[(4,)])\n",
      "   79     4  1101    85 1.8268e+02  5.4e-05 SG 7.2e-06 1.3e+02 (demand[(4,)])\n",
      "   80     3  1128    86 1.8261e+02  5.4e-05 SG 2.9e-06 1.3e+02 (demand[(4,)])\n",
      "\n",
      "Major Iterations. . . . 80\n",
      "Minor Iterations. . . . 244\n",
      "Restarts. . . . . . . . 3\n",
      "Crash Iterations. . . . 2\n",
      "Gradient Steps. . . . . 18\n",
      "Function Evaluations. . 1155\n",
      "Gradient Evaluations. . 86\n",
      "Basis Time. . . . . . . 0.000000\n",
      "Total Time. . . . . . . 0.203000\n",
      "Residual. . . . . . . . 1.511117e+02\n",
      "result_value.(z_star) = [2.3215506972494695, 0.9658182579499716, 7.120842579626983]\n",
      "result_value.(p_star) = [0.001865844840393424, 15142.385025199435, 82.20477711517569, 113.9329367034891, 0.0030847110975561537]\n",
      "result_value.(r_star) = [0.018256352408369043, 0.0, 0.0, 0.0]\n"
     ]
    },
    {
     "data": {
      "text/plain": [
       "4-element Vector{Float64}:\n",
       " 0.018256352408369043\n",
       " 0.0\n",
       " 0.0\n",
       " 0.0"
      ]
     },
     "execution_count": 48,
     "metadata": {},
     "output_type": "execute_result"
    }
   ],
   "source": [
    "# SU-RCOT - MCP\n",
    "compl = MCPModel()\n",
    "\n",
    "@variable(compl, z_star[1:act] >= 0, base_name = \"z*\")\n",
    "@variable(compl, p_star[1:com] >= 0, base_name = \"p*\")\n",
    "@variable(compl, r_star[1:fac] >= 0, base_name = \"r*\")\n",
    "\n",
    "@mapping(compl, profits[i in 1:fac, j in 1:act, k in 1:com],\n",
    "        (su_rcot_data.pii[i]+r_star[i])*su_rcot_data.F[i,j] - \n",
    "        p_star[k]*(su_rcot_data.V[j,k] - su_rcot_data.U[k,j]))\n",
    "@mapping(compl, demand[j in 1:act, k in 1:com],\n",
    "        (su_rcot_data.V[j,k] - su_rcot_data.U[k,j])*z_star[j] -\n",
    "        su_rcot_data.e[k])\n",
    "@mapping(compl, factors[i in 1:fac, j in 1:act],\n",
    "        su_rcot_data.ϕ[i] - su_rcot_data.F[i,j]*z_star[j])\n",
    "\n",
    "@complementarity(compl, profits, z_star)\n",
    "@complementarity(compl, demand, p_star)\n",
    "@complementarity(compl, factors, r_star)\n",
    "\n",
    "status = solveMCP(compl)\n",
    "@show result_value.(z_star)\n",
    "@show result_value.(p_star)\n",
    "@show result_value.(r_star)"
   ]
  },
  {
   "cell_type": "code",
   "execution_count": 49,
   "metadata": {},
   "outputs": [
    {
     "data": {
      "text/latex": [
       "$$ \\begin{aligned}\n",
       "\\text{feasibility}\\\\\n",
       "\\text{Subject to} \\quad & z*_{1} \\geq 0\\\\\n",
       " & z*_{2} \\geq 0\\\\\n",
       " & z*_{3} \\geq 0\\\\\n",
       " & p*_{1} \\geq 0\\\\\n",
       " & p*_{2} \\geq 0\\\\\n",
       " & p*_{3} \\geq 0\\\\\n",
       " & p*_{4} \\geq 0\\\\\n",
       " & p*_{5} \\geq 0\\\\\n",
       " & r*_{1} \\geq 0\\\\\n",
       " & r*_{2} \\geq 0\\\\\n",
       " & r*_{3} \\geq 0\\\\\n",
       " & r*_{4} \\geq 0\\\\\n",
       "\\text{With NL expressions} \\quad & subexpression_{1}: (1.2 + r*[1]) * 17.5 - p*[1] * (88.0 - 8.0)\\\\\n",
       " & subexpression_{2}: (3.6 + r*[2]) * 1.6666666666666667 - p*[1] * (88.0 - 8.0)\\\\\n",
       " & subexpression_{3}: (2.7 + r*[3]) * 0.0 - p*[1] * (88.0 - 8.0)\\\\\n",
       " & subexpression_{4}: (2.1 + r*[4]) * 6.19047619047619 - p*[1] * (88.0 - 8.0)\\\\\n",
       " & subexpression_{5}: (1.2 + r*[1]) * 16.666666666666668 - p*[1] * (0.0 - 23.0)\\\\\n",
       " & subexpression_{6}: (3.6 + r*[2]) * 6.944444444444445 - p*[1] * (0.0 - 23.0)\\\\\n",
       " & subexpression_{7}: (2.7 + r*[3]) * 0.7407407407407407 - p*[1] * (0.0 - 23.0)\\\\\n",
       " & subexpression_{8}: (2.1 + r*[4]) * 4.761904761904762 - p*[1] * (0.0 - 23.0)\\\\\n",
       " & subexpression_{9}: (1.2 + r*[1]) * 0.0 - p*[1] * (0.0 - 0.0)\\\\\n",
       " & subexpression_{10}: (3.6 + r*[2]) * 7.5 - p*[1] * (0.0 - 0.0)\\\\\n",
       " & subexpression_{11}: (2.7 + r*[3]) * 1.4814814814814814 - p*[1] * (0.0 - 0.0)\\\\\n",
       " & subexpression_{12}: (2.1 + r*[4]) * 19.523809523809522 - p*[1] * (0.0 - 0.0)\\\\\n",
       " & subexpression_{13}: (1.2 + r*[1]) * 17.5 - p*[2] * (0.0 - 0.0)\\\\\n",
       " & subexpression_{14}: (3.6 + r*[2]) * 1.6666666666666667 - p*[2] * (0.0 - 0.0)\\\\\n",
       " & subexpression_{15}: (2.7 + r*[3]) * 0.0 - p*[2] * (0.0 - 0.0)\\\\\n",
       " & subexpression_{16}: (2.1 + r*[4]) * 6.19047619047619 - p*[2] * (0.0 - 0.0)\\\\\n",
       " & subexpression_{17}: (1.2 + r*[1]) * 16.666666666666668 - p*[2] * (95.0 - 7.0)\\\\\n",
       " & subexpression_{18}: (3.6 + r*[2]) * 6.944444444444445 - p*[2] * (95.0 - 7.0)\\\\\n",
       " & subexpression_{19}: (2.7 + r*[3]) * 0.7407407407407407 - p*[2] * (95.0 - 7.0)\\\\\n",
       " & subexpression_{20}: (2.1 + r*[4]) * 4.761904761904762 - p*[2] * (95.0 - 7.0)\\\\\n",
       " & subexpression_{21}: (1.2 + r*[1]) * 0.0 - p*[2] * (0.0 - 9.0)\\\\\n",
       " & subexpression_{22}: (3.6 + r*[2]) * 7.5 - p*[2] * (0.0 - 9.0)\\\\\n",
       " & subexpression_{23}: (2.7 + r*[3]) * 1.4814814814814814 - p*[2] * (0.0 - 9.0)\\\\\n",
       " & subexpression_{24}: (2.1 + r*[4]) * 19.523809523809522 - p*[2] * (0.0 - 9.0)\\\\\n",
       " & subexpression_{25}: (1.2 + r*[1]) * 17.5 - p*[3] * (0.0 - 38.0)\\\\\n",
       " & subexpression_{26}: (3.6 + r*[2]) * 1.6666666666666667 - p*[3] * (0.0 - 38.0)\\\\\n",
       " & subexpression_{27}: (2.7 + r*[3]) * 0.0 - p*[3] * (0.0 - 38.0)\\\\\n",
       " & subexpression_{28}: (2.1 + r*[4]) * 6.19047619047619 - p*[3] * (0.0 - 38.0)\\\\\n",
       " & subexpression_{29}: (1.2 + r*[1]) * 16.666666666666668 - p*[3] * (0.0 - 4.0)\\\\\n",
       " & subexpression_{30}: (3.6 + r*[2]) * 6.944444444444445 - p*[3] * (0.0 - 4.0)\\\\\n",
       " & subexpression_{31}: (2.7 + r*[3]) * 0.7407407407407407 - p*[3] * (0.0 - 4.0)\\\\\n",
       " & subexpression_{32}: (2.1 + r*[4]) * 4.761904761904762 - p*[3] * (0.0 - 4.0)\\\\\n",
       " & subexpression_{33}: (1.2 + r*[1]) * 0.0 - p*[3] * (76.0 - 7.0)\\\\\n",
       " & subexpression_{34}: (3.6 + r*[2]) * 7.5 - p*[3] * (76.0 - 7.0)\\\\\n",
       " & subexpression_{35}: (2.7 + r*[3]) * 1.4814814814814814 - p*[3] * (76.0 - 7.0)\\\\\n",
       " & subexpression_{36}: (2.1 + r*[4]) * 19.523809523809522 - p*[3] * (76.0 - 7.0)\\\\\n",
       " & subexpression_{37}: (1.2 + r*[1]) * 17.5 - p*[4] * (0.0 - 2.0)\\\\\n",
       " & subexpression_{38}: (3.6 + r*[2]) * 1.6666666666666667 - p*[4] * (0.0 - 2.0)\\\\\n",
       " & subexpression_{39}: (2.7 + r*[3]) * 0.0 - p*[4] * (0.0 - 2.0)\\\\\n",
       " & subexpression_{40}: (2.1 + r*[4]) * 6.19047619047619 - p*[4] * (0.0 - 2.0)\\\\\n",
       " & subexpression_{41}: (1.2 + r*[1]) * 16.666666666666668 - p*[4] * (0.0 - 4.0)\\\\\n",
       " & subexpression_{42}: (3.6 + r*[2]) * 6.944444444444445 - p*[4] * (0.0 - 4.0)\\\\\n",
       " & subexpression_{43}: (2.7 + r*[3]) * 0.7407407407407407 - p*[4] * (0.0 - 4.0)\\\\\n",
       " & subexpression_{44}: (2.1 + r*[4]) * 4.761904761904762 - p*[4] * (0.0 - 4.0)\\\\\n",
       " & subexpression_{45}: (1.2 + r*[1]) * 0.0 - p*[4] * (10.0 - 0.0)\\\\\n",
       " & subexpression_{46}: (3.6 + r*[2]) * 7.5 - p*[4] * (10.0 - 0.0)\\\\\n",
       " & subexpression_{47}: (2.7 + r*[3]) * 1.4814814814814814 - p*[4] * (10.0 - 0.0)\\\\\n",
       " & subexpression_{48}: (2.1 + r*[4]) * 19.523809523809522 - p*[4] * (10.0 - 0.0)\\\\\n",
       " & subexpression_{49}: (1.2 + r*[1]) * 17.5 - p*[5] * (0.0 - 0.0)\\\\\n",
       " & subexpression_{50}: (3.6 + r*[2]) * 1.6666666666666667 - p*[5] * (0.0 - 0.0)\\\\\n",
       " & subexpression_{51}: (2.7 + r*[3]) * 0.0 - p*[5] * (0.0 - 0.0)\\\\\n",
       " & subexpression_{52}: (2.1 + r*[4]) * 6.19047619047619 - p*[5] * (0.0 - 0.0)\\\\\n",
       " & subexpression_{53}: (1.2 + r*[1]) * 16.666666666666668 - p*[5] * (0.0 - 0.0)\\\\\n",
       " & subexpression_{54}: (3.6 + r*[2]) * 6.944444444444445 - p*[5] * (0.0 - 0.0)\\\\\n",
       " & subexpression_{55}: (2.7 + r*[3]) * 0.7407407407407407 - p*[5] * (0.0 - 0.0)\\\\\n",
       " & subexpression_{56}: (2.1 + r*[4]) * 4.761904761904762 - p*[5] * (0.0 - 0.0)\\\\\n",
       " & subexpression_{57}: (1.2 + r*[1]) * 0.0 - p*[5] * (10.0 - 8.0)\\\\\n",
       " & subexpression_{58}: (3.6 + r*[2]) * 7.5 - p*[5] * (10.0 - 8.0)\\\\\n",
       " & subexpression_{59}: (2.7 + r*[3]) * 1.4814814814814814 - p*[5] * (10.0 - 8.0)\\\\\n",
       " & subexpression_{60}: (2.1 + r*[4]) * 19.523809523809522 - p*[5] * (10.0 - 8.0)\\\\\n",
       " & subexpression_{61}: (88.0 - 8.0) * z*[1] - 57.0\\\\\n",
       " & subexpression_{62}: (0.0 - 23.0) * z*[2] - 57.0\\\\\n",
       " & subexpression_{63}: (0.0 - 0.0) * z*[3] - 57.0\\\\\n",
       " & subexpression_{64}: (0.0 - 0.0) * z*[1] - 79.0\\\\\n",
       " & subexpression_{65}: (95.0 - 7.0) * z*[2] - 79.0\\\\\n",
       " & subexpression_{66}: (0.0 - 9.0) * z*[3] - 79.0\\\\\n",
       " & subexpression_{67}: (0.0 - 38.0) * z*[1] - 27.0\\\\\n",
       " & subexpression_{68}: (0.0 - 4.0) * z*[2] - 27.0\\\\\n",
       " & subexpression_{69}: (76.0 - 7.0) * z*[3] - 27.0\\\\\n",
       " & subexpression_{70}: (0.0 - 2.0) * z*[1] - 4.0\\\\\n",
       " & subexpression_{71}: (0.0 - 4.0) * z*[2] - 4.0\\\\\n",
       " & subexpression_{72}: (10.0 - 0.0) * z*[3] - 4.0\\\\\n",
       " & subexpression_{73}: (0.0 - 0.0) * z*[1] - 2.0\\\\\n",
       " & subexpression_{74}: (0.0 - 0.0) * z*[2] - 2.0\\\\\n",
       " & subexpression_{75}: (10.0 - 8.0) * z*[3] - 2.0\\\\\n",
       " & subexpression_{76}: 34.16666666666667 - 17.5 * z*[1]\\\\\n",
       " & subexpression_{77}: 16.11111111111111 - 1.6666666666666667 * z*[1]\\\\\n",
       " & subexpression_{78}: 2.2222222222222223 - 0.0 * z*[1]\\\\\n",
       " & subexpression_{79}: 30.476190476190474 - 6.19047619047619 * z*[1]\\\\\n",
       " & subexpression_{80}: 34.16666666666667 - 16.666666666666668 * z*[2]\\\\\n",
       " & subexpression_{81}: 16.11111111111111 - 6.944444444444445 * z*[2]\\\\\n",
       " & subexpression_{82}: 2.2222222222222223 - 0.7407407407407407 * z*[2]\\\\\n",
       " & subexpression_{83}: 30.476190476190474 - 4.761904761904762 * z*[2]\\\\\n",
       " & subexpression_{84}: 34.16666666666667 - 0.0 * z*[3]\\\\\n",
       " & subexpression_{85}: 16.11111111111111 - 7.5 * z*[3]\\\\\n",
       " & subexpression_{86}: 2.2222222222222223 - 1.4814814814814814 * z*[3]\\\\\n",
       " & subexpression_{87}: 30.476190476190474 - 19.523809523809522 * z*[3]\\\\\n",
       "\\end{aligned} $$"
      ]
     },
     "metadata": {},
     "output_type": "display_data"
    }
   ],
   "source": [
    "print(compl)"
   ]
  },
  {
   "cell_type": "code",
   "execution_count": null,
   "metadata": {},
   "outputs": [],
   "source": []
  },
  {
   "cell_type": "code",
   "execution_count": 24,
   "metadata": {},
   "outputs": [
    {
     "data": {
      "text/latex": [
       "$$ [-10 z\\_star_{1} - 17 z\\_star_{2} - 7 z\\_star_{3} + 34, -4 z\\_star_{1} - 21 z\\_star_{3} + 25, -15 z\\_star_{1} - 11 z\\_star_{2} + 26, -2 z\\_star_{1} - 15 z\\_star_{2} - 12 z\\_star_{3} + 29, r\\_star_{1}, r\\_star_{2}, r\\_star_{3}, r\\_star_{4}] \\in \\text{MathOptInterface.Complements(8)} $$"
      ],
      "text/plain": [
       "c3 : [-10 z_star[1] - 17 z_star[2] - 7 z_star[3] + 34, -4 z_star[1] - 21 z_star[3] + 25, -15 z_star[1] - 11 z_star[2] + 26, -2 z_star[1] - 15 z_star[2] - 12 z_star[3] + 29, r_star[1], r_star[2], r_star[3], r_star[4]] in MathOptInterface.Complements(8)"
      ]
     },
     "execution_count": 24,
     "metadata": {},
     "output_type": "execute_result"
    }
   ],
   "source": [
    "# SU-RCOT: LCP\n",
    "# To set up our initial primal, we write:\n",
    "comp = MCPModel()\n",
    "\n",
    "act = size(model_data.V,1)\n",
    "com = size(model_data.V,2)\n",
    "fac = size(model_data.F,1)\n",
    "\n",
    "# Define the optimisation model\n",
    "@variable(comp, z_star[1:act] >= 0)\n",
    "@variable(comp, p_star[1:com] >= 0)\n",
    "@variable(comp, r_star[1:fac] >= 0)\n",
    "\n",
    "\n",
    "@constraint(comp, c1, vec((model_data.V' - model_data.U)*(z_star) - model_data.e) ⟂ p_star)\n",
    "@constraint(comp, c2, vec((model_data.pii + r_star)'*model_data.F - (p_star'*(model_data.V' - model_data.U))) ⟂ z_star)\n",
    "@constraint(comp, c3, vec((model_data.ϕ - model_data.F*z_star)) ⟂ r_star)\n",
    "\n",
    "#optimize!(compl)"
   ]
  },
  {
   "cell_type": "code",
   "execution_count": 25,
   "metadata": {},
   "outputs": [
    {
     "data": {
      "text/latex": [
       "$$ \\begin{aligned}\n",
       "\\text{feasibility}\\\\\n",
       "\\text{Subject to} \\quad & [69 z\\_star_{1} + 17 z\\_star_{2} - 60 z\\_star_{3} - 26, -38 z\\_star_{1} + 67 z\\_star_{2} - 9 z\\_star_{3} - 20, -41 z\\_star_{2} + 109 z\\_star_{3} - 68, p\\_star_{1}, p\\_star_{2}, p\\_star_{3}] \\in \\text{MathOptInterface.Complements(6)}\\\\\n",
       " & [-69 p\\_star_{1} + 38 p\\_star_{2} + 10 r\\_star_{1} + 4 r\\_star_{2} + 15 r\\_star_{3} + 2 r\\_star_{4} + 71.10000000000001, -17 p\\_star_{1} - 67 p\\_star_{2} + 41 p\\_star_{3} + 17 r\\_star_{1} + 11 r\\_star_{3} + 15 r\\_star_{4} + 81.6, 60 p\\_star_{1} + 9 p\\_star_{2} - 109 p\\_star_{3} + 7 r\\_star_{1} + 21 r\\_star_{2} + 12 r\\_star_{4} + 109.20000000000002, z\\_star_{1}, z\\_star_{2}, z\\_star_{3}] \\in \\text{MathOptInterface.Complements(6)}\\\\\n",
       " & [-10 z\\_star_{1} - 17 z\\_star_{2} - 7 z\\_star_{3} + 34, -4 z\\_star_{1} - 21 z\\_star_{3} + 25, -15 z\\_star_{1} - 11 z\\_star_{2} + 26, -2 z\\_star_{1} - 15 z\\_star_{2} - 12 z\\_star_{3} + 29, r\\_star_{1}, r\\_star_{2}, r\\_star_{3}, r\\_star_{4}] \\in \\text{MathOptInterface.Complements(8)}\\\\\n",
       " & z\\_star_{1} \\geq 0\\\\\n",
       " & z\\_star_{2} \\geq 0\\\\\n",
       " & z\\_star_{3} \\geq 0\\\\\n",
       " & p\\_star_{1} \\geq 0\\\\\n",
       " & p\\_star_{2} \\geq 0\\\\\n",
       " & p\\_star_{3} \\geq 0\\\\\n",
       " & r\\_star_{1} \\geq 0\\\\\n",
       " & r\\_star_{2} \\geq 0\\\\\n",
       " & r\\_star_{3} \\geq 0\\\\\n",
       " & r\\_star_{4} \\geq 0\\\\\n",
       "\\end{aligned} $$"
      ]
     },
     "metadata": {},
     "output_type": "display_data"
    }
   ],
   "source": [
    "print(comp)"
   ]
  },
  {
   "cell_type": "markdown",
   "metadata": {},
   "source": [
    "Is the reason for the below error that I don't provide initial values as in Problem 3 here? https://github.com/chkwon/Complementarity.jl/blob/master/MCP.md"
   ]
  },
  {
   "cell_type": "code",
   "execution_count": 26,
   "metadata": {},
   "outputs": [
    {
     "data": {
      "text/plain": [
       ":Solved"
      ]
     },
     "execution_count": 26,
     "metadata": {},
     "output_type": "execute_result"
    }
   ],
   "source": [
    "status = solveMCP(comp, solver=:PATH)"
   ]
  },
  {
   "cell_type": "code",
   "execution_count": 30,
   "metadata": {},
   "outputs": [
    {
     "ename": "LoadError",
     "evalue": "NoOptimizer()",
     "output_type": "error",
     "traceback": [
      "NoOptimizer()",
      "",
      "Stacktrace:",
      " [1] optimize!(model::Model; ignore_optimize_hook::Bool, _differentiation_backend::MathOptInterface.Nonlinear.SparseReverseMode, kwargs::Base.Pairs{Symbol, Union{}, Tuple{}, NamedTuple{(), Tuple{}}})",
      "   @ JuMP C:\\Users\\maximiko\\.julia\\packages\\JuMP\\jZvaU\\src\\optimizer_interface.jl:432",
      " [2] optimize!(model::Model)",
      "   @ JuMP C:\\Users\\maximiko\\.julia\\packages\\JuMP\\jZvaU\\src\\optimizer_interface.jl:405",
      " [3] top-level scope",
      "   @ In[30]:1"
     ]
    }
   ],
   "source": [
    "optimize!(comp)"
   ]
  },
  {
   "cell_type": "code",
   "execution_count": 43,
   "metadata": {},
   "outputs": [
    {
     "data": {
      "text/plain": [
       ":Solved"
      ]
     },
     "execution_count": 43,
     "metadata": {},
     "output_type": "execute_result"
    }
   ],
   "source": [
    "status"
   ]
  },
  {
   "cell_type": "code",
   "execution_count": 44,
   "metadata": {},
   "outputs": [
    {
     "data": {
      "text/plain": [
       "3-element Vector{VariableRef}:\n",
       " z_star[1]\n",
       " z_star[2]\n",
       " z_star[3]"
      ]
     },
     "execution_count": 44,
     "metadata": {},
     "output_type": "execute_result"
    }
   ],
   "source": [
    "z_star"
   ]
  },
  {
   "cell_type": "code",
   "execution_count": 45,
   "metadata": {},
   "outputs": [
    {
     "ename": "LoadError",
     "evalue": "MethodError: no method matching result_value(::Vector{VariableRef})\n\n\u001b[0mClosest candidates are:\n\u001b[0m  result_value(\u001b[91m::VariableRef\u001b[39m)\n\u001b[0m\u001b[90m   @\u001b[39m \u001b[33mComplementarity\u001b[39m \u001b[90mC:\\Users\\maximiko\\.julia\\packages\\Complementarity\\NbsQM\\src\\\u001b[39m\u001b[90m\u001b[4mmcp.jl:372\u001b[24m\u001b[39m\n",
     "output_type": "error",
     "traceback": [
      "MethodError: no method matching result_value(::Vector{VariableRef})\n\n\u001b[0mClosest candidates are:\n\u001b[0m  result_value(\u001b[91m::VariableRef\u001b[39m)\n\u001b[0m\u001b[90m   @\u001b[39m \u001b[33mComplementarity\u001b[39m \u001b[90mC:\\Users\\maximiko\\.julia\\packages\\Complementarity\\NbsQM\\src\\\u001b[39m\u001b[90m\u001b[4mmcp.jl:372\u001b[24m\u001b[39m\n",
      "",
      "Stacktrace:",
      " [1] top-level scope",
      "   @ show.jl:1128"
     ]
    }
   ],
   "source": [
    "@show result_value(z_star)\n",
    "@show result_value(p_star)\n",
    "@show result_value(r_star)"
   ]
  },
  {
   "cell_type": "code",
   "execution_count": 29,
   "metadata": {},
   "outputs": [
    {
     "data": {
      "text/plain": [
       "optimize! (generic function with 1 method)"
      ]
     },
     "execution_count": 29,
     "metadata": {},
     "output_type": "execute_result"
    }
   ],
   "source": [
    "optimize!"
   ]
  },
  {
   "cell_type": "code",
   "execution_count": 35,
   "metadata": {},
   "outputs": [
    {
     "name": "stderr",
     "output_type": "stream",
     "text": [
      "\u001b[33m\u001b[1m┌ \u001b[22m\u001b[39m\u001b[33m\u001b[1mWarning: \u001b[22m\u001b[39mThe model has been modified since the last call to `optimize!` (or `optimize!` has not been called yet). If you are iteratively querying solution information and modifying a model, query all the results first, then modify the model.\n",
      "\u001b[33m\u001b[1m└ \u001b[22m\u001b[39m\u001b[90m@ JuMP C:\\Users\\maximiko\\.julia\\packages\\JuMP\\jZvaU\\src\\optimizer_interface.jl:650\u001b[39m\n",
      "\u001b[33m\u001b[1m┌ \u001b[22m\u001b[39m\u001b[33m\u001b[1mWarning: \u001b[22m\u001b[39mThe model has been modified since the last call to `optimize!` (or `optimize!` has not been called yet). If you are iteratively querying solution information and modifying a model, query all the results first, then modify the model.\n",
      "\u001b[33m\u001b[1m└ \u001b[22m\u001b[39m\u001b[90m@ JuMP C:\\Users\\maximiko\\.julia\\packages\\JuMP\\jZvaU\\src\\optimizer_interface.jl:650\u001b[39m\n",
      "\u001b[33m\u001b[1m┌ \u001b[22m\u001b[39m\u001b[33m\u001b[1mWarning: \u001b[22m\u001b[39mThe model has been modified since the last call to `optimize!` (or `optimize!` has not been called yet). If you are iteratively querying solution information and modifying a model, query all the results first, then modify the model.\n",
      "\u001b[33m\u001b[1m└ \u001b[22m\u001b[39m\u001b[90m@ JuMP C:\\Users\\maximiko\\.julia\\packages\\JuMP\\jZvaU\\src\\optimizer_interface.jl:650\u001b[39m\n",
      "\u001b[33m\u001b[1m┌ \u001b[22m\u001b[39m\u001b[33m\u001b[1mWarning: \u001b[22m\u001b[39mThe model has been modified since the last call to `optimize!` (or `optimize!` has not been called yet). If you are iteratively querying solution information and modifying a model, query all the results first, then modify the model.\n",
      "\u001b[33m\u001b[1m└ \u001b[22m\u001b[39m\u001b[90m@ JuMP C:\\Users\\maximiko\\.julia\\packages\\JuMP\\jZvaU\\src\\optimizer_interface.jl:650\u001b[39m\n",
      "\u001b[33m\u001b[1m┌ \u001b[22m\u001b[39m\u001b[33m\u001b[1mWarning: \u001b[22m\u001b[39mThe model has been modified since the last call to `optimize!` (or `optimize!` has not been called yet). If you are iteratively querying solution information and modifying a model, query all the results first, then modify the model.\n",
      "\u001b[33m\u001b[1m└ \u001b[22m\u001b[39m\u001b[90m@ JuMP C:\\Users\\maximiko\\.julia\\packages\\JuMP\\jZvaU\\src\\optimizer_interface.jl:650\u001b[39m\n",
      "\u001b[33m\u001b[1m┌ \u001b[22m\u001b[39m\u001b[33m\u001b[1mWarning: \u001b[22m\u001b[39mThe model has been modified since the last call to `optimize!` (or `optimize!` has not been called yet). If you are iteratively querying solution information and modifying a model, query all the results first, then modify the model.\n",
      "\u001b[33m\u001b[1m└ \u001b[22m\u001b[39m\u001b[90m@ JuMP C:\\Users\\maximiko\\.julia\\packages\\JuMP\\jZvaU\\src\\optimizer_interface.jl:650\u001b[39m\n",
      "\u001b[33m\u001b[1m┌ \u001b[22m\u001b[39m\u001b[33m\u001b[1mWarning: \u001b[22m\u001b[39mThe model has been modified since the last call to `optimize!` (or `optimize!` has not been called yet). If you are iteratively querying solution information and modifying a model, query all the results first, then modify the model.\n",
      "\u001b[33m\u001b[1m└ \u001b[22m\u001b[39m\u001b[90m@ JuMP C:\\Users\\maximiko\\.julia\\packages\\JuMP\\jZvaU\\src\\optimizer_interface.jl:650\u001b[39m\n",
      "\u001b[33m\u001b[1m┌ \u001b[22m\u001b[39m\u001b[33m\u001b[1mWarning: \u001b[22m\u001b[39mThe model has been modified since the last call to `optimize!` (or `optimize!` has not been called yet). If you are iteratively querying solution information and modifying a model, query all the results first, then modify the model.\n",
      "\u001b[33m\u001b[1m└ \u001b[22m\u001b[39m\u001b[90m@ JuMP C:\\Users\\maximiko\\.julia\\packages\\JuMP\\jZvaU\\src\\optimizer_interface.jl:650\u001b[39m\n"
     ]
    },
    {
     "data": {
      "text/plain": [
       "* Solver : No optimizer attached.\n",
       "\n",
       "* Status\n",
       "  Result count       : 0\n",
       "  Termination status : OPTIMIZE_NOT_CALLED\n",
       "  Message from the solver:\n",
       "  \"optimize not called\"\n",
       "\n",
       "* Candidate solution (result #1)\n",
       "  Primal status      : NO_SOLUTION\n",
       "  Dual status        : NO_SOLUTION\n",
       "\n",
       "* Work counters\n"
      ]
     },
     "execution_count": 35,
     "metadata": {},
     "output_type": "execute_result"
    }
   ],
   "source": [
    "solution_summary(comp)"
   ]
  },
  {
   "cell_type": "code",
   "execution_count": 34,
   "metadata": {},
   "outputs": [
    {
     "name": "stderr",
     "output_type": "stream",
     "text": [
      "\u001b[33m\u001b[1m┌ \u001b[22m\u001b[39m\u001b[33m\u001b[1mWarning: \u001b[22m\u001b[39mThe model has been modified since the last call to `optimize!` (or `optimize!` has not been called yet). If you are iteratively querying solution information and modifying a model, query all the results first, then modify the model.\n",
      "\u001b[33m\u001b[1m└ \u001b[22m\u001b[39m\u001b[90m@ JuMP C:\\Users\\maximiko\\.julia\\packages\\JuMP\\jZvaU\\src\\optimizer_interface.jl:670\u001b[39m\n"
     ]
    },
    {
     "ename": "LoadError",
     "evalue": "OptimizeNotCalled()",
     "output_type": "error",
     "traceback": [
      "OptimizeNotCalled()",
      "",
      "Stacktrace:",
      "  [1] get(model::Model, attr::MathOptInterface.VariablePrimal, v::VariableRef)",
      "    @ JuMP C:\\Users\\maximiko\\.julia\\packages\\JuMP\\jZvaU\\src\\optimizer_interface.jl:676",
      "  [2] value(v::VariableRef; result::Int64)",
      "    @ JuMP C:\\Users\\maximiko\\.julia\\packages\\JuMP\\jZvaU\\src\\variables.jl:1156",
      "  [3] value",
      "    @ C:\\Users\\maximiko\\.julia\\packages\\JuMP\\jZvaU\\src\\variables.jl:1155 [inlined]",
      "  [4] _broadcast_getindex_evalf",
      "    @ .\\broadcast.jl:683 [inlined]",
      "  [5] _broadcast_getindex",
      "    @ .\\broadcast.jl:656 [inlined]",
      "  [6] getindex",
      "    @ .\\broadcast.jl:610 [inlined]",
      "  [7] macro expansion",
      "    @ .\\broadcast.jl:974 [inlined]",
      "  [8] macro expansion",
      "    @ .\\simdloop.jl:77 [inlined]",
      "  [9] copyto!",
      "    @ .\\broadcast.jl:973 [inlined]",
      " [10] copyto!",
      "    @ .\\broadcast.jl:926 [inlined]",
      " [11] copy",
      "    @ .\\broadcast.jl:898 [inlined]",
      " [12] materialize(bc::Base.Broadcast.Broadcasted{Base.Broadcast.DefaultArrayStyle{1}, Nothing, typeof(value), Tuple{Vector{VariableRef}}})",
      "    @ Base.Broadcast .\\broadcast.jl:873",
      " [13] top-level scope",
      "    @ show.jl:1128"
     ]
    }
   ],
   "source": [
    "@show value.(z_star)"
   ]
  },
  {
   "cell_type": "code",
   "execution_count": null,
   "metadata": {},
   "outputs": [],
   "source": []
  },
  {
   "cell_type": "code",
   "execution_count": 20,
   "metadata": {},
   "outputs": [
    {
     "name": "stdout",
     "output_type": "stream",
     "text": [
      "Path 5.0.03 (Fri Jun 26 10:05:33 2020)\n",
      "Written by Todd Munson, Steven Dirkse, Youngdae Kim, and Michael Ferris\n",
      "\n",
      "\n",
      "Crash Log\n",
      "major  func  diff  size  residual    step       prox   (label)\n",
      "    0     0             1.5100e+02             0.0e+00 (f[    6])\n",
      "    1    12     5     3 1.5099e+02  5.4e-05    1.5e+00 (f[    6])\n",
      "    2    22     3     5 1.5095e+02  1.9e-03    1.4e+00 (f[    6])\n",
      "    3    23     5     6 3.1214e+00  1.0e+00    1.2e+00 (f[    2])\n",
      "    4    24     4    10 1.2917e-03  1.0e+00    3.1e-02 (f[    4])\n",
      "    5    25     0    10 3.3275e-10  1.0e+00    1.3e-05 (f[    2])\n",
      "pn_search terminated: no basis change.\n",
      "\n",
      "Major Iteration Log\n",
      "major minor  func  grad  residual    step  type prox    inorm  (label)\n",
      "    0     0    26     6 3.3275e-10           I 3.3e-12 2.2e-10 (f[    2])\n",
      "\n",
      "Major Iterations. . . . 0\n",
      "Minor Iterations. . . . 0\n",
      "Restarts. . . . . . . . 0\n",
      "Crash Iterations. . . . 5\n",
      "Gradient Steps. . . . . 0\n",
      "Function Evaluations. . 26\n",
      "Gradient Evaluations. . 6\n",
      "Basis Time. . . . . . . 0.000000\n",
      "Total Time. . . . . . . 0.000000\n",
      "Residual. . . . . . . . 3.327535e-10\n"
     ]
    }
   ],
   "source": [
    "# SU-NST - MCP\n",
    "# To set up our initial primal, we write:\n",
    "compl = Model(PATHSolver.Optimizer)\n",
    "\n",
    "act = size(model_data.V,1)\n",
    "com = size(model_data.V,2)\n",
    "fac = size(model_data.F,1)\n",
    "\n",
    "# Define the optimisation model\n",
    "@variable(compl, z_star[1:act] >= 0)\n",
    "@variable(compl, p_star[1:com] >= 0)\n",
    "@variable(compl, pii_star[1:fac] >= 0)\n",
    "\n",
    "@constraint(compl, c1, vec(pii_star'*model_data.F - (p_star'*(model_data.V' - model_data.U))) ⟂ z_star)\n",
    "@constraint(compl, c2, vec((model_data.V' - model_data.U)*(z_star) - model_data.e) ⟂ p_star)\n",
    "@constraint(compl, c3, vec((model_data.ϕ - model_data.F*z_star)) ⟂ pii_star)\n",
    "\n",
    "# Solve\n",
    "optimize!(compl)"
   ]
  },
  {
   "cell_type": "code",
   "execution_count": 21,
   "metadata": {},
   "outputs": [
    {
     "data": {
      "text/plain": [
       "* Solver : Path 5.0.03\n",
       "\n",
       "* Status\n",
       "  Result count       : 1\n",
       "  Termination status : LOCALLY_SOLVED\n",
       "  Message from the solver:\n",
       "  \"The problem was solved\"\n",
       "\n",
       "* Candidate solution (result #1)\n",
       "  Primal status      : FEASIBLE_POINT\n",
       "  Dual status        : NO_SOLUTION\n",
       "  Objective value    : 0.00000e+00\n",
       "  Primal solution :\n",
       "    p_star[1] : 1.41298e-02\n",
       "    p_star[2] : 1.42032e-02\n",
       "    p_star[3] : 1.34631e-02\n",
       "    pii_star[1] : 1.68572e-02\n",
       "    pii_star[2] : 9.91560e-03\n",
       "    pii_star[3] : 1.32931e-02\n",
       "    pii_star[4] : 1.38025e-02\n",
       "    z_star[1] : 1.00000e+00\n",
       "    z_star[2] : 1.00000e+00\n",
       "    z_star[3] : 1.00000e+00\n",
       "\n",
       "* Work counters\n",
       "  Solve time (sec)   : 0.00000e+00\n"
      ]
     },
     "execution_count": 21,
     "metadata": {},
     "output_type": "execute_result"
    }
   ],
   "source": [
    "solution_summary(compl; verbose = true)"
   ]
  },
  {
   "cell_type": "code",
   "execution_count": 31,
   "metadata": {},
   "outputs": [
    {
     "name": "stdout",
     "output_type": "stream",
     "text": [
      "termination_status(model) = MathOptInterface.OPTIMAL\n",
      "primal_status(model) = MathOptInterface.FEASIBLE_POINT\n",
      "dual_status(model) = MathOptInterface.FEASIBLE_POINT\n",
      "objective_value(model) = 261.9\n",
      "value.(var_con) = [1.0, 1.0, 1.0]\n",
      "value.(demand_con) = [26.0, 20.0, 68.0]\n",
      "value.(factor_con) = [34.0, 25.0, 26.0, 29.0]\n"
     ]
    },
    {
     "data": {
      "text/plain": [
       "A JuMP Model\n",
       "Minimization problem with:\n",
       "Variables: 3\n",
       "Objective function type: AffExpr\n",
       "`AffExpr`-in-`MathOptInterface.GreaterThan{Float64}`: 3 constraints\n",
       "`AffExpr`-in-`MathOptInterface.LessThan{Float64}`: 4 constraints\n",
       "`VariableRef`-in-`MathOptInterface.GreaterThan{Float64}`: 3 constraints\n",
       "Model mode: AUTOMATIC\n",
       "CachingOptimizer state: ATTACHED_OPTIMIZER\n",
       "Solver name: GLPK\n",
       "Names registered in the model: c1, c2, z_star"
      ]
     },
     "execution_count": 31,
     "metadata": {},
     "output_type": "execute_result"
    }
   ],
   "source": [
    "su_rcot_model = su_rcot(\"primal\", \"abs\", model_data)"
   ]
  },
  {
   "cell_type": "code",
   "execution_count": 49,
   "metadata": {},
   "outputs": [
    {
     "name": "stdout",
     "output_type": "stream",
     "text": [
      "termination_status(model) = MathOptInterface.OPTIMAL\n",
      "primal_status(model) = MathOptInterface.FEASIBLE_POINT\n",
      "dual_status(model) = MathOptInterface.FEASIBLE_POINT\n",
      "objective_value(model) = 261.9\n",
      "value.(p) = [2.1984456937063546, 2.120861917519434, 2.3871054943124417]\n",
      "value.(r) = [0.0, 0.0, 0.0, 0.0]\n",
      "value.(profit_con) = [99.18888888888888, 40.591743119266056, 122.11936799184505]\n"
     ]
    },
    {
     "data": {
      "text/plain": [
       "A JuMP Model\n",
       "Maximization problem with:\n",
       "Variables: 7\n",
       "Objective function type: AffExpr\n",
       "`AffExpr`-in-`MathOptInterface.LessThan{Float64}`: 3 constraints\n",
       "`VariableRef`-in-`MathOptInterface.GreaterThan{Float64}`: 7 constraints\n",
       "Model mode: AUTOMATIC\n",
       "CachingOptimizer state: ATTACHED_OPTIMIZER\n",
       "Solver name: GLPK\n",
       "Names registered in the model: c1d, p, r"
      ]
     },
     "execution_count": 49,
     "metadata": {},
     "output_type": "execute_result"
    }
   ],
   "source": [
    "io_rcot_model = io_rcot(\"dual\", \"abs\", model_data)"
   ]
  },
  {
   "cell_type": "code",
   "execution_count": null,
   "metadata": {},
   "outputs": [],
   "source": []
  }
 ],
 "metadata": {
  "kernelspec": {
   "display_name": "RectangularChoiceDev 1.9.0",
   "language": "julia",
   "name": "rectangularchoicedev-1.9"
  },
  "language_info": {
   "file_extension": ".jl",
   "mimetype": "application/julia",
   "name": "julia",
   "version": "1.9.0"
  },
  "orig_nbformat": 4
 },
 "nbformat": 4,
 "nbformat_minor": 2
}
