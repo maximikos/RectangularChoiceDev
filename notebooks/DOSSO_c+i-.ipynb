{
 "cells": [
  {
   "cell_type": "code",
   "execution_count": null,
   "metadata": {},
   "outputs": [],
   "source": []
  },
  {
   "cell_type": "code",
   "execution_count": 1,
   "metadata": {},
   "outputs": [],
   "source": [
    "using LinearAlgebra\n",
    "using JuMP\n",
    "using GLPK\n",
    "using XLSX\n",
    "using Complementarity #not sure I need this one?\n",
    "using PATHSolver\n",
    "using Revise #not having to restart sessions\n",
    "#using Pandas #optional (only for EXIOBASE data)\n",
    "\n",
    "include(\"../src/SUT_structure.jl\") # Used for the SUT setup <sut = SUT.structure(...)>\n",
    "include(\"../src/Constructs.jl\") # Used to derive single-production systems from the SUT setup, e.g. as <itc = Constructs.ITC(sut)>\n",
    "include(\"../src/Auxiliary.jl\") # Includes some helper functions\n",
    "include(\"../src/Model_data.jl\") # Sets up the data structure for RCOT modelling based on SUT.structure or Constructs.construct\n",
    "include(\"../src/RCOT_model.jl\") # Builds and solves the RCOT models\n",
    "include(\"../src/LP_models.jl\"); # Builds and solves the LP models"
   ]
  },
  {
   "cell_type": "code",
   "execution_count": 2,
   "metadata": {},
   "outputs": [
    {
     "data": {
      "text/plain": [
       "XLSXFile(\"../data/SUT_c+i-.xlsx\") containing 4 Worksheets\n",
       "            sheetname size          range        \n",
       "-------------------------------------------------\n",
       "                    V 4x6           A1:F4        \n",
       "                  U+e 6x5           A1:E6        \n",
       "                    F 5x4           A1:D5        \n",
       "                   pi 5x2           A1:B5        \n"
      ]
     },
     "execution_count": 2,
     "metadata": {},
     "output_type": "execute_result"
    }
   ],
   "source": [
    "# Load the workbook\n",
    "xf = XLSX.readxlsx(\"../data/SUT_c+i-.xlsx\")"
   ]
  },
  {
   "cell_type": "code",
   "execution_count": 3,
   "metadata": {},
   "outputs": [],
   "source": [
    "# Get data from all worksheets and convert it to float64 data type\n",
    "V = convert(Matrix{Float64}, xf[\"V!B2:F4\"])\n",
    "U = convert(Matrix{Float64}, xf[\"U+e!B2:D6\"])\n",
    "e = convert(Matrix{Float64}, xf[\"U+e!E2:E6\"])\n",
    "F = convert(Matrix{Float64}, xf[\"F!B2:D5\"])\n",
    "pii = convert(Matrix{Float64}, xf[\"pi!B2:B5\"])\n",
    "t = xf[\"V!A1\"];"
   ]
  },
  {
   "cell_type": "code",
   "execution_count": 4,
   "metadata": {},
   "outputs": [
    {
     "name": "stderr",
     "output_type": "stream",
     "text": [
      "\u001b[36m\u001b[1m[ \u001b[22m\u001b[39m\u001b[36m\u001b[1mInfo: \u001b[22m\u001b[39mA structure for supply-use elements was set up. Changing individual elements will not change others automatically.\n"
     ]
    }
   ],
   "source": [
    "sut = SUT.structure(U,V,F,e,pii,t);"
   ]
  },
  {
   "cell_type": "code",
   "execution_count": 5,
   "metadata": {},
   "outputs": [
    {
     "data": {
      "text/plain": [
       "construct([88.0; 95.0; … ; 10.0; 10.0;;], [57.0; 79.0; … ; 4.0; 2.0;;], [8.0 23.0 … 0.0 0.0; 0.0 6.999999999999999 … 0.9375 0.9375; … ; 2.0 4.0 … 0.0 0.0; 0.0 0.0 … 0.8333333333333333 0.8333333333333333], [0.09090909090909091 0.24210526315789474 … 0.0 0.0; 0.0 0.07368421052631578 … 0.09375 0.09375; … ; 0.022727272727272728 0.042105263157894736 … 0.0 0.0; 0.0 0.0 … 0.08333333333333333 0.08333333333333333], [1.1163754045307444 0.2947572815533981 … 0.032750809061488674 0.032750809061488674; 0.061488673139158574 1.1067961165048543 … 0.12297734627831716 0.12297734627831715; … ; 0.027961165048543693 0.053300970873786414 … 1.0059223300970874 0.00592233009708738; 0.05062927004674577 0.022437971952535062 … 0.10125854009349156 1.1012585400934916], [17.5 16.666666666666668 … 0.0 0.0; 1.6666666666666667 6.944444444444445 … 0.7812499999999999 0.7812499999999999; 0.0 0.7407407407407407 … 0.15432098765432098 0.15432098765432098; 6.19047619047619 4.761904761904762 … 2.033730158730158 2.033730158730158], [0.19886363636363638 0.1754385964912281 … 0.0 0.0; 0.01893939393939394 0.07309941520467836 … 0.078125 0.078125; 0.0 0.007797270955165692 … 0.015432098765432098 0.015432098765432098; 0.07034632034632034 0.05012531328320802 … 0.20337301587301584 0.20337301587301584], [34.16666666666667; 16.11111111111111; 2.222222222222222; 30.476190476190474;;], [34.16666666666667; 16.11111111111111; 2.2222222222222223; 30.476190476190474;;], [1.2; 3.6; 2.7; 2.1;;], #undef, #undef, #undef)"
      ]
     },
     "execution_count": 5,
     "metadata": {},
     "output_type": "execute_result"
    }
   ],
   "source": [
    "itc = Constructs.ITC(sut)"
   ]
  },
  {
   "cell_type": "code",
   "execution_count": 6,
   "metadata": {},
   "outputs": [
    {
     "name": "stderr",
     "output_type": "stream",
     "text": [
      "\u001b[36m\u001b[1m[ \u001b[22m\u001b[39m\u001b[36m\u001b[1mInfo: \u001b[22m\u001b[39mYou are setting up an IO model dataset. Elements of this dataset are now treated independently, meaning that no recalculation whatsoever takes place when individual elements are changed.\n"
     ]
    },
    {
     "data": {
      "text/plain": [
       "construct([88.0; 95.0; … ; 10.0; 10.0;;], [57.0; 79.0; … ; 4.0; 2.0;;], [8.0 23.0 … 0.0 0.0; 0.0 6.999999999999999 … 0.9375 0.9375; … ; 2.0 4.0 … 0.0 0.0; 0.0 0.0 … 0.8333333333333333 0.8333333333333333], [0.09090909090909091 0.24210526315789474 … 0.0 0.0; 0.0 0.07368421052631578 … 0.09375 0.09375; … ; 0.022727272727272728 0.042105263157894736 … 0.0 0.0; 0.0 0.0 … 0.08333333333333333 0.08333333333333333], [1.1163754045307444 0.2947572815533981 … 0.032750809061488674 0.032750809061488674; 0.061488673139158574 1.1067961165048543 … 0.12297734627831716 0.12297734627831715; … ; 0.027961165048543693 0.053300970873786414 … 1.0059223300970874 0.00592233009708738; 0.05062927004674577 0.022437971952535062 … 0.10125854009349156 1.1012585400934916], [17.5 16.666666666666668 … 0.0 0.0; 1.6666666666666667 6.944444444444445 … 0.7812499999999999 0.7812499999999999; 0.0 0.7407407407407407 … 0.15432098765432098 0.15432098765432098; 6.19047619047619 4.761904761904762 … 2.033730158730158 2.033730158730158], [0.19886363636363638 0.1754385964912281 … 0.0 0.0; 0.01893939393939394 0.07309941520467836 … 0.078125 0.078125; 0.0 0.007797270955165692 … 0.015432098765432098 0.015432098765432098; 0.07034632034632034 0.05012531328320802 … 0.20337301587301584 0.20337301587301584], [34.16666666666667; 16.11111111111111; 2.222222222222222; 30.476190476190474;;], [34.16666666666667; 16.11111111111111; 2.2222222222222223; 30.476190476190474;;], [1.2; 3.6; 2.7; 2.1;;], Bool[1 0 … 0 0; 0 1 … 0 0; … ; 0 0 … 1 0; 0 0 … 0 1], [88.0 0.0 … 0.0 0.0; 0.0 95.0 … 0.0 0.0; … ; 0.0 0.0 … 10.0 0.0; 0.0 0.0 … 0.0 10.0], #undef)"
      ]
     },
     "execution_count": 6,
     "metadata": {},
     "output_type": "execute_result"
    }
   ],
   "source": [
    "model_data = Model_data.IO(itc)"
   ]
  },
  {
   "cell_type": "code",
   "execution_count": 7,
   "metadata": {},
   "outputs": [
    {
     "data": {
      "text/plain": [
       "5×5 Matrix{Bool}:\n",
       " 1  0  0  0  0\n",
       " 0  1  0  0  0\n",
       " 0  0  1  0  0\n",
       " 0  0  0  1  0\n",
       " 0  0  0  0  1"
      ]
     },
     "execution_count": 7,
     "metadata": {},
     "output_type": "execute_result"
    }
   ],
   "source": [
    "model_data.I_mod"
   ]
  },
  {
   "cell_type": "code",
   "execution_count": 10,
   "metadata": {},
   "outputs": [
    {
     "data": {
      "text/plain": [
       "5×1 Matrix{Float64}:\n",
       " 88.0\n",
       " 95.0\n",
       " 76.0\n",
       " 10.0\n",
       " 10.0"
      ]
     },
     "execution_count": 10,
     "metadata": {},
     "output_type": "execute_result"
    }
   ],
   "source": [
    "model_data.x"
   ]
  },
  {
   "cell_type": "code",
   "execution_count": 8,
   "metadata": {},
   "outputs": [
    {
     "name": "stdout",
     "output_type": "stream",
     "text": [
      "termination_status(model) = MathOptInterface.OPTIMAL\n",
      "primal_status(model) = MathOptInterface.FEASIBLE_POINT\n",
      "dual_status(model) = MathOptInterface.FEASIBLE_POINT\n",
      "objective_value(model) = 169.0\n",
      "value.(var_con) = [88.0, 95.0, 76.00000000000001, 10.0, 10.0]\n",
      "value.(demand_con) = [57.0, 79.0, 27.0, 4.0, 2.0]\n",
      "value.(factor_con) = Float64[]\n"
     ]
    }
   ],
   "source": [
    "io_dosso(\"primal\", \"rel\", model_data);#, surplus=false);"
   ]
  },
  {
   "cell_type": "code",
   "execution_count": 9,
   "metadata": {},
   "outputs": [
    {
     "name": "stdout",
     "output_type": "stream",
     "text": [
      "termination_status(model) = MathOptInterface.OPTIMAL\n",
      "primal_status(model) = MathOptInterface.FEASIBLE_POINT\n",
      "dual_status(model) = MathOptInterface.FEASIBLE_POINT\n",
      "objective_value(model) = 169.0\n",
      "value.(p) = [1.0, 1.0, 1.0000000000000002, 1.0, 0.9999999999999998]\n",
      "value.(r) = Float64[]\n",
      "value.(profit_con) = [40.0, 57.0, 57.0, 7.499999999999998, 7.499999999999998]\n"
     ]
    }
   ],
   "source": [
    "io_dosso(\"dual\", \"abs\", model_data);#, surplus=false);"
   ]
  },
  {
   "cell_type": "code",
   "execution_count": 15,
   "metadata": {},
   "outputs": [
    {
     "name": "stdout",
     "output_type": "stream",
     "text": [
      "termination_status(primal) = MathOptInterface.OPTIMAL\n",
      "primal_status(primal) = MathOptInterface.FEASIBLE_POINT\n",
      "dual_status(primal) = MathOptInterface.FEASIBLE_POINT\n",
      "objective_value(primal) = 169.0\n",
      "value.(x_star) = [88.0, 95.0, 76.00000000000001, 10.0, 10.0]\n",
      "value.(p_star) = [0.0, 0.0, 0.0, 0.0, 0.0]\n",
      "value.(c1) = [57.0; 79.0; 27.0; 4.0; 2.0;;]\n",
      "shadow_price.(c1) = [1.0; 1.0; 1.0; 1.0; 1.0;;]\n"
     ]
    },
    {
     "data": {
      "text/plain": [
       "5×1 Matrix{Float64}:\n",
       " 1.0\n",
       " 1.0\n",
       " 1.0\n",
       " 1.0\n",
       " 1.0"
      ]
     },
     "execution_count": 15,
     "metadata": {},
     "output_type": "execute_result"
    }
   ],
   "source": [
    "#Flipped objective and constraints for io_dosso\n",
    "# to check if they yield the same result... still need to check for differing y etc.\n",
    "\n",
    "# Instantiate the model\n",
    "primal = Model(GLPK.Optimizer)\n",
    "(@isdefined primal) && (primal = nothing; primal = Model(GLPK.Optimizer));\n",
    "# Define the optimisation model\n",
    "@variable(primal, x_star[1:size(itc.A,1)] >= 0, base_name = \"x*\")\n",
    "@variable(primal, p_star[1:size(itc.A,2)] >= 0, base_name = \"p*\")\n",
    "@objective(primal, Max, sum(model_data.pii'*model_data.R*x_star))\n",
    "@constraint(primal, c1, (model_data.I_mod - model_data.A)*x_star .<= model_data.y);\n",
    "# Run the model and show results\n",
    "optimize!(primal)\n",
    "@show termination_status(primal)\n",
    "@show primal_status(primal)\n",
    "@show dual_status(primal)\n",
    "@show objective_value(primal)\n",
    "@show value.(x_star)\n",
    "@show value.(p_star)\n",
    "@show value.(c1)\n",
    "@show shadow_price.(c1)"
   ]
  },
  {
   "cell_type": "code",
   "execution_count": null,
   "metadata": {},
   "outputs": [],
   "source": []
  },
  {
   "cell_type": "code",
   "execution_count": 11,
   "metadata": {},
   "outputs": [
    {
     "name": "stdout",
     "output_type": "stream",
     "text": [
      "Path 5.0.03 (Fri Jun 26 10:05:33 2020)\n",
      "Written by Todd Munson, Steven Dirkse, Youngdae Kim, and Michael Ferris\n",
      "\n",
      "\n",
      "Crash Log\n",
      "major  func  diff  size  residual    step       prox   (label)\n",
      "    0     0             2.0238e+02             0.0e+00 (f[    7])\n",
      "    1     1     8     5 1.7837e+02  1.0e+00    2.0e+00 (f[    7])\n",
      "    2     2     3     8 1.4482e+02  1.0e+00    1.8e+00 (f[    2])\n",
      "    3     3     0     8 1.1975e+02  1.0e+00    1.4e+00 (f[    2])\n",
      "pn_search terminated: no basis change.\n",
      "\n",
      "Major Iteration Log\n",
      "major minor  func  grad  residual    step  type prox    inorm  (label)\n",
      "    0     0     4     4 1.1975e+02           I 1.2e+00 7.8e+01 (f[    2])\n",
      "    1     3     5     5 5.5178e+01  1.0e+00 SO 4.8e-01 3.2e+01 (f[    3])\n",
      "    2     2     6     6 2.6727e+00  1.0e+00 SO 1.9e-01 1.2e+00 (f[    8])\n",
      "    3     3     7     7 1.1607e+00  1.0e+00 SO 7.7e-02 7.9e-01 (f[    3])\n",
      "    4     4     8     8 4.5177e-01  1.0e+00 SO 3.1e-02 3.2e-01 (f[    2])\n",
      "    5     1     9     9 8.2929e-03  1.0e+00 SO 1.2e-02 5.8e-03 (f[    7])\n",
      "    6     1    10    10 1.0658e-05  1.0e+00 SO 8.3e-04 6.1e-06 (f[    1])\n",
      "    7     1    11    11 1.7974e-11  1.0e+00 SO 1.1e-06 1.1e-11 (f[    6])\n",
      "\n",
      "Major Iterations. . . . 7\n",
      "Minor Iterations. . . . 15\n",
      "Restarts. . . . . . . . 0\n",
      "Crash Iterations. . . . 3\n",
      "Gradient Steps. . . . . 0\n",
      "Function Evaluations. . 11\n",
      "Gradient Evaluations. . 11\n",
      "Basis Time. . . . . . . 0.000000\n",
      "Total Time. . . . . . . 0.031000\n",
      "Residual. . . . . . . . 1.797378e-11\n"
     ]
    }
   ],
   "source": [
    "# DOSSO - MCP\n",
    "dosso_mcp = Model(PATHSolver.Optimizer)\n",
    "\n",
    "act = size(model_data.A,1)\n",
    "com = size(model_data.A,2)\n",
    "\n",
    "# Define the optimisation model\n",
    "@variable(dosso_mcp, x_star[1:act] >= 0)\n",
    "@variable(dosso_mcp, p_star[1:com] >= 0)\n",
    "\n",
    "@constraint(dosso_mcp, c1, vec((model_data.pii)'*model_data.R - (p_star'*(model_data.I_mod - model_data.A))) ⟂ x_star)\n",
    "@constraint(dosso_mcp, c2, vec((model_data.I_mod - model_data.A)*(x_star) - (model_data.y)) ⟂ p_star)\n",
    "\n",
    "# Solve\n",
    "optimize!(dosso_mcp);"
   ]
  },
  {
   "cell_type": "code",
   "execution_count": 12,
   "metadata": {},
   "outputs": [
    {
     "data": {
      "text/plain": [
       "* Solver : Path 5.0.03\n",
       "\n",
       "* Status\n",
       "  Result count       : 1\n",
       "  Termination status : LOCALLY_SOLVED\n",
       "  Message from the solver:\n",
       "  \"The problem was solved\"\n",
       "\n",
       "* Candidate solution (result #1)\n",
       "  Primal status      : FEASIBLE_POINT\n",
       "  Dual status        : NO_SOLUTION\n",
       "  Objective value    : 0.00000e+00\n",
       "  Primal solution :\n",
       "    p_star[1] : 1.00000e+00\n",
       "    p_star[2] : 1.00000e+00\n",
       "    p_star[3] : 1.00000e+00\n",
       "    p_star[4] : 1.00000e+00\n",
       "    p_star[5] : 1.00000e+00\n",
       "    x_star[1] : 8.80000e+01\n",
       "    x_star[2] : 9.50000e+01\n",
       "    x_star[3] : 7.60000e+01\n",
       "    x_star[4] : 1.00000e+01\n",
       "    x_star[5] : 1.00000e+01\n",
       "\n",
       "* Work counters\n",
       "  Solve time (sec)   : 3.10000e-02\n"
      ]
     },
     "execution_count": 12,
     "metadata": {},
     "output_type": "execute_result"
    }
   ],
   "source": [
    "solution_summary(dosso_mcp; verbose = true)"
   ]
  },
  {
   "cell_type": "code",
   "execution_count": 26,
   "metadata": {},
   "outputs": [
    {
     "name": "stdout",
     "output_type": "stream",
     "text": [
      "termination_status(model) = MathOptInterface.OPTIMAL\n",
      "primal_status(model) = MathOptInterface.FEASIBLE_POINT\n",
      "dual_status(model) = MathOptInterface.FEASIBLE_POINT\n",
      "objective_value(model) = 174.0\n",
      "value.(var_con) = [89.5093851132686, 96.53721682847896, 78.04624235886372, 11.099029126213592, 11.376842862279755]\n",
      "value.(demand_con) = [58.0, 80.0, 28.0, 5.0, 3.0]\n",
      "value.(factor_con) = Float64[]\n"
     ]
    },
    {
     "data": {
      "text/plain": [
       "Float64[]"
      ]
     },
     "execution_count": 26,
     "metadata": {},
     "output_type": "execute_result"
    }
   ],
   "source": [
    "dosso_primal = Model(GLPK.Optimizer)\n",
    "(@isdefined dosso_primal) && (dosso_primal = nothing; dosso_primal = Model(GLPK.Optimizer));\n",
    "\n",
    "@variable(dosso_primal, x_star[1:size(model_data.A,2)] >= 0, base_name = \"x*\")\n",
    "@objective(dosso_primal, Min, sum(model_data.pii'*model_data.R*x_star))\n",
    "@constraint(dosso_primal, mass_balance, (model_data.I_mod-model_data.A)*(x_star) .>= model_data.y.+1)\n",
    "optimize!(dosso_primal)\n",
    "model_solution(dosso_primal)\n",
    "show_primal_lhs(dosso_primal)"
   ]
  },
  {
   "cell_type": "code",
   "execution_count": 33,
   "metadata": {},
   "outputs": [
    {
     "name": "stdout",
     "output_type": "stream",
     "text": [
      "termination_status(model) = MathOptInterface.OPTIMAL\n",
      "primal_status(model) = MathOptInterface.FEASIBLE_POINT\n",
      "dual_status(model) = MathOptInterface.FEASIBLE_POINT\n",
      "objective_value(model) = 174.0\n",
      "value.(p) = [1.0, 1.0000000000000002, 1.0, 1.0, 1.0]\n",
      "value.(r) = Float64[]\n",
      "value.(profit_con) = [0.45454545454545453, 0.6000000000000001, 0.75, 0.75, 0.75]\n"
     ]
    },
    {
     "data": {
      "text/plain": [
       "5-element Vector{Float64}:\n",
       " 0.45454545454545453\n",
       " 0.6000000000000001\n",
       " 0.75\n",
       " 0.75\n",
       " 0.75"
      ]
     },
     "execution_count": 33,
     "metadata": {},
     "output_type": "execute_result"
    }
   ],
   "source": [
    "dosso_dual = Model(GLPK.Optimizer)\n",
    "(@isdefined dosso_dual) && (dosso_dual = nothing; dosso_dual = Model(GLPK.Optimizer));\n",
    "\n",
    "@variable(dosso_dual, p[1:size(model_data.A,2)] >= 0)\n",
    "@objective(dosso_dual, Max, sum(p'*(model_data.y.+1)))\n",
    "@constraint(dosso_dual, factor_costs, (model_data.I_mod-model_data.A)'*(p) .<= model_data.R'*model_data.pii)\n",
    "optimize!(dosso_dual)\n",
    "model_solution(dosso_dual)\n",
    "show_dual_lhs(dosso_dual)"
   ]
  },
  {
   "cell_type": "code",
   "execution_count": 63,
   "metadata": {},
   "outputs": [
    {
     "data": {
      "text/plain": [
       "5×1 adjoint(::Matrix{Float64}) with eltype Float64:\n",
       " 40.0\n",
       " 57.0\n",
       " 57.0\n",
       "  7.499999999999998\n",
       "  7.499999999999998"
      ]
     },
     "execution_count": 63,
     "metadata": {},
     "output_type": "execute_result"
    }
   ],
   "source": [
    "##########\n",
    "#Ghosh\n",
    "\n",
    "B_ghosh = inv(Diagonal(vec(model_data.x)))*model_data.Z\n",
    "D_ghosh = inv(Diagonal(vec(model_data.x)))*(model_data.y)\n",
    "π_ghosh = 1 #only scalar because single demand category\n",
    "v_ghosh = (model_data.pii'*model_data.G)' # transpose necessary to make column vector\n"
   ]
  },
  {
   "cell_type": "code",
   "execution_count": 72,
   "metadata": {},
   "outputs": [
    {
     "name": "stdout",
     "output_type": "stream",
     "text": [
      "Path 5.0.03 (Fri Jun 26 10:05:33 2020)\n",
      "Written by Todd Munson, Steven Dirkse, Youngdae Kim, and Michael Ferris\n",
      "\n",
      "\n",
      "Crash Log\n",
      "major  func  diff  size  residual    step       prox   (label)\n",
      "    0     0             1.8122e+02             0.0e+00 (f[    7])\n",
      "    1     1     8     5 1.5801e+02  1.0e+00    1.8e+00 (f[    7])\n",
      "    2     2     3     8 1.2665e+02  1.0e+00    1.6e+00 (f[    2])\n",
      "    3     3     0     8 1.0320e+02  1.0e+00    1.3e+00 (f[    2])\n",
      "pn_search terminated: no basis change.\n",
      "\n",
      "Major Iteration Log\n",
      "major minor  func  grad  residual    step  type prox    inorm  (label)\n",
      "    0     0     4     4 1.0320e+02           I 1.0e+00 6.6e+01 (f[    2])\n",
      "    1     3     5     5 4.4453e+01  1.0e+00 SO 4.1e-01 2.7e+01 (f[    1])\n",
      "    2     2     6     6 3.6138e+00  1.0e+00 SO 1.7e-01 2.1e+00 (f[    5])\n",
      "    3     4     7     7 1.1998e+00  1.0e+00 SO 6.6e-02 8.4e-01 (f[    2])\n",
      "    4     5     8     8 2.1283e-01  1.0e+00 SO 2.6e-02 1.7e-01 (f[    3])\n",
      "    5     1     9     9 4.1240e-03  1.0e+00 SO 1.1e-02 2.8e-03 (f[    8])\n",
      "    6     1    10    10 3.3079e-06  1.0e+00 SO 4.1e-04 2.0e-06 (f[    3])\n",
      "    7     1    11    11 2.1517e-12  1.0e+00 SO 3.3e-07 1.3e-12 (f[   10])\n",
      "\n",
      "Major Iterations. . . . 7\n",
      "Minor Iterations. . . . 17\n",
      "Restarts. . . . . . . . 0\n",
      "Crash Iterations. . . . 3\n",
      "Gradient Steps. . . . . 0\n",
      "Function Evaluations. . 11\n",
      "Gradient Evaluations. . 11\n",
      "Basis Time. . . . . . . 0.000000\n",
      "Total Time. . . . . . . 0.000000\n",
      "Residual. . . . . . . . 2.151678e-12\n"
     ]
    }
   ],
   "source": [
    "# DOSSO - MCP\n",
    "# for GHOSH\n",
    "ghosh_mcp = Model(PATHSolver.Optimizer)\n",
    "\n",
    "act = size(model_data.A,1)\n",
    "com = size(model_data.A,2)\n",
    "\n",
    "# Define the optimisation model\n",
    "@variable(ghosh_mcp, x_star[1:act] >= 0)\n",
    "@variable(ghosh_mcp, p_star[1:com] >= 0)\n",
    "\n",
    "@constraint(ghosh_mcp, c1, vec((D_ghosh*π_ghosh)' - p_star'*(model_data.I_mod-B_ghosh)') ⟂ x_star)\n",
    "@constraint(ghosh_mcp, c2, vec((model_data.I_mod - B_ghosh)'*(x_star) - (v_ghosh)) ⟂ p_star)\n",
    "\n",
    "# Solve\n",
    "optimize!(ghosh_mcp)"
   ]
  },
  {
   "cell_type": "code",
   "execution_count": 73,
   "metadata": {},
   "outputs": [
    {
     "data": {
      "text/plain": [
       "* Solver : Path 5.0.03\n",
       "\n",
       "* Status\n",
       "  Result count       : 1\n",
       "  Termination status : LOCALLY_SOLVED\n",
       "  Message from the solver:\n",
       "  \"The problem was solved\"\n",
       "\n",
       "* Candidate solution (result #1)\n",
       "  Primal status      : FEASIBLE_POINT\n",
       "  Dual status        : NO_SOLUTION\n",
       "  Objective value    : 0.00000e+00\n",
       "  Primal solution :\n",
       "    p_star[1] : 1.01715e+00\n",
       "    p_star[2] : 1.01618e+00\n",
       "    p_star[3] : 1.02692e+00\n",
       "    p_star[4] : 1.10990e+00\n",
       "    p_star[5] : 1.13768e+00\n",
       "    x_star[1] : 8.80000e+01\n",
       "    x_star[2] : 9.50000e+01\n",
       "    x_star[3] : 7.60000e+01\n",
       "    x_star[4] : 1.00000e+01\n",
       "    x_star[5] : 1.00000e+01\n",
       "\n",
       "* Work counters\n",
       "  Solve time (sec)   : 0.00000e+00\n"
      ]
     },
     "execution_count": 73,
     "metadata": {},
     "output_type": "execute_result"
    }
   ],
   "source": [
    "solution_summary(ghosh_mcp; verbose = true)"
   ]
  },
  {
   "cell_type": "code",
   "execution_count": 53,
   "metadata": {},
   "outputs": [
    {
     "name": "stdout",
     "output_type": "stream",
     "text": [
      "Path 5.0.03 (Fri Jun 26 10:05:33 2020)\n",
      "Written by Todd Munson, Steven Dirkse, Youngdae Kim, and Michael Ferris\n",
      "\n",
      "\n",
      "Crash Log\n",
      "major  func  diff  size  residual    step       prox   (label)\n",
      "    0     0             1.8122e+02             0.0e+00 (f[    7])\n",
      "    1     1     8     5 1.5802e+02  1.0e+00    1.8e+00 (f[    7])\n",
      "    2     2     3     8 1.2666e+02  1.0e+00    1.6e+00 (f[    2])\n",
      "    3     3     0     8 1.0321e+02  1.0e+00    1.3e+00 (f[    2])\n",
      "pn_search terminated: no basis change.\n",
      "\n",
      "Major Iteration Log\n",
      "major minor  func  grad  residual    step  type prox    inorm  (label)\n",
      "    0     0     4     4 1.0321e+02           I 1.0e+00 6.6e+01 (f[    2])\n",
      "    1     3     5     5 4.4466e+01  1.0e+00 SO 4.1e-01 2.7e+01 (f[    1])\n",
      "    2     2     6     6 3.5426e+00  1.0e+00 SO 1.7e-01 2.1e+00 (f[    5])\n",
      "    3     4     7     7 1.1556e+00  1.0e+00 SO 6.6e-02 8.3e-01 (f[    2])\n",
      "    4     5     8     8 2.2848e-01  1.0e+00 SO 2.6e-02 1.8e-01 (f[    3])\n",
      "    5     1     9     9 4.5997e-03  1.0e+00 SO 1.1e-02 2.9e-03 (f[    8])\n",
      "    6     1    10    10 4.1365e-06  1.0e+00 SO 4.6e-04 2.6e-06 (f[    3])\n",
      "    7     1    11    11 3.3841e-12  1.0e+00 SO 4.1e-07 2.1e-12 (f[   10])\n",
      "\n",
      "Major Iterations. . . . 7\n",
      "Minor Iterations. . . . 17\n",
      "Restarts. . . . . . . . 0\n",
      "Crash Iterations. . . . 3\n",
      "Gradient Steps. . . . . 0\n",
      "Function Evaluations. . 11\n",
      "Gradient Evaluations. . 11\n",
      "Basis Time. . . . . . . 0.000000\n",
      "Total Time. . . . . . . 0.000000\n",
      "Residual. . . . . . . . 3.384051e-12\n"
     ]
    }
   ],
   "source": [
    "# DOSSO - MCP\n",
    "# for GHOSH\n",
    "ghosh_mcp = Model(PATHSolver.Optimizer)\n",
    "\n",
    "act = size(model_data.A,1)\n",
    "com = size(model_data.A,2)\n",
    "\n",
    "# Define the optimisation model\n",
    "@variable(ghosh_mcp, x_star[1:act] >= 0)\n",
    "@variable(ghosh_mcp, p_star[1:com] >= 0)\n",
    "\n",
    "@constraint(ghosh_mcp, c1, vec((D_ghosh*π_ghosh) - (model_data.I_mod-B_ghosh)*p_star) ⟂ x_star)\n",
    "@constraint(ghosh_mcp, c2, vec((model_data.I_mod - B_ghosh)'*(x_star) - (v_ghosh)) ⟂ p_star)\n",
    "\n",
    "# Solve\n",
    "optimize!(ghosh_mcp)"
   ]
  },
  {
   "cell_type": "code",
   "execution_count": 54,
   "metadata": {},
   "outputs": [
    {
     "data": {
      "text/plain": [
       "* Solver : Path 5.0.03\n",
       "\n",
       "* Status\n",
       "  Result count       : 1\n",
       "  Termination status : LOCALLY_SOLVED\n",
       "  Message from the solver:\n",
       "  \"The problem was solved\"\n",
       "\n",
       "* Candidate solution (result #1)\n",
       "  Primal status      : FEASIBLE_POINT\n",
       "  Dual status        : NO_SOLUTION\n",
       "  Objective value    : 0.00000e+00\n",
       "  Primal solution :\n",
       "    p_star[1] : 1.00000e+00\n",
       "    p_star[2] : 1.00000e+00\n",
       "    p_star[3] : 1.00000e+00\n",
       "    p_star[4] : 1.00000e+00\n",
       "    p_star[5] : 1.00000e+00\n",
       "    x_star[1] : 8.80000e+01\n",
       "    x_star[2] : 9.50000e+01\n",
       "    x_star[3] : 7.60000e+01\n",
       "    x_star[4] : 1.00000e+01\n",
       "    x_star[5] : 1.00000e+01\n",
       "\n",
       "* Work counters\n",
       "  Solve time (sec)   : 0.00000e+00\n"
      ]
     },
     "execution_count": 54,
     "metadata": {},
     "output_type": "execute_result"
    }
   ],
   "source": [
    "solution_summary(ghosh_mcp; verbose = true)"
   ]
  },
  {
   "cell_type": "code",
   "execution_count": 70,
   "metadata": {},
   "outputs": [
    {
     "name": "stdout",
     "output_type": "stream",
     "text": [
      "termination_status(model) = MathOptInterface.OPTIMAL\n",
      "primal_status(model) = MathOptInterface.FEASIBLE_POINT\n",
      "dual_status(model) = MathOptInterface.FEASIBLE_POINT\n",
      "objective_value(model) = 174.0\n",
      "value.(var_con) = [88.0, 95.0, 76.0, 9.999999999999998, 10.0]\n",
      "value.(demand_con) = [40.0, 57.0, 57.0, 7.499999999999998, 7.499999999999998]\n",
      "value.(factor_con) = Float64[]\n"
     ]
    },
    {
     "data": {
      "text/plain": [
       "Float64[]"
      ]
     },
     "execution_count": 70,
     "metadata": {},
     "output_type": "execute_result"
    }
   ],
   "source": [
    "#####\n",
    "# DOSSO for Ghosh\n",
    "# I used the transposed system\n",
    "ghosh_primal = Model(GLPK.Optimizer)\n",
    "(@isdefined ghosh_primal) && (ghosh_primal = nothing; ghosh_primal = Model(GLPK.Optimizer));\n",
    "\n",
    "@variable(ghosh_primal, x_star[1:size(model_data.A,2)] >= 0, base_name = \"x*\")\n",
    "@objective(ghosh_primal, Min, sum((D_ghosh*π_ghosh)'*x_star))\n",
    "@constraint(ghosh_primal, mass_balance, (model_data.I_mod-B_ghosh)'*(x_star) .>= v_ghosh)\n",
    "optimize!(ghosh_primal)\n",
    "model_solution(ghosh_primal)\n",
    "show_primal_lhs(ghosh_primal)"
   ]
  },
  {
   "cell_type": "code",
   "execution_count": 71,
   "metadata": {},
   "outputs": [
    {
     "data": {
      "text/plain": [
       "5-element Vector{Float64}:\n",
       " 88.0\n",
       " 95.0\n",
       " 76.0\n",
       "  9.999999999999998\n",
       " 10.0"
      ]
     },
     "execution_count": 71,
     "metadata": {},
     "output_type": "execute_result"
    }
   ],
   "source": [
    "value.(x_star)"
   ]
  },
  {
   "cell_type": "code",
   "execution_count": 68,
   "metadata": {},
   "outputs": [
    {
     "data": {
      "text/plain": [
       "5×1 adjoint(::Matrix{Float64}) with eltype Float64:\n",
       " 40.0\n",
       " 57.0\n",
       " 57.0\n",
       "  7.499999999999998\n",
       "  7.499999999999998"
      ]
     },
     "execution_count": 68,
     "metadata": {},
     "output_type": "execute_result"
    }
   ],
   "source": [
    "##########\n",
    "#Ghosh\n",
    "\n",
    "B_ghosh = inv(Diagonal(vec(model_data.x)))*model_data.Z\n",
    "D_ghosh = inv(Diagonal(vec(model_data.x)))*(model_data.y .+1)\n",
    "π_ghosh = 1 #only scalar because single demand category\n",
    "v_ghosh = (model_data.pii'*model_data.G)' # transpose necessary to make column vector\n"
   ]
  },
  {
   "cell_type": "code",
   "execution_count": 69,
   "metadata": {},
   "outputs": [
    {
     "name": "stdout",
     "output_type": "stream",
     "text": [
      "termination_status(model) = MathOptInterface.OPTIMAL\n",
      "primal_status(model) = MathOptInterface.FEASIBLE_POINT\n",
      "dual_status(model) = MathOptInterface.FEASIBLE_POINT\n",
      "objective_value(model) = 174.0\n",
      "value.(var_con) = [1.0171521035598707, 1.0161812297734627, 1.0269242415639963, 1.1099029126213595, 1.1376842862279755]\n",
      "value.(factor_con) = [0.6590909090909091, 0.8421052631578947, 0.3684210526315789, 0.5, 0.30000000000000004]\n"
     ]
    },
    {
     "data": {
      "text/plain": [
       "5-element Vector{Float64}:\n",
       " 0.6590909090909091\n",
       " 0.8421052631578947\n",
       " 0.3684210526315789\n",
       " 0.5\n",
       " 0.30000000000000004"
      ]
     },
     "execution_count": 69,
     "metadata": {},
     "output_type": "execute_result"
    }
   ],
   "source": [
    "#####\n",
    "# DOSSO for Ghosh\n",
    "ghosh_dual = Model(GLPK.Optimizer)\n",
    "(@isdefined ghosh_dual) && (ghosh_dual = nothing; ghosh_dual = Model(GLPK.Optimizer));\n",
    "\n",
    "@variable(ghosh_dual, p_star[1:size(model_data.A,2)] >= 0, base_name = \"p*\")\n",
    "@objective(ghosh_dual, Max, sum(v_ghosh'*p_star))\n",
    "@constraint(ghosh_dual, mass_balance, (model_data.I_mod-B_ghosh)*(p_star) .<= D_ghosh*π_ghosh)\n",
    "optimize!(ghosh_dual)\n",
    "model_solution(ghosh_dual)\n",
    "show_primal_lhs(ghosh_dual)"
   ]
  },
  {
   "cell_type": "code",
   "execution_count": 74,
   "metadata": {},
   "outputs": [
    {
     "data": {
      "text/plain": [
       "5-element Vector{Float64}:\n",
       " 1.0171521035594615\n",
       " 1.0161812297731443\n",
       " 1.0269242415634634\n",
       " 1.1099029126210394\n",
       " 1.1376842862274097"
      ]
     },
     "execution_count": 74,
     "metadata": {},
     "output_type": "execute_result"
    }
   ],
   "source": [
    "value.(p_star)"
   ]
  },
  {
   "cell_type": "code",
   "execution_count": 78,
   "metadata": {},
   "outputs": [
    {
     "data": {
      "text/plain": [
       "5-element Vector{Float64}:\n",
       " 89.50938511329217\n",
       " 96.53721682849903\n",
       " 78.04624235888987\n",
       " 11.099029126219682\n",
       " 11.376842862288468"
      ]
     },
     "execution_count": 78,
     "metadata": {},
     "output_type": "execute_result"
    }
   ],
   "source": [
    "value.(x_star)"
   ]
  },
  {
   "cell_type": "code",
   "execution_count": 75,
   "metadata": {},
   "outputs": [
    {
     "data": {
      "text/plain": [
       "5×1 Matrix{Float64}:\n",
       " 89.50938511323261\n",
       " 96.5372168284487\n",
       " 78.04624235882322\n",
       " 11.099029126210393\n",
       " 11.376842862274097"
      ]
     },
     "execution_count": 75,
     "metadata": {},
     "output_type": "execute_result"
    }
   ],
   "source": [
    "value.(p_star).*model_data.x"
   ]
  },
  {
   "cell_type": "code",
   "execution_count": 80,
   "metadata": {},
   "outputs": [
    {
     "data": {
      "text/plain": [
       "5×1 Matrix{Float64}:\n",
       " 89.5093851132686\n",
       " 96.53721682847898\n",
       " 78.04624235886372\n",
       " 11.099029126213594\n",
       " 11.376842862279755"
      ]
     },
     "execution_count": 80,
     "metadata": {},
     "output_type": "execute_result"
    }
   ],
   "source": [
    "net_out = model_data.I_mod-model_data.A\n",
    "output = inv(net_out)*(model_data.y .+1)"
   ]
  },
  {
   "cell_type": "code",
   "execution_count": null,
   "metadata": {},
   "outputs": [],
   "source": []
  },
  {
   "cell_type": "code",
   "execution_count": null,
   "metadata": {},
   "outputs": [],
   "source": []
  },
  {
   "cell_type": "code",
   "execution_count": null,
   "metadata": {},
   "outputs": [],
   "source": []
  },
  {
   "cell_type": "code",
   "execution_count": null,
   "metadata": {},
   "outputs": [],
   "source": []
  },
  {
   "cell_type": "markdown",
   "metadata": {},
   "source": [
    "# DOSSO-Ghosh LCP"
   ]
  },
  {
   "cell_type": "code",
   "execution_count": null,
   "metadata": {},
   "outputs": [
    {
     "data": {
      "text/plain": [
       "5×1 adjoint(::Matrix{Float64}) with eltype Float64:\n",
       " 40.0\n",
       " 57.0\n",
       " 57.0\n",
       "  7.499999999999998\n",
       "  7.499999999999998"
      ]
     },
     "metadata": {},
     "output_type": "display_data"
    }
   ],
   "source": [
    "##########\n",
    "#Ghosh\n",
    "\n",
    "B_ghosh = inv(Diagonal(vec(model_data.x)))*model_data.Z\n",
    "D_ghosh = inv(Diagonal(vec(model_data.x)))*(model_data.y .+1)\n",
    "π_ghosh = 1 #only scalar because single demand category\n",
    "v_ghosh = (model_data.pii'*model_data.G)' # transpose necessary to make column vector\n"
   ]
  },
  {
   "cell_type": "code",
   "execution_count": null,
   "metadata": {},
   "outputs": [
    {
     "name": "stdout",
     "output_type": "stream",
     "text": [
      "Path 5.0.03 (Fri Jun 26 10:05:33 2020)\n",
      "Written by Todd Munson, Steven Dirkse, Youngdae Kim, and Michael Ferris\n",
      "\n",
      "\n",
      "Crash Log\n",
      "major  func  diff  size  residual    step       prox   (label)\n",
      "    0     0             1.4596e+02             0.0e+00 (f[    4])\n",
      "    1     1     6     3 1.1819e+02  1.0e+00    1.5e+00 (f[    4])\n",
      "    2     2     3     6 9.5511e+01  1.0e+00    1.2e+00 (f[    6])\n",
      "    3     3     0     6 8.2900e+01  1.0e+00    9.6e-01 (f[    3])\n",
      "pn_search terminated: no basis change.\n",
      "\n",
      "Major Iteration Log\n",
      "major minor  func  grad  residual    step  type prox    inorm  (label)\n",
      "    0     0     4     4 8.2900e+01           I 8.3e-01 4.1e+01 (f[    3])\n",
      "    1     1     5     5 5.5202e+01  1.0e+00 SO 3.3e-01 4.2e+01 (f[    3])\n",
      "    2     5     6     6 1.6822e+01  1.0e+00 SO 1.3e-01 7.4e+00 (f[    6])\n",
      "    3     1     7     7 2.7560e+00  1.0e+00 SO 5.3e-02 1.7e+00 (f[    3])\n",
      "    4     1     8     8 1.7326e-01  1.0e+00 SO 2.1e-02 7.9e-02 (f[    3])\n",
      "    5     1     9     9 4.3167e-03  1.0e+00 SO 8.5e-03 2.5e-03 (f[    3])\n",
      "    6     1    10    10 5.4745e-06  1.0e+00 SO 4.3e-04 2.6e-06 (f[    3])\n",
      "    7     1    11    11 8.7972e-12  1.0e+00 SO 5.5e-07 5.0e-12 (f[    3])\n",
      "\n",
      "Major Iterations. . . . 7\n",
      "Minor Iterations. . . . 11\n",
      "Restarts. . . . . . . . 0\n",
      "Crash Iterations. . . . 3\n",
      "Gradient Steps. . . . . 0\n",
      "Function Evaluations. . 11\n",
      "Gradient Evaluations. . 11\n",
      "Basis Time. . . . . . . 0.000000\n",
      "Total Time. . . . . . . 0.032000\n",
      "Residual. . . . . . . . 8.797156e-12\n"
     ]
    }
   ],
   "source": [
    "# IO-Ghosh - DOSSO - MCP\n",
    "# To set up our initial primal, we write:\n",
    "compl = Model(PATHSolver.Optimizer)\n",
    "\n",
    "act = size(model_data.A,1)\n",
    "com = size(model_data.A,2)\n",
    "\n",
    "# Define the optimisation model\n",
    "@variable(compl, x_star[1:act] >= 0)\n",
    "@variable(compl, p_star[1:com] >= 0)\n",
    "@variable(compl, pii_star[1:fac] >= 0)\n",
    "\n",
    "@constraint(compl, c1, vec(D_ghosh*π_ghosh - (model_data.I_mod - B_ghosh)*p_star) ⟂ x_star)\n",
    "@constraint(compl, c2, vec((x_star)'*(model_data.I_mod - B_ghosh) - v_ghosh) ⟂ p_star)\n",
    "\n",
    "# Solve\n",
    "optimize!(compl)"
   ]
  },
  {
   "cell_type": "code",
   "execution_count": null,
   "metadata": {},
   "outputs": [],
   "source": []
  },
  {
   "cell_type": "code",
   "execution_count": null,
   "metadata": {},
   "outputs": [],
   "source": []
  },
  {
   "cell_type": "code",
   "execution_count": null,
   "metadata": {},
   "outputs": [],
   "source": []
  },
  {
   "cell_type": "code",
   "execution_count": null,
   "metadata": {},
   "outputs": [],
   "source": []
  },
  {
   "cell_type": "code",
   "execution_count": null,
   "metadata": {},
   "outputs": [],
   "source": []
  },
  {
   "cell_type": "code",
   "execution_count": 6,
   "metadata": {},
   "outputs": [
    {
     "name": "stdout",
     "output_type": "stream",
     "text": [
      "Path 5.0.03 (Fri Jun 26 10:05:33 2020)\n",
      "Written by Todd Munson, Steven Dirkse, Youngdae Kim, and Michael Ferris\n",
      "\n",
      "Zero:     0 Single:     1 Double:     0\n",
      "Preprocessed size   : 11\n",
      "\n",
      "Crash Log\n",
      "major  func  diff  size  residual    step       prox   (label)\n",
      "    0     0             2.0970e+02             0.0e+00 (f[    5])\n",
      "    1    11     4     2 2.0969e+02  3.2e-04    2.1e+00 (f[    5])\n",
      "    2    12     2     4 4.2741e+00  1.0e+00    1.9e+00 (f[    2])\n",
      "pn_search terminated: no basis change.\n",
      "\n",
      "Major Iteration Log\n",
      "major minor  func  grad  residual    step  type prox    inorm  (label)\n",
      "    0     0    13     3 4.2741e+00           I 4.3e-02 3.0e+00 (f[    2])\n",
      "    1     8    14     4 5.4861e-04  1.0e+00 SO 1.7e-02 3.8e-04 (f[    5])\n",
      "    2     1    15     5 4.0619e-10  1.0e+00 SO 5.5e-05 3.0e-10 (f[    1])\n",
      "\n",
      "Major Iterations. . . . 2\n",
      "Minor Iterations. . . . 9\n",
      "Restarts. . . . . . . . 0\n",
      "Crash Iterations. . . . 2\n",
      "Gradient Steps. . . . . 0\n",
      "Function Evaluations. . 15\n",
      "Gradient Evaluations. . 5\n",
      "Basis Time. . . . . . . 0.000000\n",
      "Total Time. . . . . . . 0.141000\n",
      "Residual. . . . . . . . 4.061858e-10\n",
      "Postsolved residual: 4.3190e-10\n"
     ]
    }
   ],
   "source": [
    "# NST - MCP\n",
    "\n",
    "model_data = sut\n",
    "# To set up our initial primal, we write:\n",
    "compl = Model(PATHSolver.Optimizer)\n",
    "\n",
    "act = size(model_data.V,1)\n",
    "com = size(model_data.V,2)\n",
    "fac = size(model_data.F,1)\n",
    "\n",
    "# Define the optimisation model\n",
    "@variable(compl, z_star[1:act] >= 0)\n",
    "@variable(compl, p_star[1:com] >= 0)\n",
    "@variable(compl, pii_star[1:fac] >= 0)\n",
    "\n",
    "@constraint(compl, c1, vec(pii_star'*model_data.F - (p_star'*(model_data.V' - model_data.U))) ⟂ z_star)\n",
    "@constraint(compl, c2, vec((model_data.V' - model_data.U)*(z_star) - model_data.e) ⟂ p_star)\n",
    "@constraint(compl, c3, vec((model_data.ϕ - model_data.F*z_star)) ⟂ pii_star)\n",
    "\n",
    "# Solve\n",
    "optimize!(compl)"
   ]
  },
  {
   "cell_type": "code",
   "execution_count": 7,
   "metadata": {},
   "outputs": [
    {
     "data": {
      "text/plain": [
       "* Solver : Path 5.0.03\n",
       "\n",
       "* Status\n",
       "  Result count       : 1\n",
       "  Termination status : LOCALLY_SOLVED\n",
       "  Message from the solver:\n",
       "  \"The problem was solved\"\n",
       "\n",
       "* Candidate solution (result #1)\n",
       "  Primal status      : FEASIBLE_POINT\n",
       "  Dual status        : NO_SOLUTION\n",
       "  Objective value    : 0.00000e+00\n",
       "  Primal solution :\n",
       "    p_star[1] : 4.14990e-03\n",
       "    p_star[2] : 3.84194e-03\n",
       "    p_star[3] : 2.69926e-03\n",
       "    p_star[4] : 2.29207e-04\n",
       "    p_star[5] : 0.00000e+00\n",
       "    pii_star[1] : 1.04564e-02\n",
       "    pii_star[2] : 3.70188e-03\n",
       "    pii_star[3] : 4.43726e-04\n",
       "    pii_star[4] : 6.43020e-03\n",
       "    z_star[1] : 1.00000e+00\n",
       "    z_star[2] : 1.00000e+00\n",
       "    z_star[3] : 1.00000e+00\n",
       "\n",
       "* Work counters\n",
       "  Solve time (sec)   : 1.41000e-01\n"
      ]
     },
     "execution_count": 7,
     "metadata": {},
     "output_type": "execute_result"
    }
   ],
   "source": [
    "solution_summary(compl; verbose = true)"
   ]
  },
  {
   "cell_type": "code",
   "execution_count": 8,
   "metadata": {},
   "outputs": [
    {
     "name": "stdout",
     "output_type": "stream",
     "text": [
      "termination_status(primal) = MathOptInterface.OPTIMAL\n",
      "primal_status(primal) = MathOptInterface.FEASIBLE_POINT\n",
      "dual_status(primal) = MathOptInterface.FEASIBLE_POINT\n",
      "objective_value(primal) = 1.0000000000000002\n",
      "value.(z_star) = [1.0000000000000002, 1.0000000000000002, 1.0000000000000002]\n",
      "value.(c_star) = 1.0000000000000002\n",
      "value.(c1) = [0.0; 0.0; 0.0; 0.0; 0.0;;]\n",
      "value.(c2) = [34.16666666666667; 16.111111111111114; 2.2222222222222223; 30.47619047619048;;]\n",
      "shadow_price.(c1) = [0.0068596694505640736; 0.007379859510174129; 0.000962590370892278; -0.0; -0.0;;]\n",
      "shadow_price.(c2) = [0.02926829268292683; 0.0; 0.0; 0.0;;]\n"
     ]
    },
    {
     "data": {
      "text/plain": [
       "4×1 Matrix{Float64}:\n",
       " 0.02926829268292683\n",
       " 0.0\n",
       " 0.0\n",
       " 0.0"
      ]
     },
     "execution_count": 8,
     "metadata": {},
     "output_type": "execute_result"
    }
   ],
   "source": [
    "# SU-NEO - LP\n",
    "# Instantiate the model\n",
    "primal = Model(GLPK.Optimizer)\n",
    "(@isdefined primal) && (primal = nothing; primal = Model(GLPK.Optimizer));\n",
    "# Define the optimisation model\n",
    "@variable(primal, z_star[1:size(V,1)] >= 0, base_name = \"z*\")\n",
    "@variable(primal, c_star >= 0, base_name = \"c*\")\n",
    "@objective(primal, Max, c_star)\n",
    "@constraint(primal, c1, (model_data.V'-model_data.U)*(z_star) .>= c_star*model_data.e)\n",
    "@constraint(primal, c2, model_data.F*z_star .<= model_data.ϕ);\n",
    "# Run the model and show results\n",
    "optimize!(primal)\n",
    "@show termination_status(primal)\n",
    "@show primal_status(primal)\n",
    "@show dual_status(primal)\n",
    "@show objective_value(primal)\n",
    "@show value.(z_star)\n",
    "@show value.(c_star)\n",
    "@show value.(c1)\n",
    "@show value.(c2)\n",
    "@show shadow_price.(c1)\n",
    "@show shadow_price.(c2)"
   ]
  },
  {
   "cell_type": "code",
   "execution_count": 9,
   "metadata": {},
   "outputs": [
    {
     "name": "stdout",
     "output_type": "stream",
     "text": [
      "termination_status(model) = MathOptInterface.OPTIMAL\n",
      "primal_status(model) = MathOptInterface.FEASIBLE_POINT\n",
      "dual_status(model) = MathOptInterface.FEASIBLE_POINT\n",
      "objective_value(model) = 169.0\n",
      "value.(p) = [1.1592841371453286, 1.2471962572194275, 0.16267777268079495, 0.0, 0.0]\n",
      "value.(pii) = [4.946341463414633, 0.0, 0.0, 0.0]\n",
      "shadow_price.(c1d) = [-1.0, -1.0, -1.0000000000000002]\n",
      "shadow_price.(c2d) = [-1.0;;]\n"
     ]
    }
   ],
   "source": [
    "#SU-NEO - LP\n",
    "# Instantiate the model\n",
    "dual = Model(GLPK.Optimizer)\n",
    "(@isdefined dual) && (dual = nothing; dual = Model(GLPK.Optimizer));\n",
    "\n",
    "# Set up the model\n",
    "dual = Model(GLPK.Optimizer)\n",
    "\n",
    "# Define the optimisation model\n",
    "@variable(dual, p[1:size(sut.V,2)] >= 0)\n",
    "@variable(dual, pii[1:size(sut.F,1)] >= 0)\n",
    "@objective(dual, Min, sum(pii'*model_data.ϕ))\n",
    "@constraint(dual, c1d, (model_data.V'-model_data.U)'*(p) .<= model_data.F'*pii)\n",
    "@constraint(dual, c2d, (p'*model_data.e) .== sum(model_data.e))# or .==1?\n",
    "\n",
    "# Run the model and show results\n",
    "optimize!(dual)\n",
    "model_solution(dual)\n",
    "@show value.(p)\n",
    "@show value.(pii)\n",
    "@show shadow_price.(c1d)\n",
    "@show shadow_price.(c2d);"
   ]
  },
  {
   "cell_type": "code",
   "execution_count": null,
   "metadata": {},
   "outputs": [],
   "source": []
  }
 ],
 "metadata": {
  "kernelspec": {
   "display_name": "RectangularChoiceDev 1.9.0",
   "language": "julia",
   "name": "rectangularchoicedev-1.9"
  },
  "language_info": {
   "file_extension": ".jl",
   "mimetype": "application/julia",
   "name": "julia",
   "version": "1.9.0"
  },
  "orig_nbformat": 4
 },
 "nbformat": 4,
 "nbformat_minor": 2
}
