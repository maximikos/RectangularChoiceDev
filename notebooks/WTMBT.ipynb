{
 "cells": [
  {
   "cell_type": "markdown",
   "metadata": {},
   "source": [
    "Data from [https://sci-hub.se/https://onlinelibrary.wiley.com/doi/10.1111/jiec.12302] and [https://onlinelibrary.wiley.com/action/downloadSupplement?doi=10.1111%2Fjiec.12302&file=jiec12302-sup-0001-SupMat.pdf].\n",
    "More details also here: https://link.springer.com/article/10.1186/s40008-015-0016-5"
   ]
  },
  {
   "cell_type": "code",
   "execution_count": 78,
   "metadata": {},
   "outputs": [],
   "source": [
    "using LinearAlgebra\n",
    "using JuMP\n",
    "using GLPK\n",
    "using XLSX\n",
    "using DataFrames\n",
    "using Revise"
   ]
  },
  {
   "cell_type": "code",
   "execution_count": 79,
   "metadata": {},
   "outputs": [],
   "source": [
    "# Load the workbook\n",
    "xf = XLSX.readxlsx(\"../data/WTMBT-IO.xlsx\");"
   ]
  },
  {
   "cell_type": "code",
   "execution_count": 80,
   "metadata": {},
   "outputs": [],
   "source": [
    "dict = Dict()\n",
    "for i in XLSX.sheetnames(xf)\n",
    "    if i == \"PARAMS\"\n",
    "        dict[i] = DataFrame(XLSX.gettable(xf[i], header=true))\n",
    "    else\n",
    "        dict[i] = DataFrame(XLSX.gettable(xf[i], header=false))\n",
    "        dict[i] = Matrix{Float64}(dict[i])\n",
    "    end\n",
    "end"
   ]
  },
  {
   "cell_type": "code",
   "execution_count": 81,
   "metadata": {},
   "outputs": [],
   "source": [
    "REGIONS = dict[\"PARAMS\"][1,\"Value\"]\n",
    "SECTORS = dict[\"PARAMS\"][2,\"Value\"]\n",
    "FACTORS = dict[\"PARAMS\"][3,\"Value\"]\n",
    "DEMANDS = dict[\"PARAMS\"][4,\"Value\"]\n",
    "VARIABLES = sort(filter(!=(\"PARAMS\"), XLSX.sheetnames(xf)));"
   ]
  },
  {
   "cell_type": "code",
   "execution_count": 82,
   "metadata": {},
   "outputs": [],
   "source": [
    "dict_reg = Dict()\n",
    "idx_sec = 1\n",
    "idx_fac = 1\n",
    "idx_sec2 = 1\n",
    "\n",
    "for reg in 1:REGIONS\n",
    "    for var in VARIABLES\n",
    "        if var == \"A\"\n",
    "            dict_reg[var * string(reg)] = \n",
    "            dict[var][idx_sec:(reg*SECTORS),idx_sec:(reg*SECTORS)]\n",
    "        elseif var == \"R\"\n",
    "            dict_reg[var * string(reg)] = \n",
    "            dict[var][idx_fac:(reg*FACTORS),idx_sec:(reg*SECTORS)]\n",
    "        elseif var == \"T\"\n",
    "            for reg2 in 1:REGIONS\n",
    "                if reg != reg2\n",
    "                    dict_reg[var * string(reg) * string(reg2)] = \n",
    "                    dict[var][idx_sec:(reg*SECTORS),idx_sec2:(reg2*SECTORS)]\n",
    "                end\n",
    "                idx_sec2 += SECTORS\n",
    "            end\n",
    "            idx_sec2 = 1\n",
    "        elseif var == \"Y\"\n",
    "            dict_reg[var * string(reg)] =\n",
    "            dict[var][idx_sec:(reg*SECTORS),1:DEMANDS]\n",
    "            dict_reg[lowercase(var) * string(reg)] =\n",
    "            vec(sum(dict_reg[var * string(reg)], dims=2))\n",
    "        elseif var in [\"pii\", \"phi\"]\n",
    "            dict_reg[var * string(reg)] =\n",
    "            dict[var][idx_fac:(reg*FACTORS)]\n",
    "        end\n",
    "    end\n",
    "    idx_sec += SECTORS\n",
    "    idx_fac += FACTORS\n",
    "end\n"
   ]
  },
  {
   "cell_type": "code",
   "execution_count": 83,
   "metadata": {},
   "outputs": [
    {
     "name": "stdout",
     "output_type": "stream",
     "text": [
      "termination_status(primal) = MathOptInterface.OPTIMAL\n",
      "primal_status(primal) = MathOptInterface.FEASIBLE_POINT\n",
      "dual_status(primal) = MathOptInterface.FEASIBLE_POINT\n",
      "objective_value(primal) = 1438.628044466307\n",
      "value.(x) = [0.0 164.51661015159834 0.0 13.533492502987041; 78.95166101515983 0.0 0.0 0.0; 0.0 0.0 98.85480157895263 0.0]\n",
      "value.(e) = [0.0 23.16132881212787 0.0; 0.0 0.0 0.0; 0.0 10.0 0.0;;; 0.0 0.0 0.0; 17.895166101515986 0.0 0.0; 41.656440473685784 0.0 0.0;;; 0.0 0.0 66.12172929697303; 0.0 0.0 20.79033220303197; 0.0 0.0 0.0;;; 0.0 0.0 0.0; 8.710702894264362 0.0 0.0; 0.0 6.922636453657968 0.0]\n"
     ]
    }
   ],
   "source": [
    "# Instantiate the model\n",
    "primal = Model(GLPK.Optimizer)\n",
    "(@isdefined primal) && (primal = nothing; primal = Model(GLPK.Optimizer));\n",
    "\n",
    "# Define the optimisation model\n",
    "@variable(primal, x[i=1:REGIONS, j=1:SECTORS] >= 0)\n",
    "@variable(primal, e[i=1:REGIONS, k=1:REGIONS, j=1:SECTORS] >= 0)\n",
    "\n",
    "@objective(primal, Min, sum(dict_reg[\"pii\"*string(i)]'*dict_reg[\"R\"*string(i)]*x[i,:] for i=1:REGIONS))\n",
    "\n",
    "for i=1:REGIONS\n",
    "    primal[Symbol(\"con\"*string(i))] = @constraints(primal, begin\n",
    "        # Goods balance\n",
    "        x[i,:] - dict_reg[\"A\"*string(i)]*x[i,:] + \n",
    "        sum(e[i,k,:] for k=1:REGIONS) - sum(e[k,i,:] for k=1:REGIONS) - \n",
    "        sum(dict_reg[\"T\"*string(k,i)]*e[k,i,:] for k=(1:REGIONS)[Not(i)]) .>= dict_reg[\"y\"*string(i)],\n",
    "        (base_name = \"goods\"*string(i))\n",
    "\n",
    "        # Factor constraint,\n",
    "        dict_reg[\"R\"*string(i)]*x[i,:] .<= dict_reg[\"phi\"*string(i)],\n",
    "        (base_name = \"factors\"*string(i))\n",
    "    end)\n",
    "end\n",
    "\n",
    "# Run the model and show results\n",
    "optimize!(primal)\n",
    "@show termination_status(primal)\n",
    "@show primal_status(primal)\n",
    "@show dual_status(primal)\n",
    "@show objective_value(primal)\n",
    "@show value.(x)\n",
    "@show value.(e);"
   ]
  },
  {
   "cell_type": "code",
   "execution_count": null,
   "metadata": {},
   "outputs": [],
   "source": [
    "typeof(dict_reg[\"y1\"]'*p[1,:])"
   ]
  },
  {
   "cell_type": "code",
   "execution_count": null,
   "metadata": {},
   "outputs": [],
   "source": [
    "typeof(dict_reg[\"phi1\"]'*r[1,:])"
   ]
  },
  {
   "cell_type": "code",
   "execution_count": 84,
   "metadata": {},
   "outputs": [
    {
     "name": "stdout",
     "output_type": "stream",
     "text": [
      "termination_status(dual) = MathOptInterface.OPTIMAL\n",
      "primal_status(dual) = MathOptInterface.FEASIBLE_POINT\n",
      "dual_status(dual) = MathOptInterface.FEASIBLE_POINT\n",
      "objective_value(dual) = 1438.6280444663073\n",
      "value.(p) = [18.16547219841851 9.05327227986224 6.911327880192132 5.666318396068514; 17.882156278615085 9.393251383626351 6.831999422647172 5.666318396068514; 18.2391343375674 9.563240935508407 6.4410234533184445 5.666318396068514]\n",
      "value.(r) = [0.0 0.0 0.0; 0.0 0.0 0.0; 0.0 0.0 0.0]\n"
     ]
    }
   ],
   "source": [
    "# Instantiate the model\n",
    "dual = Model(GLPK.Optimizer)\n",
    "(@isdefined dual) && (dual = nothing; dual = Model(GLPK.Optimizer));\n",
    "\n",
    "# Define the optimisation model\n",
    "@variable(dual, p[i=1:REGIONS, j=1:SECTORS] >= 0)\n",
    "@variable(dual, r[i=1:REGIONS, k=1:FACTORS] >= 0)\n",
    "\n",
    "@objective(dual, Max, sum(vec(dict_reg[\"y\"*string(i)])'*p[i,:]-\n",
    "dict_reg[\"phi\"*string(i)]'*r[i,:] for i=1:REGIONS))\n",
    "\n",
    "for i in 1:REGIONS\n",
    "    dual[Symbol(\"con\"*string(i))] = @constraints(dual, begin\n",
    "        # Zero profit\n",
    "        (I - dict_reg[\"A\"*string(i)]')*p[i,:] .<= \n",
    "        dict_reg[\"R\"*string(i)]'*(dict_reg[\"pii\"*string(i)]+r[i,:]),\n",
    "        (base_name = \"zero_profit\"*string(i))\n",
    "\n",
    "        # Import price formation,\n",
    "        #for j in 1:REGIONS\n",
    "        #    if i != j\n",
    "        #        p[i,:] - p[j,:] .<= dict_reg[\"T\"*string(j)*string(i)]'*p[i,:],\n",
    "        #        (base_name = \"import_price\"*string(i)*string(j))\n",
    "        #    end\n",
    "        #end\n",
    "        [j=(1:REGIONS)[Not(i)]], p[i,:] - p[j,:] .<= dict_reg[\"T\"*string(j)*string(i)]'*p[i,:], (base_name = \"import_price\"*string(i)*string(j))\n",
    "    end)\n",
    "end\n",
    "\n",
    "# Run the model and show results\n",
    "optimize!(dual)\n",
    "@show termination_status(dual)\n",
    "@show primal_status(dual)\n",
    "@show dual_status(dual)\n",
    "@show objective_value(dual)\n",
    "@show value.(p)\n",
    "@show value.(r);"
   ]
  },
  {
   "cell_type": "code",
   "execution_count": null,
   "metadata": {},
   "outputs": [],
   "source": [
    "primal[:con2][2]"
   ]
  },
  {
   "cell_type": "code",
   "execution_count": null,
   "metadata": {},
   "outputs": [],
   "source": [
    "all_constraints(primal, VariableRef, MOI.GreaterThan{Float64})"
   ]
  },
  {
   "cell_type": "code",
   "execution_count": null,
   "metadata": {},
   "outputs": [],
   "source": [
    "all_constraints(primal; include_variable_in_set_constraints = false)"
   ]
  },
  {
   "cell_type": "code",
   "execution_count": null,
   "metadata": {},
   "outputs": [],
   "source": [
    "solution_summary(primal; verbose = true)"
   ]
  },
  {
   "cell_type": "code",
   "execution_count": null,
   "metadata": {},
   "outputs": [],
   "source": [
    "value.(e)"
   ]
  },
  {
   "cell_type": "code",
   "execution_count": null,
   "metadata": {},
   "outputs": [],
   "source": [
    "value.(e)[3,1,:]"
   ]
  },
  {
   "cell_type": "markdown",
   "metadata": {},
   "source": [
    "# Set up MRIOT"
   ]
  },
  {
   "cell_type": "code",
   "execution_count": 85,
   "metadata": {},
   "outputs": [],
   "source": [
    "dict_mrio = deepcopy(dict_reg);"
   ]
  },
  {
   "cell_type": "code",
   "execution_count": 86,
   "metadata": {},
   "outputs": [],
   "source": [
    "for i in 1:REGIONS\n",
    "    dict_mrio[\"x\"*string(i)] = value.(x)[i,:]\n",
    "    dict_mrio[\"p\"*string(i)] = value.(p)[i,:]\n",
    "    dict_mrio[\"r\"*string(i)] = value.(r)[i,:]\n",
    "    for j in (1:REGIONS)[Not(i)]\n",
    "        dict_mrio[\"e\"*string(i)*string(j)] = value.(e)[i,j,:]\n",
    "    end\n",
    "end"
   ]
  },
  {
   "cell_type": "markdown",
   "metadata": {},
   "source": [
    "## (I think something's still wrong with the S-matrices. The Big matrices calculated later seem a little off...)"
   ]
  },
  {
   "cell_type": "code",
   "execution_count": 87,
   "metadata": {},
   "outputs": [],
   "source": [
    "for j in 1:REGIONS\n",
    "    for i in 1:REGIONS\n",
    "        if i == j\n",
    "            foo = value.(x)[j,:] + vec(sum(value.(e)[:,j,:], dims = 1))\n",
    "            bar = value.(x)[j,:] / foo\n",
    "            replace!(bar, Inf=>0)\n",
    "\n",
    "            dict_mrio[\"S\"*string(i)*string(j)] = Diagonal(bar)\n",
    "        else\n",
    "            foo = value.(x)[j,:] + vec(sum(value.(e)[:,j,:], dims = 1))\n",
    "            bar = value.(e)[i,j,:] / foo\n",
    "            replace!(bar, Inf=>0)\n",
    "            \n",
    "            dict_mrio[\"S\"*string(i)*string(j)] = Diagonal(bar)\n",
    "        end\n",
    "    end\n",
    "end"
   ]
  },
  {
   "cell_type": "code",
   "execution_count": null,
   "metadata": {},
   "outputs": [],
   "source": [
    "dict_mrio[\"S22\"]"
   ]
  },
  {
   "cell_type": "code",
   "execution_count": 88,
   "metadata": {},
   "outputs": [],
   "source": [
    "for j in 1: REGIONS\n",
    "    dict_mrio[\"T_S\"*string(j)] =\n",
    "        sum(\n",
    "        dict_mrio[\"T\"*string(i)*string(j)]*\n",
    "        dict_mrio[\"S\"*string(i)*string(j)] \n",
    "        for i=(1:REGIONS)[Not(j)]\n",
    "        )\n",
    "end"
   ]
  },
  {
   "cell_type": "code",
   "execution_count": null,
   "metadata": {},
   "outputs": [],
   "source": [
    "dict_mrio[\"T_S1\"]"
   ]
  },
  {
   "cell_type": "code",
   "execution_count": 95,
   "metadata": {},
   "outputs": [],
   "source": [
    "dict_mrio[\"T_S\"] = zeros(REGIONS*SECTORS, REGIONS*SECTORS)\n",
    "dict_mrio[\"S_B\"] = zeros(REGIONS*SECTORS, REGIONS*SECTORS)\n",
    "dict_mrio[\"A\"] = zeros(REGIONS*SECTORS, REGIONS*SECTORS)\n",
    "dict_mrio[\"R\"] = zeros(REGIONS*FACTORS, REGIONS*SECTORS)\n",
    "dict_mrio[\"y\"] = zeros(REGIONS*SECTORS, DEMANDS)\n",
    "dict_mrio[\"p\"] = zeros(REGIONS*SECTORS, 1)\n",
    "dict_mrio[\"pii\"] = zeros(REGIONS*FACTORS, 1)\n",
    "dict_mrio[\"r\"] = zeros(REGIONS*FACTORS, 1);"
   ]
  },
  {
   "cell_type": "code",
   "execution_count": 96,
   "metadata": {},
   "outputs": [],
   "source": [
    "idx_sec = 1\n",
    "idx_fac = 1\n",
    "\n",
    "for i in 1:REGIONS\n",
    "    idx_reg = 1\n",
    "    \n",
    "    dict_mrio[\"T_S\"][idx_sec:i*SECTORS,idx_sec:i*SECTORS] = \n",
    "        dict_mrio[\"T_S\"*string(i)]\n",
    "    dict_mrio[\"A\"][idx_sec:i*SECTORS,idx_sec:i*SECTORS] = \n",
    "        dict_mrio[\"A\"*string(i)]\n",
    "    dict_mrio[\"R\"][idx_fac:i*FACTORS,idx_sec:i*SECTORS] = \n",
    "        dict_mrio[\"R\"*string(i)]\n",
    "    dict_mrio[\"y\"][idx_sec:i*SECTORS,:] = \n",
    "        dict_mrio[\"y\"*string(i)]\n",
    "    dict_mrio[\"p\"][idx_sec:i*SECTORS,:] = \n",
    "        dict_mrio[\"p\"*string(i)]\n",
    "    dict_mrio[\"pii\"][idx_fac:i*FACTORS,:] = \n",
    "        dict_mrio[\"pii\"*string(i)]\n",
    "    dict_mrio[\"r\"][idx_fac:i*FACTORS,:] = \n",
    "        dict_mrio[\"r\"*string(i)]\n",
    "    for j in 1:REGIONS\n",
    "        dict_mrio[\"S_B\"][idx_sec:i*SECTORS,idx_reg:j*SECTORS] = \n",
    "            Matrix(dict_mrio[\"S\"*string(i)*string(j)])\n",
    "        idx_reg += SECTORS\n",
    "    end\n",
    "    idx_sec += SECTORS\n",
    "    idx_fac += FACTORS\n",
    "end"
   ]
  },
  {
   "cell_type": "code",
   "execution_count": 91,
   "metadata": {},
   "outputs": [
    {
     "data": {
      "text/plain": [
       "12×12 Matrix{Float64}:\n",
       " 0.0         0.0         0.0         …  0.0        0.0         0.0\n",
       " 0.181765    0.36353     0.254471       0.0        0.0         0.0\n",
       " 0.0         0.0         0.0            0.106782   0.017797    0.17797\n",
       " 3.16378e-5  6.32755e-5  4.42929e-5     0.0        0.0         0.0\n",
       " 0.0         0.0         0.0            0.0        0.0         0.0\n",
       " 0.0197713   0.0395427   0.0276799   …  0.0        0.0         0.0\n",
       " 0.0         0.0         0.0            0.0335749  0.00559581  0.0559581\n",
       " 2.03633e-5  4.07267e-5  2.85087e-5     0.0        0.0         0.0\n",
       " 0.0         0.0         0.0            0.0        0.0         0.0\n",
       " 0.0460238   0.0920477   0.0644334      0.0        0.0         0.0\n",
       " 0.0         0.0         0.0         …  0.159643   0.0266072   0.266072\n",
       " 0.0         0.0         0.0            0.0        0.0         0.0"
      ]
     },
     "execution_count": 91,
     "metadata": {},
     "output_type": "execute_result"
    }
   ],
   "source": [
    "dict_mrio[\"A_B\"] = dict_mrio[\"S_B\"]*(I + dict_mrio[\"T_S\"])*dict_mrio[\"A\"]"
   ]
  },
  {
   "cell_type": "code",
   "execution_count": 92,
   "metadata": {},
   "outputs": [
    {
     "data": {
      "text/plain": [
       "12×12 Matrix{Float64}:\n",
       " 0.0   0.0         0.0  0.0   6.17413    …  0.0  0.0  0.0  0.0  0.0       0.0\n",
       " 0.0  14.5412      0.0  0.0   0.0           0.0  0.0  0.0  0.0  0.0       0.0\n",
       " 0.0   0.0         0.0  0.0   0.0           0.0  0.0  0.0  0.0  2.49158   0.0\n",
       " 0.0   0.00253102  0.0  0.0   0.0           0.0  0.0  0.0  0.0  0.0       0.0\n",
       " 0.0   0.0         0.0  0.0  21.0462        0.0  0.0  0.0  0.0  0.0       0.0\n",
       " 0.0   1.58171     0.0  0.0   0.0        …  0.0  0.0  0.0  0.0  0.0       0.0\n",
       " 0.0   0.0         0.0  0.0   0.0           0.0  0.0  0.0  0.0  0.783414  0.0\n",
       " 0.0   0.00162907  0.0  0.0   0.0           0.0  0.0  0.0  0.0  0.0       0.0\n",
       " 0.0   0.0         0.0  0.0   2.66571       0.0  0.0  0.0  0.0  0.0       0.0\n",
       " 0.0   3.68191     0.0  0.0   0.0           0.0  0.0  0.0  0.0  0.0       0.0\n",
       " 0.0   0.0         0.0  0.0   0.0        …  0.0  0.0  0.0  0.0  3.72501   0.0\n",
       " 0.0   0.0         0.0  0.0   0.0018104     0.0  0.0  0.0  0.0  0.0       0.0"
      ]
     },
     "execution_count": 92,
     "metadata": {},
     "output_type": "execute_result"
    }
   ],
   "source": [
    "dict_mrio[\"y_B\"] = dict_mrio[\"S_B\"]*(I + dict_mrio[\"T_S\"])*Diagonal(vec(dict_mrio[\"y\"]))"
   ]
  },
  {
   "cell_type": "code",
   "execution_count": 106,
   "metadata": {},
   "outputs": [
    {
     "data": {
      "text/plain": [
       "9×12 Matrix{Float64}:\n",
       " 0.0  0.132454    0.0  0.000670455  0.0523701   …  0.0  0.0  0.080599     0.0\n",
       " 0.0  0.0141514   0.0  2.68497e-5   0.00466391     0.0  0.0  0.227362     0.0\n",
       " 0.0  0.00332549  0.0  6.30953e-6   0.133985       0.0  0.0  0.000598221  0.0\n",
       " 0.0  0.0746242   0.0  0.00351383   0.185214       0.0  0.0  0.0223494    0.0\n",
       " 0.0  0.0134835   0.0  2.55825e-5   0.00444379     0.0  0.0  0.216631     0.0\n",
       " 0.0  0.00906866  0.0  1.72062e-5   0.365378    …  0.0  0.0  0.00163136   0.0\n",
       " 0.0  0.326135    0.0  0.000618785  0.0692289      0.0  0.0  0.0798875    0.0\n",
       " 0.0  0.0160279   0.0  3.04102e-5   0.00528238     0.0  0.0  0.257512     0.0\n",
       " 0.0  0.00143579  0.0  2.72416e-6   0.0578484      0.0  0.0  0.000258285  0.0"
      ]
     },
     "execution_count": 106,
     "metadata": {},
     "output_type": "execute_result"
    }
   ],
   "source": [
    "dict_mrio[\"Phi\"] = Diagonal(vec(dict_mrio[\"pii\"]+dict_mrio[\"r\"]))*dict_mrio[\"R\"]*inv(I - dict_mrio[\"A_B\"])*dict_mrio[\"S_B\"]*(I + dict_mrio[\"T_S\"])*inv(Diagonal(vec(dict_mrio[\"p\"])))"
   ]
  },
  {
   "cell_type": "code",
   "execution_count": 112,
   "metadata": {},
   "outputs": [
    {
     "data": {
      "text/plain": [
       "12×12 Matrix{Float64}:\n",
       " 0.0  0.0        0.0  0.0         …  0.0         0.0  0.0  0.0       0.0\n",
       " 0.0  0.72706    0.0  0.0            0.0         0.0  0.0  0.0       0.0\n",
       " 0.0  0.0        0.0  0.0            0.0         0.0  0.0  0.355939  0.0\n",
       " 0.0  0.0        0.0  0.00593754     0.0         0.0  0.0  0.0       0.0\n",
       " 0.0  0.0        0.0  0.0            0.0         0.0  0.0  0.0       0.0\n",
       " 0.0  0.0790854  0.0  0.0         …  0.0         0.0  0.0  0.0       0.0\n",
       " 0.0  0.0        0.0  0.0            0.0         0.0  0.0  0.111916  0.0\n",
       " 0.0  0.0        0.0  0.00382164     0.0         0.0  0.0  0.0       0.0\n",
       " 0.0  0.0        0.0  0.0            0.0         0.0  0.0  0.0       0.0\n",
       " 0.0  0.184095   0.0  0.0            0.0         0.0  0.0  0.0       0.0\n",
       " 0.0  0.0        0.0  0.0         …  0.0         0.0  0.0  0.532144  0.0\n",
       " 0.0  0.0        0.0  0.0            0.00379821  0.0  0.0  0.0       0.0"
      ]
     },
     "execution_count": 112,
     "metadata": {},
     "output_type": "execute_result"
    }
   ],
   "source": [
    "dict_mrio[\"S_B\"]"
   ]
  },
  {
   "cell_type": "code",
   "execution_count": 102,
   "metadata": {},
   "outputs": [
    {
     "data": {
      "text/plain": [
       "9×9 Diagonal{Float64, Vector{Float64}}:\n",
       " 2.0   ⋅    ⋅    ⋅    ⋅    ⋅    ⋅    ⋅    ⋅ \n",
       "  ⋅   2.2   ⋅    ⋅    ⋅    ⋅    ⋅    ⋅    ⋅ \n",
       "  ⋅    ⋅   5.0   ⋅    ⋅    ⋅    ⋅    ⋅    ⋅ \n",
       "  ⋅    ⋅    ⋅   0.5   ⋅    ⋅    ⋅    ⋅    ⋅ \n",
       "  ⋅    ⋅    ⋅    ⋅   5.0   ⋅    ⋅    ⋅    ⋅ \n",
       "  ⋅    ⋅    ⋅    ⋅    ⋅   2.0   ⋅    ⋅    ⋅ \n",
       "  ⋅    ⋅    ⋅    ⋅    ⋅    ⋅   1.0   ⋅    ⋅ \n",
       "  ⋅    ⋅    ⋅    ⋅    ⋅    ⋅    ⋅   2.0   ⋅ \n",
       "  ⋅    ⋅    ⋅    ⋅    ⋅    ⋅    ⋅    ⋅   2.0"
      ]
     },
     "execution_count": 102,
     "metadata": {},
     "output_type": "execute_result"
    }
   ],
   "source": [
    "Diagonal(vec(dict_mrio[\"pii\"]+dict_mrio[\"r\"]))"
   ]
  },
  {
   "cell_type": "markdown",
   "metadata": {},
   "source": [
    "# Scenarios\n",
    "Change RHS of goods balance (iteratively?)"
   ]
  },
  {
   "cell_type": "code",
   "execution_count": null,
   "metadata": {},
   "outputs": [],
   "source": []
  },
  {
   "cell_type": "code",
   "execution_count": null,
   "metadata": {},
   "outputs": [],
   "source": []
  },
  {
   "cell_type": "code",
   "execution_count": null,
   "metadata": {},
   "outputs": [],
   "source": []
  },
  {
   "cell_type": "code",
   "execution_count": null,
   "metadata": {},
   "outputs": [],
   "source": []
  },
  {
   "cell_type": "code",
   "execution_count": null,
   "metadata": {},
   "outputs": [],
   "source": []
  },
  {
   "cell_type": "code",
   "execution_count": null,
   "metadata": {},
   "outputs": [],
   "source": []
  },
  {
   "cell_type": "code",
   "execution_count": null,
   "metadata": {},
   "outputs": [],
   "source": [
    "# Get data from all worksheets and convert it to float64 data type\n",
    "A = convert(Matrix{Float64}, xf[\"A!A1:L12\"])\n",
    "R = convert(Matrix{Float64}, xf[\"R!A1:L9\"])\n",
    "T = convert(Matrix{Float64}, xf[\"T!A1:L12\"])\n",
    "y = convert(Matrix{Float64}, xf[\"y!A1:A12\"])\n",
    "pii = convert(Matrix{Float64}, xf[\"pii!A1:A9\"])\n",
    "phi = convert(Matrix{Float64}, xf[\"phi!A1:A9\"]);"
   ]
  },
  {
   "cell_type": "code",
   "execution_count": null,
   "metadata": {},
   "outputs": [],
   "source": [
    "dict_reg = Dict()\n",
    "dict_reg[\"A_1\"] = dict[\"A\"][1:4,1:4]\n",
    "dict_reg[\"A_2\"] = dict[\"A\"][5:8,5:8]\n",
    "dict_reg[\"A_3\"] = dict[\"A\"][9:12,9:12]\n",
    "dict_reg[\"R_1\"] = dict[\"R\"][1:3,1:3]\n",
    "dict_reg[\"R_2\"] = dict[\"R\"][4:6,4:6]\n",
    "dict_reg[\"R_3\"] = dict[\"R\"][7:9,7:9]\n",
    "dict_reg[\"T_12\"] = dict[\"T\"][1:4,5:8]\n",
    "dict_reg[\"T_13\"] = dict[\"T\"][1:4,9:12]\n",
    "dict_reg[\"T_23\"] = dict[\"T\"][5:8,9:12]\n",
    "dict_reg[\"T_21\"] = deepcopy(dict_reg[\"T_12\"])\n",
    "dict_reg[\"T_31\"] = deepcopy(dict_reg[\"T_13\"])\n",
    "dict_reg[\"T_32\"] = deepcopy(dict_reg[\"T_23\"])\n",
    "dict_reg[\"y_1\"] = dict[\"y\"][1:4]\n",
    "dict_reg[\"y_2\"] = dict[\"y\"][5:8]\n",
    "dict_reg[\"y_3\"] = dict[\"y\"][9:12]\n",
    "dict_reg[\"pii_1\"] = dict[\"pii\"][1:3]\n",
    "dict_reg[\"pii_2\"] = dict[\"pii\"][4:6]\n",
    "dict_reg[\"pii_3\"] = dict[\"pii\"][7:9]\n",
    "dict_reg[\"phi_1\"] = dict[\"phi\"][1:3]\n",
    "dict_reg[\"phi_2\"] = dict[\"phi\"][4:6]\n",
    "dict_reg[\"phi_3\"] = dict[\"phi\"][7:9];"
   ]
  },
  {
   "cell_type": "code",
   "execution_count": null,
   "metadata": {},
   "outputs": [],
   "source": [
    "# Instantiate the model\n",
    "primal = Model(GLPK.Optimizer)\n",
    "(@isdefined primal) && (primal = nothing; primal = Model(GLPK.Optimizer));\n",
    "\n",
    "# Define the optimisation model\n",
    "@variable(primal, x[i=1:REGIONS, j=1:SECTORS] >= 0)\n",
    "@variable(primal, e[i=1:REGIONS, k=1:REGIONS, j=1:SECTORS] >= 0)\n",
    "\n",
    "@objective(primal, Min, sum(dict_reg[\"pii\"*string(i)]'*dict_reg[\"R\"*string(i)]*x[i,:] for i=1:REGIONS))\n",
    "\n",
    "for i=1:REGIONS#, j=1:SECTORS, k=1:REGIONS, l=1:FACTORS\n",
    "    @constraints(primal, begin\n",
    "        #goods*i,\n",
    "        x[i,:] - dict_reg[\"A\"*string(i)]*x[i,:] + \n",
    "        sum(e[i,k,:] for k=1:REGIONS) - sum(e[k,i,:] for k=1:REGIONS) - \n",
    "        sum(dict_reg[\"T\"*string(k,i)]*e[k,i,:] for k=(1:REGIONS)[Not(i)]) .>= dict_reg[\"y\"*string(i)],\n",
    "        (base_name = \"goods\"*string(i))\n",
    "\n",
    "        #factors*i,\n",
    "        dict_reg[\"R\"*string(i)]*x[i,:] .<= dict_reg[\"phi\"*string(i)],\n",
    "        (base_name = \"factors\"*string(i))\n",
    "    end)\n",
    "end\n",
    "\n",
    "# Run the model and show results\n",
    "optimize!(primal)\n",
    "@show termination_status(primal)\n",
    "@show primal_status(primal)\n",
    "@show dual_status(primal)\n",
    "@show objective_value(primal)\n",
    "@show value.(x)\n",
    "@show value.(e);"
   ]
  }
 ],
 "metadata": {
  "kernelspec": {
   "display_name": "RectangularChoiceDev 1.9.0",
   "language": "julia",
   "name": "rectangularchoicedev-1.9"
  },
  "language_info": {
   "file_extension": ".jl",
   "mimetype": "application/julia",
   "name": "julia",
   "version": "1.9.0"
  }
 },
 "nbformat": 4,
 "nbformat_minor": 2
}
